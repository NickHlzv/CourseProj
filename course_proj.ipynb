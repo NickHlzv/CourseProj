{
 "cells": [
  {
   "cell_type": "code",
   "execution_count": null,
   "outputs": [],
   "source": [
    "import numpy as np\n",
    "import pandas as pd\n",
    "import matplotlib.pyplot as plt\n",
    "#import dask.dataframe as dd\n",
    "import warnings\n",
    "warnings.filterwarnings('ignore')\n",
    "%matplotlib inline"
   ],
   "metadata": {
    "collapsed": false,
    "pycharm": {
     "name": "#%%\n"
    }
   }
  },
  {
   "cell_type": "markdown",
   "source": [
    "### Загрузка и просмотр датасета"
   ],
   "metadata": {
    "collapsed": false,
    "pycharm": {
     "name": "#%% md\n"
    }
   }
  },
  {
   "cell_type": "code",
   "execution_count": 2,
   "outputs": [
    {
     "data": {
      "text/plain": "             id  vas_id            buy_time  target\n0        540968     8.0 2018-09-16 21:00:00     0.0\n1       1454121     4.0 2018-07-15 21:00:00     0.0\n2       2458816     1.0 2018-08-12 21:00:00     0.0\n3       3535012     5.0 2018-09-02 21:00:00     0.0\n4       1693214     1.0 2018-09-02 21:00:00     0.0\n...         ...     ...                 ...     ...\n831648  3812226     2.0 2018-12-30 21:00:00     0.0\n831649  2480469     2.0 2018-12-30 21:00:00     0.0\n831650   158236     2.0 2018-12-30 21:00:00     0.0\n831651  1825525     2.0 2018-12-30 21:00:00     0.0\n831652  3022610     2.0 2018-12-30 21:00:00     0.0\n\n[831653 rows x 4 columns]",
      "text/html": "<div>\n<style scoped>\n    .dataframe tbody tr th:only-of-type {\n        vertical-align: middle;\n    }\n\n    .dataframe tbody tr th {\n        vertical-align: top;\n    }\n\n    .dataframe thead th {\n        text-align: right;\n    }\n</style>\n<table border=\"1\" class=\"dataframe\">\n  <thead>\n    <tr style=\"text-align: right;\">\n      <th></th>\n      <th>id</th>\n      <th>vas_id</th>\n      <th>buy_time</th>\n      <th>target</th>\n    </tr>\n  </thead>\n  <tbody>\n    <tr>\n      <th>0</th>\n      <td>540968</td>\n      <td>8.0</td>\n      <td>2018-09-16 21:00:00</td>\n      <td>0.0</td>\n    </tr>\n    <tr>\n      <th>1</th>\n      <td>1454121</td>\n      <td>4.0</td>\n      <td>2018-07-15 21:00:00</td>\n      <td>0.0</td>\n    </tr>\n    <tr>\n      <th>2</th>\n      <td>2458816</td>\n      <td>1.0</td>\n      <td>2018-08-12 21:00:00</td>\n      <td>0.0</td>\n    </tr>\n    <tr>\n      <th>3</th>\n      <td>3535012</td>\n      <td>5.0</td>\n      <td>2018-09-02 21:00:00</td>\n      <td>0.0</td>\n    </tr>\n    <tr>\n      <th>4</th>\n      <td>1693214</td>\n      <td>1.0</td>\n      <td>2018-09-02 21:00:00</td>\n      <td>0.0</td>\n    </tr>\n    <tr>\n      <th>...</th>\n      <td>...</td>\n      <td>...</td>\n      <td>...</td>\n      <td>...</td>\n    </tr>\n    <tr>\n      <th>831648</th>\n      <td>3812226</td>\n      <td>2.0</td>\n      <td>2018-12-30 21:00:00</td>\n      <td>0.0</td>\n    </tr>\n    <tr>\n      <th>831649</th>\n      <td>2480469</td>\n      <td>2.0</td>\n      <td>2018-12-30 21:00:00</td>\n      <td>0.0</td>\n    </tr>\n    <tr>\n      <th>831650</th>\n      <td>158236</td>\n      <td>2.0</td>\n      <td>2018-12-30 21:00:00</td>\n      <td>0.0</td>\n    </tr>\n    <tr>\n      <th>831651</th>\n      <td>1825525</td>\n      <td>2.0</td>\n      <td>2018-12-30 21:00:00</td>\n      <td>0.0</td>\n    </tr>\n    <tr>\n      <th>831652</th>\n      <td>3022610</td>\n      <td>2.0</td>\n      <td>2018-12-30 21:00:00</td>\n      <td>0.0</td>\n    </tr>\n  </tbody>\n</table>\n<p>831653 rows × 4 columns</p>\n</div>"
     },
     "execution_count": 2,
     "metadata": {},
     "output_type": "execute_result"
    }
   ],
   "source": [
    "#Убираем фиктивные колонки, видимо индексы, преобразуем даты чтобы увидеть больше информации из имеющихся данных\n",
    "df_train = pd.read_csv('data_train.csv')\n",
    "df_train.drop(columns='Unnamed: 0', inplace=True)\n",
    "df_train['buy_time'] = pd.to_datetime(df_train['buy_time'], unit='s')\n",
    "df_test = pd.read_csv('data_test.csv')\n",
    "df_test.drop(columns='Unnamed: 0', inplace=True)\n",
    "df_test['buy_time'] = pd.to_datetime(df_test['buy_time'], unit='s')\n",
    "df_train"
   ],
   "metadata": {
    "collapsed": false,
    "pycharm": {
     "name": "#%%\n"
    }
   }
  },
  {
   "cell_type": "code",
   "execution_count": 3,
   "outputs": [
    {
     "data": {
      "text/plain": "            id  vas_id            buy_time\n0      3130519     2.0 2019-01-20 21:00:00\n1      2000860     4.0 2019-01-20 21:00:00\n2      1099444     2.0 2019-01-06 21:00:00\n3      1343255     5.0 2019-01-13 21:00:00\n4      1277040     2.0 2019-01-06 21:00:00\n...        ...     ...                 ...\n71226  2502453     5.0 2019-01-20 21:00:00\n71227  1693213     2.0 2019-01-20 21:00:00\n71228  1891350     2.0 2019-01-20 21:00:00\n71229  2437172     2.0 2019-01-20 21:00:00\n71230   988236     2.0 2019-01-20 21:00:00\n\n[71231 rows x 3 columns]",
      "text/html": "<div>\n<style scoped>\n    .dataframe tbody tr th:only-of-type {\n        vertical-align: middle;\n    }\n\n    .dataframe tbody tr th {\n        vertical-align: top;\n    }\n\n    .dataframe thead th {\n        text-align: right;\n    }\n</style>\n<table border=\"1\" class=\"dataframe\">\n  <thead>\n    <tr style=\"text-align: right;\">\n      <th></th>\n      <th>id</th>\n      <th>vas_id</th>\n      <th>buy_time</th>\n    </tr>\n  </thead>\n  <tbody>\n    <tr>\n      <th>0</th>\n      <td>3130519</td>\n      <td>2.0</td>\n      <td>2019-01-20 21:00:00</td>\n    </tr>\n    <tr>\n      <th>1</th>\n      <td>2000860</td>\n      <td>4.0</td>\n      <td>2019-01-20 21:00:00</td>\n    </tr>\n    <tr>\n      <th>2</th>\n      <td>1099444</td>\n      <td>2.0</td>\n      <td>2019-01-06 21:00:00</td>\n    </tr>\n    <tr>\n      <th>3</th>\n      <td>1343255</td>\n      <td>5.0</td>\n      <td>2019-01-13 21:00:00</td>\n    </tr>\n    <tr>\n      <th>4</th>\n      <td>1277040</td>\n      <td>2.0</td>\n      <td>2019-01-06 21:00:00</td>\n    </tr>\n    <tr>\n      <th>...</th>\n      <td>...</td>\n      <td>...</td>\n      <td>...</td>\n    </tr>\n    <tr>\n      <th>71226</th>\n      <td>2502453</td>\n      <td>5.0</td>\n      <td>2019-01-20 21:00:00</td>\n    </tr>\n    <tr>\n      <th>71227</th>\n      <td>1693213</td>\n      <td>2.0</td>\n      <td>2019-01-20 21:00:00</td>\n    </tr>\n    <tr>\n      <th>71228</th>\n      <td>1891350</td>\n      <td>2.0</td>\n      <td>2019-01-20 21:00:00</td>\n    </tr>\n    <tr>\n      <th>71229</th>\n      <td>2437172</td>\n      <td>2.0</td>\n      <td>2019-01-20 21:00:00</td>\n    </tr>\n    <tr>\n      <th>71230</th>\n      <td>988236</td>\n      <td>2.0</td>\n      <td>2019-01-20 21:00:00</td>\n    </tr>\n  </tbody>\n</table>\n<p>71231 rows × 3 columns</p>\n</div>"
     },
     "execution_count": 3,
     "metadata": {},
     "output_type": "execute_result"
    }
   ],
   "source": [
    "df_test"
   ],
   "metadata": {
    "collapsed": false,
    "pycharm": {
     "name": "#%%\n"
    }
   }
  },
  {
   "cell_type": "code",
   "execution_count": 4,
   "outputs": [
    {
     "name": "stdout",
     "output_type": "stream",
     "text": [
      "CPU times: total: 3min 31s\n",
      "Wall time: 3min 34s\n"
     ]
    },
    {
     "data": {
      "text/plain": "              id            buy_time          0           1           2  \\\n0        2013026 2018-07-15 21:00:00  18.910029   46.980888    4.969214   \n1        2014722 2018-10-14 21:00:00  36.690029  152.400888  448.069214   \n2        2015199 2018-12-23 21:00:00 -67.019971  157.050888  -63.180786   \n3        2021765 2018-08-12 21:00:00   7.010029  150.200888   -6.930786   \n4        2027465 2018-08-05 21:00:00 -90.439971  134.220888 -104.380786   \n...          ...                 ...        ...         ...         ...   \n2999995  3015075 2018-12-16 21:00:00 -62.669971  144.310888  -67.720786   \n2999996  3015589 2018-09-02 21:00:00 -96.799971 -377.679112  -92.950786   \n2999997  3016000 2018-08-12 21:00:00 -83.069971 -103.069112  -74.990786   \n2999998  3016127 2018-07-22 21:00:00 -87.639971 -348.219112 -101.580786   \n2999999  3016374 2018-08-26 21:00:00 -90.869971  -74.289112 -104.810786   \n\n                  3           4          5         6          7  ...  \\\n0         -1.386798    3.791754  -14.01179 -16.08618 -65.076097  ...   \n1        563.833202  463.841754  568.99821 -16.08618 -53.216097  ...   \n2        178.103202  -68.598246  156.99821   3.51382  25.183903  ...   \n3        216.213202   76.621754  351.84821 -16.08618 -65.076097  ...   \n4        153.643202 -109.798246  132.53821 -16.08618 -65.076097  ...   \n...             ...         ...        ...       ...        ...  ...   \n2999995  223.873202  -73.138246  202.76821 -10.15618 -53.216097  ...   \n2999996 -408.256798  -98.368246 -429.36179 -16.08618 -65.076097  ...   \n2999997 -133.656798  -80.408246 -154.76179 -16.08618 -65.076097  ...   \n2999998 -400.826798 -106.998246 -421.93179 -16.08618 -65.076097  ...   \n2999999 -126.896798 -110.228246 -148.00179 -10.15618 -59.146097  ...   \n\n                  243          244         245        246           247  \\\n0         -977.373846  -613.770792  -25.996269 -37.630448   -301.747724   \n1         -891.373846  -544.770792  -20.996269  48.369552     80.252276   \n2         -977.373846  -613.770792  -12.996269 -37.630448  10829.252276   \n3         -973.373846  -613.770792  -23.996269 -37.630448   -205.747724   \n4         1643.626154  2007.229208  206.003731 -21.630448   6667.252276   \n...               ...          ...         ...        ...           ...   \n2999995  12394.626154  8433.229208  -25.996269 -37.630448    439.252276   \n2999996   -976.373846  -613.770792  -25.996269 -37.630448   -300.747724   \n2999997   -899.373846  -551.770792  -25.996269 -37.630448   -211.747724   \n2999998   -977.373846  -613.770792  -25.996269 -37.630448   -306.747724   \n2999999    -18.373846   158.229208  -25.996269 -25.630448   -222.747724   \n\n               248       249        250       251  252  \n0       -25.832889 -0.694428 -12.175933  -0.45614  0.0  \n1       -13.832889 -0.694428  -1.175933  -0.45614  0.0  \n2       -25.832889 -0.694428 -12.175933  -0.45614  0.0  \n3       -24.832889 -0.694428 -11.175933  -0.45614  1.0  \n4        92.167111 -0.694428  49.824067  47.54386  0.0  \n...            ...       ...        ...       ...  ...  \n2999995 -25.832889 -0.694428 -12.175933  -0.45614  0.0  \n2999996 -24.832889 -0.694428 -11.175933  -0.45614  0.0  \n2999997 -17.832889  1.305572  -6.175933  -0.45614  1.0  \n2999998 -25.832889 -0.694428 -12.175933  -0.45614  0.0  \n2999999 -24.832889 -0.694428 -11.175933  -0.45614  1.0  \n\n[3000000 rows x 255 columns]",
      "text/html": "<div>\n<style scoped>\n    .dataframe tbody tr th:only-of-type {\n        vertical-align: middle;\n    }\n\n    .dataframe tbody tr th {\n        vertical-align: top;\n    }\n\n    .dataframe thead th {\n        text-align: right;\n    }\n</style>\n<table border=\"1\" class=\"dataframe\">\n  <thead>\n    <tr style=\"text-align: right;\">\n      <th></th>\n      <th>id</th>\n      <th>buy_time</th>\n      <th>0</th>\n      <th>1</th>\n      <th>2</th>\n      <th>3</th>\n      <th>4</th>\n      <th>5</th>\n      <th>6</th>\n      <th>7</th>\n      <th>...</th>\n      <th>243</th>\n      <th>244</th>\n      <th>245</th>\n      <th>246</th>\n      <th>247</th>\n      <th>248</th>\n      <th>249</th>\n      <th>250</th>\n      <th>251</th>\n      <th>252</th>\n    </tr>\n  </thead>\n  <tbody>\n    <tr>\n      <th>0</th>\n      <td>2013026</td>\n      <td>2018-07-15 21:00:00</td>\n      <td>18.910029</td>\n      <td>46.980888</td>\n      <td>4.969214</td>\n      <td>-1.386798</td>\n      <td>3.791754</td>\n      <td>-14.01179</td>\n      <td>-16.08618</td>\n      <td>-65.076097</td>\n      <td>...</td>\n      <td>-977.373846</td>\n      <td>-613.770792</td>\n      <td>-25.996269</td>\n      <td>-37.630448</td>\n      <td>-301.747724</td>\n      <td>-25.832889</td>\n      <td>-0.694428</td>\n      <td>-12.175933</td>\n      <td>-0.45614</td>\n      <td>0.0</td>\n    </tr>\n    <tr>\n      <th>1</th>\n      <td>2014722</td>\n      <td>2018-10-14 21:00:00</td>\n      <td>36.690029</td>\n      <td>152.400888</td>\n      <td>448.069214</td>\n      <td>563.833202</td>\n      <td>463.841754</td>\n      <td>568.99821</td>\n      <td>-16.08618</td>\n      <td>-53.216097</td>\n      <td>...</td>\n      <td>-891.373846</td>\n      <td>-544.770792</td>\n      <td>-20.996269</td>\n      <td>48.369552</td>\n      <td>80.252276</td>\n      <td>-13.832889</td>\n      <td>-0.694428</td>\n      <td>-1.175933</td>\n      <td>-0.45614</td>\n      <td>0.0</td>\n    </tr>\n    <tr>\n      <th>2</th>\n      <td>2015199</td>\n      <td>2018-12-23 21:00:00</td>\n      <td>-67.019971</td>\n      <td>157.050888</td>\n      <td>-63.180786</td>\n      <td>178.103202</td>\n      <td>-68.598246</td>\n      <td>156.99821</td>\n      <td>3.51382</td>\n      <td>25.183903</td>\n      <td>...</td>\n      <td>-977.373846</td>\n      <td>-613.770792</td>\n      <td>-12.996269</td>\n      <td>-37.630448</td>\n      <td>10829.252276</td>\n      <td>-25.832889</td>\n      <td>-0.694428</td>\n      <td>-12.175933</td>\n      <td>-0.45614</td>\n      <td>0.0</td>\n    </tr>\n    <tr>\n      <th>3</th>\n      <td>2021765</td>\n      <td>2018-08-12 21:00:00</td>\n      <td>7.010029</td>\n      <td>150.200888</td>\n      <td>-6.930786</td>\n      <td>216.213202</td>\n      <td>76.621754</td>\n      <td>351.84821</td>\n      <td>-16.08618</td>\n      <td>-65.076097</td>\n      <td>...</td>\n      <td>-973.373846</td>\n      <td>-613.770792</td>\n      <td>-23.996269</td>\n      <td>-37.630448</td>\n      <td>-205.747724</td>\n      <td>-24.832889</td>\n      <td>-0.694428</td>\n      <td>-11.175933</td>\n      <td>-0.45614</td>\n      <td>1.0</td>\n    </tr>\n    <tr>\n      <th>4</th>\n      <td>2027465</td>\n      <td>2018-08-05 21:00:00</td>\n      <td>-90.439971</td>\n      <td>134.220888</td>\n      <td>-104.380786</td>\n      <td>153.643202</td>\n      <td>-109.798246</td>\n      <td>132.53821</td>\n      <td>-16.08618</td>\n      <td>-65.076097</td>\n      <td>...</td>\n      <td>1643.626154</td>\n      <td>2007.229208</td>\n      <td>206.003731</td>\n      <td>-21.630448</td>\n      <td>6667.252276</td>\n      <td>92.167111</td>\n      <td>-0.694428</td>\n      <td>49.824067</td>\n      <td>47.54386</td>\n      <td>0.0</td>\n    </tr>\n    <tr>\n      <th>...</th>\n      <td>...</td>\n      <td>...</td>\n      <td>...</td>\n      <td>...</td>\n      <td>...</td>\n      <td>...</td>\n      <td>...</td>\n      <td>...</td>\n      <td>...</td>\n      <td>...</td>\n      <td>...</td>\n      <td>...</td>\n      <td>...</td>\n      <td>...</td>\n      <td>...</td>\n      <td>...</td>\n      <td>...</td>\n      <td>...</td>\n      <td>...</td>\n      <td>...</td>\n      <td>...</td>\n    </tr>\n    <tr>\n      <th>2999995</th>\n      <td>3015075</td>\n      <td>2018-12-16 21:00:00</td>\n      <td>-62.669971</td>\n      <td>144.310888</td>\n      <td>-67.720786</td>\n      <td>223.873202</td>\n      <td>-73.138246</td>\n      <td>202.76821</td>\n      <td>-10.15618</td>\n      <td>-53.216097</td>\n      <td>...</td>\n      <td>12394.626154</td>\n      <td>8433.229208</td>\n      <td>-25.996269</td>\n      <td>-37.630448</td>\n      <td>439.252276</td>\n      <td>-25.832889</td>\n      <td>-0.694428</td>\n      <td>-12.175933</td>\n      <td>-0.45614</td>\n      <td>0.0</td>\n    </tr>\n    <tr>\n      <th>2999996</th>\n      <td>3015589</td>\n      <td>2018-09-02 21:00:00</td>\n      <td>-96.799971</td>\n      <td>-377.679112</td>\n      <td>-92.950786</td>\n      <td>-408.256798</td>\n      <td>-98.368246</td>\n      <td>-429.36179</td>\n      <td>-16.08618</td>\n      <td>-65.076097</td>\n      <td>...</td>\n      <td>-976.373846</td>\n      <td>-613.770792</td>\n      <td>-25.996269</td>\n      <td>-37.630448</td>\n      <td>-300.747724</td>\n      <td>-24.832889</td>\n      <td>-0.694428</td>\n      <td>-11.175933</td>\n      <td>-0.45614</td>\n      <td>0.0</td>\n    </tr>\n    <tr>\n      <th>2999997</th>\n      <td>3016000</td>\n      <td>2018-08-12 21:00:00</td>\n      <td>-83.069971</td>\n      <td>-103.069112</td>\n      <td>-74.990786</td>\n      <td>-133.656798</td>\n      <td>-80.408246</td>\n      <td>-154.76179</td>\n      <td>-16.08618</td>\n      <td>-65.076097</td>\n      <td>...</td>\n      <td>-899.373846</td>\n      <td>-551.770792</td>\n      <td>-25.996269</td>\n      <td>-37.630448</td>\n      <td>-211.747724</td>\n      <td>-17.832889</td>\n      <td>1.305572</td>\n      <td>-6.175933</td>\n      <td>-0.45614</td>\n      <td>1.0</td>\n    </tr>\n    <tr>\n      <th>2999998</th>\n      <td>3016127</td>\n      <td>2018-07-22 21:00:00</td>\n      <td>-87.639971</td>\n      <td>-348.219112</td>\n      <td>-101.580786</td>\n      <td>-400.826798</td>\n      <td>-106.998246</td>\n      <td>-421.93179</td>\n      <td>-16.08618</td>\n      <td>-65.076097</td>\n      <td>...</td>\n      <td>-977.373846</td>\n      <td>-613.770792</td>\n      <td>-25.996269</td>\n      <td>-37.630448</td>\n      <td>-306.747724</td>\n      <td>-25.832889</td>\n      <td>-0.694428</td>\n      <td>-12.175933</td>\n      <td>-0.45614</td>\n      <td>0.0</td>\n    </tr>\n    <tr>\n      <th>2999999</th>\n      <td>3016374</td>\n      <td>2018-08-26 21:00:00</td>\n      <td>-90.869971</td>\n      <td>-74.289112</td>\n      <td>-104.810786</td>\n      <td>-126.896798</td>\n      <td>-110.228246</td>\n      <td>-148.00179</td>\n      <td>-10.15618</td>\n      <td>-59.146097</td>\n      <td>...</td>\n      <td>-18.373846</td>\n      <td>158.229208</td>\n      <td>-25.996269</td>\n      <td>-25.630448</td>\n      <td>-222.747724</td>\n      <td>-24.832889</td>\n      <td>-0.694428</td>\n      <td>-11.175933</td>\n      <td>-0.45614</td>\n      <td>1.0</td>\n    </tr>\n  </tbody>\n</table>\n<p>3000000 rows × 255 columns</p>\n</div>"
     },
     "execution_count": 4,
     "metadata": {},
     "output_type": "execute_result"
    }
   ],
   "source": [
    "%%time\n",
    "#Датафрейм очень большой, поэтому решил открывать только n-первых строк от него. В принципе можно еще с пропусками данных пооткрывать. Целиком его не открыть судя по всем на клиентской машине. Процедура та же что и до этого\n",
    "df_features = pd.read_csv('features.csv.zip', sep='\\t',nrows=3000000)\n",
    "df_features.drop(columns='Unnamed: 0', inplace=True)\n",
    "df_features['buy_time'] = pd.to_datetime(df_features['buy_time'], unit='s')\n",
    "df_features"
   ],
   "metadata": {
    "collapsed": false,
    "pycharm": {
     "name": "#%%\n"
    }
   }
  },
  {
   "cell_type": "markdown",
   "source": [
    "### EDA (Explore Data Analysis)"
   ],
   "metadata": {
    "collapsed": false,
    "pycharm": {
     "name": "#%% md\n"
    }
   }
  },
  {
   "cell_type": "code",
   "execution_count": 5,
   "outputs": [
    {
     "data": {
      "text/plain": "                 id             0             1             2             3  \\\ncount  3.000000e+06  3.000000e+06  3.000000e+06  3.000000e+06  3.000000e+06   \nmean   2.181395e+06  1.671841e-02  6.718590e-02  4.080608e-02  9.859992e-02   \nstd    1.259158e+06  2.278734e+02  4.402936e+02  2.445470e+02  5.079255e+02   \nmin    2.000000e+00 -2.482300e+03 -1.494609e+03 -3.058041e+03 -1.456557e+03   \n25%    1.091326e+06 -9.679997e+01 -2.095091e+02 -1.107408e+02 -2.431568e+02   \n50%    2.181240e+06 -8.496997e+01 -6.072911e+01 -8.532079e+01 -7.942680e+01   \n75%    3.272671e+06  1.191003e+01  1.180709e+02  2.740921e+01  1.258232e+02   \nmax    4.362737e+06  2.117307e+05  2.126061e+05  2.117168e+05  2.133577e+05   \n\n                  4             5             6             7             8  \\\ncount  3.000000e+06  3.000000e+06  3.000000e+06  3.000000e+06  3.000000e+06   \nmean  -1.310689e-02  5.073890e-03 -1.644274e-02  1.198509e-01 -6.622697e-02   \nstd    2.592557e+02  5.684854e+02  1.606074e+02  3.217114e+02  8.766180e+01   \nmin   -3.063458e+03 -2.009132e+03 -2.401586e+03 -8.023561e+02 -5.737337e+02   \n25%   -1.161582e+02 -2.603118e+02 -1.608618e+01 -6.507610e+01 -6.783660e+00   \n50%   -8.784825e+01 -9.378179e+01 -1.608618e+01 -6.507610e+01 -6.783660e+00   \n75%    2.916175e+01  1.192982e+02 -1.608618e+01 -5.914610e+01 -6.783660e+00   \nmax    2.120953e+05  2.137205e+05  2.118114e+05  2.125836e+05  8.852835e+04   \n\n       ...           243           244           245           246  \\\ncount  ...  3.000000e+06  3.000000e+06  3.000000e+06  3.000000e+06   \nmean   ...  3.105039e-01  1.237036e-01  1.921284e-01  3.374279e-03   \nstd    ...  3.207749e+03  2.238185e+03  1.017888e+03  2.982173e+02   \nmin    ... -9.773738e+02 -6.137708e+02 -2.599627e+01 -3.763045e+01   \n25%    ... -9.773738e+02 -6.137708e+02 -2.599627e+01 -3.763045e+01   \n50%    ... -9.583738e+02 -6.137708e+02 -2.599627e+01 -3.763045e+01   \n75%    ... -4.853738e+02 -4.077708e+02 -2.499627e+01 -3.363045e+01   \nmax    ...  2.876716e+05  1.904692e+05  9.801580e+05  5.429037e+04   \n\n                247           248           249           250           251  \\\ncount  3.000000e+06  3.000000e+06  3.000000e+06  3.000000e+06  3.000000e+06   \nmean  -3.788673e-01 -7.748990e-02  1.638178e-03 -9.938313e-03  2.899782e-03   \nstd    1.343382e+03  2.595662e+02  1.546588e+01  1.747745e+02  7.638431e+00   \nmin   -3.067477e+02 -2.583289e+01 -6.944285e-01 -1.217593e+01 -4.561399e-01   \n25%   -3.057477e+02 -2.583289e+01 -6.944285e-01 -1.217593e+01 -4.561399e-01   \n50%   -2.397477e+02 -2.383289e+01 -6.944285e-01 -1.217593e+01 -4.561399e-01   \n75%   -7.774772e+01 -1.083289e+01 -6.944285e-01 -9.175933e+00 -4.561399e-01   \nmax    2.715813e+05  9.941817e+04  1.892331e+04  9.750782e+04  9.489544e+03   \n\n                252  \ncount  3.000000e+06  \nmean   2.551550e-01  \nstd    7.732601e-01  \nmin    0.000000e+00  \n25%    0.000000e+00  \n50%    0.000000e+00  \n75%    1.000000e+00  \nmax    4.460000e+02  \n\n[8 rows x 254 columns]",
      "text/html": "<div>\n<style scoped>\n    .dataframe tbody tr th:only-of-type {\n        vertical-align: middle;\n    }\n\n    .dataframe tbody tr th {\n        vertical-align: top;\n    }\n\n    .dataframe thead th {\n        text-align: right;\n    }\n</style>\n<table border=\"1\" class=\"dataframe\">\n  <thead>\n    <tr style=\"text-align: right;\">\n      <th></th>\n      <th>id</th>\n      <th>0</th>\n      <th>1</th>\n      <th>2</th>\n      <th>3</th>\n      <th>4</th>\n      <th>5</th>\n      <th>6</th>\n      <th>7</th>\n      <th>8</th>\n      <th>...</th>\n      <th>243</th>\n      <th>244</th>\n      <th>245</th>\n      <th>246</th>\n      <th>247</th>\n      <th>248</th>\n      <th>249</th>\n      <th>250</th>\n      <th>251</th>\n      <th>252</th>\n    </tr>\n  </thead>\n  <tbody>\n    <tr>\n      <th>count</th>\n      <td>3.000000e+06</td>\n      <td>3.000000e+06</td>\n      <td>3.000000e+06</td>\n      <td>3.000000e+06</td>\n      <td>3.000000e+06</td>\n      <td>3.000000e+06</td>\n      <td>3.000000e+06</td>\n      <td>3.000000e+06</td>\n      <td>3.000000e+06</td>\n      <td>3.000000e+06</td>\n      <td>...</td>\n      <td>3.000000e+06</td>\n      <td>3.000000e+06</td>\n      <td>3.000000e+06</td>\n      <td>3.000000e+06</td>\n      <td>3.000000e+06</td>\n      <td>3.000000e+06</td>\n      <td>3.000000e+06</td>\n      <td>3.000000e+06</td>\n      <td>3.000000e+06</td>\n      <td>3.000000e+06</td>\n    </tr>\n    <tr>\n      <th>mean</th>\n      <td>2.181395e+06</td>\n      <td>1.671841e-02</td>\n      <td>6.718590e-02</td>\n      <td>4.080608e-02</td>\n      <td>9.859992e-02</td>\n      <td>-1.310689e-02</td>\n      <td>5.073890e-03</td>\n      <td>-1.644274e-02</td>\n      <td>1.198509e-01</td>\n      <td>-6.622697e-02</td>\n      <td>...</td>\n      <td>3.105039e-01</td>\n      <td>1.237036e-01</td>\n      <td>1.921284e-01</td>\n      <td>3.374279e-03</td>\n      <td>-3.788673e-01</td>\n      <td>-7.748990e-02</td>\n      <td>1.638178e-03</td>\n      <td>-9.938313e-03</td>\n      <td>2.899782e-03</td>\n      <td>2.551550e-01</td>\n    </tr>\n    <tr>\n      <th>std</th>\n      <td>1.259158e+06</td>\n      <td>2.278734e+02</td>\n      <td>4.402936e+02</td>\n      <td>2.445470e+02</td>\n      <td>5.079255e+02</td>\n      <td>2.592557e+02</td>\n      <td>5.684854e+02</td>\n      <td>1.606074e+02</td>\n      <td>3.217114e+02</td>\n      <td>8.766180e+01</td>\n      <td>...</td>\n      <td>3.207749e+03</td>\n      <td>2.238185e+03</td>\n      <td>1.017888e+03</td>\n      <td>2.982173e+02</td>\n      <td>1.343382e+03</td>\n      <td>2.595662e+02</td>\n      <td>1.546588e+01</td>\n      <td>1.747745e+02</td>\n      <td>7.638431e+00</td>\n      <td>7.732601e-01</td>\n    </tr>\n    <tr>\n      <th>min</th>\n      <td>2.000000e+00</td>\n      <td>-2.482300e+03</td>\n      <td>-1.494609e+03</td>\n      <td>-3.058041e+03</td>\n      <td>-1.456557e+03</td>\n      <td>-3.063458e+03</td>\n      <td>-2.009132e+03</td>\n      <td>-2.401586e+03</td>\n      <td>-8.023561e+02</td>\n      <td>-5.737337e+02</td>\n      <td>...</td>\n      <td>-9.773738e+02</td>\n      <td>-6.137708e+02</td>\n      <td>-2.599627e+01</td>\n      <td>-3.763045e+01</td>\n      <td>-3.067477e+02</td>\n      <td>-2.583289e+01</td>\n      <td>-6.944285e-01</td>\n      <td>-1.217593e+01</td>\n      <td>-4.561399e-01</td>\n      <td>0.000000e+00</td>\n    </tr>\n    <tr>\n      <th>25%</th>\n      <td>1.091326e+06</td>\n      <td>-9.679997e+01</td>\n      <td>-2.095091e+02</td>\n      <td>-1.107408e+02</td>\n      <td>-2.431568e+02</td>\n      <td>-1.161582e+02</td>\n      <td>-2.603118e+02</td>\n      <td>-1.608618e+01</td>\n      <td>-6.507610e+01</td>\n      <td>-6.783660e+00</td>\n      <td>...</td>\n      <td>-9.773738e+02</td>\n      <td>-6.137708e+02</td>\n      <td>-2.599627e+01</td>\n      <td>-3.763045e+01</td>\n      <td>-3.057477e+02</td>\n      <td>-2.583289e+01</td>\n      <td>-6.944285e-01</td>\n      <td>-1.217593e+01</td>\n      <td>-4.561399e-01</td>\n      <td>0.000000e+00</td>\n    </tr>\n    <tr>\n      <th>50%</th>\n      <td>2.181240e+06</td>\n      <td>-8.496997e+01</td>\n      <td>-6.072911e+01</td>\n      <td>-8.532079e+01</td>\n      <td>-7.942680e+01</td>\n      <td>-8.784825e+01</td>\n      <td>-9.378179e+01</td>\n      <td>-1.608618e+01</td>\n      <td>-6.507610e+01</td>\n      <td>-6.783660e+00</td>\n      <td>...</td>\n      <td>-9.583738e+02</td>\n      <td>-6.137708e+02</td>\n      <td>-2.599627e+01</td>\n      <td>-3.763045e+01</td>\n      <td>-2.397477e+02</td>\n      <td>-2.383289e+01</td>\n      <td>-6.944285e-01</td>\n      <td>-1.217593e+01</td>\n      <td>-4.561399e-01</td>\n      <td>0.000000e+00</td>\n    </tr>\n    <tr>\n      <th>75%</th>\n      <td>3.272671e+06</td>\n      <td>1.191003e+01</td>\n      <td>1.180709e+02</td>\n      <td>2.740921e+01</td>\n      <td>1.258232e+02</td>\n      <td>2.916175e+01</td>\n      <td>1.192982e+02</td>\n      <td>-1.608618e+01</td>\n      <td>-5.914610e+01</td>\n      <td>-6.783660e+00</td>\n      <td>...</td>\n      <td>-4.853738e+02</td>\n      <td>-4.077708e+02</td>\n      <td>-2.499627e+01</td>\n      <td>-3.363045e+01</td>\n      <td>-7.774772e+01</td>\n      <td>-1.083289e+01</td>\n      <td>-6.944285e-01</td>\n      <td>-9.175933e+00</td>\n      <td>-4.561399e-01</td>\n      <td>1.000000e+00</td>\n    </tr>\n    <tr>\n      <th>max</th>\n      <td>4.362737e+06</td>\n      <td>2.117307e+05</td>\n      <td>2.126061e+05</td>\n      <td>2.117168e+05</td>\n      <td>2.133577e+05</td>\n      <td>2.120953e+05</td>\n      <td>2.137205e+05</td>\n      <td>2.118114e+05</td>\n      <td>2.125836e+05</td>\n      <td>8.852835e+04</td>\n      <td>...</td>\n      <td>2.876716e+05</td>\n      <td>1.904692e+05</td>\n      <td>9.801580e+05</td>\n      <td>5.429037e+04</td>\n      <td>2.715813e+05</td>\n      <td>9.941817e+04</td>\n      <td>1.892331e+04</td>\n      <td>9.750782e+04</td>\n      <td>9.489544e+03</td>\n      <td>4.460000e+02</td>\n    </tr>\n  </tbody>\n</table>\n<p>8 rows × 254 columns</p>\n</div>"
     },
     "execution_count": 5,
     "metadata": {},
     "output_type": "execute_result"
    }
   ],
   "source": [
    "df_features.describe()"
   ],
   "metadata": {
    "collapsed": false,
    "pycharm": {
     "name": "#%%\n"
    }
   }
  },
  {
   "cell_type": "code",
   "execution_count": 15,
   "outputs": [
    {
     "data": {
      "text/plain": "75           1\n81           1\n85           1\n139          1\n203          1\n        ...   \n117    1697476\n207    1776561\n38     1865949\n116    1994264\nid     2933835\nLength: 255, dtype: int64"
     },
     "execution_count": 15,
     "metadata": {},
     "output_type": "execute_result"
    }
   ],
   "source": [
    "#Смотрим на число уникальный значений признака. Вероятно если одно значание - признак бесполезен, его можно выбросить\n",
    "#Также видно что у даты 29 уникальный значений, значит все что имеет меньше 30 уникальных значений будем считать за категориальные переменные\n",
    "df_features.nunique().sort_values()"
   ],
   "metadata": {
    "collapsed": false,
    "pycharm": {
     "name": "#%%\n"
    }
   }
  },
  {
   "cell_type": "code",
   "execution_count": 7,
   "outputs": [
    {
     "data": {
      "text/plain": "id          0\nbuy_time    0\n0           0\n1           0\n2           0\n           ..\n248         0\n249         0\n250         0\n251         0\n252         0\nLength: 255, dtype: int64"
     },
     "execution_count": 7,
     "metadata": {},
     "output_type": "execute_result"
    }
   ],
   "source": [
    "#Смотрю Null. Они отсутствуют везде, значит их не нужно обрабатывать\n",
    "df_features.isna().sum()"
   ],
   "metadata": {
    "collapsed": false,
    "pycharm": {
     "name": "#%%\n"
    }
   }
  },
  {
   "cell_type": "code",
   "execution_count": 8,
   "outputs": [
    {
     "data": {
      "text/plain": "id          0\nvas_id      0\nbuy_time    0\ntarget      0\ndtype: int64"
     },
     "execution_count": 8,
     "metadata": {},
     "output_type": "execute_result"
    }
   ],
   "source": [
    "df_train.isna().sum()"
   ],
   "metadata": {
    "collapsed": false,
    "pycharm": {
     "name": "#%%\n"
    }
   }
  },
  {
   "cell_type": "code",
   "execution_count": 9,
   "outputs": [
    {
     "data": {
      "text/plain": "id          0\nvas_id      0\nbuy_time    0\ndtype: int64"
     },
     "execution_count": 9,
     "metadata": {},
     "output_type": "execute_result"
    }
   ],
   "source": [
    "df_test.isna().sum()"
   ],
   "metadata": {
    "collapsed": false,
    "pycharm": {
     "name": "#%%\n"
    }
   }
  },
  {
   "cell_type": "code",
   "execution_count": 10,
   "outputs": [
    {
     "data": {
      "text/plain": "array(['2018-07-15T21:00:00.000000000', '2018-10-14T21:00:00.000000000',\n       '2018-12-23T21:00:00.000000000', '2018-08-12T21:00:00.000000000',\n       '2018-08-05T21:00:00.000000000', '2018-12-16T21:00:00.000000000',\n       '2018-09-23T21:00:00.000000000', '2018-12-09T21:00:00.000000000',\n       '2018-09-09T21:00:00.000000000', '2018-08-26T21:00:00.000000000',\n       '2018-08-19T21:00:00.000000000', '2018-11-18T21:00:00.000000000',\n       '2018-10-28T21:00:00.000000000', '2018-10-21T21:00:00.000000000',\n       '2018-11-04T21:00:00.000000000', '2018-09-16T21:00:00.000000000',\n       '2018-07-08T21:00:00.000000000', '2018-09-30T21:00:00.000000000',\n       '2018-07-22T21:00:00.000000000', '2018-12-30T21:00:00.000000000',\n       '2018-09-02T21:00:00.000000000', '2018-10-07T21:00:00.000000000',\n       '2019-01-13T21:00:00.000000000', '2018-12-02T21:00:00.000000000',\n       '2019-01-20T21:00:00.000000000', '2018-11-11T21:00:00.000000000',\n       '2018-07-29T21:00:00.000000000', '2019-01-06T21:00:00.000000000',\n       '2018-11-25T21:00:00.000000000'], dtype='datetime64[ns]')"
     },
     "execution_count": 10,
     "metadata": {},
     "output_type": "execute_result"
    }
   ],
   "source": [
    "#Смотрю даты\n",
    "df_features['buy_time'].unique()"
   ],
   "metadata": {
    "collapsed": false,
    "pycharm": {
     "name": "#%%\n"
    }
   }
  },
  {
   "cell_type": "code",
   "execution_count": 11,
   "outputs": [
    {
     "data": {
      "text/plain": "[numpy.datetime64('2019-01-06T21:00:00.000000000'),\n numpy.datetime64('2019-01-13T21:00:00.000000000'),\n numpy.datetime64('2019-01-20T21:00:00.000000000')]"
     },
     "execution_count": 11,
     "metadata": {},
     "output_type": "execute_result"
    }
   ],
   "source": [
    "#Смотрю время теста, сортируя\n",
    "test_time = sorted(df_test['buy_time'].unique())\n",
    "test_time"
   ],
   "metadata": {
    "collapsed": false,
    "pycharm": {
     "name": "#%%\n"
    }
   }
  },
  {
   "cell_type": "code",
   "execution_count": 12,
   "outputs": [
    {
     "data": {
      "text/plain": "[numpy.datetime64('2018-07-08T21:00:00.000000000'),\n numpy.datetime64('2018-07-15T21:00:00.000000000'),\n numpy.datetime64('2018-07-22T21:00:00.000000000'),\n numpy.datetime64('2018-07-29T21:00:00.000000000'),\n numpy.datetime64('2018-08-05T21:00:00.000000000'),\n numpy.datetime64('2018-08-12T21:00:00.000000000'),\n numpy.datetime64('2018-08-19T21:00:00.000000000'),\n numpy.datetime64('2018-08-26T21:00:00.000000000'),\n numpy.datetime64('2018-09-02T21:00:00.000000000'),\n numpy.datetime64('2018-09-09T21:00:00.000000000'),\n numpy.datetime64('2018-09-16T21:00:00.000000000'),\n numpy.datetime64('2018-09-23T21:00:00.000000000'),\n numpy.datetime64('2018-09-30T21:00:00.000000000'),\n numpy.datetime64('2018-10-07T21:00:00.000000000'),\n numpy.datetime64('2018-10-14T21:00:00.000000000'),\n numpy.datetime64('2018-10-21T21:00:00.000000000'),\n numpy.datetime64('2018-10-28T21:00:00.000000000'),\n numpy.datetime64('2018-11-04T21:00:00.000000000'),\n numpy.datetime64('2018-11-11T21:00:00.000000000'),\n numpy.datetime64('2018-11-18T21:00:00.000000000'),\n numpy.datetime64('2018-11-25T21:00:00.000000000'),\n numpy.datetime64('2018-12-02T21:00:00.000000000'),\n numpy.datetime64('2018-12-09T21:00:00.000000000'),\n numpy.datetime64('2018-12-16T21:00:00.000000000'),\n numpy.datetime64('2018-12-23T21:00:00.000000000'),\n numpy.datetime64('2018-12-30T21:00:00.000000000')]"
     },
     "execution_count": 12,
     "metadata": {},
     "output_type": "execute_result"
    }
   ],
   "source": [
    "#Смотрю время трейна, сортируя\n",
    "#Видно что на трейн, уходит 6 месяцев, а на тест один. Также видно что даты в трейн/тест и у фичей совершенно одинаковые. Это значит что можно мержить фичи в трейн/тест по паре id + дата, т.к пара id и дата полностью описывают параметры пользователей\n",
    "train_time = sorted(df_train['buy_time'].unique())\n",
    "train_time"
   ],
   "metadata": {
    "collapsed": false,
    "pycharm": {
     "name": "#%%\n"
    }
   }
  },
  {
   "cell_type": "code",
   "execution_count": 13,
   "outputs": [
    {
     "data": {
      "text/plain": "[numpy.datetime64('2018-07-08T21:00:00.000000000'),\n numpy.datetime64('2018-07-15T21:00:00.000000000'),\n numpy.datetime64('2018-07-22T21:00:00.000000000'),\n numpy.datetime64('2018-07-29T21:00:00.000000000'),\n numpy.datetime64('2018-08-05T21:00:00.000000000'),\n numpy.datetime64('2018-08-12T21:00:00.000000000'),\n numpy.datetime64('2018-08-19T21:00:00.000000000'),\n numpy.datetime64('2018-08-26T21:00:00.000000000'),\n numpy.datetime64('2018-09-02T21:00:00.000000000'),\n numpy.datetime64('2018-09-09T21:00:00.000000000'),\n numpy.datetime64('2018-09-16T21:00:00.000000000'),\n numpy.datetime64('2018-09-23T21:00:00.000000000'),\n numpy.datetime64('2018-09-30T21:00:00.000000000'),\n numpy.datetime64('2018-10-07T21:00:00.000000000'),\n numpy.datetime64('2018-10-14T21:00:00.000000000'),\n numpy.datetime64('2018-10-21T21:00:00.000000000'),\n numpy.datetime64('2018-10-28T21:00:00.000000000'),\n numpy.datetime64('2018-11-04T21:00:00.000000000'),\n numpy.datetime64('2018-11-11T21:00:00.000000000'),\n numpy.datetime64('2018-11-18T21:00:00.000000000'),\n numpy.datetime64('2018-11-25T21:00:00.000000000'),\n numpy.datetime64('2018-12-02T21:00:00.000000000'),\n numpy.datetime64('2018-12-09T21:00:00.000000000'),\n numpy.datetime64('2018-12-16T21:00:00.000000000'),\n numpy.datetime64('2018-12-23T21:00:00.000000000'),\n numpy.datetime64('2018-12-30T21:00:00.000000000'),\n numpy.datetime64('2019-01-06T21:00:00.000000000'),\n numpy.datetime64('2019-01-13T21:00:00.000000000'),\n numpy.datetime64('2019-01-20T21:00:00.000000000')]"
     },
     "execution_count": 13,
     "metadata": {},
     "output_type": "execute_result"
    }
   ],
   "source": [
    "feature_time = sorted(df_features['buy_time'].unique())\n",
    "feature_time"
   ],
   "metadata": {
    "collapsed": false,
    "pycharm": {
     "name": "#%%\n"
    }
   }
  },
  {
   "cell_type": "code",
   "execution_count": 16,
   "outputs": [
    {
     "data": {
      "text/plain": "array([8., 4., 1., 5., 2., 7., 6., 9.])"
     },
     "execution_count": 16,
     "metadata": {},
     "output_type": "execute_result"
    }
   ],
   "source": [
    "df_train['vas_id'].unique()"
   ],
   "metadata": {
    "collapsed": false,
    "pycharm": {
     "name": "#%%\n"
    }
   }
  },
  {
   "cell_type": "code",
   "execution_count": 19,
   "outputs": [
    {
     "data": {
      "text/plain": "array([2., 4., 5., 6., 1., 7., 8., 9.])"
     },
     "execution_count": 19,
     "metadata": {},
     "output_type": "execute_result"
    }
   ],
   "source": [
    "#Видно что услуг всего 9, их надо преобразовать в int\n",
    "df_test['vas_id'].unique()"
   ],
   "metadata": {
    "collapsed": false,
    "pycharm": {
     "name": "#%%\n"
    }
   }
  },
  {
   "cell_type": "code",
   "execution_count": 22,
   "outputs": [
    {
     "data": {
      "text/plain": "             id  vas_id            buy_time\n0        540968     8.0 2018-09-16 21:00:00\n1       1454121     4.0 2018-07-15 21:00:00\n2       2458816     1.0 2018-08-12 21:00:00\n3       3535012     5.0 2018-09-02 21:00:00\n4       1693214     1.0 2018-09-02 21:00:00\n...         ...     ...                 ...\n831648  3812226     2.0 2018-12-30 21:00:00\n831649  2480469     2.0 2018-12-30 21:00:00\n831650   158236     2.0 2018-12-30 21:00:00\n831651  1825525     2.0 2018-12-30 21:00:00\n831652  3022610     2.0 2018-12-30 21:00:00\n\n[831653 rows x 3 columns]",
      "text/html": "<div>\n<style scoped>\n    .dataframe tbody tr th:only-of-type {\n        vertical-align: middle;\n    }\n\n    .dataframe tbody tr th {\n        vertical-align: top;\n    }\n\n    .dataframe thead th {\n        text-align: right;\n    }\n</style>\n<table border=\"1\" class=\"dataframe\">\n  <thead>\n    <tr style=\"text-align: right;\">\n      <th></th>\n      <th>id</th>\n      <th>vas_id</th>\n      <th>buy_time</th>\n    </tr>\n  </thead>\n  <tbody>\n    <tr>\n      <th>0</th>\n      <td>540968</td>\n      <td>8.0</td>\n      <td>2018-09-16 21:00:00</td>\n    </tr>\n    <tr>\n      <th>1</th>\n      <td>1454121</td>\n      <td>4.0</td>\n      <td>2018-07-15 21:00:00</td>\n    </tr>\n    <tr>\n      <th>2</th>\n      <td>2458816</td>\n      <td>1.0</td>\n      <td>2018-08-12 21:00:00</td>\n    </tr>\n    <tr>\n      <th>3</th>\n      <td>3535012</td>\n      <td>5.0</td>\n      <td>2018-09-02 21:00:00</td>\n    </tr>\n    <tr>\n      <th>4</th>\n      <td>1693214</td>\n      <td>1.0</td>\n      <td>2018-09-02 21:00:00</td>\n    </tr>\n    <tr>\n      <th>...</th>\n      <td>...</td>\n      <td>...</td>\n      <td>...</td>\n    </tr>\n    <tr>\n      <th>831648</th>\n      <td>3812226</td>\n      <td>2.0</td>\n      <td>2018-12-30 21:00:00</td>\n    </tr>\n    <tr>\n      <th>831649</th>\n      <td>2480469</td>\n      <td>2.0</td>\n      <td>2018-12-30 21:00:00</td>\n    </tr>\n    <tr>\n      <th>831650</th>\n      <td>158236</td>\n      <td>2.0</td>\n      <td>2018-12-30 21:00:00</td>\n    </tr>\n    <tr>\n      <th>831651</th>\n      <td>1825525</td>\n      <td>2.0</td>\n      <td>2018-12-30 21:00:00</td>\n    </tr>\n    <tr>\n      <th>831652</th>\n      <td>3022610</td>\n      <td>2.0</td>\n      <td>2018-12-30 21:00:00</td>\n    </tr>\n  </tbody>\n</table>\n<p>831653 rows × 3 columns</p>\n</div>"
     },
     "execution_count": 22,
     "metadata": {},
     "output_type": "execute_result"
    }
   ],
   "source": [
    "#Просмотр баланса классов на тесте\n",
    "X = df_train.drop(columns='target')\n",
    "target = df_train['target']\n",
    "X"
   ],
   "metadata": {
    "collapsed": false,
    "pycharm": {
     "name": "#%%\n"
    }
   }
  },
  {
   "cell_type": "code",
   "execution_count": 23,
   "outputs": [
    {
     "data": {
      "text/plain": "0         0.0\n1         0.0\n2         0.0\n3         0.0\n4         0.0\n         ... \n831648    0.0\n831649    0.0\n831650    0.0\n831651    0.0\n831652    0.0\nName: target, Length: 831653, dtype: float64"
     },
     "execution_count": 23,
     "metadata": {},
     "output_type": "execute_result"
    }
   ],
   "source": [
    "target"
   ],
   "metadata": {
    "collapsed": false,
    "pycharm": {
     "name": "#%%\n"
    }
   }
  },
  {
   "cell_type": "code",
   "execution_count": 25,
   "outputs": [
    {
     "data": {
      "text/plain": "0.0    0.927631\n1.0    0.072369\nName: target, dtype: float64"
     },
     "execution_count": 25,
     "metadata": {},
     "output_type": "execute_result"
    },
    {
     "data": {
      "text/plain": "<Figure size 432x288 with 1 Axes>",
      "image/png": "[encoded data removed]"
     },
     "metadata": {
      "needs_background": "light"
     },
     "output_type": "display_data"
    }
   ],
   "source": [
    "#Очень сильный дизбаланс классов. Возможно во время обучения нужно использовать деревья или мощные ансамбли (LightGBM или CatBoost?)\n",
    "(target.value_counts()/target.shape[0]).plot(kind='bar', title='Распределение целевой переменной')\n",
    "target.value_counts()/target.shape"
   ],
   "metadata": {
    "collapsed": false,
    "pycharm": {
     "name": "#%%\n"
    }
   }
  },
  {
   "cell_type": "markdown",
   "source": [
    "### Итоги EDA, выводы\n",
    "1. Отсутствуют Null, id уникальны можно поставить индексом в датафреймах\n",
    "2. Признаки с разными уникальными значениями, там где одно уникальное значение - их можно удалить, они не несут никакого смысла\n",
    "3. Даты в фичах и в трейн/тест - одинаковые уникальные значения, это хорошо можно сразу мерджить фичи в трейн/тест данные по id + buy_time\n",
    "4. Сильный дизбаланс классов, линейные модели вряд ли обучатся хорошо. Нужно использовать ансамбли или случайные леса скорее всего.\n",
    "5. Target, vas_id нужно преобразовать в Int\n",
    "6. Все признаки у которых уникальные значения в диапазоне от 2 до 30 считаем категориальными на старте\n",
    "7. При попадании данных в пайплайн постараться делать сразу 3 действия: buy_time преобразовывать в date_time, делать drop 'Unnamed: 0', делать лефт мердж фичи по id и buy_time"
   ],
   "metadata": {
    "collapsed": false,
    "pycharm": {
     "name": "#%% md\n"
    }
   }
  }
 ],
 "metadata": {
  "kernelspec": {
   "display_name": "Python 3",
   "language": "python",
   "name": "python3"
  },
  "language_info": {
   "codemirror_mode": {
    "name": "ipython",
    "version": 2
   },
   "file_extension": ".py",
   "mimetype": "text/x-python",
   "name": "python",
   "nbconvert_exporter": "python",
   "pygments_lexer": "ipython2",
   "version": "2.7.6"
  }
 },
 "nbformat": 4,
 "nbformat_minor": 0
}