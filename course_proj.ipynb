{
 "cells": [
  {
   "cell_type": "code",
   "execution_count": 1,
   "metadata": {
    "pycharm": {
     "name": "#%%\n"
    }
   },
   "outputs": [],
   "source": [
    "import numpy as np\n",
    "import pandas as pd\n",
    "import matplotlib.pyplot as plt\n",
    "import dask.dataframe as dd\n",
    "from sklearn.base import BaseEstimator, TransformerMixin\n",
    "from sklearn.pipeline import FeatureUnion, make_pipeline\n",
    "from sklearn.preprocessing import StandardScaler, OneHotEncoder\n",
    "import warnings\n",
    "warnings.filterwarnings('ignore')\n",
    "%matplotlib inline"
   ]
  },
  {
   "cell_type": "code",
   "execution_count": 2,
   "metadata": {
    "pycharm": {
     "name": "#%%\n"
    }
   },
   "outputs": [],
   "source": [
    "#После проведения EDA (блок ниже), написал функцию по предобработке данных для любого датафрейма, тест, трайн или фичи\n",
    "#Сразу удаляем лишнюю колонку, преобразуем дату и переводи в int нужные признаки (например target и vas_id)\n",
    "def prepare_data(data_df, columns_to_int=None):\n",
    "    data_df['buy_time'] = pd.to_datetime(data_df['buy_time'], unit='s')\n",
    "    try:\n",
    "        data_df = data_df.drop(columns='Unnamed: 0')\n",
    "    except KeyError:\n",
    "        pass\n",
    "    if columns_to_int:\n",
    "        try:\n",
    "            data_df[columns_to_int] = data_df[columns_to_int].astype('int64')\n",
    "        except KeyError:\n",
    "            print(\"Column doesn't exist, or isn't numeric type. Unable to convert type to int. Correct key mistakes, and try again\")\n",
    "    return data_df"
   ]
  },
  {
   "cell_type": "markdown",
   "metadata": {
    "pycharm": {
     "name": "#%% md\n"
    }
   },
   "source": [
    "### Загрузка и просмотр датасета"
   ]
  },
  {
   "cell_type": "code",
   "execution_count": 3,
   "metadata": {
    "pycharm": {
     "name": "#%%\n"
    }
   },
   "outputs": [
    {
     "data": {
      "text/plain": "             id  vas_id            buy_time  target\n0        540968       8 2018-09-16 21:00:00       0\n1       1454121       4 2018-07-15 21:00:00       0\n2       2458816       1 2018-08-12 21:00:00       0\n3       3535012       5 2018-09-02 21:00:00       0\n4       1693214       1 2018-09-02 21:00:00       0\n...         ...     ...                 ...     ...\n831648  3812226       2 2018-12-30 21:00:00       0\n831649  2480469       2 2018-12-30 21:00:00       0\n831650   158236       2 2018-12-30 21:00:00       0\n831651  1825525       2 2018-12-30 21:00:00       0\n831652  3022610       2 2018-12-30 21:00:00       0\n\n[831653 rows x 4 columns]",
      "text/html": "<div>\n<style scoped>\n    .dataframe tbody tr th:only-of-type {\n        vertical-align: middle;\n    }\n\n    .dataframe tbody tr th {\n        vertical-align: top;\n    }\n\n    .dataframe thead th {\n        text-align: right;\n    }\n</style>\n<table border=\"1\" class=\"dataframe\">\n  <thead>\n    <tr style=\"text-align: right;\">\n      <th></th>\n      <th>id</th>\n      <th>vas_id</th>\n      <th>buy_time</th>\n      <th>target</th>\n    </tr>\n  </thead>\n  <tbody>\n    <tr>\n      <th>0</th>\n      <td>540968</td>\n      <td>8</td>\n      <td>2018-09-16 21:00:00</td>\n      <td>0</td>\n    </tr>\n    <tr>\n      <th>1</th>\n      <td>1454121</td>\n      <td>4</td>\n      <td>2018-07-15 21:00:00</td>\n      <td>0</td>\n    </tr>\n    <tr>\n      <th>2</th>\n      <td>2458816</td>\n      <td>1</td>\n      <td>2018-08-12 21:00:00</td>\n      <td>0</td>\n    </tr>\n    <tr>\n      <th>3</th>\n      <td>3535012</td>\n      <td>5</td>\n      <td>2018-09-02 21:00:00</td>\n      <td>0</td>\n    </tr>\n    <tr>\n      <th>4</th>\n      <td>1693214</td>\n      <td>1</td>\n      <td>2018-09-02 21:00:00</td>\n      <td>0</td>\n    </tr>\n    <tr>\n      <th>...</th>\n      <td>...</td>\n      <td>...</td>\n      <td>...</td>\n      <td>...</td>\n    </tr>\n    <tr>\n      <th>831648</th>\n      <td>3812226</td>\n      <td>2</td>\n      <td>2018-12-30 21:00:00</td>\n      <td>0</td>\n    </tr>\n    <tr>\n      <th>831649</th>\n      <td>2480469</td>\n      <td>2</td>\n      <td>2018-12-30 21:00:00</td>\n      <td>0</td>\n    </tr>\n    <tr>\n      <th>831650</th>\n      <td>158236</td>\n      <td>2</td>\n      <td>2018-12-30 21:00:00</td>\n      <td>0</td>\n    </tr>\n    <tr>\n      <th>831651</th>\n      <td>1825525</td>\n      <td>2</td>\n      <td>2018-12-30 21:00:00</td>\n      <td>0</td>\n    </tr>\n    <tr>\n      <th>831652</th>\n      <td>3022610</td>\n      <td>2</td>\n      <td>2018-12-30 21:00:00</td>\n      <td>0</td>\n    </tr>\n  </tbody>\n</table>\n<p>831653 rows × 4 columns</p>\n</div>"
     },
     "execution_count": 3,
     "metadata": {},
     "output_type": "execute_result"
    }
   ],
   "source": [
    "#Убираем фиктивные колонки, видимо индексы, преобразуем даты, чтобы увидеть больше информации из имеющихся данных\n",
    "df_train = pd.read_csv('data_train.csv')\n",
    "df_train = prepare_data(df_train, columns_to_int=['vas_id', 'target'])\n",
    "df_test = pd.read_csv('data_test.csv')\n",
    "df_test = prepare_data(df_test, columns_to_int='vas_id')\n",
    "df_train"
   ]
  },
  {
   "cell_type": "code",
   "execution_count": 4,
   "metadata": {
    "pycharm": {
     "name": "#%%\n"
    }
   },
   "outputs": [
    {
     "data": {
      "text/plain": "            id  vas_id            buy_time\n0      3130519       2 2019-01-20 21:00:00\n1      2000860       4 2019-01-20 21:00:00\n2      1099444       2 2019-01-06 21:00:00\n3      1343255       5 2019-01-13 21:00:00\n4      1277040       2 2019-01-06 21:00:00\n...        ...     ...                 ...\n71226  2502453       5 2019-01-20 21:00:00\n71227  1693213       2 2019-01-20 21:00:00\n71228  1891350       2 2019-01-20 21:00:00\n71229  2437172       2 2019-01-20 21:00:00\n71230   988236       2 2019-01-20 21:00:00\n\n[71231 rows x 3 columns]",
      "text/html": "<div>\n<style scoped>\n    .dataframe tbody tr th:only-of-type {\n        vertical-align: middle;\n    }\n\n    .dataframe tbody tr th {\n        vertical-align: top;\n    }\n\n    .dataframe thead th {\n        text-align: right;\n    }\n</style>\n<table border=\"1\" class=\"dataframe\">\n  <thead>\n    <tr style=\"text-align: right;\">\n      <th></th>\n      <th>id</th>\n      <th>vas_id</th>\n      <th>buy_time</th>\n    </tr>\n  </thead>\n  <tbody>\n    <tr>\n      <th>0</th>\n      <td>3130519</td>\n      <td>2</td>\n      <td>2019-01-20 21:00:00</td>\n    </tr>\n    <tr>\n      <th>1</th>\n      <td>2000860</td>\n      <td>4</td>\n      <td>2019-01-20 21:00:00</td>\n    </tr>\n    <tr>\n      <th>2</th>\n      <td>1099444</td>\n      <td>2</td>\n      <td>2019-01-06 21:00:00</td>\n    </tr>\n    <tr>\n      <th>3</th>\n      <td>1343255</td>\n      <td>5</td>\n      <td>2019-01-13 21:00:00</td>\n    </tr>\n    <tr>\n      <th>4</th>\n      <td>1277040</td>\n      <td>2</td>\n      <td>2019-01-06 21:00:00</td>\n    </tr>\n    <tr>\n      <th>...</th>\n      <td>...</td>\n      <td>...</td>\n      <td>...</td>\n    </tr>\n    <tr>\n      <th>71226</th>\n      <td>2502453</td>\n      <td>5</td>\n      <td>2019-01-20 21:00:00</td>\n    </tr>\n    <tr>\n      <th>71227</th>\n      <td>1693213</td>\n      <td>2</td>\n      <td>2019-01-20 21:00:00</td>\n    </tr>\n    <tr>\n      <th>71228</th>\n      <td>1891350</td>\n      <td>2</td>\n      <td>2019-01-20 21:00:00</td>\n    </tr>\n    <tr>\n      <th>71229</th>\n      <td>2437172</td>\n      <td>2</td>\n      <td>2019-01-20 21:00:00</td>\n    </tr>\n    <tr>\n      <th>71230</th>\n      <td>988236</td>\n      <td>2</td>\n      <td>2019-01-20 21:00:00</td>\n    </tr>\n  </tbody>\n</table>\n<p>71231 rows × 3 columns</p>\n</div>"
     },
     "execution_count": 4,
     "metadata": {},
     "output_type": "execute_result"
    }
   ],
   "source": [
    "df_test"
   ]
  },
  {
   "cell_type": "code",
   "execution_count": 5,
   "metadata": {
    "pycharm": {
     "name": "#%%\n"
    }
   },
   "outputs": [
    {
     "name": "stdout",
     "output_type": "stream",
     "text": [
      "CPU times: total: 1min 7s\n",
      "Wall time: 1min 7s\n"
     ]
    },
    {
     "data": {
      "text/plain": "             id            buy_time           0           1           2  \\\n0       2013026 2018-07-15 21:00:00   18.910029   46.980888    4.969214   \n1       2014722 2018-10-14 21:00:00   36.690029  152.400888  448.069214   \n2       2015199 2018-12-23 21:00:00  -67.019971  157.050888  -63.180786   \n3       2021765 2018-08-12 21:00:00    7.010029  150.200888   -6.930786   \n4       2027465 2018-08-05 21:00:00  -90.439971  134.220888 -104.380786   \n...         ...                 ...         ...         ...         ...   \n999995  1479271 2018-08-26 21:00:00  -96.799971 -389.789112 -110.740786   \n999996  1479538 2018-12-16 21:00:00  -96.799971 -106.989112 -110.740786   \n999997  1479710 2018-07-22 21:00:00  496.820029  217.200888  482.879214   \n999998  1479802 2018-12-23 21:00:00  -86.209971 -206.909112 -100.150786   \n999999  1480036 2018-07-08 21:00:00  -82.389971   53.240888  -96.330786   \n\n                 3           4          5         6          7  ...  \\\n0        -1.386798    3.791754  -14.01179 -16.08618 -65.076097  ...   \n1       563.833202  463.841754  568.99821 -16.08618 -53.216097  ...   \n2       178.103202  -68.598246  156.99821   3.51382  25.183903  ...   \n3       216.213202   76.621754  351.84821 -16.08618 -65.076097  ...   \n4       153.643202 -109.798246  132.53821 -16.08618 -65.076097  ...   \n...            ...         ...        ...       ...        ...  ...   \n999995 -442.396798 -116.158246 -463.50179 -16.08618 -65.076097  ...   \n999996 -155.786798 -116.158246 -176.89179 -16.08618 -65.076097  ...   \n999997  164.593202  477.461754  143.48821 -16.08618 -65.076097  ...   \n999998 -259.516798 -105.568246 -280.62179 -16.08618 -65.076097  ...   \n999999  131.973202 -101.748246  110.86821 -16.08618 -65.076097  ...   \n\n                243          244         245        246           247  \\\n0       -977.373846  -613.770792  -25.996269 -37.630448   -301.747724   \n1       -891.373846  -544.770792  -20.996269  48.369552     80.252276   \n2       -977.373846  -613.770792  -12.996269 -37.630448  10829.252276   \n3       -973.373846  -613.770792  -23.996269 -37.630448   -205.747724   \n4       1643.626154  2007.229208  206.003731 -21.630448   6667.252276   \n...             ...          ...         ...        ...           ...   \n999995  -977.373846  -613.770792  -25.996269 -37.630448   -306.747724   \n999996  -719.373846  -452.770792  -25.996269 -37.630448   -214.747724   \n999997  -542.373846  -180.770792  -13.996269 -22.630448    200.252276   \n999998  -977.373846  -613.770792  -25.996269 -37.630448   -306.747724   \n999999  -977.373846  -613.770792  -25.996269 -37.630448   -306.747724   \n\n              248       249        250       251  252  \n0      -25.832889 -0.694428 -12.175933  -0.45614  0.0  \n1      -13.832889 -0.694428  -1.175933  -0.45614  0.0  \n2      -25.832889 -0.694428 -12.175933  -0.45614  0.0  \n3      -24.832889 -0.694428 -11.175933  -0.45614  1.0  \n4       92.167111 -0.694428  49.824067  47.54386  0.0  \n...           ...       ...        ...       ...  ...  \n999995 -25.832889 -0.694428 -12.175933  -0.45614  0.0  \n999996 -17.832889 -0.694428 -12.175933  -0.45614  0.0  \n999997   4.167111 -0.694428   2.824067  14.54386  1.0  \n999998 -25.832889 -0.694428 -12.175933  -0.45614  0.0  \n999999 -25.832889 -0.694428 -12.175933  -0.45614  1.0  \n\n[1000000 rows x 255 columns]",
      "text/html": "<div>\n<style scoped>\n    .dataframe tbody tr th:only-of-type {\n        vertical-align: middle;\n    }\n\n    .dataframe tbody tr th {\n        vertical-align: top;\n    }\n\n    .dataframe thead th {\n        text-align: right;\n    }\n</style>\n<table border=\"1\" class=\"dataframe\">\n  <thead>\n    <tr style=\"text-align: right;\">\n      <th></th>\n      <th>id</th>\n      <th>buy_time</th>\n      <th>0</th>\n      <th>1</th>\n      <th>2</th>\n      <th>3</th>\n      <th>4</th>\n      <th>5</th>\n      <th>6</th>\n      <th>7</th>\n      <th>...</th>\n      <th>243</th>\n      <th>244</th>\n      <th>245</th>\n      <th>246</th>\n      <th>247</th>\n      <th>248</th>\n      <th>249</th>\n      <th>250</th>\n      <th>251</th>\n      <th>252</th>\n    </tr>\n  </thead>\n  <tbody>\n    <tr>\n      <th>0</th>\n      <td>2013026</td>\n      <td>2018-07-15 21:00:00</td>\n      <td>18.910029</td>\n      <td>46.980888</td>\n      <td>4.969214</td>\n      <td>-1.386798</td>\n      <td>3.791754</td>\n      <td>-14.01179</td>\n      <td>-16.08618</td>\n      <td>-65.076097</td>\n      <td>...</td>\n      <td>-977.373846</td>\n      <td>-613.770792</td>\n      <td>-25.996269</td>\n      <td>-37.630448</td>\n      <td>-301.747724</td>\n      <td>-25.832889</td>\n      <td>-0.694428</td>\n      <td>-12.175933</td>\n      <td>-0.45614</td>\n      <td>0.0</td>\n    </tr>\n    <tr>\n      <th>1</th>\n      <td>2014722</td>\n      <td>2018-10-14 21:00:00</td>\n      <td>36.690029</td>\n      <td>152.400888</td>\n      <td>448.069214</td>\n      <td>563.833202</td>\n      <td>463.841754</td>\n      <td>568.99821</td>\n      <td>-16.08618</td>\n      <td>-53.216097</td>\n      <td>...</td>\n      <td>-891.373846</td>\n      <td>-544.770792</td>\n      <td>-20.996269</td>\n      <td>48.369552</td>\n      <td>80.252276</td>\n      <td>-13.832889</td>\n      <td>-0.694428</td>\n      <td>-1.175933</td>\n      <td>-0.45614</td>\n      <td>0.0</td>\n    </tr>\n    <tr>\n      <th>2</th>\n      <td>2015199</td>\n      <td>2018-12-23 21:00:00</td>\n      <td>-67.019971</td>\n      <td>157.050888</td>\n      <td>-63.180786</td>\n      <td>178.103202</td>\n      <td>-68.598246</td>\n      <td>156.99821</td>\n      <td>3.51382</td>\n      <td>25.183903</td>\n      <td>...</td>\n      <td>-977.373846</td>\n      <td>-613.770792</td>\n      <td>-12.996269</td>\n      <td>-37.630448</td>\n      <td>10829.252276</td>\n      <td>-25.832889</td>\n      <td>-0.694428</td>\n      <td>-12.175933</td>\n      <td>-0.45614</td>\n      <td>0.0</td>\n    </tr>\n    <tr>\n      <th>3</th>\n      <td>2021765</td>\n      <td>2018-08-12 21:00:00</td>\n      <td>7.010029</td>\n      <td>150.200888</td>\n      <td>-6.930786</td>\n      <td>216.213202</td>\n      <td>76.621754</td>\n      <td>351.84821</td>\n      <td>-16.08618</td>\n      <td>-65.076097</td>\n      <td>...</td>\n      <td>-973.373846</td>\n      <td>-613.770792</td>\n      <td>-23.996269</td>\n      <td>-37.630448</td>\n      <td>-205.747724</td>\n      <td>-24.832889</td>\n      <td>-0.694428</td>\n      <td>-11.175933</td>\n      <td>-0.45614</td>\n      <td>1.0</td>\n    </tr>\n    <tr>\n      <th>4</th>\n      <td>2027465</td>\n      <td>2018-08-05 21:00:00</td>\n      <td>-90.439971</td>\n      <td>134.220888</td>\n      <td>-104.380786</td>\n      <td>153.643202</td>\n      <td>-109.798246</td>\n      <td>132.53821</td>\n      <td>-16.08618</td>\n      <td>-65.076097</td>\n      <td>...</td>\n      <td>1643.626154</td>\n      <td>2007.229208</td>\n      <td>206.003731</td>\n      <td>-21.630448</td>\n      <td>6667.252276</td>\n      <td>92.167111</td>\n      <td>-0.694428</td>\n      <td>49.824067</td>\n      <td>47.54386</td>\n      <td>0.0</td>\n    </tr>\n    <tr>\n      <th>...</th>\n      <td>...</td>\n      <td>...</td>\n      <td>...</td>\n      <td>...</td>\n      <td>...</td>\n      <td>...</td>\n      <td>...</td>\n      <td>...</td>\n      <td>...</td>\n      <td>...</td>\n      <td>...</td>\n      <td>...</td>\n      <td>...</td>\n      <td>...</td>\n      <td>...</td>\n      <td>...</td>\n      <td>...</td>\n      <td>...</td>\n      <td>...</td>\n      <td>...</td>\n      <td>...</td>\n    </tr>\n    <tr>\n      <th>999995</th>\n      <td>1479271</td>\n      <td>2018-08-26 21:00:00</td>\n      <td>-96.799971</td>\n      <td>-389.789112</td>\n      <td>-110.740786</td>\n      <td>-442.396798</td>\n      <td>-116.158246</td>\n      <td>-463.50179</td>\n      <td>-16.08618</td>\n      <td>-65.076097</td>\n      <td>...</td>\n      <td>-977.373846</td>\n      <td>-613.770792</td>\n      <td>-25.996269</td>\n      <td>-37.630448</td>\n      <td>-306.747724</td>\n      <td>-25.832889</td>\n      <td>-0.694428</td>\n      <td>-12.175933</td>\n      <td>-0.45614</td>\n      <td>0.0</td>\n    </tr>\n    <tr>\n      <th>999996</th>\n      <td>1479538</td>\n      <td>2018-12-16 21:00:00</td>\n      <td>-96.799971</td>\n      <td>-106.989112</td>\n      <td>-110.740786</td>\n      <td>-155.786798</td>\n      <td>-116.158246</td>\n      <td>-176.89179</td>\n      <td>-16.08618</td>\n      <td>-65.076097</td>\n      <td>...</td>\n      <td>-719.373846</td>\n      <td>-452.770792</td>\n      <td>-25.996269</td>\n      <td>-37.630448</td>\n      <td>-214.747724</td>\n      <td>-17.832889</td>\n      <td>-0.694428</td>\n      <td>-12.175933</td>\n      <td>-0.45614</td>\n      <td>0.0</td>\n    </tr>\n    <tr>\n      <th>999997</th>\n      <td>1479710</td>\n      <td>2018-07-22 21:00:00</td>\n      <td>496.820029</td>\n      <td>217.200888</td>\n      <td>482.879214</td>\n      <td>164.593202</td>\n      <td>477.461754</td>\n      <td>143.48821</td>\n      <td>-16.08618</td>\n      <td>-65.076097</td>\n      <td>...</td>\n      <td>-542.373846</td>\n      <td>-180.770792</td>\n      <td>-13.996269</td>\n      <td>-22.630448</td>\n      <td>200.252276</td>\n      <td>4.167111</td>\n      <td>-0.694428</td>\n      <td>2.824067</td>\n      <td>14.54386</td>\n      <td>1.0</td>\n    </tr>\n    <tr>\n      <th>999998</th>\n      <td>1479802</td>\n      <td>2018-12-23 21:00:00</td>\n      <td>-86.209971</td>\n      <td>-206.909112</td>\n      <td>-100.150786</td>\n      <td>-259.516798</td>\n      <td>-105.568246</td>\n      <td>-280.62179</td>\n      <td>-16.08618</td>\n      <td>-65.076097</td>\n      <td>...</td>\n      <td>-977.373846</td>\n      <td>-613.770792</td>\n      <td>-25.996269</td>\n      <td>-37.630448</td>\n      <td>-306.747724</td>\n      <td>-25.832889</td>\n      <td>-0.694428</td>\n      <td>-12.175933</td>\n      <td>-0.45614</td>\n      <td>0.0</td>\n    </tr>\n    <tr>\n      <th>999999</th>\n      <td>1480036</td>\n      <td>2018-07-08 21:00:00</td>\n      <td>-82.389971</td>\n      <td>53.240888</td>\n      <td>-96.330786</td>\n      <td>131.973202</td>\n      <td>-101.748246</td>\n      <td>110.86821</td>\n      <td>-16.08618</td>\n      <td>-65.076097</td>\n      <td>...</td>\n      <td>-977.373846</td>\n      <td>-613.770792</td>\n      <td>-25.996269</td>\n      <td>-37.630448</td>\n      <td>-306.747724</td>\n      <td>-25.832889</td>\n      <td>-0.694428</td>\n      <td>-12.175933</td>\n      <td>-0.45614</td>\n      <td>1.0</td>\n    </tr>\n  </tbody>\n</table>\n<p>1000000 rows × 255 columns</p>\n</div>"
     },
     "execution_count": 5,
     "metadata": {},
     "output_type": "execute_result"
    }
   ],
   "source": [
    "%%time\n",
    "#Датафрейм очень большой, поэтому решил открывать пандасом только n-первых строк от него.\n",
    "#UPD: Для максимального извлечения данных для обучения на мердж, прогружал 4250000 строк, почти весь датасет, больше в озу не умещается. Из этих данных намерджил 800000 объектов для обучения\n",
    "#UPD2: После 2го этапа, в числе строк будет стоять 1000000, для обзора - достаточно\n",
    "\n",
    "df_features = pd.read_csv('features.csv.zip', sep='\\t', engine='c', nrows=1000000)\n",
    "#df_features = dd.read_csv('features.csv.zip', sep='\\t')\n",
    "df_features = prepare_data(df_features)\n",
    "df_features"
   ]
  },
  {
   "cell_type": "markdown",
   "metadata": {
    "pycharm": {
     "name": "#%% md\n"
    }
   },
   "source": [
    "### 1. EDA (Explore Data Analysis)"
   ]
  },
  {
   "cell_type": "code",
   "execution_count": 6,
   "metadata": {
    "pycharm": {
     "name": "#%%\n"
    }
   },
   "outputs": [
    {
     "data": {
      "text/plain": "                 id               0               1               2  \\\ncount  1.000000e+06  1000000.000000  1000000.000000  1000000.000000   \nmean   2.180561e+06        0.311083        1.095579        0.300773   \nstd    1.259488e+06      194.526908      407.475092      205.887966   \nmin    1.000000e+01    -1376.469971    -1248.849112    -1377.690786   \n25%    1.090815e+06      -96.799971     -208.739112     -110.740786   \n50%    2.181374e+06      -84.939971      -60.539112      -85.300786   \n75%    3.270645e+06       12.530029      118.940888       28.079214   \nmax    4.362732e+06    34238.730029    65201.990888    34226.909214   \n\n                    3               4               5               6  \\\ncount  1000000.000000  1000000.000000  1000000.000000  1000000.000000   \nmean         1.267346        0.242721        1.288137        0.133149   \nstd        473.547919      222.509800      535.861727      107.264796   \nmin      -1297.216798    -1385.638246    -2009.131790     -583.036180   \n25%       -242.389298     -116.158246     -259.351790      -16.086180   \n50%        -78.606798      -87.458246      -92.891790      -16.086180   \n75%        126.985702       29.671754      120.218210      -16.086180   \nmax      84573.173202    35068.101754    84552.068210    34319.443820   \n\n                    7               8  ...             243             244  \\\ncount  1000000.000000  1000000.000000  ...  1000000.000000  1000000.000000   \nmean         0.383473        0.027938  ...        0.911607        1.151224   \nstd        266.556822       74.750517  ...     3210.529144     2253.731273   \nmin       -802.356097     -573.733660  ...     -977.373846     -613.770792   \n25%        -65.076097       -6.783660  ...     -977.373846     -613.770792   \n50%        -65.076097       -6.783660  ...     -958.373846     -613.770792   \n75%        -59.146097       -6.783660  ...     -485.373846     -409.770792   \nmax      65545.093903    34084.599340  ...   287671.626154   190469.229208   \n\n                  245             246             247             248  \\\ncount  1000000.000000  1000000.000000  1000000.000000  1000000.000000   \nmean         0.662141        0.114300        0.309812        0.175095   \nstd       1299.041785      297.742497     1353.257227      261.976069   \nmin        -25.996269      -37.630448     -306.747724      -25.832889   \n25%        -25.996269      -37.630448     -305.747724      -25.832889   \n50%        -25.996269      -37.630448     -239.747724      -23.832889   \n75%        -24.996269      -33.630448      -77.747724      -10.832889   \nmax     980158.003731    32650.369552   227310.252276    97500.167111   \n\n                  249             250             251             252  \ncount  1000000.000000  1000000.000000  1000000.000000  1000000.000000  \nmean         0.020832        0.127691       -0.003491        0.256450  \nstd         22.382573      171.601335        5.112388        0.858694  \nmin         -0.694428      -12.175933       -0.456140        0.000000  \n25%         -0.694428      -12.175933       -0.456140        0.000000  \n50%         -0.694428      -12.175933       -0.456140        0.000000  \n75%         -0.694428       -9.175933       -0.456140        1.000000  \nmax      18923.305572    97507.824067     1332.543860      342.000000  \n\n[8 rows x 254 columns]",
      "text/html": "<div>\n<style scoped>\n    .dataframe tbody tr th:only-of-type {\n        vertical-align: middle;\n    }\n\n    .dataframe tbody tr th {\n        vertical-align: top;\n    }\n\n    .dataframe thead th {\n        text-align: right;\n    }\n</style>\n<table border=\"1\" class=\"dataframe\">\n  <thead>\n    <tr style=\"text-align: right;\">\n      <th></th>\n      <th>id</th>\n      <th>0</th>\n      <th>1</th>\n      <th>2</th>\n      <th>3</th>\n      <th>4</th>\n      <th>5</th>\n      <th>6</th>\n      <th>7</th>\n      <th>8</th>\n      <th>...</th>\n      <th>243</th>\n      <th>244</th>\n      <th>245</th>\n      <th>246</th>\n      <th>247</th>\n      <th>248</th>\n      <th>249</th>\n      <th>250</th>\n      <th>251</th>\n      <th>252</th>\n    </tr>\n  </thead>\n  <tbody>\n    <tr>\n      <th>count</th>\n      <td>1.000000e+06</td>\n      <td>1000000.000000</td>\n      <td>1000000.000000</td>\n      <td>1000000.000000</td>\n      <td>1000000.000000</td>\n      <td>1000000.000000</td>\n      <td>1000000.000000</td>\n      <td>1000000.000000</td>\n      <td>1000000.000000</td>\n      <td>1000000.000000</td>\n      <td>...</td>\n      <td>1000000.000000</td>\n      <td>1000000.000000</td>\n      <td>1000000.000000</td>\n      <td>1000000.000000</td>\n      <td>1000000.000000</td>\n      <td>1000000.000000</td>\n      <td>1000000.000000</td>\n      <td>1000000.000000</td>\n      <td>1000000.000000</td>\n      <td>1000000.000000</td>\n    </tr>\n    <tr>\n      <th>mean</th>\n      <td>2.180561e+06</td>\n      <td>0.311083</td>\n      <td>1.095579</td>\n      <td>0.300773</td>\n      <td>1.267346</td>\n      <td>0.242721</td>\n      <td>1.288137</td>\n      <td>0.133149</td>\n      <td>0.383473</td>\n      <td>0.027938</td>\n      <td>...</td>\n      <td>0.911607</td>\n      <td>1.151224</td>\n      <td>0.662141</td>\n      <td>0.114300</td>\n      <td>0.309812</td>\n      <td>0.175095</td>\n      <td>0.020832</td>\n      <td>0.127691</td>\n      <td>-0.003491</td>\n      <td>0.256450</td>\n    </tr>\n    <tr>\n      <th>std</th>\n      <td>1.259488e+06</td>\n      <td>194.526908</td>\n      <td>407.475092</td>\n      <td>205.887966</td>\n      <td>473.547919</td>\n      <td>222.509800</td>\n      <td>535.861727</td>\n      <td>107.264796</td>\n      <td>266.556822</td>\n      <td>74.750517</td>\n      <td>...</td>\n      <td>3210.529144</td>\n      <td>2253.731273</td>\n      <td>1299.041785</td>\n      <td>297.742497</td>\n      <td>1353.257227</td>\n      <td>261.976069</td>\n      <td>22.382573</td>\n      <td>171.601335</td>\n      <td>5.112388</td>\n      <td>0.858694</td>\n    </tr>\n    <tr>\n      <th>min</th>\n      <td>1.000000e+01</td>\n      <td>-1376.469971</td>\n      <td>-1248.849112</td>\n      <td>-1377.690786</td>\n      <td>-1297.216798</td>\n      <td>-1385.638246</td>\n      <td>-2009.131790</td>\n      <td>-583.036180</td>\n      <td>-802.356097</td>\n      <td>-573.733660</td>\n      <td>...</td>\n      <td>-977.373846</td>\n      <td>-613.770792</td>\n      <td>-25.996269</td>\n      <td>-37.630448</td>\n      <td>-306.747724</td>\n      <td>-25.832889</td>\n      <td>-0.694428</td>\n      <td>-12.175933</td>\n      <td>-0.456140</td>\n      <td>0.000000</td>\n    </tr>\n    <tr>\n      <th>25%</th>\n      <td>1.090815e+06</td>\n      <td>-96.799971</td>\n      <td>-208.739112</td>\n      <td>-110.740786</td>\n      <td>-242.389298</td>\n      <td>-116.158246</td>\n      <td>-259.351790</td>\n      <td>-16.086180</td>\n      <td>-65.076097</td>\n      <td>-6.783660</td>\n      <td>...</td>\n      <td>-977.373846</td>\n      <td>-613.770792</td>\n      <td>-25.996269</td>\n      <td>-37.630448</td>\n      <td>-305.747724</td>\n      <td>-25.832889</td>\n      <td>-0.694428</td>\n      <td>-12.175933</td>\n      <td>-0.456140</td>\n      <td>0.000000</td>\n    </tr>\n    <tr>\n      <th>50%</th>\n      <td>2.181374e+06</td>\n      <td>-84.939971</td>\n      <td>-60.539112</td>\n      <td>-85.300786</td>\n      <td>-78.606798</td>\n      <td>-87.458246</td>\n      <td>-92.891790</td>\n      <td>-16.086180</td>\n      <td>-65.076097</td>\n      <td>-6.783660</td>\n      <td>...</td>\n      <td>-958.373846</td>\n      <td>-613.770792</td>\n      <td>-25.996269</td>\n      <td>-37.630448</td>\n      <td>-239.747724</td>\n      <td>-23.832889</td>\n      <td>-0.694428</td>\n      <td>-12.175933</td>\n      <td>-0.456140</td>\n      <td>0.000000</td>\n    </tr>\n    <tr>\n      <th>75%</th>\n      <td>3.270645e+06</td>\n      <td>12.530029</td>\n      <td>118.940888</td>\n      <td>28.079214</td>\n      <td>126.985702</td>\n      <td>29.671754</td>\n      <td>120.218210</td>\n      <td>-16.086180</td>\n      <td>-59.146097</td>\n      <td>-6.783660</td>\n      <td>...</td>\n      <td>-485.373846</td>\n      <td>-409.770792</td>\n      <td>-24.996269</td>\n      <td>-33.630448</td>\n      <td>-77.747724</td>\n      <td>-10.832889</td>\n      <td>-0.694428</td>\n      <td>-9.175933</td>\n      <td>-0.456140</td>\n      <td>1.000000</td>\n    </tr>\n    <tr>\n      <th>max</th>\n      <td>4.362732e+06</td>\n      <td>34238.730029</td>\n      <td>65201.990888</td>\n      <td>34226.909214</td>\n      <td>84573.173202</td>\n      <td>35068.101754</td>\n      <td>84552.068210</td>\n      <td>34319.443820</td>\n      <td>65545.093903</td>\n      <td>34084.599340</td>\n      <td>...</td>\n      <td>287671.626154</td>\n      <td>190469.229208</td>\n      <td>980158.003731</td>\n      <td>32650.369552</td>\n      <td>227310.252276</td>\n      <td>97500.167111</td>\n      <td>18923.305572</td>\n      <td>97507.824067</td>\n      <td>1332.543860</td>\n      <td>342.000000</td>\n    </tr>\n  </tbody>\n</table>\n<p>8 rows × 254 columns</p>\n</div>"
     },
     "execution_count": 6,
     "metadata": {},
     "output_type": "execute_result"
    }
   ],
   "source": [
    "df_features.describe()"
   ]
  },
  {
   "cell_type": "code",
   "execution_count": 7,
   "metadata": {
    "pycharm": {
     "name": "#%%\n"
    }
   },
   "outputs": [
    {
     "data": {
      "text/plain": "85          1\n75          1\n81          1\n203         1\n139         1\n        ...  \n207    603281\n117    623851\n38     711608\n116    733585\nid     992773\nLength: 255, dtype: int64"
     },
     "execution_count": 7,
     "metadata": {},
     "output_type": "execute_result"
    }
   ],
   "source": [
    "#Смотрим на число уникальный значений признака. Вероятно если одно значание - признак бесполезен, его можно выбросить\n",
    "df_features.nunique().sort_values()"
   ]
  },
  {
   "cell_type": "code",
   "execution_count": 8,
   "metadata": {
    "pycharm": {
     "name": "#%%\n"
    }
   },
   "outputs": [
    {
     "data": {
      "text/plain": "id          0\nbuy_time    0\n0           0\n1           0\n2           0\n           ..\n248         0\n249         0\n250         0\n251         0\n252         0\nLength: 255, dtype: int64"
     },
     "execution_count": 8,
     "metadata": {},
     "output_type": "execute_result"
    }
   ],
   "source": [
    "#Смотрю Null. Они отсутствуют везде, значит их не нужно обрабатывать\n",
    "df_features.isna().sum()"
   ]
  },
  {
   "cell_type": "code",
   "execution_count": 9,
   "metadata": {
    "pycharm": {
     "name": "#%%\n"
    }
   },
   "outputs": [
    {
     "data": {
      "text/plain": "id          0\nvas_id      0\nbuy_time    0\ntarget      0\ndtype: int64"
     },
     "execution_count": 9,
     "metadata": {},
     "output_type": "execute_result"
    }
   ],
   "source": [
    "df_train.isna().sum()"
   ]
  },
  {
   "cell_type": "code",
   "execution_count": 10,
   "metadata": {
    "pycharm": {
     "name": "#%%\n"
    }
   },
   "outputs": [
    {
     "data": {
      "text/plain": "id          0\nvas_id      0\nbuy_time    0\ndtype: int64"
     },
     "execution_count": 10,
     "metadata": {},
     "output_type": "execute_result"
    }
   ],
   "source": [
    "df_test.isna().sum()"
   ]
  },
  {
   "cell_type": "code",
   "execution_count": 11,
   "metadata": {
    "pycharm": {
     "name": "#%%\n"
    }
   },
   "outputs": [
    {
     "data": {
      "text/plain": "array(['2018-07-15T21:00:00.000000000', '2018-10-14T21:00:00.000000000',\n       '2018-12-23T21:00:00.000000000', '2018-08-12T21:00:00.000000000',\n       '2018-08-05T21:00:00.000000000', '2018-12-16T21:00:00.000000000',\n       '2018-09-23T21:00:00.000000000', '2018-12-09T21:00:00.000000000',\n       '2018-09-09T21:00:00.000000000', '2018-08-26T21:00:00.000000000',\n       '2018-08-19T21:00:00.000000000', '2018-11-18T21:00:00.000000000',\n       '2018-10-28T21:00:00.000000000', '2018-10-21T21:00:00.000000000',\n       '2018-11-04T21:00:00.000000000', '2018-09-16T21:00:00.000000000',\n       '2018-07-08T21:00:00.000000000', '2018-09-30T21:00:00.000000000',\n       '2018-07-22T21:00:00.000000000', '2018-12-30T21:00:00.000000000',\n       '2018-09-02T21:00:00.000000000', '2018-10-07T21:00:00.000000000',\n       '2019-01-13T21:00:00.000000000', '2018-12-02T21:00:00.000000000',\n       '2019-01-20T21:00:00.000000000', '2018-11-11T21:00:00.000000000',\n       '2018-07-29T21:00:00.000000000', '2019-01-06T21:00:00.000000000',\n       '2018-11-25T21:00:00.000000000'], dtype='datetime64[ns]')"
     },
     "execution_count": 11,
     "metadata": {},
     "output_type": "execute_result"
    }
   ],
   "source": [
    "#Смотрю даты\n",
    "df_features['buy_time'].unique()"
   ]
  },
  {
   "cell_type": "code",
   "execution_count": 12,
   "metadata": {
    "pycharm": {
     "name": "#%%\n"
    }
   },
   "outputs": [
    {
     "data": {
      "text/plain": "[numpy.datetime64('2019-01-06T21:00:00.000000000'),\n numpy.datetime64('2019-01-13T21:00:00.000000000'),\n numpy.datetime64('2019-01-20T21:00:00.000000000')]"
     },
     "execution_count": 12,
     "metadata": {},
     "output_type": "execute_result"
    }
   ],
   "source": [
    "#Смотрю время теста, сортируя\n",
    "test_time = sorted(df_test['buy_time'].unique())\n",
    "test_time"
   ]
  },
  {
   "cell_type": "code",
   "execution_count": 13,
   "metadata": {
    "pycharm": {
     "name": "#%%\n"
    }
   },
   "outputs": [
    {
     "data": {
      "text/plain": "[numpy.datetime64('2018-07-08T21:00:00.000000000'),\n numpy.datetime64('2018-07-15T21:00:00.000000000'),\n numpy.datetime64('2018-07-22T21:00:00.000000000'),\n numpy.datetime64('2018-07-29T21:00:00.000000000'),\n numpy.datetime64('2018-08-05T21:00:00.000000000'),\n numpy.datetime64('2018-08-12T21:00:00.000000000'),\n numpy.datetime64('2018-08-19T21:00:00.000000000'),\n numpy.datetime64('2018-08-26T21:00:00.000000000'),\n numpy.datetime64('2018-09-02T21:00:00.000000000'),\n numpy.datetime64('2018-09-09T21:00:00.000000000'),\n numpy.datetime64('2018-09-16T21:00:00.000000000'),\n numpy.datetime64('2018-09-23T21:00:00.000000000'),\n numpy.datetime64('2018-09-30T21:00:00.000000000'),\n numpy.datetime64('2018-10-07T21:00:00.000000000'),\n numpy.datetime64('2018-10-14T21:00:00.000000000'),\n numpy.datetime64('2018-10-21T21:00:00.000000000'),\n numpy.datetime64('2018-10-28T21:00:00.000000000'),\n numpy.datetime64('2018-11-04T21:00:00.000000000'),\n numpy.datetime64('2018-11-11T21:00:00.000000000'),\n numpy.datetime64('2018-11-18T21:00:00.000000000'),\n numpy.datetime64('2018-11-25T21:00:00.000000000'),\n numpy.datetime64('2018-12-02T21:00:00.000000000'),\n numpy.datetime64('2018-12-09T21:00:00.000000000'),\n numpy.datetime64('2018-12-16T21:00:00.000000000'),\n numpy.datetime64('2018-12-23T21:00:00.000000000'),\n numpy.datetime64('2018-12-30T21:00:00.000000000')]"
     },
     "execution_count": 13,
     "metadata": {},
     "output_type": "execute_result"
    }
   ],
   "source": [
    "#Смотрю время трейна, сортируя\n",
    "#Видно что на трейн, уходит 6 месяцев, а на тест один. Также видно что даты в трейн/тест и у фичей совершенно одинаковые. Это значит что можно мержить фичи в трейн/тест по паре id + дата, т.к пара id и дата полностью описывают параметры пользователей\n",
    "train_time = sorted(df_train['buy_time'].unique())\n",
    "train_time"
   ]
  },
  {
   "cell_type": "code",
   "execution_count": 14,
   "metadata": {
    "pycharm": {
     "name": "#%%\n"
    }
   },
   "outputs": [
    {
     "data": {
      "text/plain": "[numpy.datetime64('2018-07-08T21:00:00.000000000'),\n numpy.datetime64('2018-07-15T21:00:00.000000000'),\n numpy.datetime64('2018-07-22T21:00:00.000000000'),\n numpy.datetime64('2018-07-29T21:00:00.000000000'),\n numpy.datetime64('2018-08-05T21:00:00.000000000'),\n numpy.datetime64('2018-08-12T21:00:00.000000000'),\n numpy.datetime64('2018-08-19T21:00:00.000000000'),\n numpy.datetime64('2018-08-26T21:00:00.000000000'),\n numpy.datetime64('2018-09-02T21:00:00.000000000'),\n numpy.datetime64('2018-09-09T21:00:00.000000000'),\n numpy.datetime64('2018-09-16T21:00:00.000000000'),\n numpy.datetime64('2018-09-23T21:00:00.000000000'),\n numpy.datetime64('2018-09-30T21:00:00.000000000'),\n numpy.datetime64('2018-10-07T21:00:00.000000000'),\n numpy.datetime64('2018-10-14T21:00:00.000000000'),\n numpy.datetime64('2018-10-21T21:00:00.000000000'),\n numpy.datetime64('2018-10-28T21:00:00.000000000'),\n numpy.datetime64('2018-11-04T21:00:00.000000000'),\n numpy.datetime64('2018-11-11T21:00:00.000000000'),\n numpy.datetime64('2018-11-18T21:00:00.000000000'),\n numpy.datetime64('2018-11-25T21:00:00.000000000'),\n numpy.datetime64('2018-12-02T21:00:00.000000000'),\n numpy.datetime64('2018-12-09T21:00:00.000000000'),\n numpy.datetime64('2018-12-16T21:00:00.000000000'),\n numpy.datetime64('2018-12-23T21:00:00.000000000'),\n numpy.datetime64('2018-12-30T21:00:00.000000000'),\n numpy.datetime64('2019-01-06T21:00:00.000000000'),\n numpy.datetime64('2019-01-13T21:00:00.000000000'),\n numpy.datetime64('2019-01-20T21:00:00.000000000')]"
     },
     "execution_count": 14,
     "metadata": {},
     "output_type": "execute_result"
    }
   ],
   "source": [
    "feature_time = sorted(df_features['buy_time'].unique())\n",
    "feature_time"
   ]
  },
  {
   "cell_type": "code",
   "execution_count": 15,
   "metadata": {
    "pycharm": {
     "name": "#%%\n"
    }
   },
   "outputs": [
    {
     "data": {
      "text/plain": "array([8, 4, 1, 5, 2, 7, 6, 9], dtype=int64)"
     },
     "execution_count": 15,
     "metadata": {},
     "output_type": "execute_result"
    }
   ],
   "source": [
    "df_train['vas_id'].unique()"
   ]
  },
  {
   "cell_type": "code",
   "execution_count": 16,
   "metadata": {
    "pycharm": {
     "name": "#%%\n"
    }
   },
   "outputs": [
    {
     "data": {
      "text/plain": "array([2, 4, 5, 6, 1, 7, 8, 9], dtype=int64)"
     },
     "execution_count": 16,
     "metadata": {},
     "output_type": "execute_result"
    }
   ],
   "source": [
    "#Видно что услуг всего 9, их надо преобразовать в int\n",
    "df_test['vas_id'].unique()"
   ]
  },
  {
   "cell_type": "code",
   "execution_count": 17,
   "metadata": {
    "pycharm": {
     "name": "#%%\n"
    }
   },
   "outputs": [
    {
     "data": {
      "text/plain": "             id  vas_id            buy_time\n0        540968       8 2018-09-16 21:00:00\n1       1454121       4 2018-07-15 21:00:00\n2       2458816       1 2018-08-12 21:00:00\n3       3535012       5 2018-09-02 21:00:00\n4       1693214       1 2018-09-02 21:00:00\n...         ...     ...                 ...\n831648  3812226       2 2018-12-30 21:00:00\n831649  2480469       2 2018-12-30 21:00:00\n831650   158236       2 2018-12-30 21:00:00\n831651  1825525       2 2018-12-30 21:00:00\n831652  3022610       2 2018-12-30 21:00:00\n\n[831653 rows x 3 columns]",
      "text/html": "<div>\n<style scoped>\n    .dataframe tbody tr th:only-of-type {\n        vertical-align: middle;\n    }\n\n    .dataframe tbody tr th {\n        vertical-align: top;\n    }\n\n    .dataframe thead th {\n        text-align: right;\n    }\n</style>\n<table border=\"1\" class=\"dataframe\">\n  <thead>\n    <tr style=\"text-align: right;\">\n      <th></th>\n      <th>id</th>\n      <th>vas_id</th>\n      <th>buy_time</th>\n    </tr>\n  </thead>\n  <tbody>\n    <tr>\n      <th>0</th>\n      <td>540968</td>\n      <td>8</td>\n      <td>2018-09-16 21:00:00</td>\n    </tr>\n    <tr>\n      <th>1</th>\n      <td>1454121</td>\n      <td>4</td>\n      <td>2018-07-15 21:00:00</td>\n    </tr>\n    <tr>\n      <th>2</th>\n      <td>2458816</td>\n      <td>1</td>\n      <td>2018-08-12 21:00:00</td>\n    </tr>\n    <tr>\n      <th>3</th>\n      <td>3535012</td>\n      <td>5</td>\n      <td>2018-09-02 21:00:00</td>\n    </tr>\n    <tr>\n      <th>4</th>\n      <td>1693214</td>\n      <td>1</td>\n      <td>2018-09-02 21:00:00</td>\n    </tr>\n    <tr>\n      <th>...</th>\n      <td>...</td>\n      <td>...</td>\n      <td>...</td>\n    </tr>\n    <tr>\n      <th>831648</th>\n      <td>3812226</td>\n      <td>2</td>\n      <td>2018-12-30 21:00:00</td>\n    </tr>\n    <tr>\n      <th>831649</th>\n      <td>2480469</td>\n      <td>2</td>\n      <td>2018-12-30 21:00:00</td>\n    </tr>\n    <tr>\n      <th>831650</th>\n      <td>158236</td>\n      <td>2</td>\n      <td>2018-12-30 21:00:00</td>\n    </tr>\n    <tr>\n      <th>831651</th>\n      <td>1825525</td>\n      <td>2</td>\n      <td>2018-12-30 21:00:00</td>\n    </tr>\n    <tr>\n      <th>831652</th>\n      <td>3022610</td>\n      <td>2</td>\n      <td>2018-12-30 21:00:00</td>\n    </tr>\n  </tbody>\n</table>\n<p>831653 rows × 3 columns</p>\n</div>"
     },
     "execution_count": 17,
     "metadata": {},
     "output_type": "execute_result"
    }
   ],
   "source": [
    "#Просмотр баланса классов на тесте\n",
    "feats = df_train.drop(columns='target')\n",
    "target = df_train['target']\n",
    "feats"
   ]
  },
  {
   "cell_type": "code",
   "execution_count": 18,
   "metadata": {
    "pycharm": {
     "name": "#%%\n"
    }
   },
   "outputs": [
    {
     "data": {
      "text/plain": "0         0\n1         0\n2         0\n3         0\n4         0\n         ..\n831648    0\n831649    0\n831650    0\n831651    0\n831652    0\nName: target, Length: 831653, dtype: int64"
     },
     "execution_count": 18,
     "metadata": {},
     "output_type": "execute_result"
    }
   ],
   "source": [
    "target"
   ]
  },
  {
   "cell_type": "code",
   "execution_count": 19,
   "metadata": {
    "pycharm": {
     "name": "#%%\n"
    }
   },
   "outputs": [
    {
     "data": {
      "text/plain": "0    0.927631\n1    0.072369\nName: target, dtype: float64"
     },
     "execution_count": 19,
     "metadata": {},
     "output_type": "execute_result"
    },
    {
     "data": {
      "text/plain": "<Figure size 432x288 with 1 Axes>",
      "image/png": "[encoded data removed]"
     },
     "metadata": {
      "needs_background": "light"
     },
     "output_type": "display_data"
    }
   ],
   "source": [
    "#Очень сильный дизбаланс классов. Возможно во время обучения нужно использовать деревья или мощные ансамбли (LightGBM или CatBoost?)\n",
    "(target.value_counts()/target.shape[0]).plot(kind='bar', title='Распределение целевой переменной')\n",
    "target.value_counts()/target.shape"
   ]
  },
  {
   "cell_type": "code",
   "execution_count": 20,
   "metadata": {
    "pycharm": {
     "name": "#%%\n"
    }
   },
   "outputs": [
    {
     "name": "stdout",
     "output_type": "stream",
     "text": [
      "CPU times: total: 6.34 s\n",
      "Wall time: 6.42 s\n"
     ]
    },
    {
     "data": {
      "text/plain": "(254,)"
     },
     "execution_count": 20,
     "metadata": {},
     "output_type": "execute_result"
    }
   ],
   "source": [
    "%%time\n",
    "#Исследвание фичей\n",
    "features_copy = df_features.copy()\n",
    "features_copy.set_index('id')\n",
    "features_copy.drop(columns=['buy_time'], inplace=True)\n",
    "feature_nunique = features_copy.apply(lambda x: x.nunique(dropna=False))\n",
    "feature_nunique.shape"
   ]
  },
  {
   "cell_type": "code",
   "execution_count": 21,
   "metadata": {
    "pycharm": {
     "name": "#%%\n"
    }
   },
   "outputs": [
    {
     "data": {
      "text/plain": "<Figure size 720x360 with 1 Axes>",
      "image/png": "[encoded data removed]"
     },
     "metadata": {
      "needs_background": "light"
     },
     "output_type": "display_data"
    }
   ],
   "source": [
    "#Распределение значений\n",
    "plt.title(\"Распределение уникальных значений признаков\")\n",
    "feature_nunique.hist(bins=75,figsize=(10, 5));"
   ]
  },
  {
   "cell_type": "code",
   "execution_count": 22,
   "metadata": {
    "pycharm": {
     "name": "#%%\n"
    }
   },
   "outputs": [
    {
     "data": {
      "text/plain": "254"
     },
     "execution_count": 22,
     "metadata": {},
     "output_type": "execute_result"
    }
   ],
   "source": [
    "#Все признаки\n",
    "f_all = set(feature_nunique.index.tolist())\n",
    "len(f_all)"
   ]
  },
  {
   "cell_type": "code",
   "execution_count": 23,
   "metadata": {
    "pycharm": {
     "name": "#%%\n"
    }
   },
   "outputs": [
    {
     "data": {
      "text/plain": "5"
     },
     "execution_count": 23,
     "metadata": {},
     "output_type": "execute_result"
    }
   ],
   "source": [
    "#Константные признаки, подлежат удалению (неиспользованию в обучении модели)\n",
    "f_const = set(feature_nunique[feature_nunique == 1].index.tolist())\n",
    "len(f_const)"
   ]
  },
  {
   "cell_type": "code",
   "execution_count": 24,
   "metadata": {
    "pycharm": {
     "name": "#%%\n"
    }
   },
   "outputs": [
    {
     "data": {
      "text/plain": "{'139', '203', '75', '81', '85'}"
     },
     "execution_count": 24,
     "metadata": {},
     "output_type": "execute_result"
    }
   ],
   "source": [
    "f_const"
   ]
  },
  {
   "cell_type": "code",
   "execution_count": 25,
   "metadata": {
    "pycharm": {
     "name": "#%%\n"
    }
   },
   "outputs": [
    {
     "name": "stdout",
     "output_type": "stream",
     "text": [
      "CPU times: total: 3.89 s\n",
      "Wall time: 4.01 s\n"
     ]
    },
    {
     "data": {
      "text/plain": "247"
     },
     "execution_count": 25,
     "metadata": {},
     "output_type": "execute_result"
    }
   ],
   "source": [
    "%%time\n",
    "#Вещественные признаки\n",
    "f_numeric = (features_copy.fillna(0).astype(int).sum() - features_copy.fillna(0).sum()).abs()\n",
    "f_numeric = set(f_numeric[f_numeric > 0].index.tolist())\n",
    "len(f_numeric)"
   ]
  },
  {
   "cell_type": "code",
   "execution_count": 26,
   "metadata": {
    "pycharm": {
     "name": "#%%\n"
    }
   },
   "outputs": [
    {
     "data": {
      "text/plain": "2"
     },
     "execution_count": 26,
     "metadata": {},
     "output_type": "execute_result"
    }
   ],
   "source": [
    "f_other = f_all - (f_numeric | f_const)\n",
    "len(f_other)"
   ]
  },
  {
   "cell_type": "code",
   "execution_count": 27,
   "metadata": {
    "pycharm": {
     "name": "#%%\n"
    }
   },
   "outputs": [
    {
     "data": {
      "text/plain": "{'252', 'id'}"
     },
     "execution_count": 27,
     "metadata": {},
     "output_type": "execute_result"
    }
   ],
   "source": [
    "#Остается 2 признака, id это понятно и 2ой скорее всего бинарный, посмотрим на него\n",
    "f_other"
   ]
  },
  {
   "cell_type": "code",
   "execution_count": 28,
   "metadata": {
    "pycharm": {
     "name": "#%%\n"
    }
   },
   "outputs": [
    {
     "data": {
      "text/plain": "32"
     },
     "execution_count": 28,
     "metadata": {},
     "output_type": "execute_result"
    }
   ],
   "source": [
    "#Видно что целочисленный, можно кидать в предобработку его на целое число, не категория определенно\n",
    "features_copy['252'].nunique()"
   ]
  },
  {
   "cell_type": "markdown",
   "metadata": {
    "pycharm": {
     "name": "#%% md\n"
    }
   },
   "source": [
    "### Итоги EDA, выводы\n",
    "1. Отсутствуют Null, id уникальны можно поставить индексом в датафреймах\n",
    "2. Признаки с разными уникальными значениями, там где одно уникальное значение - их можно удалить, они не несут никакого смысла\n",
    "3. Даты в фичах и в трейн/тест - одинаковые уникальные значения, это хорошо можно сразу мерджить фичи в трейн/тест данные по id + buy_time\n",
    "4. Сильный дизбаланс классов, линейные модели вряд ли обучатся хорошо. Нужно использовать ансамбли или случайные леса скорее всего.\n",
    "5. Target, vas_id нужно преобразовать в Int\n",
    "6. Все признаки у которых уникальные значения в диапазоне от 2 до 30 считаем категориальными на старте\n",
    "7. При попадании данных в пайплайн постараться делать сразу 3 действия: buy_time преобразовывать в date_time, делать drop 'Unnamed: 0', делать лефт мердж  по id и buy_time\n",
    "\n",
    "\n",
    "UPD: Во второй ячейке написал функцию по первичной предобработке данных, по пункту 7 + сразу преобразовывает в инт указанные колонки\n",
    "UPD2: Просмотрел фичи в датасете с фичами, теперь мерджить и писать пайплайны"
   ]
  },
  {
   "cell_type": "markdown",
   "source": [
    "### 2. Подготовка данных для обучения модели (Feature Engineering)"
   ],
   "metadata": {
    "collapsed": false,
    "pycharm": {
     "name": "#%% md\n"
    }
   }
  },
  {
   "cell_type": "code",
   "execution_count": 29,
   "outputs": [
    {
     "data": {
      "text/plain": "               6        96       158        56       101        95        80  \\\n0      -16.08618 -0.250188 -0.536315 -1.671324 -0.253037 -0.000115 -0.203232   \n1      -16.08618 -0.250188 -0.536315 -1.671324 -0.253037 -0.000115 -0.203232   \n2        3.51382 -0.250188 -0.536315 -0.671324 -0.253037 -0.000115 -0.203232   \n3      -16.08618 -0.250188 -0.536315 -0.671324 -0.253037 -0.000115 -0.203232   \n4      -16.08618  6.109812 -0.536315 -1.671324 -0.253037 -0.000115 -0.203232   \n...          ...       ...       ...       ...       ...       ...       ...   \n999995 -16.08618 -0.250188 -0.536315 -1.671324 -0.253037 -0.000115 -0.203232   \n999996 -16.08618 -0.250188 -0.536315 -1.671324 -0.253037 -0.000115 -0.203232   \n999997 -16.08618 -0.250188  6.463685  3.328676 -0.253037 -0.000115 -0.203232   \n999998 -16.08618 -0.250188 -0.536315 -1.671324 -0.253037 -0.000115 -0.203232   \n999999 -16.08618 -0.250188 -0.536315 -1.671324 -0.253037 -0.000115 -0.203232   \n\n              22         49       107  ...      215       121        90  \\\n0      -0.094251 -28.571103  4.027863  ... -2.10805 -0.433135 -0.626985   \n1      -0.094251 -28.567778 -0.212137  ... -2.10805 -0.433135 -0.626985   \n2      -0.094251 -28.567090 -0.212137  ... -2.10805 -0.433135 -0.626985   \n3      -0.094251 -28.571103 -0.212137  ... -2.10805 -0.433135 -0.626985   \n4      -0.094251 -28.571103 -0.212137  ... -2.10805 -0.433135 -0.626985   \n...          ...        ...       ...  ...      ...       ...       ...   \n999995 -0.094251 -28.571103 -0.212137  ... -2.10805 -0.433135 -0.626985   \n999996 -0.094251 -28.571103 -0.212137  ... -2.10805 -0.433135 -0.626985   \n999997 -0.094251 -28.571103 -0.212137  ... -2.10805 -0.433135 -0.626985   \n999998 -0.094251 -28.571103 -0.212137  ... -2.10805 -0.433135 -0.626985   \n999999 -0.094251 -28.571103 -0.212137  ... -2.10805 -0.433135 -0.626985   \n\n             27       140        93        169         234           211  \\\n0      -0.00909 -1.276187 -0.185299 -23.961228  -32.356505 -61790.157098   \n1      -0.00909 -1.276187 -0.185299 -25.961228    2.643495 -61790.157098   \n2      -0.00909 -1.276187 -0.185299   8.038772  123.643495 -61790.157098   \n3      -0.00909 -1.276187 -0.185299 -21.961228  956.643495 -61813.537098   \n4      -0.00909 -1.276187 -0.185299 -25.961228  901.643495 -61790.157098   \n...         ...       ...       ...        ...         ...           ...   \n999995 -0.00909 -1.276187 -0.185299 -25.961228  -35.356505 -61790.157098   \n999996 -0.00909 -1.276187 -0.185299  31.038772  -11.356505 -61790.157098   \n999997 -0.00909 -1.276187 -0.185299  65.038772  -34.356505 -61790.157098   \n999998 -0.00909 -1.276187 -0.185299  -8.961228  -35.356505 -61790.157098   \n999999 -0.00909 -1.276187 -0.185299  13.038772  -35.356505 -61790.157098   \n\n              138  \n0        4.064012  \n1       -1.935988  \n2       -1.935988  \n3        6.064012  \n4       -1.935988  \n...           ...  \n999995  -1.935988  \n999996  -1.935988  \n999997  46.064012  \n999998  -1.935988  \n999999  20.064012  \n\n[1000000 rows x 250 columns]",
      "text/html": "<div>\n<style scoped>\n    .dataframe tbody tr th:only-of-type {\n        vertical-align: middle;\n    }\n\n    .dataframe tbody tr th {\n        vertical-align: top;\n    }\n\n    .dataframe thead th {\n        text-align: right;\n    }\n</style>\n<table border=\"1\" class=\"dataframe\">\n  <thead>\n    <tr style=\"text-align: right;\">\n      <th></th>\n      <th>6</th>\n      <th>96</th>\n      <th>158</th>\n      <th>56</th>\n      <th>101</th>\n      <th>95</th>\n      <th>80</th>\n      <th>22</th>\n      <th>49</th>\n      <th>107</th>\n      <th>...</th>\n      <th>215</th>\n      <th>121</th>\n      <th>90</th>\n      <th>27</th>\n      <th>140</th>\n      <th>93</th>\n      <th>169</th>\n      <th>234</th>\n      <th>211</th>\n      <th>138</th>\n    </tr>\n  </thead>\n  <tbody>\n    <tr>\n      <th>0</th>\n      <td>-16.08618</td>\n      <td>-0.250188</td>\n      <td>-0.536315</td>\n      <td>-1.671324</td>\n      <td>-0.253037</td>\n      <td>-0.000115</td>\n      <td>-0.203232</td>\n      <td>-0.094251</td>\n      <td>-28.571103</td>\n      <td>4.027863</td>\n      <td>...</td>\n      <td>-2.10805</td>\n      <td>-0.433135</td>\n      <td>-0.626985</td>\n      <td>-0.00909</td>\n      <td>-1.276187</td>\n      <td>-0.185299</td>\n      <td>-23.961228</td>\n      <td>-32.356505</td>\n      <td>-61790.157098</td>\n      <td>4.064012</td>\n    </tr>\n    <tr>\n      <th>1</th>\n      <td>-16.08618</td>\n      <td>-0.250188</td>\n      <td>-0.536315</td>\n      <td>-1.671324</td>\n      <td>-0.253037</td>\n      <td>-0.000115</td>\n      <td>-0.203232</td>\n      <td>-0.094251</td>\n      <td>-28.567778</td>\n      <td>-0.212137</td>\n      <td>...</td>\n      <td>-2.10805</td>\n      <td>-0.433135</td>\n      <td>-0.626985</td>\n      <td>-0.00909</td>\n      <td>-1.276187</td>\n      <td>-0.185299</td>\n      <td>-25.961228</td>\n      <td>2.643495</td>\n      <td>-61790.157098</td>\n      <td>-1.935988</td>\n    </tr>\n    <tr>\n      <th>2</th>\n      <td>3.51382</td>\n      <td>-0.250188</td>\n      <td>-0.536315</td>\n      <td>-0.671324</td>\n      <td>-0.253037</td>\n      <td>-0.000115</td>\n      <td>-0.203232</td>\n      <td>-0.094251</td>\n      <td>-28.567090</td>\n      <td>-0.212137</td>\n      <td>...</td>\n      <td>-2.10805</td>\n      <td>-0.433135</td>\n      <td>-0.626985</td>\n      <td>-0.00909</td>\n      <td>-1.276187</td>\n      <td>-0.185299</td>\n      <td>8.038772</td>\n      <td>123.643495</td>\n      <td>-61790.157098</td>\n      <td>-1.935988</td>\n    </tr>\n    <tr>\n      <th>3</th>\n      <td>-16.08618</td>\n      <td>-0.250188</td>\n      <td>-0.536315</td>\n      <td>-0.671324</td>\n      <td>-0.253037</td>\n      <td>-0.000115</td>\n      <td>-0.203232</td>\n      <td>-0.094251</td>\n      <td>-28.571103</td>\n      <td>-0.212137</td>\n      <td>...</td>\n      <td>-2.10805</td>\n      <td>-0.433135</td>\n      <td>-0.626985</td>\n      <td>-0.00909</td>\n      <td>-1.276187</td>\n      <td>-0.185299</td>\n      <td>-21.961228</td>\n      <td>956.643495</td>\n      <td>-61813.537098</td>\n      <td>6.064012</td>\n    </tr>\n    <tr>\n      <th>4</th>\n      <td>-16.08618</td>\n      <td>6.109812</td>\n      <td>-0.536315</td>\n      <td>-1.671324</td>\n      <td>-0.253037</td>\n      <td>-0.000115</td>\n      <td>-0.203232</td>\n      <td>-0.094251</td>\n      <td>-28.571103</td>\n      <td>-0.212137</td>\n      <td>...</td>\n      <td>-2.10805</td>\n      <td>-0.433135</td>\n      <td>-0.626985</td>\n      <td>-0.00909</td>\n      <td>-1.276187</td>\n      <td>-0.185299</td>\n      <td>-25.961228</td>\n      <td>901.643495</td>\n      <td>-61790.157098</td>\n      <td>-1.935988</td>\n    </tr>\n    <tr>\n      <th>...</th>\n      <td>...</td>\n      <td>...</td>\n      <td>...</td>\n      <td>...</td>\n      <td>...</td>\n      <td>...</td>\n      <td>...</td>\n      <td>...</td>\n      <td>...</td>\n      <td>...</td>\n      <td>...</td>\n      <td>...</td>\n      <td>...</td>\n      <td>...</td>\n      <td>...</td>\n      <td>...</td>\n      <td>...</td>\n      <td>...</td>\n      <td>...</td>\n      <td>...</td>\n      <td>...</td>\n    </tr>\n    <tr>\n      <th>999995</th>\n      <td>-16.08618</td>\n      <td>-0.250188</td>\n      <td>-0.536315</td>\n      <td>-1.671324</td>\n      <td>-0.253037</td>\n      <td>-0.000115</td>\n      <td>-0.203232</td>\n      <td>-0.094251</td>\n      <td>-28.571103</td>\n      <td>-0.212137</td>\n      <td>...</td>\n      <td>-2.10805</td>\n      <td>-0.433135</td>\n      <td>-0.626985</td>\n      <td>-0.00909</td>\n      <td>-1.276187</td>\n      <td>-0.185299</td>\n      <td>-25.961228</td>\n      <td>-35.356505</td>\n      <td>-61790.157098</td>\n      <td>-1.935988</td>\n    </tr>\n    <tr>\n      <th>999996</th>\n      <td>-16.08618</td>\n      <td>-0.250188</td>\n      <td>-0.536315</td>\n      <td>-1.671324</td>\n      <td>-0.253037</td>\n      <td>-0.000115</td>\n      <td>-0.203232</td>\n      <td>-0.094251</td>\n      <td>-28.571103</td>\n      <td>-0.212137</td>\n      <td>...</td>\n      <td>-2.10805</td>\n      <td>-0.433135</td>\n      <td>-0.626985</td>\n      <td>-0.00909</td>\n      <td>-1.276187</td>\n      <td>-0.185299</td>\n      <td>31.038772</td>\n      <td>-11.356505</td>\n      <td>-61790.157098</td>\n      <td>-1.935988</td>\n    </tr>\n    <tr>\n      <th>999997</th>\n      <td>-16.08618</td>\n      <td>-0.250188</td>\n      <td>6.463685</td>\n      <td>3.328676</td>\n      <td>-0.253037</td>\n      <td>-0.000115</td>\n      <td>-0.203232</td>\n      <td>-0.094251</td>\n      <td>-28.571103</td>\n      <td>-0.212137</td>\n      <td>...</td>\n      <td>-2.10805</td>\n      <td>-0.433135</td>\n      <td>-0.626985</td>\n      <td>-0.00909</td>\n      <td>-1.276187</td>\n      <td>-0.185299</td>\n      <td>65.038772</td>\n      <td>-34.356505</td>\n      <td>-61790.157098</td>\n      <td>46.064012</td>\n    </tr>\n    <tr>\n      <th>999998</th>\n      <td>-16.08618</td>\n      <td>-0.250188</td>\n      <td>-0.536315</td>\n      <td>-1.671324</td>\n      <td>-0.253037</td>\n      <td>-0.000115</td>\n      <td>-0.203232</td>\n      <td>-0.094251</td>\n      <td>-28.571103</td>\n      <td>-0.212137</td>\n      <td>...</td>\n      <td>-2.10805</td>\n      <td>-0.433135</td>\n      <td>-0.626985</td>\n      <td>-0.00909</td>\n      <td>-1.276187</td>\n      <td>-0.185299</td>\n      <td>-8.961228</td>\n      <td>-35.356505</td>\n      <td>-61790.157098</td>\n      <td>-1.935988</td>\n    </tr>\n    <tr>\n      <th>999999</th>\n      <td>-16.08618</td>\n      <td>-0.250188</td>\n      <td>-0.536315</td>\n      <td>-1.671324</td>\n      <td>-0.253037</td>\n      <td>-0.000115</td>\n      <td>-0.203232</td>\n      <td>-0.094251</td>\n      <td>-28.571103</td>\n      <td>-0.212137</td>\n      <td>...</td>\n      <td>-2.10805</td>\n      <td>-0.433135</td>\n      <td>-0.626985</td>\n      <td>-0.00909</td>\n      <td>-1.276187</td>\n      <td>-0.185299</td>\n      <td>13.038772</td>\n      <td>-35.356505</td>\n      <td>-61790.157098</td>\n      <td>20.064012</td>\n    </tr>\n  </tbody>\n</table>\n<p>1000000 rows × 250 columns</p>\n</div>"
     },
     "execution_count": 29,
     "metadata": {},
     "output_type": "execute_result"
    }
   ],
   "source": [
    "#Выбираем признаки для обучения\n",
    "f_other.add('buy_time')\n",
    "f_ok = list(f_other | f_numeric)\n",
    "feats = df_features[f_ok]\n",
    "feats"
   ],
   "metadata": {
    "collapsed": false,
    "pycharm": {
     "name": "#%%\n"
    }
   }
  },
  {
   "cell_type": "code",
   "execution_count": 30,
   "outputs": [
    {
     "name": "stdout",
     "output_type": "stream",
     "text": [
      "CPU times: total: 2.86 s\n",
      "Wall time: 2.9 s\n"
     ]
    },
    {
     "data": {
      "text/plain": "             id  vas_id          buy_time_x  target         6        96  \\\n0       1693214       1 2018-09-02 21:00:00       0 -16.08618 -0.250188   \n1       3577737       5 2018-12-23 21:00:00       0 -16.08618 -0.250188   \n2       1232876       2 2018-12-16 21:00:00       0 -16.08618 -0.250188   \n3       1387603       4 2018-09-02 21:00:00       0 -16.08618 -0.250188   \n4       1409615       2 2018-09-16 21:00:00       0 -16.08618 -0.250188   \n...         ...     ...                 ...     ...       ...       ...   \n190791  3173649       2 2018-12-30 21:00:00       0 -16.08618 -0.250188   \n190792  2545695       5 2018-12-30 21:00:00       0 -16.08618 -0.250188   \n190793  3388613       5 2018-12-30 21:00:00       0 -16.08618 -0.250188   \n190794  3897358       2 2018-12-30 21:00:00       0 -16.08618 -0.250188   \n190795  1825525       2 2018-12-30 21:00:00       0 -16.08618 -0.250188   \n\n             158        56       101        95  ...      215       121  \\\n0      -0.536315 -0.671324 -0.253037 -0.000115  ... -2.10805 -0.433135   \n1      -0.536315 -1.671324 -0.253037 -0.000115  ... -2.10805 -0.433135   \n2      -0.536315 -1.671324 -0.253037 -0.000115  ... -2.10805 -0.433135   \n3      -0.536315 -1.671324 -0.253037 -0.000115  ... -2.10805 -0.433135   \n4      -0.536315 -1.671324 -0.253037 -0.000115  ... -2.10805 -0.433135   \n...          ...       ...       ...       ...  ...      ...       ...   \n190791 -0.536315 -1.671324 -0.253037 -0.000115  ... -2.10805 -0.433135   \n190792  0.463685 -1.671324 -0.253037 -0.000115  ... -2.10805 -0.433135   \n190793 -0.536315 -1.671324 -0.253037 -0.000115  ... -2.10805 -0.433135   \n190794 -0.536315 -1.671324 -0.253037 -0.000115  ... -2.10805 -0.433135   \n190795 -0.536315 -1.671324 -0.253037 -0.000115  ... -2.10805 -0.433135   \n\n              90       27       140        93        169         234  \\\n0      -0.626985 -0.00909 -1.276187 -0.185299 -14.961228   11.643495   \n1      -0.626985 -0.00909 -1.276187 -0.185299   8.038772   -2.356505   \n2      -0.626985 -0.00909 -1.276187 -0.185299 -18.961228   60.643495   \n3      -0.626985 -0.00909 -1.276187 -0.185299  31.038772  870.643495   \n4      -0.626985 -0.00909 -1.276187 -0.185299 -16.961228  -35.356505   \n...          ...      ...       ...       ...        ...         ...   \n190791 -0.626985 -0.00909 -1.276187 -0.185299 -17.961228  -35.356505   \n190792 -0.626985 -0.00909 -1.276187 -0.185299  -5.961228  -27.356505   \n190793 -0.626985 -0.00909 -1.276187 -0.185299 -24.961228  -34.356505   \n190794 -0.626985 -0.00909 -1.276187 -0.185299 -11.961228    0.643495   \n190795 -0.626985 -0.00909 -1.276187 -0.185299 -25.961228  -34.356505   \n\n                 211        138  \n0      -61771.833764  -1.935988  \n1      -61790.157098  21.064012  \n2      -61790.157098  -1.935988  \n3      -61794.877098  -1.935988  \n4      -61790.157098  -1.935988  \n...              ...        ...  \n190791 -61790.157098  -1.935988  \n190792 -61790.157098  -1.935988  \n190793 -61790.157098  -1.935988  \n190794 -61790.157098  -1.935988  \n190795 -61790.157098  -1.935988  \n\n[190796 rows x 253 columns]",
      "text/html": "<div>\n<style scoped>\n    .dataframe tbody tr th:only-of-type {\n        vertical-align: middle;\n    }\n\n    .dataframe tbody tr th {\n        vertical-align: top;\n    }\n\n    .dataframe thead th {\n        text-align: right;\n    }\n</style>\n<table border=\"1\" class=\"dataframe\">\n  <thead>\n    <tr style=\"text-align: right;\">\n      <th></th>\n      <th>id</th>\n      <th>vas_id</th>\n      <th>buy_time_x</th>\n      <th>target</th>\n      <th>6</th>\n      <th>96</th>\n      <th>158</th>\n      <th>56</th>\n      <th>101</th>\n      <th>95</th>\n      <th>...</th>\n      <th>215</th>\n      <th>121</th>\n      <th>90</th>\n      <th>27</th>\n      <th>140</th>\n      <th>93</th>\n      <th>169</th>\n      <th>234</th>\n      <th>211</th>\n      <th>138</th>\n    </tr>\n  </thead>\n  <tbody>\n    <tr>\n      <th>0</th>\n      <td>1693214</td>\n      <td>1</td>\n      <td>2018-09-02 21:00:00</td>\n      <td>0</td>\n      <td>-16.08618</td>\n      <td>-0.250188</td>\n      <td>-0.536315</td>\n      <td>-0.671324</td>\n      <td>-0.253037</td>\n      <td>-0.000115</td>\n      <td>...</td>\n      <td>-2.10805</td>\n      <td>-0.433135</td>\n      <td>-0.626985</td>\n      <td>-0.00909</td>\n      <td>-1.276187</td>\n      <td>-0.185299</td>\n      <td>-14.961228</td>\n      <td>11.643495</td>\n      <td>-61771.833764</td>\n      <td>-1.935988</td>\n    </tr>\n    <tr>\n      <th>1</th>\n      <td>3577737</td>\n      <td>5</td>\n      <td>2018-12-23 21:00:00</td>\n      <td>0</td>\n      <td>-16.08618</td>\n      <td>-0.250188</td>\n      <td>-0.536315</td>\n      <td>-1.671324</td>\n      <td>-0.253037</td>\n      <td>-0.000115</td>\n      <td>...</td>\n      <td>-2.10805</td>\n      <td>-0.433135</td>\n      <td>-0.626985</td>\n      <td>-0.00909</td>\n      <td>-1.276187</td>\n      <td>-0.185299</td>\n      <td>8.038772</td>\n      <td>-2.356505</td>\n      <td>-61790.157098</td>\n      <td>21.064012</td>\n    </tr>\n    <tr>\n      <th>2</th>\n      <td>1232876</td>\n      <td>2</td>\n      <td>2018-12-16 21:00:00</td>\n      <td>0</td>\n      <td>-16.08618</td>\n      <td>-0.250188</td>\n      <td>-0.536315</td>\n      <td>-1.671324</td>\n      <td>-0.253037</td>\n      <td>-0.000115</td>\n      <td>...</td>\n      <td>-2.10805</td>\n      <td>-0.433135</td>\n      <td>-0.626985</td>\n      <td>-0.00909</td>\n      <td>-1.276187</td>\n      <td>-0.185299</td>\n      <td>-18.961228</td>\n      <td>60.643495</td>\n      <td>-61790.157098</td>\n      <td>-1.935988</td>\n    </tr>\n    <tr>\n      <th>3</th>\n      <td>1387603</td>\n      <td>4</td>\n      <td>2018-09-02 21:00:00</td>\n      <td>0</td>\n      <td>-16.08618</td>\n      <td>-0.250188</td>\n      <td>-0.536315</td>\n      <td>-1.671324</td>\n      <td>-0.253037</td>\n      <td>-0.000115</td>\n      <td>...</td>\n      <td>-2.10805</td>\n      <td>-0.433135</td>\n      <td>-0.626985</td>\n      <td>-0.00909</td>\n      <td>-1.276187</td>\n      <td>-0.185299</td>\n      <td>31.038772</td>\n      <td>870.643495</td>\n      <td>-61794.877098</td>\n      <td>-1.935988</td>\n    </tr>\n    <tr>\n      <th>4</th>\n      <td>1409615</td>\n      <td>2</td>\n      <td>2018-09-16 21:00:00</td>\n      <td>0</td>\n      <td>-16.08618</td>\n      <td>-0.250188</td>\n      <td>-0.536315</td>\n      <td>-1.671324</td>\n      <td>-0.253037</td>\n      <td>-0.000115</td>\n      <td>...</td>\n      <td>-2.10805</td>\n      <td>-0.433135</td>\n      <td>-0.626985</td>\n      <td>-0.00909</td>\n      <td>-1.276187</td>\n      <td>-0.185299</td>\n      <td>-16.961228</td>\n      <td>-35.356505</td>\n      <td>-61790.157098</td>\n      <td>-1.935988</td>\n    </tr>\n    <tr>\n      <th>...</th>\n      <td>...</td>\n      <td>...</td>\n      <td>...</td>\n      <td>...</td>\n      <td>...</td>\n      <td>...</td>\n      <td>...</td>\n      <td>...</td>\n      <td>...</td>\n      <td>...</td>\n      <td>...</td>\n      <td>...</td>\n      <td>...</td>\n      <td>...</td>\n      <td>...</td>\n      <td>...</td>\n      <td>...</td>\n      <td>...</td>\n      <td>...</td>\n      <td>...</td>\n      <td>...</td>\n    </tr>\n    <tr>\n      <th>190791</th>\n      <td>3173649</td>\n      <td>2</td>\n      <td>2018-12-30 21:00:00</td>\n      <td>0</td>\n      <td>-16.08618</td>\n      <td>-0.250188</td>\n      <td>-0.536315</td>\n      <td>-1.671324</td>\n      <td>-0.253037</td>\n      <td>-0.000115</td>\n      <td>...</td>\n      <td>-2.10805</td>\n      <td>-0.433135</td>\n      <td>-0.626985</td>\n      <td>-0.00909</td>\n      <td>-1.276187</td>\n      <td>-0.185299</td>\n      <td>-17.961228</td>\n      <td>-35.356505</td>\n      <td>-61790.157098</td>\n      <td>-1.935988</td>\n    </tr>\n    <tr>\n      <th>190792</th>\n      <td>2545695</td>\n      <td>5</td>\n      <td>2018-12-30 21:00:00</td>\n      <td>0</td>\n      <td>-16.08618</td>\n      <td>-0.250188</td>\n      <td>0.463685</td>\n      <td>-1.671324</td>\n      <td>-0.253037</td>\n      <td>-0.000115</td>\n      <td>...</td>\n      <td>-2.10805</td>\n      <td>-0.433135</td>\n      <td>-0.626985</td>\n      <td>-0.00909</td>\n      <td>-1.276187</td>\n      <td>-0.185299</td>\n      <td>-5.961228</td>\n      <td>-27.356505</td>\n      <td>-61790.157098</td>\n      <td>-1.935988</td>\n    </tr>\n    <tr>\n      <th>190793</th>\n      <td>3388613</td>\n      <td>5</td>\n      <td>2018-12-30 21:00:00</td>\n      <td>0</td>\n      <td>-16.08618</td>\n      <td>-0.250188</td>\n      <td>-0.536315</td>\n      <td>-1.671324</td>\n      <td>-0.253037</td>\n      <td>-0.000115</td>\n      <td>...</td>\n      <td>-2.10805</td>\n      <td>-0.433135</td>\n      <td>-0.626985</td>\n      <td>-0.00909</td>\n      <td>-1.276187</td>\n      <td>-0.185299</td>\n      <td>-24.961228</td>\n      <td>-34.356505</td>\n      <td>-61790.157098</td>\n      <td>-1.935988</td>\n    </tr>\n    <tr>\n      <th>190794</th>\n      <td>3897358</td>\n      <td>2</td>\n      <td>2018-12-30 21:00:00</td>\n      <td>0</td>\n      <td>-16.08618</td>\n      <td>-0.250188</td>\n      <td>-0.536315</td>\n      <td>-1.671324</td>\n      <td>-0.253037</td>\n      <td>-0.000115</td>\n      <td>...</td>\n      <td>-2.10805</td>\n      <td>-0.433135</td>\n      <td>-0.626985</td>\n      <td>-0.00909</td>\n      <td>-1.276187</td>\n      <td>-0.185299</td>\n      <td>-11.961228</td>\n      <td>0.643495</td>\n      <td>-61790.157098</td>\n      <td>-1.935988</td>\n    </tr>\n    <tr>\n      <th>190795</th>\n      <td>1825525</td>\n      <td>2</td>\n      <td>2018-12-30 21:00:00</td>\n      <td>0</td>\n      <td>-16.08618</td>\n      <td>-0.250188</td>\n      <td>-0.536315</td>\n      <td>-1.671324</td>\n      <td>-0.253037</td>\n      <td>-0.000115</td>\n      <td>...</td>\n      <td>-2.10805</td>\n      <td>-0.433135</td>\n      <td>-0.626985</td>\n      <td>-0.00909</td>\n      <td>-1.276187</td>\n      <td>-0.185299</td>\n      <td>-25.961228</td>\n      <td>-34.356505</td>\n      <td>-61790.157098</td>\n      <td>-1.935988</td>\n    </tr>\n  </tbody>\n</table>\n<p>190796 rows × 253 columns</p>\n</div>"
     },
     "execution_count": 30,
     "metadata": {},
     "output_type": "execute_result"
    }
   ],
   "source": [
    "%%time\n",
    "#Мерджим наш трейн с признаками по id. Даты получится 2 штуки, buy_time услуги и время сбора информации об абоненте. Также планирую добавить еще одну фичу, которая будет отвечать за разницу этого времени. Полагаю что чем значение больше ее будет, тем хуже, т.к информация об абоненте менее актуальна\n",
    "train_feats = df_train.merge(feats, how='inner', on='id')\n",
    "train_feats"
   ],
   "metadata": {
    "collapsed": false,
    "pycharm": {
     "name": "#%%\n"
    }
   }
  },
  {
   "cell_type": "code",
   "execution_count": 31,
   "outputs": [
    {
     "name": "stdout",
     "output_type": "stream",
     "text": [
      "CPU times: total: 15.6 ms\n",
      "Wall time: 8.98 ms\n"
     ]
    },
    {
     "data": {
      "text/plain": "             id  vas_id            buy_time   data_recieve_time  target\n0       1693214       1 2018-09-02 21:00:00 2018-11-25 21:00:00       0\n1       3577737       5 2018-12-23 21:00:00 2018-07-08 21:00:00       0\n2       1232876       2 2018-12-16 21:00:00 2018-07-22 21:00:00       0\n3       1387603       4 2018-09-02 21:00:00 2019-01-20 21:00:00       0\n4       1409615       2 2018-09-16 21:00:00 2018-12-16 21:00:00       0\n...         ...     ...                 ...                 ...     ...\n190791  3173649       2 2018-12-30 21:00:00 2019-01-13 21:00:00       0\n190792  2545695       5 2018-12-30 21:00:00 2018-07-22 21:00:00       0\n190793  3388613       5 2018-12-30 21:00:00 2018-12-16 21:00:00       0\n190794  3897358       2 2018-12-30 21:00:00 2018-12-09 21:00:00       0\n190795  1825525       2 2018-12-30 21:00:00 2018-08-05 21:00:00       0\n\n[190796 rows x 5 columns]",
      "text/html": "<div>\n<style scoped>\n    .dataframe tbody tr th:only-of-type {\n        vertical-align: middle;\n    }\n\n    .dataframe tbody tr th {\n        vertical-align: top;\n    }\n\n    .dataframe thead th {\n        text-align: right;\n    }\n</style>\n<table border=\"1\" class=\"dataframe\">\n  <thead>\n    <tr style=\"text-align: right;\">\n      <th></th>\n      <th>id</th>\n      <th>vas_id</th>\n      <th>buy_time</th>\n      <th>data_recieve_time</th>\n      <th>target</th>\n    </tr>\n  </thead>\n  <tbody>\n    <tr>\n      <th>0</th>\n      <td>1693214</td>\n      <td>1</td>\n      <td>2018-09-02 21:00:00</td>\n      <td>2018-11-25 21:00:00</td>\n      <td>0</td>\n    </tr>\n    <tr>\n      <th>1</th>\n      <td>3577737</td>\n      <td>5</td>\n      <td>2018-12-23 21:00:00</td>\n      <td>2018-07-08 21:00:00</td>\n      <td>0</td>\n    </tr>\n    <tr>\n      <th>2</th>\n      <td>1232876</td>\n      <td>2</td>\n      <td>2018-12-16 21:00:00</td>\n      <td>2018-07-22 21:00:00</td>\n      <td>0</td>\n    </tr>\n    <tr>\n      <th>3</th>\n      <td>1387603</td>\n      <td>4</td>\n      <td>2018-09-02 21:00:00</td>\n      <td>2019-01-20 21:00:00</td>\n      <td>0</td>\n    </tr>\n    <tr>\n      <th>4</th>\n      <td>1409615</td>\n      <td>2</td>\n      <td>2018-09-16 21:00:00</td>\n      <td>2018-12-16 21:00:00</td>\n      <td>0</td>\n    </tr>\n    <tr>\n      <th>...</th>\n      <td>...</td>\n      <td>...</td>\n      <td>...</td>\n      <td>...</td>\n      <td>...</td>\n    </tr>\n    <tr>\n      <th>190791</th>\n      <td>3173649</td>\n      <td>2</td>\n      <td>2018-12-30 21:00:00</td>\n      <td>2019-01-13 21:00:00</td>\n      <td>0</td>\n    </tr>\n    <tr>\n      <th>190792</th>\n      <td>2545695</td>\n      <td>5</td>\n      <td>2018-12-30 21:00:00</td>\n      <td>2018-07-22 21:00:00</td>\n      <td>0</td>\n    </tr>\n    <tr>\n      <th>190793</th>\n      <td>3388613</td>\n      <td>5</td>\n      <td>2018-12-30 21:00:00</td>\n      <td>2018-12-16 21:00:00</td>\n      <td>0</td>\n    </tr>\n    <tr>\n      <th>190794</th>\n      <td>3897358</td>\n      <td>2</td>\n      <td>2018-12-30 21:00:00</td>\n      <td>2018-12-09 21:00:00</td>\n      <td>0</td>\n    </tr>\n    <tr>\n      <th>190795</th>\n      <td>1825525</td>\n      <td>2</td>\n      <td>2018-12-30 21:00:00</td>\n      <td>2018-08-05 21:00:00</td>\n      <td>0</td>\n    </tr>\n  </tbody>\n</table>\n<p>190796 rows × 5 columns</p>\n</div>"
     },
     "execution_count": 31,
     "metadata": {},
     "output_type": "execute_result"
    }
   ],
   "source": [
    "%%time\n",
    "#Преобразование дат и просмотр датасета\n",
    "#train_feats['buy_time_x'] = pd.to_datetime(train_feats['buy_time_x'], unit='s')\n",
    "#train_feats['buy_time_y'] = pd.to_datetime(train_feats['buy_time_y'], unit='s')\n",
    "train_feats.rename(columns={'buy_time_x': 'buy_time', 'buy_time_y': 'data_recieve_time'}, inplace=True)\n",
    "train_feats[['id', 'vas_id', 'buy_time', 'data_recieve_time', 'target']]"
   ],
   "metadata": {
    "collapsed": false,
    "pycharm": {
     "name": "#%%\n"
    }
   }
  },
  {
   "cell_type": "code",
   "execution_count": 32,
   "outputs": [
    {
     "data": {
      "text/plain": "             id  vas_id            buy_time  target         6        96  \\\n0       1693214       1 2018-09-02 21:00:00       0 -16.08618 -0.250188   \n1       3577737       5 2018-12-23 21:00:00       0 -16.08618 -0.250188   \n2       1232876       2 2018-12-16 21:00:00       0 -16.08618 -0.250188   \n3       1387603       4 2018-09-02 21:00:00       0 -16.08618 -0.250188   \n4       1409615       2 2018-09-16 21:00:00       0 -16.08618 -0.250188   \n...         ...     ...                 ...     ...       ...       ...   \n190791  3173649       2 2018-12-30 21:00:00       0 -16.08618 -0.250188   \n190792  2545695       5 2018-12-30 21:00:00       0 -16.08618 -0.250188   \n190793  3388613       5 2018-12-30 21:00:00       0 -16.08618 -0.250188   \n190794  3897358       2 2018-12-30 21:00:00       0 -16.08618 -0.250188   \n190795  1825525       2 2018-12-30 21:00:00       0 -16.08618 -0.250188   \n\n             158        56       101        95  ...      215       121  \\\n0      -0.536315 -0.671324 -0.253037 -0.000115  ... -2.10805 -0.433135   \n1      -0.536315 -1.671324 -0.253037 -0.000115  ... -2.10805 -0.433135   \n2      -0.536315 -1.671324 -0.253037 -0.000115  ... -2.10805 -0.433135   \n3      -0.536315 -1.671324 -0.253037 -0.000115  ... -2.10805 -0.433135   \n4      -0.536315 -1.671324 -0.253037 -0.000115  ... -2.10805 -0.433135   \n...          ...       ...       ...       ...  ...      ...       ...   \n190791 -0.536315 -1.671324 -0.253037 -0.000115  ... -2.10805 -0.433135   \n190792  0.463685 -1.671324 -0.253037 -0.000115  ... -2.10805 -0.433135   \n190793 -0.536315 -1.671324 -0.253037 -0.000115  ... -2.10805 -0.433135   \n190794 -0.536315 -1.671324 -0.253037 -0.000115  ... -2.10805 -0.433135   \n190795 -0.536315 -1.671324 -0.253037 -0.000115  ... -2.10805 -0.433135   \n\n              90       27       140        93        169         234  \\\n0      -0.626985 -0.00909 -1.276187 -0.185299 -14.961228   11.643495   \n1      -0.626985 -0.00909 -1.276187 -0.185299   8.038772   -2.356505   \n2      -0.626985 -0.00909 -1.276187 -0.185299 -18.961228   60.643495   \n3      -0.626985 -0.00909 -1.276187 -0.185299  31.038772  870.643495   \n4      -0.626985 -0.00909 -1.276187 -0.185299 -16.961228  -35.356505   \n...          ...      ...       ...       ...        ...         ...   \n190791 -0.626985 -0.00909 -1.276187 -0.185299 -17.961228  -35.356505   \n190792 -0.626985 -0.00909 -1.276187 -0.185299  -5.961228  -27.356505   \n190793 -0.626985 -0.00909 -1.276187 -0.185299 -24.961228  -34.356505   \n190794 -0.626985 -0.00909 -1.276187 -0.185299 -11.961228    0.643495   \n190795 -0.626985 -0.00909 -1.276187 -0.185299 -25.961228  -34.356505   \n\n                 211        138  \n0      -61771.833764  -1.935988  \n1      -61790.157098  21.064012  \n2      -61790.157098  -1.935988  \n3      -61794.877098  -1.935988  \n4      -61790.157098  -1.935988  \n...              ...        ...  \n190791 -61790.157098  -1.935988  \n190792 -61790.157098  -1.935988  \n190793 -61790.157098  -1.935988  \n190794 -61790.157098  -1.935988  \n190795 -61790.157098  -1.935988  \n\n[190796 rows x 253 columns]",
      "text/html": "<div>\n<style scoped>\n    .dataframe tbody tr th:only-of-type {\n        vertical-align: middle;\n    }\n\n    .dataframe tbody tr th {\n        vertical-align: top;\n    }\n\n    .dataframe thead th {\n        text-align: right;\n    }\n</style>\n<table border=\"1\" class=\"dataframe\">\n  <thead>\n    <tr style=\"text-align: right;\">\n      <th></th>\n      <th>id</th>\n      <th>vas_id</th>\n      <th>buy_time</th>\n      <th>target</th>\n      <th>6</th>\n      <th>96</th>\n      <th>158</th>\n      <th>56</th>\n      <th>101</th>\n      <th>95</th>\n      <th>...</th>\n      <th>215</th>\n      <th>121</th>\n      <th>90</th>\n      <th>27</th>\n      <th>140</th>\n      <th>93</th>\n      <th>169</th>\n      <th>234</th>\n      <th>211</th>\n      <th>138</th>\n    </tr>\n  </thead>\n  <tbody>\n    <tr>\n      <th>0</th>\n      <td>1693214</td>\n      <td>1</td>\n      <td>2018-09-02 21:00:00</td>\n      <td>0</td>\n      <td>-16.08618</td>\n      <td>-0.250188</td>\n      <td>-0.536315</td>\n      <td>-0.671324</td>\n      <td>-0.253037</td>\n      <td>-0.000115</td>\n      <td>...</td>\n      <td>-2.10805</td>\n      <td>-0.433135</td>\n      <td>-0.626985</td>\n      <td>-0.00909</td>\n      <td>-1.276187</td>\n      <td>-0.185299</td>\n      <td>-14.961228</td>\n      <td>11.643495</td>\n      <td>-61771.833764</td>\n      <td>-1.935988</td>\n    </tr>\n    <tr>\n      <th>1</th>\n      <td>3577737</td>\n      <td>5</td>\n      <td>2018-12-23 21:00:00</td>\n      <td>0</td>\n      <td>-16.08618</td>\n      <td>-0.250188</td>\n      <td>-0.536315</td>\n      <td>-1.671324</td>\n      <td>-0.253037</td>\n      <td>-0.000115</td>\n      <td>...</td>\n      <td>-2.10805</td>\n      <td>-0.433135</td>\n      <td>-0.626985</td>\n      <td>-0.00909</td>\n      <td>-1.276187</td>\n      <td>-0.185299</td>\n      <td>8.038772</td>\n      <td>-2.356505</td>\n      <td>-61790.157098</td>\n      <td>21.064012</td>\n    </tr>\n    <tr>\n      <th>2</th>\n      <td>1232876</td>\n      <td>2</td>\n      <td>2018-12-16 21:00:00</td>\n      <td>0</td>\n      <td>-16.08618</td>\n      <td>-0.250188</td>\n      <td>-0.536315</td>\n      <td>-1.671324</td>\n      <td>-0.253037</td>\n      <td>-0.000115</td>\n      <td>...</td>\n      <td>-2.10805</td>\n      <td>-0.433135</td>\n      <td>-0.626985</td>\n      <td>-0.00909</td>\n      <td>-1.276187</td>\n      <td>-0.185299</td>\n      <td>-18.961228</td>\n      <td>60.643495</td>\n      <td>-61790.157098</td>\n      <td>-1.935988</td>\n    </tr>\n    <tr>\n      <th>3</th>\n      <td>1387603</td>\n      <td>4</td>\n      <td>2018-09-02 21:00:00</td>\n      <td>0</td>\n      <td>-16.08618</td>\n      <td>-0.250188</td>\n      <td>-0.536315</td>\n      <td>-1.671324</td>\n      <td>-0.253037</td>\n      <td>-0.000115</td>\n      <td>...</td>\n      <td>-2.10805</td>\n      <td>-0.433135</td>\n      <td>-0.626985</td>\n      <td>-0.00909</td>\n      <td>-1.276187</td>\n      <td>-0.185299</td>\n      <td>31.038772</td>\n      <td>870.643495</td>\n      <td>-61794.877098</td>\n      <td>-1.935988</td>\n    </tr>\n    <tr>\n      <th>4</th>\n      <td>1409615</td>\n      <td>2</td>\n      <td>2018-09-16 21:00:00</td>\n      <td>0</td>\n      <td>-16.08618</td>\n      <td>-0.250188</td>\n      <td>-0.536315</td>\n      <td>-1.671324</td>\n      <td>-0.253037</td>\n      <td>-0.000115</td>\n      <td>...</td>\n      <td>-2.10805</td>\n      <td>-0.433135</td>\n      <td>-0.626985</td>\n      <td>-0.00909</td>\n      <td>-1.276187</td>\n      <td>-0.185299</td>\n      <td>-16.961228</td>\n      <td>-35.356505</td>\n      <td>-61790.157098</td>\n      <td>-1.935988</td>\n    </tr>\n    <tr>\n      <th>...</th>\n      <td>...</td>\n      <td>...</td>\n      <td>...</td>\n      <td>...</td>\n      <td>...</td>\n      <td>...</td>\n      <td>...</td>\n      <td>...</td>\n      <td>...</td>\n      <td>...</td>\n      <td>...</td>\n      <td>...</td>\n      <td>...</td>\n      <td>...</td>\n      <td>...</td>\n      <td>...</td>\n      <td>...</td>\n      <td>...</td>\n      <td>...</td>\n      <td>...</td>\n      <td>...</td>\n    </tr>\n    <tr>\n      <th>190791</th>\n      <td>3173649</td>\n      <td>2</td>\n      <td>2018-12-30 21:00:00</td>\n      <td>0</td>\n      <td>-16.08618</td>\n      <td>-0.250188</td>\n      <td>-0.536315</td>\n      <td>-1.671324</td>\n      <td>-0.253037</td>\n      <td>-0.000115</td>\n      <td>...</td>\n      <td>-2.10805</td>\n      <td>-0.433135</td>\n      <td>-0.626985</td>\n      <td>-0.00909</td>\n      <td>-1.276187</td>\n      <td>-0.185299</td>\n      <td>-17.961228</td>\n      <td>-35.356505</td>\n      <td>-61790.157098</td>\n      <td>-1.935988</td>\n    </tr>\n    <tr>\n      <th>190792</th>\n      <td>2545695</td>\n      <td>5</td>\n      <td>2018-12-30 21:00:00</td>\n      <td>0</td>\n      <td>-16.08618</td>\n      <td>-0.250188</td>\n      <td>0.463685</td>\n      <td>-1.671324</td>\n      <td>-0.253037</td>\n      <td>-0.000115</td>\n      <td>...</td>\n      <td>-2.10805</td>\n      <td>-0.433135</td>\n      <td>-0.626985</td>\n      <td>-0.00909</td>\n      <td>-1.276187</td>\n      <td>-0.185299</td>\n      <td>-5.961228</td>\n      <td>-27.356505</td>\n      <td>-61790.157098</td>\n      <td>-1.935988</td>\n    </tr>\n    <tr>\n      <th>190793</th>\n      <td>3388613</td>\n      <td>5</td>\n      <td>2018-12-30 21:00:00</td>\n      <td>0</td>\n      <td>-16.08618</td>\n      <td>-0.250188</td>\n      <td>-0.536315</td>\n      <td>-1.671324</td>\n      <td>-0.253037</td>\n      <td>-0.000115</td>\n      <td>...</td>\n      <td>-2.10805</td>\n      <td>-0.433135</td>\n      <td>-0.626985</td>\n      <td>-0.00909</td>\n      <td>-1.276187</td>\n      <td>-0.185299</td>\n      <td>-24.961228</td>\n      <td>-34.356505</td>\n      <td>-61790.157098</td>\n      <td>-1.935988</td>\n    </tr>\n    <tr>\n      <th>190794</th>\n      <td>3897358</td>\n      <td>2</td>\n      <td>2018-12-30 21:00:00</td>\n      <td>0</td>\n      <td>-16.08618</td>\n      <td>-0.250188</td>\n      <td>-0.536315</td>\n      <td>-1.671324</td>\n      <td>-0.253037</td>\n      <td>-0.000115</td>\n      <td>...</td>\n      <td>-2.10805</td>\n      <td>-0.433135</td>\n      <td>-0.626985</td>\n      <td>-0.00909</td>\n      <td>-1.276187</td>\n      <td>-0.185299</td>\n      <td>-11.961228</td>\n      <td>0.643495</td>\n      <td>-61790.157098</td>\n      <td>-1.935988</td>\n    </tr>\n    <tr>\n      <th>190795</th>\n      <td>1825525</td>\n      <td>2</td>\n      <td>2018-12-30 21:00:00</td>\n      <td>0</td>\n      <td>-16.08618</td>\n      <td>-0.250188</td>\n      <td>-0.536315</td>\n      <td>-1.671324</td>\n      <td>-0.253037</td>\n      <td>-0.000115</td>\n      <td>...</td>\n      <td>-2.10805</td>\n      <td>-0.433135</td>\n      <td>-0.626985</td>\n      <td>-0.00909</td>\n      <td>-1.276187</td>\n      <td>-0.185299</td>\n      <td>-25.961228</td>\n      <td>-34.356505</td>\n      <td>-61790.157098</td>\n      <td>-1.935988</td>\n    </tr>\n  </tbody>\n</table>\n<p>190796 rows × 253 columns</p>\n</div>"
     },
     "execution_count": 32,
     "metadata": {},
     "output_type": "execute_result"
    }
   ],
   "source": [
    "train_feats"
   ],
   "metadata": {
    "collapsed": false,
    "pycharm": {
     "name": "#%%\n"
    }
   }
  },
  {
   "cell_type": "code",
   "execution_count": 33,
   "outputs": [
    {
     "data": {
      "text/plain": "0"
     },
     "execution_count": 33,
     "metadata": {},
     "output_type": "execute_result"
    }
   ],
   "source": [
    "#Проверка что null отсутствуют. При left join, идут null по всем признакам, а значит эти данные абсолютно бесполезные. Поэтому делаем inner join\n",
    "train_feats['data_recieve_time'].isnull().sum()"
   ],
   "metadata": {
    "collapsed": false,
    "pycharm": {
     "name": "#%%\n"
    }
   }
  },
  {
   "cell_type": "code",
   "execution_count": 34,
   "outputs": [],
   "source": [
    "#Указываем что признак 252, числовой. В будущем будет категория\n",
    "train_feats['252'] = train_feats['252'].astype('int64')"
   ],
   "metadata": {
    "collapsed": false,
    "pycharm": {
     "name": "#%%\n"
    }
   }
  },
  {
   "cell_type": "code",
   "execution_count": 35,
   "outputs": [],
   "source": [
    "#Сохранение полученных датасетов для обучения моделей\n",
    "#train_feats.to_csv('4250k_feats_train.csv')"
   ],
   "metadata": {
    "collapsed": false,
    "pycharm": {
     "name": "#%%\n"
    }
   }
  },
  {
   "cell_type": "markdown",
   "source": [
    "### Итоги 2го этапа.\n",
    "1) Написал функцию по предобработке исходных данных. (Удаление колнки лишней, float_to_int, преобразование из timestamp в datetime)\n",
    "2) Подготовил из 4250000 объектов с признаками (94.5% всех признаков), ~800000 для обучения модели через мердж трейна и признаков по пользователям\n",
    "3) Получили 2 даты по каждому пользователю: одна - дата покупки, вторая - дата сбора информации об абоненте. Необходимо будет сделать 3ю фичу разницу этих дат в днях по модулю, она будет отражать актуальность данных об абоненте\n",
    "\n",
    "###### Дальнейший план работы\n",
    "1) Загрузить данные из заготовленного файла для трейна 4250k_feats_train.zip в нем csv\n",
    "2) Перед созданием последней фичи или после, промерджить данные по id/id+buy_time, в data_train.csv. Необходимо убедиться что тест, никак не меняется по объему данных (количеству объектов или хотя бы в не меньшую сторону)\n",
    "3) Разбить данные на трейн/тест, для измерения метрики. Кросс валидация по ситуации буду думать и по времени, наверное после бейзлайна уже.\n",
    "4) После создания фичи, можно собирать модель/пайплайн и обучать модель. Затем gridsearch/другие модели, но исходные данные будут уже эти точно\n",
    "5) Сохранение результатов и все остальные прикладные вещи"
   ],
   "metadata": {
    "collapsed": false,
    "pycharm": {
     "name": "#%% md\n"
    }
   }
  },
  {
   "cell_type": "code",
   "execution_count": 36,
   "metadata": {
    "pycharm": {
     "name": "#%%\n"
    }
   },
   "outputs": [
    {
     "data": {
      "text/plain": "'\\nclass ColumnSelector(BaseEstimator, TransformerMixin):\\n    def __init__(self, columns):\\n        self.columns = columns\\n\\n    def fit(self, X, y=None):\\n        return self\\n\\n    def transform(self, X):\\n        assert isinstance(X, pd.DataFrame)\\n\\n        try:\\n            return X[self.columns]\\n        except KeyError:\\n            cols_error = list(set(self.columns) - set(X.columns))\\n            raise KeyError(\"DataFrame не содердит следующие колонки: %s\" % cols_error)\\n'"
     },
     "execution_count": 36,
     "metadata": {},
     "output_type": "execute_result"
    }
   ],
   "source": [
    "\"\"\"\n",
    "class ColumnSelector(BaseEstimator, TransformerMixin):\n",
    "    def __init__(self, columns):\n",
    "        self.columns = columns\n",
    "\n",
    "    def fit(self, X, y=None):\n",
    "        return self\n",
    "\n",
    "    def transform(self, X):\n",
    "        assert isinstance(X, pd.DataFrame)\n",
    "\n",
    "        try:\n",
    "            return X[self.columns]\n",
    "        except KeyError:\n",
    "            cols_error = list(set(self.columns) - set(X.columns))\n",
    "            raise KeyError(\"DataFrame не содердит следующие колонки: %s\" % cols_error)\n",
    "\"\"\""
   ]
  }
 ],
 "metadata": {
  "kernelspec": {
   "display_name": "Python 3 (ipykernel)",
   "language": "python",
   "name": "python3"
  },
  "language_info": {
   "codemirror_mode": {
    "name": "ipython",
    "version": 3
   },
   "file_extension": ".py",
   "mimetype": "text/x-python",
   "name": "python",
   "nbconvert_exporter": "python",
   "pygments_lexer": "ipython3",
   "version": "3.10.4"
  }
 },
 "nbformat": 4,
 "nbformat_minor": 1
}