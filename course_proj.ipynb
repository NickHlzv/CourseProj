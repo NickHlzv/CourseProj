{
 "cells": [
  {
   "cell_type": "code",
   "execution_count": 1,
   "metadata": {
    "pycharm": {
     "name": "#%%\n"
    }
   },
   "outputs": [],
   "source": [
    "import numpy as np\n",
    "import pandas as pd\n",
    "import matplotlib.pyplot as plt\n",
    "import dask.dataframe as dd\n",
    "from sklearn.base import BaseEstimator, TransformerMixin\n",
    "from sklearn.pipeline import FeatureUnion, make_pipeline\n",
    "from sklearn.preprocessing import StandardScaler, OneHotEncoder\n",
    "import warnings\n",
    "warnings.filterwarnings('ignore')\n",
    "%matplotlib inline"
   ]
  },
  {
   "cell_type": "code",
   "execution_count": 2,
   "metadata": {
    "pycharm": {
     "name": "#%%\n"
    }
   },
   "outputs": [],
   "source": [
    "#После проведения EDA (блок ниже), написал функцию по предобработке данных для любого датафрейма, тест, трайн или фичи\n",
    "#Сразу удаляем лишнюю колонку, преобразуем дату и переводи в int нужные признаки (например target и vas_id)\n",
    "def prepare_data(data_df, columns_to_int=None):\n",
    "    data_df['buy_time'] = pd.to_datetime(data_df['buy_time'], unit='s')\n",
    "    try:\n",
    "        data_df = data_df.drop(columns='Unnamed: 0')\n",
    "    except KeyError:\n",
    "        pass\n",
    "    if columns_to_int:\n",
    "        try:\n",
    "            data_df[columns_to_int] = data_df[columns_to_int].astype('int64')\n",
    "        except KeyError:\n",
    "            print(\"Column doesn't exist, or isn't numeric type. Unable to convert type to int. Correct key mistakes, and try again\")\n",
    "    return data_df"
   ]
  },
  {
   "cell_type": "markdown",
   "metadata": {
    "pycharm": {
     "name": "#%% md\n"
    }
   },
   "source": [
    "### Загрузка и просмотр датасета"
   ]
  },
  {
   "cell_type": "code",
   "execution_count": 3,
   "metadata": {
    "pycharm": {
     "name": "#%%\n"
    }
   },
   "outputs": [
    {
     "data": {
      "text/plain": "             id  vas_id            buy_time  target\n0        540968       8 2018-09-16 21:00:00       0\n1       1454121       4 2018-07-15 21:00:00       0\n2       2458816       1 2018-08-12 21:00:00       0\n3       3535012       5 2018-09-02 21:00:00       0\n4       1693214       1 2018-09-02 21:00:00       0\n...         ...     ...                 ...     ...\n831648  3812226       2 2018-12-30 21:00:00       0\n831649  2480469       2 2018-12-30 21:00:00       0\n831650   158236       2 2018-12-30 21:00:00       0\n831651  1825525       2 2018-12-30 21:00:00       0\n831652  3022610       2 2018-12-30 21:00:00       0\n\n[831653 rows x 4 columns]",
      "text/html": "<div>\n<style scoped>\n    .dataframe tbody tr th:only-of-type {\n        vertical-align: middle;\n    }\n\n    .dataframe tbody tr th {\n        vertical-align: top;\n    }\n\n    .dataframe thead th {\n        text-align: right;\n    }\n</style>\n<table border=\"1\" class=\"dataframe\">\n  <thead>\n    <tr style=\"text-align: right;\">\n      <th></th>\n      <th>id</th>\n      <th>vas_id</th>\n      <th>buy_time</th>\n      <th>target</th>\n    </tr>\n  </thead>\n  <tbody>\n    <tr>\n      <th>0</th>\n      <td>540968</td>\n      <td>8</td>\n      <td>2018-09-16 21:00:00</td>\n      <td>0</td>\n    </tr>\n    <tr>\n      <th>1</th>\n      <td>1454121</td>\n      <td>4</td>\n      <td>2018-07-15 21:00:00</td>\n      <td>0</td>\n    </tr>\n    <tr>\n      <th>2</th>\n      <td>2458816</td>\n      <td>1</td>\n      <td>2018-08-12 21:00:00</td>\n      <td>0</td>\n    </tr>\n    <tr>\n      <th>3</th>\n      <td>3535012</td>\n      <td>5</td>\n      <td>2018-09-02 21:00:00</td>\n      <td>0</td>\n    </tr>\n    <tr>\n      <th>4</th>\n      <td>1693214</td>\n      <td>1</td>\n      <td>2018-09-02 21:00:00</td>\n      <td>0</td>\n    </tr>\n    <tr>\n      <th>...</th>\n      <td>...</td>\n      <td>...</td>\n      <td>...</td>\n      <td>...</td>\n    </tr>\n    <tr>\n      <th>831648</th>\n      <td>3812226</td>\n      <td>2</td>\n      <td>2018-12-30 21:00:00</td>\n      <td>0</td>\n    </tr>\n    <tr>\n      <th>831649</th>\n      <td>2480469</td>\n      <td>2</td>\n      <td>2018-12-30 21:00:00</td>\n      <td>0</td>\n    </tr>\n    <tr>\n      <th>831650</th>\n      <td>158236</td>\n      <td>2</td>\n      <td>2018-12-30 21:00:00</td>\n      <td>0</td>\n    </tr>\n    <tr>\n      <th>831651</th>\n      <td>1825525</td>\n      <td>2</td>\n      <td>2018-12-30 21:00:00</td>\n      <td>0</td>\n    </tr>\n    <tr>\n      <th>831652</th>\n      <td>3022610</td>\n      <td>2</td>\n      <td>2018-12-30 21:00:00</td>\n      <td>0</td>\n    </tr>\n  </tbody>\n</table>\n<p>831653 rows × 4 columns</p>\n</div>"
     },
     "execution_count": 3,
     "metadata": {},
     "output_type": "execute_result"
    }
   ],
   "source": [
    "#Убираем фиктивные колонки, видимо индексы, преобразуем даты, чтобы увидеть больше информации из имеющихся данных\n",
    "df_train = pd.read_csv('data_train.csv')\n",
    "df_train = prepare_data(df_train, columns_to_int=['vas_id', 'target'])\n",
    "df_test = pd.read_csv('data_test.csv')\n",
    "df_test = prepare_data(df_test, columns_to_int='vas_id')\n",
    "df_train"
   ]
  },
  {
   "cell_type": "code",
   "execution_count": 4,
   "metadata": {
    "pycharm": {
     "name": "#%%\n"
    }
   },
   "outputs": [
    {
     "data": {
      "text/plain": "            id  vas_id            buy_time\n0      3130519       2 2019-01-20 21:00:00\n1      2000860       4 2019-01-20 21:00:00\n2      1099444       2 2019-01-06 21:00:00\n3      1343255       5 2019-01-13 21:00:00\n4      1277040       2 2019-01-06 21:00:00\n...        ...     ...                 ...\n71226  2502453       5 2019-01-20 21:00:00\n71227  1693213       2 2019-01-20 21:00:00\n71228  1891350       2 2019-01-20 21:00:00\n71229  2437172       2 2019-01-20 21:00:00\n71230   988236       2 2019-01-20 21:00:00\n\n[71231 rows x 3 columns]",
      "text/html": "<div>\n<style scoped>\n    .dataframe tbody tr th:only-of-type {\n        vertical-align: middle;\n    }\n\n    .dataframe tbody tr th {\n        vertical-align: top;\n    }\n\n    .dataframe thead th {\n        text-align: right;\n    }\n</style>\n<table border=\"1\" class=\"dataframe\">\n  <thead>\n    <tr style=\"text-align: right;\">\n      <th></th>\n      <th>id</th>\n      <th>vas_id</th>\n      <th>buy_time</th>\n    </tr>\n  </thead>\n  <tbody>\n    <tr>\n      <th>0</th>\n      <td>3130519</td>\n      <td>2</td>\n      <td>2019-01-20 21:00:00</td>\n    </tr>\n    <tr>\n      <th>1</th>\n      <td>2000860</td>\n      <td>4</td>\n      <td>2019-01-20 21:00:00</td>\n    </tr>\n    <tr>\n      <th>2</th>\n      <td>1099444</td>\n      <td>2</td>\n      <td>2019-01-06 21:00:00</td>\n    </tr>\n    <tr>\n      <th>3</th>\n      <td>1343255</td>\n      <td>5</td>\n      <td>2019-01-13 21:00:00</td>\n    </tr>\n    <tr>\n      <th>4</th>\n      <td>1277040</td>\n      <td>2</td>\n      <td>2019-01-06 21:00:00</td>\n    </tr>\n    <tr>\n      <th>...</th>\n      <td>...</td>\n      <td>...</td>\n      <td>...</td>\n    </tr>\n    <tr>\n      <th>71226</th>\n      <td>2502453</td>\n      <td>5</td>\n      <td>2019-01-20 21:00:00</td>\n    </tr>\n    <tr>\n      <th>71227</th>\n      <td>1693213</td>\n      <td>2</td>\n      <td>2019-01-20 21:00:00</td>\n    </tr>\n    <tr>\n      <th>71228</th>\n      <td>1891350</td>\n      <td>2</td>\n      <td>2019-01-20 21:00:00</td>\n    </tr>\n    <tr>\n      <th>71229</th>\n      <td>2437172</td>\n      <td>2</td>\n      <td>2019-01-20 21:00:00</td>\n    </tr>\n    <tr>\n      <th>71230</th>\n      <td>988236</td>\n      <td>2</td>\n      <td>2019-01-20 21:00:00</td>\n    </tr>\n  </tbody>\n</table>\n<p>71231 rows × 3 columns</p>\n</div>"
     },
     "execution_count": 4,
     "metadata": {},
     "output_type": "execute_result"
    }
   ],
   "source": [
    "df_test"
   ]
  },
  {
   "cell_type": "code",
   "execution_count": 5,
   "metadata": {
    "pycharm": {
     "name": "#%%\n"
    }
   },
   "outputs": [
    {
     "name": "stdout",
     "output_type": "stream",
     "text": [
      "CPU times: total: 5min 7s\n",
      "Wall time: 5min 15s\n"
     ]
    },
    {
     "data": {
      "text/plain": "              id            buy_time          0           1           2  \\\n0        2013026 2018-07-15 21:00:00  18.910029   46.980888    4.969214   \n1        2014722 2018-10-14 21:00:00  36.690029  152.400888  448.069214   \n2        2015199 2018-12-23 21:00:00 -67.019971  157.050888  -63.180786   \n3        2021765 2018-08-12 21:00:00   7.010029  150.200888   -6.930786   \n4        2027465 2018-08-05 21:00:00 -90.439971  134.220888 -104.380786   \n...          ...                 ...        ...         ...         ...   \n4512523  3521417 2019-01-20 21:00:00 -96.799971  -29.579112  -94.900786   \n4512524  3521563 2019-01-13 21:00:00  30.530029 -150.929112   16.589214   \n4512525  3521574 2019-01-06 21:00:00 -96.799971 -396.439112 -110.740786   \n4512526  3521640 2019-01-13 21:00:00  38.030029 -152.519112   24.089214   \n4512527  3521702 2019-01-20 21:00:00   9.780029 -145.769112   -4.160786   \n\n                  3           4          5         6          7  ...  \\\n0         -1.386798    3.791754  -14.01179 -16.08618 -65.076097  ...   \n1        563.833202  463.841754  568.99821 -16.08618 -53.216097  ...   \n2        178.103202  -68.598246  156.99821   3.51382  25.183903  ...   \n3        216.213202   76.621754  351.84821 -16.08618 -65.076097  ...   \n4        153.643202 -109.798246  132.53821 -16.08618 -65.076097  ...   \n...             ...         ...        ...       ...        ...  ...   \n4512523  -40.506798 -100.318246  -61.61179 -16.08618 -65.076097  ...   \n4512524  -34.046798   11.171754  -55.15179 -16.08618 -65.076097  ...   \n4512525 -447.776798 -116.158246 -468.88179 -16.08618 -65.076097  ...   \n4512526 -175.956798   18.671754 -197.06179 -16.08618 -65.076097  ...   \n4512527 -198.376798   -9.578246 -219.48179 -16.08618 -65.076097  ...   \n\n                 243          244         245        246           247  \\\n0        -977.373846  -613.770792  -25.996269 -37.630448   -301.747724   \n1        -891.373846  -544.770792  -20.996269  48.369552     80.252276   \n2        -977.373846  -613.770792  -12.996269 -37.630448  10829.252276   \n3        -973.373846  -613.770792  -23.996269 -37.630448   -205.747724   \n4        1643.626154  2007.229208  206.003731 -21.630448   6667.252276   \n...              ...          ...         ...        ...           ...   \n4512523  1133.626154  1497.229208  -25.996269 -36.630448   -126.747724   \n4512524  -680.373846  -316.770792  -25.996269 -35.630448   -296.747724   \n4512525  -977.373846  -613.770792  -25.996269 -37.630448   -306.747724   \n4512526  2242.626154  2528.229208  -25.996269  90.369552    -26.747724   \n4512527  -975.373846  -612.770792  -25.996269 -35.630448   -288.747724   \n\n               248       249        250       251  252  \n0       -25.832889 -0.694428 -12.175933  -0.45614  0.0  \n1       -13.832889 -0.694428  -1.175933  -0.45614  0.0  \n2       -25.832889 -0.694428 -12.175933  -0.45614  0.0  \n3       -24.832889 -0.694428 -11.175933  -0.45614  1.0  \n4        92.167111 -0.694428  49.824067  47.54386  0.0  \n...            ...       ...        ...       ...  ...  \n4512523 -25.832889 -0.694428 -12.175933  -0.45614  0.0  \n4512524 -25.832889 -0.694428 -12.175933  -0.45614  0.0  \n4512525 -25.832889 -0.694428 -12.175933  -0.45614  0.0  \n4512526 -18.832889 -0.694428 -12.175933   0.54386  0.0  \n4512527 -20.832889 -0.694428 -12.175933  -0.45614  0.0  \n\n[4512528 rows x 255 columns]",
      "text/html": "<div>\n<style scoped>\n    .dataframe tbody tr th:only-of-type {\n        vertical-align: middle;\n    }\n\n    .dataframe tbody tr th {\n        vertical-align: top;\n    }\n\n    .dataframe thead th {\n        text-align: right;\n    }\n</style>\n<table border=\"1\" class=\"dataframe\">\n  <thead>\n    <tr style=\"text-align: right;\">\n      <th></th>\n      <th>id</th>\n      <th>buy_time</th>\n      <th>0</th>\n      <th>1</th>\n      <th>2</th>\n      <th>3</th>\n      <th>4</th>\n      <th>5</th>\n      <th>6</th>\n      <th>7</th>\n      <th>...</th>\n      <th>243</th>\n      <th>244</th>\n      <th>245</th>\n      <th>246</th>\n      <th>247</th>\n      <th>248</th>\n      <th>249</th>\n      <th>250</th>\n      <th>251</th>\n      <th>252</th>\n    </tr>\n  </thead>\n  <tbody>\n    <tr>\n      <th>0</th>\n      <td>2013026</td>\n      <td>2018-07-15 21:00:00</td>\n      <td>18.910029</td>\n      <td>46.980888</td>\n      <td>4.969214</td>\n      <td>-1.386798</td>\n      <td>3.791754</td>\n      <td>-14.01179</td>\n      <td>-16.08618</td>\n      <td>-65.076097</td>\n      <td>...</td>\n      <td>-977.373846</td>\n      <td>-613.770792</td>\n      <td>-25.996269</td>\n      <td>-37.630448</td>\n      <td>-301.747724</td>\n      <td>-25.832889</td>\n      <td>-0.694428</td>\n      <td>-12.175933</td>\n      <td>-0.45614</td>\n      <td>0.0</td>\n    </tr>\n    <tr>\n      <th>1</th>\n      <td>2014722</td>\n      <td>2018-10-14 21:00:00</td>\n      <td>36.690029</td>\n      <td>152.400888</td>\n      <td>448.069214</td>\n      <td>563.833202</td>\n      <td>463.841754</td>\n      <td>568.99821</td>\n      <td>-16.08618</td>\n      <td>-53.216097</td>\n      <td>...</td>\n      <td>-891.373846</td>\n      <td>-544.770792</td>\n      <td>-20.996269</td>\n      <td>48.369552</td>\n      <td>80.252276</td>\n      <td>-13.832889</td>\n      <td>-0.694428</td>\n      <td>-1.175933</td>\n      <td>-0.45614</td>\n      <td>0.0</td>\n    </tr>\n    <tr>\n      <th>2</th>\n      <td>2015199</td>\n      <td>2018-12-23 21:00:00</td>\n      <td>-67.019971</td>\n      <td>157.050888</td>\n      <td>-63.180786</td>\n      <td>178.103202</td>\n      <td>-68.598246</td>\n      <td>156.99821</td>\n      <td>3.51382</td>\n      <td>25.183903</td>\n      <td>...</td>\n      <td>-977.373846</td>\n      <td>-613.770792</td>\n      <td>-12.996269</td>\n      <td>-37.630448</td>\n      <td>10829.252276</td>\n      <td>-25.832889</td>\n      <td>-0.694428</td>\n      <td>-12.175933</td>\n      <td>-0.45614</td>\n      <td>0.0</td>\n    </tr>\n    <tr>\n      <th>3</th>\n      <td>2021765</td>\n      <td>2018-08-12 21:00:00</td>\n      <td>7.010029</td>\n      <td>150.200888</td>\n      <td>-6.930786</td>\n      <td>216.213202</td>\n      <td>76.621754</td>\n      <td>351.84821</td>\n      <td>-16.08618</td>\n      <td>-65.076097</td>\n      <td>...</td>\n      <td>-973.373846</td>\n      <td>-613.770792</td>\n      <td>-23.996269</td>\n      <td>-37.630448</td>\n      <td>-205.747724</td>\n      <td>-24.832889</td>\n      <td>-0.694428</td>\n      <td>-11.175933</td>\n      <td>-0.45614</td>\n      <td>1.0</td>\n    </tr>\n    <tr>\n      <th>4</th>\n      <td>2027465</td>\n      <td>2018-08-05 21:00:00</td>\n      <td>-90.439971</td>\n      <td>134.220888</td>\n      <td>-104.380786</td>\n      <td>153.643202</td>\n      <td>-109.798246</td>\n      <td>132.53821</td>\n      <td>-16.08618</td>\n      <td>-65.076097</td>\n      <td>...</td>\n      <td>1643.626154</td>\n      <td>2007.229208</td>\n      <td>206.003731</td>\n      <td>-21.630448</td>\n      <td>6667.252276</td>\n      <td>92.167111</td>\n      <td>-0.694428</td>\n      <td>49.824067</td>\n      <td>47.54386</td>\n      <td>0.0</td>\n    </tr>\n    <tr>\n      <th>...</th>\n      <td>...</td>\n      <td>...</td>\n      <td>...</td>\n      <td>...</td>\n      <td>...</td>\n      <td>...</td>\n      <td>...</td>\n      <td>...</td>\n      <td>...</td>\n      <td>...</td>\n      <td>...</td>\n      <td>...</td>\n      <td>...</td>\n      <td>...</td>\n      <td>...</td>\n      <td>...</td>\n      <td>...</td>\n      <td>...</td>\n      <td>...</td>\n      <td>...</td>\n      <td>...</td>\n    </tr>\n    <tr>\n      <th>4512523</th>\n      <td>3521417</td>\n      <td>2019-01-20 21:00:00</td>\n      <td>-96.799971</td>\n      <td>-29.579112</td>\n      <td>-94.900786</td>\n      <td>-40.506798</td>\n      <td>-100.318246</td>\n      <td>-61.61179</td>\n      <td>-16.08618</td>\n      <td>-65.076097</td>\n      <td>...</td>\n      <td>1133.626154</td>\n      <td>1497.229208</td>\n      <td>-25.996269</td>\n      <td>-36.630448</td>\n      <td>-126.747724</td>\n      <td>-25.832889</td>\n      <td>-0.694428</td>\n      <td>-12.175933</td>\n      <td>-0.45614</td>\n      <td>0.0</td>\n    </tr>\n    <tr>\n      <th>4512524</th>\n      <td>3521563</td>\n      <td>2019-01-13 21:00:00</td>\n      <td>30.530029</td>\n      <td>-150.929112</td>\n      <td>16.589214</td>\n      <td>-34.046798</td>\n      <td>11.171754</td>\n      <td>-55.15179</td>\n      <td>-16.08618</td>\n      <td>-65.076097</td>\n      <td>...</td>\n      <td>-680.373846</td>\n      <td>-316.770792</td>\n      <td>-25.996269</td>\n      <td>-35.630448</td>\n      <td>-296.747724</td>\n      <td>-25.832889</td>\n      <td>-0.694428</td>\n      <td>-12.175933</td>\n      <td>-0.45614</td>\n      <td>0.0</td>\n    </tr>\n    <tr>\n      <th>4512525</th>\n      <td>3521574</td>\n      <td>2019-01-06 21:00:00</td>\n      <td>-96.799971</td>\n      <td>-396.439112</td>\n      <td>-110.740786</td>\n      <td>-447.776798</td>\n      <td>-116.158246</td>\n      <td>-468.88179</td>\n      <td>-16.08618</td>\n      <td>-65.076097</td>\n      <td>...</td>\n      <td>-977.373846</td>\n      <td>-613.770792</td>\n      <td>-25.996269</td>\n      <td>-37.630448</td>\n      <td>-306.747724</td>\n      <td>-25.832889</td>\n      <td>-0.694428</td>\n      <td>-12.175933</td>\n      <td>-0.45614</td>\n      <td>0.0</td>\n    </tr>\n    <tr>\n      <th>4512526</th>\n      <td>3521640</td>\n      <td>2019-01-13 21:00:00</td>\n      <td>38.030029</td>\n      <td>-152.519112</td>\n      <td>24.089214</td>\n      <td>-175.956798</td>\n      <td>18.671754</td>\n      <td>-197.06179</td>\n      <td>-16.08618</td>\n      <td>-65.076097</td>\n      <td>...</td>\n      <td>2242.626154</td>\n      <td>2528.229208</td>\n      <td>-25.996269</td>\n      <td>90.369552</td>\n      <td>-26.747724</td>\n      <td>-18.832889</td>\n      <td>-0.694428</td>\n      <td>-12.175933</td>\n      <td>0.54386</td>\n      <td>0.0</td>\n    </tr>\n    <tr>\n      <th>4512527</th>\n      <td>3521702</td>\n      <td>2019-01-20 21:00:00</td>\n      <td>9.780029</td>\n      <td>-145.769112</td>\n      <td>-4.160786</td>\n      <td>-198.376798</td>\n      <td>-9.578246</td>\n      <td>-219.48179</td>\n      <td>-16.08618</td>\n      <td>-65.076097</td>\n      <td>...</td>\n      <td>-975.373846</td>\n      <td>-612.770792</td>\n      <td>-25.996269</td>\n      <td>-35.630448</td>\n      <td>-288.747724</td>\n      <td>-20.832889</td>\n      <td>-0.694428</td>\n      <td>-12.175933</td>\n      <td>-0.45614</td>\n      <td>0.0</td>\n    </tr>\n  </tbody>\n</table>\n<p>4512528 rows × 255 columns</p>\n</div>"
     },
     "execution_count": 5,
     "metadata": {},
     "output_type": "execute_result"
    }
   ],
   "source": [
    "%%time\n",
    "#Датафрейм очень большой, поэтому решил открывать пандасом только n-первых строк от него.\n",
    "#UPD: Для максимального извлечения данных для обучения на мердж, прогружал 4250000 строк, почти весь датасет, больше в озу не умещается. Из этих данных намерджил 800000 объектов для обучения\n",
    "\n",
    "df_features = pd.read_csv('features.csv.zip', sep='\\t', engine='c', nrows=1000000)\n",
    "#df_features = dd.read_csv('features.csv.zip', sep='\\t')\n",
    "df_features = prepare_data(df_features)\n",
    "df_features"
   ]
  },
  {
   "cell_type": "markdown",
   "metadata": {
    "pycharm": {
     "name": "#%% md\n"
    }
   },
   "source": [
    "### 1. EDA (Explore Data Analysis)"
   ]
  },
  {
   "cell_type": "code",
   "execution_count": 6,
   "metadata": {
    "pycharm": {
     "name": "#%%\n"
    }
   },
   "outputs": [
    {
     "data": {
      "text/plain": "                 id             0             1             2             3  \\\ncount  4.512528e+06  4.512528e+06  4.512528e+06  4.512528e+06  4.512528e+06   \nmean   2.182050e+06  1.510878e-12 -2.088535e-12  1.542841e-12 -1.107521e-12   \nstd    1.259141e+06  2.243294e+02  4.376565e+02  2.391380e+02  5.055830e+02   \nmin    0.000000e+00 -2.482300e+03 -1.594119e+03 -3.058041e+03 -8.200307e+03   \n25%    1.092104e+06 -9.679997e+01 -2.094491e+02 -1.107408e+02 -2.431568e+02   \n50%    2.181854e+06 -8.496997e+01 -6.072911e+01 -8.532079e+01 -7.942680e+01   \n75%    3.273591e+06  1.177003e+01  1.180409e+02  2.737921e+01  1.256532e+02   \nmax    4.362738e+06  2.117307e+05  2.126061e+05  2.117168e+05  2.133577e+05   \n\n                  4             5             6             7             8  \\\ncount  4.512528e+06  4.512528e+06  4.512528e+06  4.512528e+06  4.512528e+06   \nmean  -4.385882e-13 -1.244898e-12 -3.596119e-12  2.141553e-12  3.087186e-13   \nstd    2.548790e+02  5.677062e+02  1.555055e+02  3.191605e+02  1.016246e+02   \nmin   -3.063458e+03 -8.221412e+03 -2.401586e+03 -8.023561e+02 -1.184754e+03   \n25%   -1.161582e+02 -2.602818e+02 -1.608618e+01 -6.507610e+01 -6.783660e+00   \n50%   -8.783825e+01 -9.378179e+01 -1.608618e+01 -6.507610e+01 -6.783660e+00   \n75%    2.912175e+01  1.189582e+02 -1.608618e+01 -5.914610e+01 -6.783660e+00   \nmax    2.120953e+05  2.137205e+05  2.118114e+05  2.125836e+05  1.276018e+05   \n\n       ...           243           244           245           246  \\\ncount  ...  4.512528e+06  4.512528e+06  4.512528e+06  4.512528e+06   \nmean   ... -6.196189e-11 -6.047050e-12  1.866446e-11  2.937272e-12   \nstd    ...  3.209118e+03  2.237688e+03  9.486413e+02  2.983910e+02   \nmin    ... -9.773738e+02 -6.137708e+02 -2.599627e+01 -3.763045e+01   \n25%    ... -9.773738e+02 -6.137708e+02 -2.599627e+01 -3.763045e+01   \n50%    ... -9.593738e+02 -6.137708e+02 -2.599627e+01 -3.763045e+01   \n75%    ... -4.853738e+02 -4.077708e+02 -2.499627e+01 -3.363045e+01   \nmax    ...  2.876716e+05  2.071552e+05  9.801580e+05  5.429037e+04   \n\n                247           248           249           250           251  \\\ncount  4.512528e+06  4.512528e+06  4.512528e+06  4.512528e+06  4.512528e+06   \nmean  -2.192121e-11  3.117508e-12  2.966178e-13 -9.962109e-13 -1.454931e-14   \nstd    1.358662e+03  2.935884e+02  1.473285e+01  1.906053e+02  6.995322e+00   \nmin   -3.067477e+02 -2.583289e+01 -6.944285e-01 -1.217593e+01 -4.561399e-01   \n25%   -3.057477e+02 -2.583289e+01 -6.944285e-01 -1.217593e+01 -4.561399e-01   \n50%   -2.397477e+02 -2.383289e+01 -6.944285e-01 -1.217593e+01 -4.561399e-01   \n75%   -7.774772e+01 -1.083289e+01 -6.944285e-01 -9.175933e+00 -4.561399e-01   \nmax    3.106113e+05  2.053172e+05  1.892331e+04  1.385528e+05  9.489544e+03   \n\n                252  \ncount  4.512528e+06  \nmean   2.559718e-01  \nstd    1.277607e+00  \nmin    0.000000e+00  \n25%    0.000000e+00  \n50%    0.000000e+00  \n75%    1.000000e+00  \nmax    1.743000e+03  \n\n[8 rows x 254 columns]",
      "text/html": "<div>\n<style scoped>\n    .dataframe tbody tr th:only-of-type {\n        vertical-align: middle;\n    }\n\n    .dataframe tbody tr th {\n        vertical-align: top;\n    }\n\n    .dataframe thead th {\n        text-align: right;\n    }\n</style>\n<table border=\"1\" class=\"dataframe\">\n  <thead>\n    <tr style=\"text-align: right;\">\n      <th></th>\n      <th>id</th>\n      <th>0</th>\n      <th>1</th>\n      <th>2</th>\n      <th>3</th>\n      <th>4</th>\n      <th>5</th>\n      <th>6</th>\n      <th>7</th>\n      <th>8</th>\n      <th>...</th>\n      <th>243</th>\n      <th>244</th>\n      <th>245</th>\n      <th>246</th>\n      <th>247</th>\n      <th>248</th>\n      <th>249</th>\n      <th>250</th>\n      <th>251</th>\n      <th>252</th>\n    </tr>\n  </thead>\n  <tbody>\n    <tr>\n      <th>count</th>\n      <td>4.512528e+06</td>\n      <td>4.512528e+06</td>\n      <td>4.512528e+06</td>\n      <td>4.512528e+06</td>\n      <td>4.512528e+06</td>\n      <td>4.512528e+06</td>\n      <td>4.512528e+06</td>\n      <td>4.512528e+06</td>\n      <td>4.512528e+06</td>\n      <td>4.512528e+06</td>\n      <td>...</td>\n      <td>4.512528e+06</td>\n      <td>4.512528e+06</td>\n      <td>4.512528e+06</td>\n      <td>4.512528e+06</td>\n      <td>4.512528e+06</td>\n      <td>4.512528e+06</td>\n      <td>4.512528e+06</td>\n      <td>4.512528e+06</td>\n      <td>4.512528e+06</td>\n      <td>4.512528e+06</td>\n    </tr>\n    <tr>\n      <th>mean</th>\n      <td>2.182050e+06</td>\n      <td>1.510878e-12</td>\n      <td>-2.088535e-12</td>\n      <td>1.542841e-12</td>\n      <td>-1.107521e-12</td>\n      <td>-4.385882e-13</td>\n      <td>-1.244898e-12</td>\n      <td>-3.596119e-12</td>\n      <td>2.141553e-12</td>\n      <td>3.087186e-13</td>\n      <td>...</td>\n      <td>-6.196189e-11</td>\n      <td>-6.047050e-12</td>\n      <td>1.866446e-11</td>\n      <td>2.937272e-12</td>\n      <td>-2.192121e-11</td>\n      <td>3.117508e-12</td>\n      <td>2.966178e-13</td>\n      <td>-9.962109e-13</td>\n      <td>-1.454931e-14</td>\n      <td>2.559718e-01</td>\n    </tr>\n    <tr>\n      <th>std</th>\n      <td>1.259141e+06</td>\n      <td>2.243294e+02</td>\n      <td>4.376565e+02</td>\n      <td>2.391380e+02</td>\n      <td>5.055830e+02</td>\n      <td>2.548790e+02</td>\n      <td>5.677062e+02</td>\n      <td>1.555055e+02</td>\n      <td>3.191605e+02</td>\n      <td>1.016246e+02</td>\n      <td>...</td>\n      <td>3.209118e+03</td>\n      <td>2.237688e+03</td>\n      <td>9.486413e+02</td>\n      <td>2.983910e+02</td>\n      <td>1.358662e+03</td>\n      <td>2.935884e+02</td>\n      <td>1.473285e+01</td>\n      <td>1.906053e+02</td>\n      <td>6.995322e+00</td>\n      <td>1.277607e+00</td>\n    </tr>\n    <tr>\n      <th>min</th>\n      <td>0.000000e+00</td>\n      <td>-2.482300e+03</td>\n      <td>-1.594119e+03</td>\n      <td>-3.058041e+03</td>\n      <td>-8.200307e+03</td>\n      <td>-3.063458e+03</td>\n      <td>-8.221412e+03</td>\n      <td>-2.401586e+03</td>\n      <td>-8.023561e+02</td>\n      <td>-1.184754e+03</td>\n      <td>...</td>\n      <td>-9.773738e+02</td>\n      <td>-6.137708e+02</td>\n      <td>-2.599627e+01</td>\n      <td>-3.763045e+01</td>\n      <td>-3.067477e+02</td>\n      <td>-2.583289e+01</td>\n      <td>-6.944285e-01</td>\n      <td>-1.217593e+01</td>\n      <td>-4.561399e-01</td>\n      <td>0.000000e+00</td>\n    </tr>\n    <tr>\n      <th>25%</th>\n      <td>1.092104e+06</td>\n      <td>-9.679997e+01</td>\n      <td>-2.094491e+02</td>\n      <td>-1.107408e+02</td>\n      <td>-2.431568e+02</td>\n      <td>-1.161582e+02</td>\n      <td>-2.602818e+02</td>\n      <td>-1.608618e+01</td>\n      <td>-6.507610e+01</td>\n      <td>-6.783660e+00</td>\n      <td>...</td>\n      <td>-9.773738e+02</td>\n      <td>-6.137708e+02</td>\n      <td>-2.599627e+01</td>\n      <td>-3.763045e+01</td>\n      <td>-3.057477e+02</td>\n      <td>-2.583289e+01</td>\n      <td>-6.944285e-01</td>\n      <td>-1.217593e+01</td>\n      <td>-4.561399e-01</td>\n      <td>0.000000e+00</td>\n    </tr>\n    <tr>\n      <th>50%</th>\n      <td>2.181854e+06</td>\n      <td>-8.496997e+01</td>\n      <td>-6.072911e+01</td>\n      <td>-8.532079e+01</td>\n      <td>-7.942680e+01</td>\n      <td>-8.783825e+01</td>\n      <td>-9.378179e+01</td>\n      <td>-1.608618e+01</td>\n      <td>-6.507610e+01</td>\n      <td>-6.783660e+00</td>\n      <td>...</td>\n      <td>-9.593738e+02</td>\n      <td>-6.137708e+02</td>\n      <td>-2.599627e+01</td>\n      <td>-3.763045e+01</td>\n      <td>-2.397477e+02</td>\n      <td>-2.383289e+01</td>\n      <td>-6.944285e-01</td>\n      <td>-1.217593e+01</td>\n      <td>-4.561399e-01</td>\n      <td>0.000000e+00</td>\n    </tr>\n    <tr>\n      <th>75%</th>\n      <td>3.273591e+06</td>\n      <td>1.177003e+01</td>\n      <td>1.180409e+02</td>\n      <td>2.737921e+01</td>\n      <td>1.256532e+02</td>\n      <td>2.912175e+01</td>\n      <td>1.189582e+02</td>\n      <td>-1.608618e+01</td>\n      <td>-5.914610e+01</td>\n      <td>-6.783660e+00</td>\n      <td>...</td>\n      <td>-4.853738e+02</td>\n      <td>-4.077708e+02</td>\n      <td>-2.499627e+01</td>\n      <td>-3.363045e+01</td>\n      <td>-7.774772e+01</td>\n      <td>-1.083289e+01</td>\n      <td>-6.944285e-01</td>\n      <td>-9.175933e+00</td>\n      <td>-4.561399e-01</td>\n      <td>1.000000e+00</td>\n    </tr>\n    <tr>\n      <th>max</th>\n      <td>4.362738e+06</td>\n      <td>2.117307e+05</td>\n      <td>2.126061e+05</td>\n      <td>2.117168e+05</td>\n      <td>2.133577e+05</td>\n      <td>2.120953e+05</td>\n      <td>2.137205e+05</td>\n      <td>2.118114e+05</td>\n      <td>2.125836e+05</td>\n      <td>1.276018e+05</td>\n      <td>...</td>\n      <td>2.876716e+05</td>\n      <td>2.071552e+05</td>\n      <td>9.801580e+05</td>\n      <td>5.429037e+04</td>\n      <td>3.106113e+05</td>\n      <td>2.053172e+05</td>\n      <td>1.892331e+04</td>\n      <td>1.385528e+05</td>\n      <td>9.489544e+03</td>\n      <td>1.743000e+03</td>\n    </tr>\n  </tbody>\n</table>\n<p>8 rows × 254 columns</p>\n</div>"
     },
     "execution_count": 6,
     "metadata": {},
     "output_type": "execute_result"
    }
   ],
   "source": [
    "df_features.describe()"
   ]
  },
  {
   "cell_type": "code",
   "execution_count": 7,
   "metadata": {
    "pycharm": {
     "name": "#%%\n"
    }
   },
   "outputs": [
    {
     "data": {
      "text/plain": "75           1\n81           1\n203          1\n139          1\n85           1\n        ...   \n117    2397118\n38     2581560\n207    2632973\n116    2810331\nid     4362739\nLength: 255, dtype: int64"
     },
     "execution_count": 7,
     "metadata": {},
     "output_type": "execute_result"
    }
   ],
   "source": [
    "#Смотрим на число уникальный значений признака. Вероятно если одно значание - признак бесполезен, его можно выбросить\n",
    "df_features.nunique().sort_values()"
   ]
  },
  {
   "cell_type": "code",
   "execution_count": 8,
   "metadata": {
    "pycharm": {
     "name": "#%%\n"
    }
   },
   "outputs": [
    {
     "data": {
      "text/plain": "id          0\nbuy_time    0\n0           0\n1           0\n2           0\n           ..\n248         0\n249         0\n250         0\n251         0\n252         0\nLength: 255, dtype: int64"
     },
     "execution_count": 8,
     "metadata": {},
     "output_type": "execute_result"
    }
   ],
   "source": [
    "#Смотрю Null. Они отсутствуют везде, значит их не нужно обрабатывать\n",
    "df_features.isna().sum()"
   ]
  },
  {
   "cell_type": "code",
   "execution_count": 9,
   "metadata": {
    "pycharm": {
     "name": "#%%\n"
    }
   },
   "outputs": [
    {
     "data": {
      "text/plain": "id          0\nvas_id      0\nbuy_time    0\ntarget      0\ndtype: int64"
     },
     "execution_count": 9,
     "metadata": {},
     "output_type": "execute_result"
    }
   ],
   "source": [
    "df_train.isna().sum()"
   ]
  },
  {
   "cell_type": "code",
   "execution_count": 10,
   "metadata": {
    "pycharm": {
     "name": "#%%\n"
    }
   },
   "outputs": [
    {
     "data": {
      "text/plain": "id          0\nvas_id      0\nbuy_time    0\ndtype: int64"
     },
     "execution_count": 10,
     "metadata": {},
     "output_type": "execute_result"
    }
   ],
   "source": [
    "df_test.isna().sum()"
   ]
  },
  {
   "cell_type": "code",
   "execution_count": 11,
   "metadata": {
    "pycharm": {
     "name": "#%%\n"
    }
   },
   "outputs": [
    {
     "data": {
      "text/plain": "array(['2018-07-15T21:00:00.000000000', '2018-10-14T21:00:00.000000000',\n       '2018-12-23T21:00:00.000000000', '2018-08-12T21:00:00.000000000',\n       '2018-08-05T21:00:00.000000000', '2018-12-16T21:00:00.000000000',\n       '2018-09-23T21:00:00.000000000', '2018-12-09T21:00:00.000000000',\n       '2018-09-09T21:00:00.000000000', '2018-08-26T21:00:00.000000000',\n       '2018-08-19T21:00:00.000000000', '2018-11-18T21:00:00.000000000',\n       '2018-10-28T21:00:00.000000000', '2018-10-21T21:00:00.000000000',\n       '2018-11-04T21:00:00.000000000', '2018-09-16T21:00:00.000000000',\n       '2018-07-08T21:00:00.000000000', '2018-09-30T21:00:00.000000000',\n       '2018-07-22T21:00:00.000000000', '2018-12-30T21:00:00.000000000',\n       '2018-09-02T21:00:00.000000000', '2018-10-07T21:00:00.000000000',\n       '2019-01-13T21:00:00.000000000', '2018-12-02T21:00:00.000000000',\n       '2019-01-20T21:00:00.000000000', '2018-11-11T21:00:00.000000000',\n       '2018-07-29T21:00:00.000000000', '2019-01-06T21:00:00.000000000',\n       '2018-11-25T21:00:00.000000000'], dtype='datetime64[ns]')"
     },
     "execution_count": 11,
     "metadata": {},
     "output_type": "execute_result"
    }
   ],
   "source": [
    "#Смотрю даты\n",
    "df_features['buy_time'].unique()"
   ]
  },
  {
   "cell_type": "code",
   "execution_count": 12,
   "metadata": {
    "pycharm": {
     "name": "#%%\n"
    }
   },
   "outputs": [
    {
     "data": {
      "text/plain": "[numpy.datetime64('2019-01-06T21:00:00.000000000'),\n numpy.datetime64('2019-01-13T21:00:00.000000000'),\n numpy.datetime64('2019-01-20T21:00:00.000000000')]"
     },
     "execution_count": 12,
     "metadata": {},
     "output_type": "execute_result"
    }
   ],
   "source": [
    "#Смотрю время теста, сортируя\n",
    "test_time = sorted(df_test['buy_time'].unique())\n",
    "test_time"
   ]
  },
  {
   "cell_type": "code",
   "execution_count": 13,
   "metadata": {
    "pycharm": {
     "name": "#%%\n"
    }
   },
   "outputs": [
    {
     "data": {
      "text/plain": "[numpy.datetime64('2018-07-08T21:00:00.000000000'),\n numpy.datetime64('2018-07-15T21:00:00.000000000'),\n numpy.datetime64('2018-07-22T21:00:00.000000000'),\n numpy.datetime64('2018-07-29T21:00:00.000000000'),\n numpy.datetime64('2018-08-05T21:00:00.000000000'),\n numpy.datetime64('2018-08-12T21:00:00.000000000'),\n numpy.datetime64('2018-08-19T21:00:00.000000000'),\n numpy.datetime64('2018-08-26T21:00:00.000000000'),\n numpy.datetime64('2018-09-02T21:00:00.000000000'),\n numpy.datetime64('2018-09-09T21:00:00.000000000'),\n numpy.datetime64('2018-09-16T21:00:00.000000000'),\n numpy.datetime64('2018-09-23T21:00:00.000000000'),\n numpy.datetime64('2018-09-30T21:00:00.000000000'),\n numpy.datetime64('2018-10-07T21:00:00.000000000'),\n numpy.datetime64('2018-10-14T21:00:00.000000000'),\n numpy.datetime64('2018-10-21T21:00:00.000000000'),\n numpy.datetime64('2018-10-28T21:00:00.000000000'),\n numpy.datetime64('2018-11-04T21:00:00.000000000'),\n numpy.datetime64('2018-11-11T21:00:00.000000000'),\n numpy.datetime64('2018-11-18T21:00:00.000000000'),\n numpy.datetime64('2018-11-25T21:00:00.000000000'),\n numpy.datetime64('2018-12-02T21:00:00.000000000'),\n numpy.datetime64('2018-12-09T21:00:00.000000000'),\n numpy.datetime64('2018-12-16T21:00:00.000000000'),\n numpy.datetime64('2018-12-23T21:00:00.000000000'),\n numpy.datetime64('2018-12-30T21:00:00.000000000')]"
     },
     "execution_count": 13,
     "metadata": {},
     "output_type": "execute_result"
    }
   ],
   "source": [
    "#Смотрю время трейна, сортируя\n",
    "#Видно что на трейн, уходит 6 месяцев, а на тест один. Также видно что даты в трейн/тест и у фичей совершенно одинаковые. Это значит что можно мержить фичи в трейн/тест по паре id + дата, т.к пара id и дата полностью описывают параметры пользователей\n",
    "train_time = sorted(df_train['buy_time'].unique())\n",
    "train_time"
   ]
  },
  {
   "cell_type": "code",
   "execution_count": 14,
   "metadata": {
    "pycharm": {
     "name": "#%%\n"
    }
   },
   "outputs": [
    {
     "data": {
      "text/plain": "[numpy.datetime64('2018-07-08T21:00:00.000000000'),\n numpy.datetime64('2018-07-15T21:00:00.000000000'),\n numpy.datetime64('2018-07-22T21:00:00.000000000'),\n numpy.datetime64('2018-07-29T21:00:00.000000000'),\n numpy.datetime64('2018-08-05T21:00:00.000000000'),\n numpy.datetime64('2018-08-12T21:00:00.000000000'),\n numpy.datetime64('2018-08-19T21:00:00.000000000'),\n numpy.datetime64('2018-08-26T21:00:00.000000000'),\n numpy.datetime64('2018-09-02T21:00:00.000000000'),\n numpy.datetime64('2018-09-09T21:00:00.000000000'),\n numpy.datetime64('2018-09-16T21:00:00.000000000'),\n numpy.datetime64('2018-09-23T21:00:00.000000000'),\n numpy.datetime64('2018-09-30T21:00:00.000000000'),\n numpy.datetime64('2018-10-07T21:00:00.000000000'),\n numpy.datetime64('2018-10-14T21:00:00.000000000'),\n numpy.datetime64('2018-10-21T21:00:00.000000000'),\n numpy.datetime64('2018-10-28T21:00:00.000000000'),\n numpy.datetime64('2018-11-04T21:00:00.000000000'),\n numpy.datetime64('2018-11-11T21:00:00.000000000'),\n numpy.datetime64('2018-11-18T21:00:00.000000000'),\n numpy.datetime64('2018-11-25T21:00:00.000000000'),\n numpy.datetime64('2018-12-02T21:00:00.000000000'),\n numpy.datetime64('2018-12-09T21:00:00.000000000'),\n numpy.datetime64('2018-12-16T21:00:00.000000000'),\n numpy.datetime64('2018-12-23T21:00:00.000000000'),\n numpy.datetime64('2018-12-30T21:00:00.000000000'),\n numpy.datetime64('2019-01-06T21:00:00.000000000'),\n numpy.datetime64('2019-01-13T21:00:00.000000000'),\n numpy.datetime64('2019-01-20T21:00:00.000000000')]"
     },
     "execution_count": 14,
     "metadata": {},
     "output_type": "execute_result"
    }
   ],
   "source": [
    "feature_time = sorted(df_features['buy_time'].unique())\n",
    "feature_time"
   ]
  },
  {
   "cell_type": "code",
   "execution_count": 15,
   "metadata": {
    "pycharm": {
     "name": "#%%\n"
    }
   },
   "outputs": [
    {
     "data": {
      "text/plain": "array([8, 4, 1, 5, 2, 7, 6, 9], dtype=int64)"
     },
     "execution_count": 15,
     "metadata": {},
     "output_type": "execute_result"
    }
   ],
   "source": [
    "df_train['vas_id'].unique()"
   ]
  },
  {
   "cell_type": "code",
   "execution_count": 16,
   "metadata": {
    "pycharm": {
     "name": "#%%\n"
    }
   },
   "outputs": [
    {
     "data": {
      "text/plain": "array([2, 4, 5, 6, 1, 7, 8, 9], dtype=int64)"
     },
     "execution_count": 16,
     "metadata": {},
     "output_type": "execute_result"
    }
   ],
   "source": [
    "#Видно что услуг всего 9, их надо преобразовать в int\n",
    "df_test['vas_id'].unique()"
   ]
  },
  {
   "cell_type": "code",
   "execution_count": 17,
   "metadata": {
    "pycharm": {
     "name": "#%%\n"
    }
   },
   "outputs": [
    {
     "data": {
      "text/plain": "             id  vas_id            buy_time\n0        540968       8 2018-09-16 21:00:00\n1       1454121       4 2018-07-15 21:00:00\n2       2458816       1 2018-08-12 21:00:00\n3       3535012       5 2018-09-02 21:00:00\n4       1693214       1 2018-09-02 21:00:00\n...         ...     ...                 ...\n831648  3812226       2 2018-12-30 21:00:00\n831649  2480469       2 2018-12-30 21:00:00\n831650   158236       2 2018-12-30 21:00:00\n831651  1825525       2 2018-12-30 21:00:00\n831652  3022610       2 2018-12-30 21:00:00\n\n[831653 rows x 3 columns]",
      "text/html": "<div>\n<style scoped>\n    .dataframe tbody tr th:only-of-type {\n        vertical-align: middle;\n    }\n\n    .dataframe tbody tr th {\n        vertical-align: top;\n    }\n\n    .dataframe thead th {\n        text-align: right;\n    }\n</style>\n<table border=\"1\" class=\"dataframe\">\n  <thead>\n    <tr style=\"text-align: right;\">\n      <th></th>\n      <th>id</th>\n      <th>vas_id</th>\n      <th>buy_time</th>\n    </tr>\n  </thead>\n  <tbody>\n    <tr>\n      <th>0</th>\n      <td>540968</td>\n      <td>8</td>\n      <td>2018-09-16 21:00:00</td>\n    </tr>\n    <tr>\n      <th>1</th>\n      <td>1454121</td>\n      <td>4</td>\n      <td>2018-07-15 21:00:00</td>\n    </tr>\n    <tr>\n      <th>2</th>\n      <td>2458816</td>\n      <td>1</td>\n      <td>2018-08-12 21:00:00</td>\n    </tr>\n    <tr>\n      <th>3</th>\n      <td>3535012</td>\n      <td>5</td>\n      <td>2018-09-02 21:00:00</td>\n    </tr>\n    <tr>\n      <th>4</th>\n      <td>1693214</td>\n      <td>1</td>\n      <td>2018-09-02 21:00:00</td>\n    </tr>\n    <tr>\n      <th>...</th>\n      <td>...</td>\n      <td>...</td>\n      <td>...</td>\n    </tr>\n    <tr>\n      <th>831648</th>\n      <td>3812226</td>\n      <td>2</td>\n      <td>2018-12-30 21:00:00</td>\n    </tr>\n    <tr>\n      <th>831649</th>\n      <td>2480469</td>\n      <td>2</td>\n      <td>2018-12-30 21:00:00</td>\n    </tr>\n    <tr>\n      <th>831650</th>\n      <td>158236</td>\n      <td>2</td>\n      <td>2018-12-30 21:00:00</td>\n    </tr>\n    <tr>\n      <th>831651</th>\n      <td>1825525</td>\n      <td>2</td>\n      <td>2018-12-30 21:00:00</td>\n    </tr>\n    <tr>\n      <th>831652</th>\n      <td>3022610</td>\n      <td>2</td>\n      <td>2018-12-30 21:00:00</td>\n    </tr>\n  </tbody>\n</table>\n<p>831653 rows × 3 columns</p>\n</div>"
     },
     "execution_count": 17,
     "metadata": {},
     "output_type": "execute_result"
    }
   ],
   "source": [
    "#Просмотр баланса классов на тесте\n",
    "feats = df_train.drop(columns='target')\n",
    "target = df_train['target']\n",
    "feats"
   ]
  },
  {
   "cell_type": "code",
   "execution_count": 18,
   "metadata": {
    "pycharm": {
     "name": "#%%\n"
    }
   },
   "outputs": [
    {
     "data": {
      "text/plain": "0         0\n1         0\n2         0\n3         0\n4         0\n         ..\n831648    0\n831649    0\n831650    0\n831651    0\n831652    0\nName: target, Length: 831653, dtype: int64"
     },
     "execution_count": 18,
     "metadata": {},
     "output_type": "execute_result"
    }
   ],
   "source": [
    "target"
   ]
  },
  {
   "cell_type": "code",
   "execution_count": 19,
   "metadata": {
    "pycharm": {
     "name": "#%%\n"
    }
   },
   "outputs": [
    {
     "data": {
      "text/plain": "0    0.927631\n1    0.072369\nName: target, dtype: float64"
     },
     "execution_count": 19,
     "metadata": {},
     "output_type": "execute_result"
    },
    {
     "data": {
      "text/plain": "<Figure size 432x288 with 1 Axes>",
      "image/png": "[encoded data removed]"
     },
     "metadata": {
      "needs_background": "light"
     },
     "output_type": "display_data"
    }
   ],
   "source": [
    "#Очень сильный дизбаланс классов. Возможно во время обучения нужно использовать деревья или мощные ансамбли (LightGBM или CatBoost?)\n",
    "(target.value_counts()/target.shape[0]).plot(kind='bar', title='Распределение целевой переменной')\n",
    "target.value_counts()/target.shape"
   ]
  },
  {
   "cell_type": "code",
   "execution_count": 20,
   "metadata": {
    "pycharm": {
     "name": "#%%\n"
    }
   },
   "outputs": [
    {
     "ename": "MemoryError",
     "evalue": "Unable to allocate 8.51 GiB for an array with shape (253, 4512528) and data type float64",
     "output_type": "error",
     "traceback": [
      "\u001B[1;31m---------------------------------------------------------------------------\u001B[0m",
      "\u001B[1;31mMemoryError\u001B[0m                               Traceback (most recent call last)",
      "File \u001B[1;32m<timed exec>:3\u001B[0m, in \u001B[0;36m<module>\u001B[1;34m\u001B[0m\n",
      "File \u001B[1;32m~\\.conda\\envs\\CourseProj\\lib\\site-packages\\pandas\\util\\_decorators.py:311\u001B[0m, in \u001B[0;36mdeprecate_nonkeyword_arguments.<locals>.decorate.<locals>.wrapper\u001B[1;34m(*args, **kwargs)\u001B[0m\n\u001B[0;32m    305\u001B[0m \u001B[38;5;28;01mif\u001B[39;00m \u001B[38;5;28mlen\u001B[39m(args) \u001B[38;5;241m>\u001B[39m num_allow_args:\n\u001B[0;32m    306\u001B[0m     warnings\u001B[38;5;241m.\u001B[39mwarn(\n\u001B[0;32m    307\u001B[0m         msg\u001B[38;5;241m.\u001B[39mformat(arguments\u001B[38;5;241m=\u001B[39marguments),\n\u001B[0;32m    308\u001B[0m         \u001B[38;5;167;01mFutureWarning\u001B[39;00m,\n\u001B[0;32m    309\u001B[0m         stacklevel\u001B[38;5;241m=\u001B[39mstacklevel,\n\u001B[0;32m    310\u001B[0m     )\n\u001B[1;32m--> 311\u001B[0m \u001B[38;5;28;01mreturn\u001B[39;00m func(\u001B[38;5;241m*\u001B[39margs, \u001B[38;5;241m*\u001B[39m\u001B[38;5;241m*\u001B[39mkwargs)\n",
      "File \u001B[1;32m~\\.conda\\envs\\CourseProj\\lib\\site-packages\\pandas\\core\\frame.py:5499\u001B[0m, in \u001B[0;36mDataFrame.set_index\u001B[1;34m(self, keys, drop, append, inplace, verify_integrity)\u001B[0m\n\u001B[0;32m   5497\u001B[0m     frame \u001B[38;5;241m=\u001B[39m \u001B[38;5;28mself\u001B[39m\n\u001B[0;32m   5498\u001B[0m \u001B[38;5;28;01melse\u001B[39;00m:\n\u001B[1;32m-> 5499\u001B[0m     frame \u001B[38;5;241m=\u001B[39m \u001B[38;5;28;43mself\u001B[39;49m\u001B[38;5;241;43m.\u001B[39;49m\u001B[43mcopy\u001B[49m\u001B[43m(\u001B[49m\u001B[43m)\u001B[49m\n\u001B[0;32m   5501\u001B[0m arrays \u001B[38;5;241m=\u001B[39m []\n\u001B[0;32m   5502\u001B[0m names: \u001B[38;5;28mlist\u001B[39m[Hashable] \u001B[38;5;241m=\u001B[39m []\n",
      "File \u001B[1;32m~\\.conda\\envs\\CourseProj\\lib\\site-packages\\pandas\\core\\generic.py:6032\u001B[0m, in \u001B[0;36mNDFrame.copy\u001B[1;34m(self, deep)\u001B[0m\n\u001B[0;32m   5926\u001B[0m \u001B[38;5;129m@final\u001B[39m\n\u001B[0;32m   5927\u001B[0m \u001B[38;5;28;01mdef\u001B[39;00m \u001B[38;5;21mcopy\u001B[39m(\u001B[38;5;28mself\u001B[39m: NDFrameT, deep: bool_t \u001B[38;5;241m=\u001B[39m \u001B[38;5;28;01mTrue\u001B[39;00m) \u001B[38;5;241m-\u001B[39m\u001B[38;5;241m>\u001B[39m NDFrameT:\n\u001B[0;32m   5928\u001B[0m     \u001B[38;5;124;03m\"\"\"\u001B[39;00m\n\u001B[0;32m   5929\u001B[0m \u001B[38;5;124;03m    Make a copy of this object's indices and data.\u001B[39;00m\n\u001B[0;32m   5930\u001B[0m \n\u001B[1;32m   (...)\u001B[0m\n\u001B[0;32m   6030\u001B[0m \u001B[38;5;124;03m    dtype: object\u001B[39;00m\n\u001B[0;32m   6031\u001B[0m \u001B[38;5;124;03m    \"\"\"\u001B[39;00m\n\u001B[1;32m-> 6032\u001B[0m     data \u001B[38;5;241m=\u001B[39m \u001B[38;5;28;43mself\u001B[39;49m\u001B[38;5;241;43m.\u001B[39;49m\u001B[43m_mgr\u001B[49m\u001B[38;5;241;43m.\u001B[39;49m\u001B[43mcopy\u001B[49m\u001B[43m(\u001B[49m\u001B[43mdeep\u001B[49m\u001B[38;5;241;43m=\u001B[39;49m\u001B[43mdeep\u001B[49m\u001B[43m)\u001B[49m\n\u001B[0;32m   6033\u001B[0m     \u001B[38;5;28mself\u001B[39m\u001B[38;5;241m.\u001B[39m_clear_item_cache()\n\u001B[0;32m   6034\u001B[0m     \u001B[38;5;28;01mreturn\u001B[39;00m \u001B[38;5;28mself\u001B[39m\u001B[38;5;241m.\u001B[39m_constructor(data)\u001B[38;5;241m.\u001B[39m__finalize__(\u001B[38;5;28mself\u001B[39m, method\u001B[38;5;241m=\u001B[39m\u001B[38;5;124m\"\u001B[39m\u001B[38;5;124mcopy\u001B[39m\u001B[38;5;124m\"\u001B[39m)\n",
      "File \u001B[1;32m~\\.conda\\envs\\CourseProj\\lib\\site-packages\\pandas\\core\\internals\\managers.py:603\u001B[0m, in \u001B[0;36mBaseBlockManager.copy\u001B[1;34m(self, deep)\u001B[0m\n\u001B[0;32m    600\u001B[0m \u001B[38;5;28;01melse\u001B[39;00m:\n\u001B[0;32m    601\u001B[0m     new_axes \u001B[38;5;241m=\u001B[39m \u001B[38;5;28mlist\u001B[39m(\u001B[38;5;28mself\u001B[39m\u001B[38;5;241m.\u001B[39maxes)\n\u001B[1;32m--> 603\u001B[0m res \u001B[38;5;241m=\u001B[39m \u001B[38;5;28;43mself\u001B[39;49m\u001B[38;5;241;43m.\u001B[39;49m\u001B[43mapply\u001B[49m\u001B[43m(\u001B[49m\u001B[38;5;124;43m\"\u001B[39;49m\u001B[38;5;124;43mcopy\u001B[39;49m\u001B[38;5;124;43m\"\u001B[39;49m\u001B[43m,\u001B[49m\u001B[43m \u001B[49m\u001B[43mdeep\u001B[49m\u001B[38;5;241;43m=\u001B[39;49m\u001B[43mdeep\u001B[49m\u001B[43m)\u001B[49m\n\u001B[0;32m    605\u001B[0m res\u001B[38;5;241m.\u001B[39maxes \u001B[38;5;241m=\u001B[39m new_axes\n\u001B[0;32m    607\u001B[0m \u001B[38;5;28;01mif\u001B[39;00m \u001B[38;5;28mself\u001B[39m\u001B[38;5;241m.\u001B[39mndim \u001B[38;5;241m>\u001B[39m \u001B[38;5;241m1\u001B[39m:\n\u001B[0;32m    608\u001B[0m     \u001B[38;5;66;03m# Avoid needing to re-compute these\u001B[39;00m\n",
      "File \u001B[1;32m~\\.conda\\envs\\CourseProj\\lib\\site-packages\\pandas\\core\\internals\\managers.py:304\u001B[0m, in \u001B[0;36mBaseBlockManager.apply\u001B[1;34m(self, f, align_keys, ignore_failures, **kwargs)\u001B[0m\n\u001B[0;32m    302\u001B[0m         applied \u001B[38;5;241m=\u001B[39m b\u001B[38;5;241m.\u001B[39mapply(f, \u001B[38;5;241m*\u001B[39m\u001B[38;5;241m*\u001B[39mkwargs)\n\u001B[0;32m    303\u001B[0m     \u001B[38;5;28;01melse\u001B[39;00m:\n\u001B[1;32m--> 304\u001B[0m         applied \u001B[38;5;241m=\u001B[39m \u001B[38;5;28mgetattr\u001B[39m(b, f)(\u001B[38;5;241m*\u001B[39m\u001B[38;5;241m*\u001B[39mkwargs)\n\u001B[0;32m    305\u001B[0m \u001B[38;5;28;01mexcept\u001B[39;00m (\u001B[38;5;167;01mTypeError\u001B[39;00m, \u001B[38;5;167;01mNotImplementedError\u001B[39;00m):\n\u001B[0;32m    306\u001B[0m     \u001B[38;5;28;01mif\u001B[39;00m \u001B[38;5;129;01mnot\u001B[39;00m ignore_failures:\n",
      "File \u001B[1;32m~\\.conda\\envs\\CourseProj\\lib\\site-packages\\pandas\\core\\internals\\blocks.py:643\u001B[0m, in \u001B[0;36mBlock.copy\u001B[1;34m(self, deep)\u001B[0m\n\u001B[0;32m    641\u001B[0m values \u001B[38;5;241m=\u001B[39m \u001B[38;5;28mself\u001B[39m\u001B[38;5;241m.\u001B[39mvalues\n\u001B[0;32m    642\u001B[0m \u001B[38;5;28;01mif\u001B[39;00m deep:\n\u001B[1;32m--> 643\u001B[0m     values \u001B[38;5;241m=\u001B[39m \u001B[43mvalues\u001B[49m\u001B[38;5;241;43m.\u001B[39;49m\u001B[43mcopy\u001B[49m\u001B[43m(\u001B[49m\u001B[43m)\u001B[49m\n\u001B[0;32m    644\u001B[0m \u001B[38;5;28;01mreturn\u001B[39;00m \u001B[38;5;28mtype\u001B[39m(\u001B[38;5;28mself\u001B[39m)(values, placement\u001B[38;5;241m=\u001B[39m\u001B[38;5;28mself\u001B[39m\u001B[38;5;241m.\u001B[39m_mgr_locs, ndim\u001B[38;5;241m=\u001B[39m\u001B[38;5;28mself\u001B[39m\u001B[38;5;241m.\u001B[39mndim)\n",
      "\u001B[1;31mMemoryError\u001B[0m: Unable to allocate 8.51 GiB for an array with shape (253, 4512528) and data type float64"
     ]
    }
   ],
   "source": [
    "%%time\n",
    "#Исследвание фичей\n",
    "features_copy = df_features.copy()\n",
    "features_copy.set_index('id')\n",
    "features_copy.drop(columns=['buy_time'], inplace=True)\n",
    "feature_nunique = features_copy.apply(lambda x: x.nunique(dropna=False))\n",
    "feature_nunique.shape"
   ]
  },
  {
   "cell_type": "code",
   "execution_count": 21,
   "metadata": {
    "pycharm": {
     "name": "#%%\n"
    }
   },
   "outputs": [
    {
     "ename": "NameError",
     "evalue": "name 'feature_nunique' is not defined",
     "output_type": "error",
     "traceback": [
      "\u001B[1;31m---------------------------------------------------------------------------\u001B[0m",
      "\u001B[1;31mNameError\u001B[0m                                 Traceback (most recent call last)",
      "Input \u001B[1;32mIn [21]\u001B[0m, in \u001B[0;36m<cell line: 3>\u001B[1;34m()\u001B[0m\n\u001B[0;32m      1\u001B[0m \u001B[38;5;66;03m#Распределение значений\u001B[39;00m\n\u001B[0;32m      2\u001B[0m plt\u001B[38;5;241m.\u001B[39mtitle(\u001B[38;5;124m\"\u001B[39m\u001B[38;5;124mРаспределение уникальных значений признаков\u001B[39m\u001B[38;5;124m\"\u001B[39m)\n\u001B[1;32m----> 3\u001B[0m \u001B[43mfeature_nunique\u001B[49m\u001B[38;5;241m.\u001B[39mhist(bins\u001B[38;5;241m=\u001B[39m\u001B[38;5;241m75\u001B[39m,figsize\u001B[38;5;241m=\u001B[39m(\u001B[38;5;241m10\u001B[39m, \u001B[38;5;241m5\u001B[39m))\n",
      "\u001B[1;31mNameError\u001B[0m: name 'feature_nunique' is not defined"
     ]
    },
    {
     "data": {
      "text/plain": "<Figure size 432x288 with 1 Axes>",
      "image/png": "[encoded data removed]"
     },
     "metadata": {
      "needs_background": "light"
     },
     "output_type": "display_data"
    }
   ],
   "source": [
    "#Распределение значений\n",
    "plt.title(\"Распределение уникальных значений признаков\")\n",
    "feature_nunique.hist(bins=75,figsize=(10, 5));"
   ]
  },
  {
   "cell_type": "code",
   "execution_count": null,
   "metadata": {
    "pycharm": {
     "name": "#%%\n"
    }
   },
   "outputs": [],
   "source": [
    "#Все признаки\n",
    "f_all = set(feature_nunique.index.tolist())\n",
    "len(f_all)"
   ]
  },
  {
   "cell_type": "code",
   "execution_count": null,
   "metadata": {
    "pycharm": {
     "name": "#%%\n"
    }
   },
   "outputs": [],
   "source": [
    "#Константные признаки, подлежат удалению (неиспользованию в обучении модели)\n",
    "f_const = set(feature_nunique[feature_nunique == 1].index.tolist())\n",
    "len(f_const)"
   ]
  },
  {
   "cell_type": "code",
   "execution_count": null,
   "metadata": {
    "pycharm": {
     "name": "#%%\n"
    }
   },
   "outputs": [],
   "source": [
    "f_const"
   ]
  },
  {
   "cell_type": "code",
   "execution_count": null,
   "metadata": {
    "pycharm": {
     "name": "#%%\n"
    }
   },
   "outputs": [],
   "source": [
    "%%time\n",
    "#Вещественные признаки\n",
    "f_numeric = (features_copy.fillna(0).astype(int).sum() - features_copy.fillna(0).sum()).abs()\n",
    "f_numeric = set(f_numeric[f_numeric > 0].index.tolist())\n",
    "len(f_numeric)"
   ]
  },
  {
   "cell_type": "code",
   "execution_count": null,
   "metadata": {
    "pycharm": {
     "name": "#%%\n"
    }
   },
   "outputs": [],
   "source": [
    "f_other = f_all - (f_numeric | f_const)\n",
    "len(f_other)"
   ]
  },
  {
   "cell_type": "code",
   "execution_count": null,
   "metadata": {
    "pycharm": {
     "name": "#%%\n"
    }
   },
   "outputs": [],
   "source": [
    "#Остается 2 признака, id это понятно и 2ой скорее всего бинарный, посмотрим на него\n",
    "f_other"
   ]
  },
  {
   "cell_type": "code",
   "execution_count": null,
   "metadata": {
    "pycharm": {
     "name": "#%%\n"
    }
   },
   "outputs": [],
   "source": [
    "#Видно что целочисленный, можно кидать в предобработку его на целое число, не категория определенно\n",
    "features_copy['252'].nunique()"
   ]
  },
  {
   "cell_type": "markdown",
   "metadata": {
    "pycharm": {
     "name": "#%% md\n"
    }
   },
   "source": [
    "### Итоги EDA, выводы\n",
    "1. Отсутствуют Null, id уникальны можно поставить индексом в датафреймах\n",
    "2. Признаки с разными уникальными значениями, там где одно уникальное значение - их можно удалить, они не несут никакого смысла\n",
    "3. Даты в фичах и в трейн/тест - одинаковые уникальные значения, это хорошо можно сразу мерджить фичи в трейн/тест данные по id + buy_time\n",
    "4. Сильный дизбаланс классов, линейные модели вряд ли обучатся хорошо. Нужно использовать ансамбли или случайные леса скорее всего.\n",
    "5. Target, vas_id нужно преобразовать в Int\n",
    "6. Все признаки у которых уникальные значения в диапазоне от 2 до 30 считаем категориальными на старте\n",
    "7. При попадании данных в пайплайн постараться делать сразу 3 действия: buy_time преобразовывать в date_time, делать drop 'Unnamed: 0', делать лефт мердж  по id и buy_time\n",
    "\n",
    "\n",
    "UPD: Во второй ячейке написал функцию по первичной предобработке данных, по пункту 7 + сразу преобразовывает в инт указанные колонки\n",
    "UPD2: Просмотрел фичи в датасете с фичами, теперь мерджить и писать пайплайны"
   ]
  },
  {
   "cell_type": "markdown",
   "source": [
    "### 2. Подготовка данных для обучения модели (Feature Engineering)"
   ],
   "metadata": {
    "collapsed": false,
    "pycharm": {
     "name": "#%% md\n"
    }
   }
  },
  {
   "cell_type": "code",
   "execution_count": null,
   "outputs": [],
   "source": [
    "#Выбираем признаки для обучения\n",
    "f_other.add('buy_time')\n",
    "f_ok = list(f_other | f_numeric)\n",
    "feats = df_features[f_ok]\n",
    "feats"
   ],
   "metadata": {
    "collapsed": false,
    "pycharm": {
     "name": "#%%\n"
    }
   }
  },
  {
   "cell_type": "code",
   "execution_count": null,
   "outputs": [],
   "source": [
    "%%time\n",
    "#Мерджим наш трейн с признаками по id. Даты получится 2 штуки, buy_time услуги и время сбора информации об абоненте. Также планирую добавить еще одну фичу, которая будет отвечать за разницу этого времени. Полагаю что чем значение больше ее будет, тем хуже, т.к информация об абоненте менее актуальна\n",
    "train_feats = df_train.merge(feats, how='inner', on='id')\n",
    "train_feats"
   ],
   "metadata": {
    "collapsed": false,
    "pycharm": {
     "name": "#%%\n"
    }
   }
  },
  {
   "cell_type": "code",
   "execution_count": null,
   "outputs": [],
   "source": [
    "%%time\n",
    "#Преобразование дат и просмотр датасета\n",
    "#train_feats['buy_time_x'] = pd.to_datetime(train_feats['buy_time_x'], unit='s')\n",
    "#train_feats['buy_time_y'] = pd.to_datetime(train_feats['buy_time_y'], unit='s')\n",
    "train_feats.rename(columns={'buy_time_x': 'buy_time', 'buy_time_y': 'data_recieve_time'}, inplace=True)\n",
    "train_feats[['id', 'vas_id', 'buy_time', 'data_recieve_time', 'target']]"
   ],
   "metadata": {
    "collapsed": false,
    "pycharm": {
     "name": "#%%\n"
    }
   }
  },
  {
   "cell_type": "code",
   "execution_count": null,
   "outputs": [],
   "source": [
    "train_feats"
   ],
   "metadata": {
    "collapsed": false,
    "pycharm": {
     "name": "#%%\n"
    }
   }
  },
  {
   "cell_type": "code",
   "execution_count": null,
   "outputs": [],
   "source": [
    "#Проверка что null отсутствуют. При left join, идут null по всем признакам, а значит эти данные абсолютно бесполезные. Поэтому делаем inner join\n",
    "train_feats['data_recieve_time'].isnull().sum()"
   ],
   "metadata": {
    "collapsed": false,
    "pycharm": {
     "name": "#%%\n"
    }
   }
  },
  {
   "cell_type": "code",
   "execution_count": null,
   "outputs": [],
   "source": [
    "#Указываем что признак 252, числовой. В будущем будет категория\n",
    "train_feats['252'] = train_feats['252'].astype('int64')"
   ],
   "metadata": {
    "collapsed": false,
    "pycharm": {
     "name": "#%%\n"
    }
   }
  },
  {
   "cell_type": "code",
   "execution_count": null,
   "outputs": [],
   "source": [
    "#Сохранение полученных датасетов для обучения моделей\n",
    "#train_feats.to_csv('4250k_feats_train.csv')"
   ],
   "metadata": {
    "collapsed": false,
    "pycharm": {
     "name": "#%%\n"
    }
   }
  },
  {
   "cell_type": "markdown",
   "source": [
    "### Итоги 2го этапа.\n",
    "1) Написал функцию по предобработке исходных данных. (Удаление колнки лишней, float_to_int, преобразование из timestamp в datetime)\n",
    "2) Подготовил из 4250000 объектов с признаками (94.5% всех признаков), ~800000 для обучения модели через мердж трейна и признаков по пользователям\n",
    "3) Получили 2 даты по каждому пользователю: одна - дата покупки, вторая - дата сбора информации об абоненте. Необходимо будет сделать 3ю фичу разницу этих дат в днях по модулю, она будет отражать актуальность данных об абоненте\n",
    "\n",
    "###### Дальнейший план работы\n",
    "1) Перед созданием последней фичи или после, промерджить данные по id/id+buy_time, в data_train.csv. Необходимо убедиться что тест, никак не меняется по объему данных (количеству объектов или хотя бы в не меньшую сторону)\n",
    "2) Разбить данные на трейн/тест, для измерения метрики. Кросс валидация по ситуации буду думать и по времени, наверное после бейзлайна уже.\n",
    "3) После создания фичи, можно собирать модель/пайплайн и обучать модель. Затем gridsearch/другие модели, но исходные данные будут уже эти точно\n",
    "4) Сохранение результатов и все остальные прикладные вещи"
   ],
   "metadata": {
    "collapsed": false,
    "pycharm": {
     "name": "#%% md\n"
    }
   }
  },
  {
   "cell_type": "code",
   "execution_count": null,
   "metadata": {
    "pycharm": {
     "name": "#%%\n"
    }
   },
   "outputs": [],
   "source": [
    "\"\"\"\n",
    "class ColumnSelector(BaseEstimator, TransformerMixin):\n",
    "    def __init__(self, columns):\n",
    "        self.columns = columns\n",
    "\n",
    "    def fit(self, X, y=None):\n",
    "        return self\n",
    "\n",
    "    def transform(self, X):\n",
    "        assert isinstance(X, pd.DataFrame)\n",
    "\n",
    "        try:\n",
    "            return X[self.columns]\n",
    "        except KeyError:\n",
    "            cols_error = list(set(self.columns) - set(X.columns))\n",
    "            raise KeyError(\"DataFrame не содердит следующие колонки: %s\" % cols_error)\n",
    "\"\"\""
   ]
  }
 ],
 "metadata": {
  "kernelspec": {
   "display_name": "Python 3 (ipykernel)",
   "language": "python",
   "name": "python3"
  },
  "language_info": {
   "codemirror_mode": {
    "name": "ipython",
    "version": 3
   },
   "file_extension": ".py",
   "mimetype": "text/x-python",
   "name": "python",
   "nbconvert_exporter": "python",
   "pygments_lexer": "ipython3",
   "version": "3.10.4"
  }
 },
 "nbformat": 4,
 "nbformat_minor": 1
}