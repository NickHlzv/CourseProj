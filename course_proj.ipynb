{
 "cells": [
  {
   "cell_type": "code",
   "execution_count": 1,
   "metadata": {
    "pycharm": {
     "name": "#%%\n"
    }
   },
   "outputs": [],
   "source": [
    "import numpy as np\n",
    "import pandas as pd\n",
    "import matplotlib.pyplot as plt\n",
    "from sklearn.base import BaseEstimator, TransformerMixin\n",
    "from sklearn.pipeline import FeatureUnion, make_pipeline\n",
    "from sklearn.preprocessing import StandardScaler, OneHotEncoder\n",
    "import warnings\n",
    "warnings.filterwarnings('ignore')\n",
    "%matplotlib inline"
   ]
  },
  {
   "cell_type": "code",
   "execution_count": 2,
   "metadata": {
    "pycharm": {
     "name": "#%%\n"
    }
   },
   "outputs": [],
   "source": [
    "#После проведения EDA (блок ниже), написал функцию по предобработке данных для любого датафрейма, тест, трайн или фичи\n",
    "#Сразу удаляем лишнюю колонку, преобразуем дату и переводи в int нужные признаки (например target и vas_id)\n",
    "def prepare_data(data_df, columns_to_int=None):\n",
    "    data_df['buy_time'] = pd.to_datetime(data_df['buy_time'], unit='s')\n",
    "    try:\n",
    "        data_df = data_df.drop(columns='Unnamed: 0')\n",
    "    except KeyError:\n",
    "        pass\n",
    "    if columns_to_int:\n",
    "        try:\n",
    "            data_df[columns_to_int] = data_df[columns_to_int].astype('int64')\n",
    "        except KeyError:\n",
    "            print(\"Column doesn't exist, or isn't numeric type. Unable to convert type to int. Correct key mistakes, and try again\")\n",
    "    return data_df"
   ]
  },
  {
   "cell_type": "markdown",
   "metadata": {
    "pycharm": {
     "name": "#%% md\n"
    }
   },
   "source": [
    "### Загрузка и просмотр датасета"
   ]
  },
  {
   "cell_type": "code",
   "execution_count": 3,
   "metadata": {
    "pycharm": {
     "name": "#%%\n"
    }
   },
   "outputs": [
    {
     "data": {
      "text/plain": "             id  vas_id            buy_time  target\n0        540968       8 2018-09-16 21:00:00       0\n1       1454121       4 2018-07-15 21:00:00       0\n2       2458816       1 2018-08-12 21:00:00       0\n3       3535012       5 2018-09-02 21:00:00       0\n4       1693214       1 2018-09-02 21:00:00       0\n...         ...     ...                 ...     ...\n831648  3812226       2 2018-12-30 21:00:00       0\n831649  2480469       2 2018-12-30 21:00:00       0\n831650   158236       2 2018-12-30 21:00:00       0\n831651  1825525       2 2018-12-30 21:00:00       0\n831652  3022610       2 2018-12-30 21:00:00       0\n\n[831653 rows x 4 columns]",
      "text/html": "<div>\n<style scoped>\n    .dataframe tbody tr th:only-of-type {\n        vertical-align: middle;\n    }\n\n    .dataframe tbody tr th {\n        vertical-align: top;\n    }\n\n    .dataframe thead th {\n        text-align: right;\n    }\n</style>\n<table border=\"1\" class=\"dataframe\">\n  <thead>\n    <tr style=\"text-align: right;\">\n      <th></th>\n      <th>id</th>\n      <th>vas_id</th>\n      <th>buy_time</th>\n      <th>target</th>\n    </tr>\n  </thead>\n  <tbody>\n    <tr>\n      <th>0</th>\n      <td>540968</td>\n      <td>8</td>\n      <td>2018-09-16 21:00:00</td>\n      <td>0</td>\n    </tr>\n    <tr>\n      <th>1</th>\n      <td>1454121</td>\n      <td>4</td>\n      <td>2018-07-15 21:00:00</td>\n      <td>0</td>\n    </tr>\n    <tr>\n      <th>2</th>\n      <td>2458816</td>\n      <td>1</td>\n      <td>2018-08-12 21:00:00</td>\n      <td>0</td>\n    </tr>\n    <tr>\n      <th>3</th>\n      <td>3535012</td>\n      <td>5</td>\n      <td>2018-09-02 21:00:00</td>\n      <td>0</td>\n    </tr>\n    <tr>\n      <th>4</th>\n      <td>1693214</td>\n      <td>1</td>\n      <td>2018-09-02 21:00:00</td>\n      <td>0</td>\n    </tr>\n    <tr>\n      <th>...</th>\n      <td>...</td>\n      <td>...</td>\n      <td>...</td>\n      <td>...</td>\n    </tr>\n    <tr>\n      <th>831648</th>\n      <td>3812226</td>\n      <td>2</td>\n      <td>2018-12-30 21:00:00</td>\n      <td>0</td>\n    </tr>\n    <tr>\n      <th>831649</th>\n      <td>2480469</td>\n      <td>2</td>\n      <td>2018-12-30 21:00:00</td>\n      <td>0</td>\n    </tr>\n    <tr>\n      <th>831650</th>\n      <td>158236</td>\n      <td>2</td>\n      <td>2018-12-30 21:00:00</td>\n      <td>0</td>\n    </tr>\n    <tr>\n      <th>831651</th>\n      <td>1825525</td>\n      <td>2</td>\n      <td>2018-12-30 21:00:00</td>\n      <td>0</td>\n    </tr>\n    <tr>\n      <th>831652</th>\n      <td>3022610</td>\n      <td>2</td>\n      <td>2018-12-30 21:00:00</td>\n      <td>0</td>\n    </tr>\n  </tbody>\n</table>\n<p>831653 rows × 4 columns</p>\n</div>"
     },
     "execution_count": 3,
     "metadata": {},
     "output_type": "execute_result"
    }
   ],
   "source": [
    "#Убираем фиктивные колонки, видимо индексы, преобразуем даты, чтобы увидеть больше информации из имеющихся данных\n",
    "df_train = pd.read_csv('data_train.csv')\n",
    "df_train = prepare_data(df_train, columns_to_int=['vas_id', 'target'])\n",
    "df_test = pd.read_csv('data_test.csv')\n",
    "df_test = prepare_data(df_test, columns_to_int='vas_id')\n",
    "df_train"
   ]
  },
  {
   "cell_type": "code",
   "execution_count": 4,
   "metadata": {
    "pycharm": {
     "name": "#%%\n"
    }
   },
   "outputs": [
    {
     "data": {
      "text/plain": "            id  vas_id            buy_time\n0      3130519       2 2019-01-20 21:00:00\n1      2000860       4 2019-01-20 21:00:00\n2      1099444       2 2019-01-06 21:00:00\n3      1343255       5 2019-01-13 21:00:00\n4      1277040       2 2019-01-06 21:00:00\n...        ...     ...                 ...\n71226  2502453       5 2019-01-20 21:00:00\n71227  1693213       2 2019-01-20 21:00:00\n71228  1891350       2 2019-01-20 21:00:00\n71229  2437172       2 2019-01-20 21:00:00\n71230   988236       2 2019-01-20 21:00:00\n\n[71231 rows x 3 columns]",
      "text/html": "<div>\n<style scoped>\n    .dataframe tbody tr th:only-of-type {\n        vertical-align: middle;\n    }\n\n    .dataframe tbody tr th {\n        vertical-align: top;\n    }\n\n    .dataframe thead th {\n        text-align: right;\n    }\n</style>\n<table border=\"1\" class=\"dataframe\">\n  <thead>\n    <tr style=\"text-align: right;\">\n      <th></th>\n      <th>id</th>\n      <th>vas_id</th>\n      <th>buy_time</th>\n    </tr>\n  </thead>\n  <tbody>\n    <tr>\n      <th>0</th>\n      <td>3130519</td>\n      <td>2</td>\n      <td>2019-01-20 21:00:00</td>\n    </tr>\n    <tr>\n      <th>1</th>\n      <td>2000860</td>\n      <td>4</td>\n      <td>2019-01-20 21:00:00</td>\n    </tr>\n    <tr>\n      <th>2</th>\n      <td>1099444</td>\n      <td>2</td>\n      <td>2019-01-06 21:00:00</td>\n    </tr>\n    <tr>\n      <th>3</th>\n      <td>1343255</td>\n      <td>5</td>\n      <td>2019-01-13 21:00:00</td>\n    </tr>\n    <tr>\n      <th>4</th>\n      <td>1277040</td>\n      <td>2</td>\n      <td>2019-01-06 21:00:00</td>\n    </tr>\n    <tr>\n      <th>...</th>\n      <td>...</td>\n      <td>...</td>\n      <td>...</td>\n    </tr>\n    <tr>\n      <th>71226</th>\n      <td>2502453</td>\n      <td>5</td>\n      <td>2019-01-20 21:00:00</td>\n    </tr>\n    <tr>\n      <th>71227</th>\n      <td>1693213</td>\n      <td>2</td>\n      <td>2019-01-20 21:00:00</td>\n    </tr>\n    <tr>\n      <th>71228</th>\n      <td>1891350</td>\n      <td>2</td>\n      <td>2019-01-20 21:00:00</td>\n    </tr>\n    <tr>\n      <th>71229</th>\n      <td>2437172</td>\n      <td>2</td>\n      <td>2019-01-20 21:00:00</td>\n    </tr>\n    <tr>\n      <th>71230</th>\n      <td>988236</td>\n      <td>2</td>\n      <td>2019-01-20 21:00:00</td>\n    </tr>\n  </tbody>\n</table>\n<p>71231 rows × 3 columns</p>\n</div>"
     },
     "execution_count": 4,
     "metadata": {},
     "output_type": "execute_result"
    }
   ],
   "source": [
    "df_test"
   ]
  },
  {
   "cell_type": "code",
   "execution_count": 5,
   "metadata": {
    "pycharm": {
     "name": "#%%\n"
    }
   },
   "outputs": [
    {
     "name": "stdout",
     "output_type": "stream",
     "text": [
      "CPU times: total: 6min 44s\n",
      "Wall time: 6min 45s\n"
     ]
    },
    {
     "data": {
      "text/plain": "              id            buy_time          0           1           2  \\\n0        2013026 2018-07-15 21:00:00  18.910029   46.980888    4.969214   \n1        2014722 2018-10-14 21:00:00  36.690029  152.400888  448.069214   \n2        2015199 2018-12-23 21:00:00 -67.019971  157.050888  -63.180786   \n3        2021765 2018-08-12 21:00:00   7.010029  150.200888   -6.930786   \n4        2027465 2018-08-05 21:00:00 -90.439971  134.220888 -104.380786   \n...          ...                 ...        ...         ...         ...   \n2249995  1910382 2018-09-23 21:00:00 -84.089971   91.410888  -98.030786   \n2249996  1910476 2018-12-09 21:00:00 -54.459971 -133.699112  -68.400786   \n2249997  1910755 2018-09-09 21:00:00 -92.559971  298.190888   96.029214   \n2249998  1910965 2018-09-30 21:00:00 -96.799971 -408.179112 -110.740786   \n2249999  1911161 2018-11-18 21:00:00 -44.009971  684.690888  -24.050786   \n\n                   3           4           5         6           7  ...  \\\n0          -1.386798    3.791754   -14.01179 -16.08618  -65.076097  ...   \n1         563.833202  463.841754   568.99821 -16.08618  -53.216097  ...   \n2         178.103202  -68.598246   156.99821   3.51382   25.183903  ...   \n3         216.213202   76.621754   351.84821 -16.08618  -65.076097  ...   \n4         153.643202 -109.798246   132.53821 -16.08618  -65.076097  ...   \n...              ...         ...         ...       ...         ...  ...   \n2249995   106.603202 -103.448246    85.49821 -16.08618  -59.146097  ...   \n2249996  -186.306798  -73.818246  -207.41179 -16.08618  -65.076097  ...   \n2249997  1120.953202   90.611754  1099.84821 -16.08618  -47.286097  ...   \n2249998  -460.786798 -116.158246  -481.89179 -16.08618  -65.076097  ...   \n2249999   725.303202  -29.468246   704.19821  -6.00618  339.323903  ...   \n\n                 243          244         245        246           247  \\\n0        -977.373846  -613.770792  -25.996269 -37.630448   -301.747724   \n1        -891.373846  -544.770792  -20.996269  48.369552     80.252276   \n2        -977.373846  -613.770792  -12.996269 -37.630448  10829.252276   \n3        -973.373846  -613.770792  -23.996269 -37.630448   -205.747724   \n4        1643.626154  2007.229208  206.003731 -21.630448   6667.252276   \n...              ...          ...         ...        ...           ...   \n2249995  1980.626154  2251.229208  -22.996269  10.369552    -80.747724   \n2249996  -970.373846  -613.770792  -24.996269 -27.630448   -136.747724   \n2249997  -976.373846  -613.770792  -24.996269 -36.630448   -246.747724   \n2249998  -977.373846  -613.770792  -25.996269 -37.630448   -306.747724   \n2249999  7564.626154  4933.229208  -25.996269 -16.630448    569.252276   \n\n               248       249        250       251  252  \n0       -25.832889 -0.694428 -12.175933  -0.45614  0.0  \n1       -13.832889 -0.694428  -1.175933  -0.45614  0.0  \n2       -25.832889 -0.694428 -12.175933  -0.45614  0.0  \n3       -24.832889 -0.694428 -11.175933  -0.45614  1.0  \n4        92.167111 -0.694428  49.824067  47.54386  0.0  \n...            ...       ...        ...       ...  ...  \n2249995 -25.832889 -0.694428 -12.175933  -0.45614  1.0  \n2249996 -25.832889 -0.694428 -12.175933  -0.45614  0.0  \n2249997 -24.832889 -0.694428 -11.175933  -0.45614  1.0  \n2249998 -25.832889 -0.694428 -12.175933  -0.45614  0.0  \n2249999  -4.832889 -0.694428 -12.175933  -0.45614  0.0  \n\n[2250000 rows x 255 columns]",
      "text/html": "<div>\n<style scoped>\n    .dataframe tbody tr th:only-of-type {\n        vertical-align: middle;\n    }\n\n    .dataframe tbody tr th {\n        vertical-align: top;\n    }\n\n    .dataframe thead th {\n        text-align: right;\n    }\n</style>\n<table border=\"1\" class=\"dataframe\">\n  <thead>\n    <tr style=\"text-align: right;\">\n      <th></th>\n      <th>id</th>\n      <th>buy_time</th>\n      <th>0</th>\n      <th>1</th>\n      <th>2</th>\n      <th>3</th>\n      <th>4</th>\n      <th>5</th>\n      <th>6</th>\n      <th>7</th>\n      <th>...</th>\n      <th>243</th>\n      <th>244</th>\n      <th>245</th>\n      <th>246</th>\n      <th>247</th>\n      <th>248</th>\n      <th>249</th>\n      <th>250</th>\n      <th>251</th>\n      <th>252</th>\n    </tr>\n  </thead>\n  <tbody>\n    <tr>\n      <th>0</th>\n      <td>2013026</td>\n      <td>2018-07-15 21:00:00</td>\n      <td>18.910029</td>\n      <td>46.980888</td>\n      <td>4.969214</td>\n      <td>-1.386798</td>\n      <td>3.791754</td>\n      <td>-14.01179</td>\n      <td>-16.08618</td>\n      <td>-65.076097</td>\n      <td>...</td>\n      <td>-977.373846</td>\n      <td>-613.770792</td>\n      <td>-25.996269</td>\n      <td>-37.630448</td>\n      <td>-301.747724</td>\n      <td>-25.832889</td>\n      <td>-0.694428</td>\n      <td>-12.175933</td>\n      <td>-0.45614</td>\n      <td>0.0</td>\n    </tr>\n    <tr>\n      <th>1</th>\n      <td>2014722</td>\n      <td>2018-10-14 21:00:00</td>\n      <td>36.690029</td>\n      <td>152.400888</td>\n      <td>448.069214</td>\n      <td>563.833202</td>\n      <td>463.841754</td>\n      <td>568.99821</td>\n      <td>-16.08618</td>\n      <td>-53.216097</td>\n      <td>...</td>\n      <td>-891.373846</td>\n      <td>-544.770792</td>\n      <td>-20.996269</td>\n      <td>48.369552</td>\n      <td>80.252276</td>\n      <td>-13.832889</td>\n      <td>-0.694428</td>\n      <td>-1.175933</td>\n      <td>-0.45614</td>\n      <td>0.0</td>\n    </tr>\n    <tr>\n      <th>2</th>\n      <td>2015199</td>\n      <td>2018-12-23 21:00:00</td>\n      <td>-67.019971</td>\n      <td>157.050888</td>\n      <td>-63.180786</td>\n      <td>178.103202</td>\n      <td>-68.598246</td>\n      <td>156.99821</td>\n      <td>3.51382</td>\n      <td>25.183903</td>\n      <td>...</td>\n      <td>-977.373846</td>\n      <td>-613.770792</td>\n      <td>-12.996269</td>\n      <td>-37.630448</td>\n      <td>10829.252276</td>\n      <td>-25.832889</td>\n      <td>-0.694428</td>\n      <td>-12.175933</td>\n      <td>-0.45614</td>\n      <td>0.0</td>\n    </tr>\n    <tr>\n      <th>3</th>\n      <td>2021765</td>\n      <td>2018-08-12 21:00:00</td>\n      <td>7.010029</td>\n      <td>150.200888</td>\n      <td>-6.930786</td>\n      <td>216.213202</td>\n      <td>76.621754</td>\n      <td>351.84821</td>\n      <td>-16.08618</td>\n      <td>-65.076097</td>\n      <td>...</td>\n      <td>-973.373846</td>\n      <td>-613.770792</td>\n      <td>-23.996269</td>\n      <td>-37.630448</td>\n      <td>-205.747724</td>\n      <td>-24.832889</td>\n      <td>-0.694428</td>\n      <td>-11.175933</td>\n      <td>-0.45614</td>\n      <td>1.0</td>\n    </tr>\n    <tr>\n      <th>4</th>\n      <td>2027465</td>\n      <td>2018-08-05 21:00:00</td>\n      <td>-90.439971</td>\n      <td>134.220888</td>\n      <td>-104.380786</td>\n      <td>153.643202</td>\n      <td>-109.798246</td>\n      <td>132.53821</td>\n      <td>-16.08618</td>\n      <td>-65.076097</td>\n      <td>...</td>\n      <td>1643.626154</td>\n      <td>2007.229208</td>\n      <td>206.003731</td>\n      <td>-21.630448</td>\n      <td>6667.252276</td>\n      <td>92.167111</td>\n      <td>-0.694428</td>\n      <td>49.824067</td>\n      <td>47.54386</td>\n      <td>0.0</td>\n    </tr>\n    <tr>\n      <th>...</th>\n      <td>...</td>\n      <td>...</td>\n      <td>...</td>\n      <td>...</td>\n      <td>...</td>\n      <td>...</td>\n      <td>...</td>\n      <td>...</td>\n      <td>...</td>\n      <td>...</td>\n      <td>...</td>\n      <td>...</td>\n      <td>...</td>\n      <td>...</td>\n      <td>...</td>\n      <td>...</td>\n      <td>...</td>\n      <td>...</td>\n      <td>...</td>\n      <td>...</td>\n      <td>...</td>\n    </tr>\n    <tr>\n      <th>2249995</th>\n      <td>1910382</td>\n      <td>2018-09-23 21:00:00</td>\n      <td>-84.089971</td>\n      <td>91.410888</td>\n      <td>-98.030786</td>\n      <td>106.603202</td>\n      <td>-103.448246</td>\n      <td>85.49821</td>\n      <td>-16.08618</td>\n      <td>-59.146097</td>\n      <td>...</td>\n      <td>1980.626154</td>\n      <td>2251.229208</td>\n      <td>-22.996269</td>\n      <td>10.369552</td>\n      <td>-80.747724</td>\n      <td>-25.832889</td>\n      <td>-0.694428</td>\n      <td>-12.175933</td>\n      <td>-0.45614</td>\n      <td>1.0</td>\n    </tr>\n    <tr>\n      <th>2249996</th>\n      <td>1910476</td>\n      <td>2018-12-09 21:00:00</td>\n      <td>-54.459971</td>\n      <td>-133.699112</td>\n      <td>-68.400786</td>\n      <td>-186.306798</td>\n      <td>-73.818246</td>\n      <td>-207.41179</td>\n      <td>-16.08618</td>\n      <td>-65.076097</td>\n      <td>...</td>\n      <td>-970.373846</td>\n      <td>-613.770792</td>\n      <td>-24.996269</td>\n      <td>-27.630448</td>\n      <td>-136.747724</td>\n      <td>-25.832889</td>\n      <td>-0.694428</td>\n      <td>-12.175933</td>\n      <td>-0.45614</td>\n      <td>0.0</td>\n    </tr>\n    <tr>\n      <th>2249997</th>\n      <td>1910755</td>\n      <td>2018-09-09 21:00:00</td>\n      <td>-92.559971</td>\n      <td>298.190888</td>\n      <td>96.029214</td>\n      <td>1120.953202</td>\n      <td>90.611754</td>\n      <td>1099.84821</td>\n      <td>-16.08618</td>\n      <td>-47.286097</td>\n      <td>...</td>\n      <td>-976.373846</td>\n      <td>-613.770792</td>\n      <td>-24.996269</td>\n      <td>-36.630448</td>\n      <td>-246.747724</td>\n      <td>-24.832889</td>\n      <td>-0.694428</td>\n      <td>-11.175933</td>\n      <td>-0.45614</td>\n      <td>1.0</td>\n    </tr>\n    <tr>\n      <th>2249998</th>\n      <td>1910965</td>\n      <td>2018-09-30 21:00:00</td>\n      <td>-96.799971</td>\n      <td>-408.179112</td>\n      <td>-110.740786</td>\n      <td>-460.786798</td>\n      <td>-116.158246</td>\n      <td>-481.89179</td>\n      <td>-16.08618</td>\n      <td>-65.076097</td>\n      <td>...</td>\n      <td>-977.373846</td>\n      <td>-613.770792</td>\n      <td>-25.996269</td>\n      <td>-37.630448</td>\n      <td>-306.747724</td>\n      <td>-25.832889</td>\n      <td>-0.694428</td>\n      <td>-12.175933</td>\n      <td>-0.45614</td>\n      <td>0.0</td>\n    </tr>\n    <tr>\n      <th>2249999</th>\n      <td>1911161</td>\n      <td>2018-11-18 21:00:00</td>\n      <td>-44.009971</td>\n      <td>684.690888</td>\n      <td>-24.050786</td>\n      <td>725.303202</td>\n      <td>-29.468246</td>\n      <td>704.19821</td>\n      <td>-6.00618</td>\n      <td>339.323903</td>\n      <td>...</td>\n      <td>7564.626154</td>\n      <td>4933.229208</td>\n      <td>-25.996269</td>\n      <td>-16.630448</td>\n      <td>569.252276</td>\n      <td>-4.832889</td>\n      <td>-0.694428</td>\n      <td>-12.175933</td>\n      <td>-0.45614</td>\n      <td>0.0</td>\n    </tr>\n  </tbody>\n</table>\n<p>2250000 rows × 255 columns</p>\n</div>"
     },
     "execution_count": 5,
     "metadata": {},
     "output_type": "execute_result"
    }
   ],
   "source": [
    "%%time\n",
    "#Датафрейм очень большой, поэтому решил открывать пандасом только n-первых строк от него.\n",
    "#UPD: Для максимального извлечения данных для обучения на мердж, прогружал 4250000 строк, почти весь датасет, больше в озу не умещается. Из этих данных намерджил 800000 объектов для обучения\n",
    "\n",
    "df_features = pd.read_csv('features.csv.zip', sep='\\t', engine='c', nrows=2250000)\n",
    "df_features_half2 = pd.read_csv('features.csv.zip', sep='\\t', engine='c', skiprows=[i for i in range(1, 2250000)])\n",
    "#df_features = dd.read_csv('features.csv.zip', sep='\\t')\n",
    "df_features = prepare_data(df_features)\n",
    "df_features_half2 = prepare_data(df_features_half2)\n",
    "df_features"
   ]
  },
  {
   "cell_type": "markdown",
   "metadata": {
    "pycharm": {
     "name": "#%% md\n"
    }
   },
   "source": [
    "### 1. EDA (Explore Data Analysis)"
   ]
  },
  {
   "cell_type": "code",
   "execution_count": 6,
   "metadata": {
    "pycharm": {
     "name": "#%%\n"
    }
   },
   "outputs": [
    {
     "data": {
      "text/plain": "                 id             0             1             2             3  \\\ncount  2.250000e+06  2.250000e+06  2.250000e+06  2.250000e+06  2.250000e+06   \nmean   2.180632e+06  1.384095e-01  2.066754e-01  1.381051e-01  2.373670e-01   \nstd    1.260652e+06  1.946273e+02  4.071594e+02  2.097158e+02  4.791540e+02   \nmin    3.000000e+00 -1.376470e+03 -1.494609e+03 -1.379881e+03 -1.331817e+03   \n25%    1.088280e+06 -9.679997e+01 -2.090291e+02 -1.107408e+02 -2.429968e+02   \n50%    2.178391e+06 -8.493997e+01 -6.071911e+01 -8.531079e+01 -7.942680e+01   \n75%    3.275414e+06  1.228003e+01  1.180909e+02  2.780921e+01  1.260832e+02   \nmax    4.362734e+06  4.473950e+04  1.034994e+05  4.476064e+04  1.309629e+05   \n\n                  4             5             6             7             8  \\\ncount  2.250000e+06  2.250000e+06  2.250000e+06  2.250000e+06  2.250000e+06   \nmean   9.748741e-02  1.731523e-01  1.196795e-02  9.017393e-02 -3.833907e-02   \nstd    2.263798e+02  5.422711e+02  1.078153e+02  2.737020e+02  7.412283e+01   \nmin   -1.385638e+03 -2.009132e+03 -5.830362e+02 -8.023561e+02 -5.737337e+02   \n25%   -1.161582e+02 -2.600218e+02 -1.608618e+01 -6.507610e+01 -6.783660e+00   \n50%   -8.768825e+01 -9.353679e+01 -1.608618e+01 -6.507610e+01 -6.783660e+00   \n75%    2.959175e+01  1.194582e+02 -1.608618e+01 -5.914610e+01 -6.783660e+00   \nmax    4.712013e+04  1.309418e+05  4.482021e+04  1.032552e+05  4.482952e+04   \n\n       ...           243           244           245           246  \\\ncount  ...  2.250000e+06  2.250000e+06  2.250000e+06  2.250000e+06   \nmean   ... -1.287198e+00 -7.467148e-01  1.003456e-01 -7.150350e-02   \nstd    ...  3.200340e+03  2.236044e+03  1.062988e+03  2.959711e+02   \nmin    ... -9.773738e+02 -6.137708e+02 -2.599627e+01 -3.763045e+01   \n25%    ... -9.773738e+02 -6.137708e+02 -2.599627e+01 -3.763045e+01   \n50%    ... -9.583738e+02 -6.137708e+02 -2.599627e+01 -3.763045e+01   \n75%    ... -4.853738e+02 -4.077708e+02 -2.499627e+01 -3.363045e+01   \nmax    ...  2.876716e+05  1.904692e+05  9.801580e+05  5.429037e+04   \n\n                247           248           249           250           251  \\\ncount  2.250000e+06  2.250000e+06  2.250000e+06  2.250000e+06  2.250000e+06   \nmean  -7.049370e-01 -1.088263e-01  8.301778e-04 -8.262202e-03  1.043671e-03   \nstd    1.329342e+03  2.518386e+02  1.661549e+01  1.748434e+02  8.229370e+00   \nmin   -3.067477e+02 -2.583289e+01 -6.944285e-01 -1.217593e+01 -4.561399e-01   \n25%   -3.057477e+02 -2.583289e+01 -6.944285e-01 -1.217593e+01 -4.561399e-01   \n50%   -2.397477e+02 -2.383289e+01 -6.944285e-01 -1.217593e+01 -4.561399e-01   \n75%   -7.774772e+01 -1.083289e+01 -6.944285e-01 -9.175933e+00 -4.561399e-01   \nmax    2.715813e+05  9.750017e+04  1.892331e+04  9.750782e+04  9.489544e+03   \n\n                252  \ncount  2.250000e+06  \nmean   2.555022e-01  \nstd    8.337374e-01  \nmin    0.000000e+00  \n25%    0.000000e+00  \n50%    0.000000e+00  \n75%    1.000000e+00  \nmax    4.460000e+02  \n\n[8 rows x 254 columns]",
      "text/html": "<div>\n<style scoped>\n    .dataframe tbody tr th:only-of-type {\n        vertical-align: middle;\n    }\n\n    .dataframe tbody tr th {\n        vertical-align: top;\n    }\n\n    .dataframe thead th {\n        text-align: right;\n    }\n</style>\n<table border=\"1\" class=\"dataframe\">\n  <thead>\n    <tr style=\"text-align: right;\">\n      <th></th>\n      <th>id</th>\n      <th>0</th>\n      <th>1</th>\n      <th>2</th>\n      <th>3</th>\n      <th>4</th>\n      <th>5</th>\n      <th>6</th>\n      <th>7</th>\n      <th>8</th>\n      <th>...</th>\n      <th>243</th>\n      <th>244</th>\n      <th>245</th>\n      <th>246</th>\n      <th>247</th>\n      <th>248</th>\n      <th>249</th>\n      <th>250</th>\n      <th>251</th>\n      <th>252</th>\n    </tr>\n  </thead>\n  <tbody>\n    <tr>\n      <th>count</th>\n      <td>2.250000e+06</td>\n      <td>2.250000e+06</td>\n      <td>2.250000e+06</td>\n      <td>2.250000e+06</td>\n      <td>2.250000e+06</td>\n      <td>2.250000e+06</td>\n      <td>2.250000e+06</td>\n      <td>2.250000e+06</td>\n      <td>2.250000e+06</td>\n      <td>2.250000e+06</td>\n      <td>...</td>\n      <td>2.250000e+06</td>\n      <td>2.250000e+06</td>\n      <td>2.250000e+06</td>\n      <td>2.250000e+06</td>\n      <td>2.250000e+06</td>\n      <td>2.250000e+06</td>\n      <td>2.250000e+06</td>\n      <td>2.250000e+06</td>\n      <td>2.250000e+06</td>\n      <td>2.250000e+06</td>\n    </tr>\n    <tr>\n      <th>mean</th>\n      <td>2.180632e+06</td>\n      <td>1.384095e-01</td>\n      <td>2.066754e-01</td>\n      <td>1.381051e-01</td>\n      <td>2.373670e-01</td>\n      <td>9.748741e-02</td>\n      <td>1.731523e-01</td>\n      <td>1.196795e-02</td>\n      <td>9.017393e-02</td>\n      <td>-3.833907e-02</td>\n      <td>...</td>\n      <td>-1.287198e+00</td>\n      <td>-7.467148e-01</td>\n      <td>1.003456e-01</td>\n      <td>-7.150350e-02</td>\n      <td>-7.049370e-01</td>\n      <td>-1.088263e-01</td>\n      <td>8.301778e-04</td>\n      <td>-8.262202e-03</td>\n      <td>1.043671e-03</td>\n      <td>2.555022e-01</td>\n    </tr>\n    <tr>\n      <th>std</th>\n      <td>1.260652e+06</td>\n      <td>1.946273e+02</td>\n      <td>4.071594e+02</td>\n      <td>2.097158e+02</td>\n      <td>4.791540e+02</td>\n      <td>2.263798e+02</td>\n      <td>5.422711e+02</td>\n      <td>1.078153e+02</td>\n      <td>2.737020e+02</td>\n      <td>7.412283e+01</td>\n      <td>...</td>\n      <td>3.200340e+03</td>\n      <td>2.236044e+03</td>\n      <td>1.062988e+03</td>\n      <td>2.959711e+02</td>\n      <td>1.329342e+03</td>\n      <td>2.518386e+02</td>\n      <td>1.661549e+01</td>\n      <td>1.748434e+02</td>\n      <td>8.229370e+00</td>\n      <td>8.337374e-01</td>\n    </tr>\n    <tr>\n      <th>min</th>\n      <td>3.000000e+00</td>\n      <td>-1.376470e+03</td>\n      <td>-1.494609e+03</td>\n      <td>-1.379881e+03</td>\n      <td>-1.331817e+03</td>\n      <td>-1.385638e+03</td>\n      <td>-2.009132e+03</td>\n      <td>-5.830362e+02</td>\n      <td>-8.023561e+02</td>\n      <td>-5.737337e+02</td>\n      <td>...</td>\n      <td>-9.773738e+02</td>\n      <td>-6.137708e+02</td>\n      <td>-2.599627e+01</td>\n      <td>-3.763045e+01</td>\n      <td>-3.067477e+02</td>\n      <td>-2.583289e+01</td>\n      <td>-6.944285e-01</td>\n      <td>-1.217593e+01</td>\n      <td>-4.561399e-01</td>\n      <td>0.000000e+00</td>\n    </tr>\n    <tr>\n      <th>25%</th>\n      <td>1.088280e+06</td>\n      <td>-9.679997e+01</td>\n      <td>-2.090291e+02</td>\n      <td>-1.107408e+02</td>\n      <td>-2.429968e+02</td>\n      <td>-1.161582e+02</td>\n      <td>-2.600218e+02</td>\n      <td>-1.608618e+01</td>\n      <td>-6.507610e+01</td>\n      <td>-6.783660e+00</td>\n      <td>...</td>\n      <td>-9.773738e+02</td>\n      <td>-6.137708e+02</td>\n      <td>-2.599627e+01</td>\n      <td>-3.763045e+01</td>\n      <td>-3.057477e+02</td>\n      <td>-2.583289e+01</td>\n      <td>-6.944285e-01</td>\n      <td>-1.217593e+01</td>\n      <td>-4.561399e-01</td>\n      <td>0.000000e+00</td>\n    </tr>\n    <tr>\n      <th>50%</th>\n      <td>2.178391e+06</td>\n      <td>-8.493997e+01</td>\n      <td>-6.071911e+01</td>\n      <td>-8.531079e+01</td>\n      <td>-7.942680e+01</td>\n      <td>-8.768825e+01</td>\n      <td>-9.353679e+01</td>\n      <td>-1.608618e+01</td>\n      <td>-6.507610e+01</td>\n      <td>-6.783660e+00</td>\n      <td>...</td>\n      <td>-9.583738e+02</td>\n      <td>-6.137708e+02</td>\n      <td>-2.599627e+01</td>\n      <td>-3.763045e+01</td>\n      <td>-2.397477e+02</td>\n      <td>-2.383289e+01</td>\n      <td>-6.944285e-01</td>\n      <td>-1.217593e+01</td>\n      <td>-4.561399e-01</td>\n      <td>0.000000e+00</td>\n    </tr>\n    <tr>\n      <th>75%</th>\n      <td>3.275414e+06</td>\n      <td>1.228003e+01</td>\n      <td>1.180909e+02</td>\n      <td>2.780921e+01</td>\n      <td>1.260832e+02</td>\n      <td>2.959175e+01</td>\n      <td>1.194582e+02</td>\n      <td>-1.608618e+01</td>\n      <td>-5.914610e+01</td>\n      <td>-6.783660e+00</td>\n      <td>...</td>\n      <td>-4.853738e+02</td>\n      <td>-4.077708e+02</td>\n      <td>-2.499627e+01</td>\n      <td>-3.363045e+01</td>\n      <td>-7.774772e+01</td>\n      <td>-1.083289e+01</td>\n      <td>-6.944285e-01</td>\n      <td>-9.175933e+00</td>\n      <td>-4.561399e-01</td>\n      <td>1.000000e+00</td>\n    </tr>\n    <tr>\n      <th>max</th>\n      <td>4.362734e+06</td>\n      <td>4.473950e+04</td>\n      <td>1.034994e+05</td>\n      <td>4.476064e+04</td>\n      <td>1.309629e+05</td>\n      <td>4.712013e+04</td>\n      <td>1.309418e+05</td>\n      <td>4.482021e+04</td>\n      <td>1.032552e+05</td>\n      <td>4.482952e+04</td>\n      <td>...</td>\n      <td>2.876716e+05</td>\n      <td>1.904692e+05</td>\n      <td>9.801580e+05</td>\n      <td>5.429037e+04</td>\n      <td>2.715813e+05</td>\n      <td>9.750017e+04</td>\n      <td>1.892331e+04</td>\n      <td>9.750782e+04</td>\n      <td>9.489544e+03</td>\n      <td>4.460000e+02</td>\n    </tr>\n  </tbody>\n</table>\n<p>8 rows × 254 columns</p>\n</div>"
     },
     "execution_count": 6,
     "metadata": {},
     "output_type": "execute_result"
    }
   ],
   "source": [
    "df_features.describe()"
   ]
  },
  {
   "cell_type": "code",
   "execution_count": 7,
   "metadata": {
    "pycharm": {
     "name": "#%%\n"
    }
   },
   "outputs": [
    {
     "data": {
      "text/plain": "139          1\n75           1\n81           1\n203          1\n85           1\n        ...   \n117    1317474\n207    1343057\n38     1465830\n116    1548854\nid     2213001\nLength: 255, dtype: int64"
     },
     "execution_count": 7,
     "metadata": {},
     "output_type": "execute_result"
    }
   ],
   "source": [
    "#Смотрим на число уникальный значений признака. Вероятно если одно значание - признак бесполезен, его можно выбросить\n",
    "df_features.nunique().sort_values()"
   ]
  },
  {
   "cell_type": "code",
   "execution_count": 8,
   "metadata": {
    "pycharm": {
     "name": "#%%\n"
    }
   },
   "outputs": [
    {
     "data": {
      "text/plain": "id          0\nbuy_time    0\n0           0\n1           0\n2           0\n           ..\n248         0\n249         0\n250         0\n251         0\n252         0\nLength: 255, dtype: int64"
     },
     "execution_count": 8,
     "metadata": {},
     "output_type": "execute_result"
    }
   ],
   "source": [
    "#Смотрю Null. Они отсутствуют везде, значит их не нужно обрабатывать\n",
    "df_features.isna().sum()"
   ]
  },
  {
   "cell_type": "code",
   "execution_count": 9,
   "metadata": {
    "pycharm": {
     "name": "#%%\n"
    }
   },
   "outputs": [
    {
     "data": {
      "text/plain": "id          0\nvas_id      0\nbuy_time    0\ntarget      0\ndtype: int64"
     },
     "execution_count": 9,
     "metadata": {},
     "output_type": "execute_result"
    }
   ],
   "source": [
    "df_train.isna().sum()"
   ]
  },
  {
   "cell_type": "code",
   "execution_count": 10,
   "metadata": {
    "pycharm": {
     "name": "#%%\n"
    }
   },
   "outputs": [
    {
     "data": {
      "text/plain": "id          0\nvas_id      0\nbuy_time    0\ndtype: int64"
     },
     "execution_count": 10,
     "metadata": {},
     "output_type": "execute_result"
    }
   ],
   "source": [
    "df_test.isna().sum()"
   ]
  },
  {
   "cell_type": "code",
   "execution_count": 11,
   "metadata": {
    "pycharm": {
     "name": "#%%\n"
    }
   },
   "outputs": [
    {
     "data": {
      "text/plain": "array(['2018-07-15T21:00:00.000000000', '2018-10-14T21:00:00.000000000',\n       '2018-12-23T21:00:00.000000000', '2018-08-12T21:00:00.000000000',\n       '2018-08-05T21:00:00.000000000', '2018-12-16T21:00:00.000000000',\n       '2018-09-23T21:00:00.000000000', '2018-12-09T21:00:00.000000000',\n       '2018-09-09T21:00:00.000000000', '2018-08-26T21:00:00.000000000',\n       '2018-08-19T21:00:00.000000000', '2018-11-18T21:00:00.000000000',\n       '2018-10-28T21:00:00.000000000', '2018-10-21T21:00:00.000000000',\n       '2018-11-04T21:00:00.000000000', '2018-09-16T21:00:00.000000000',\n       '2018-07-08T21:00:00.000000000', '2018-09-30T21:00:00.000000000',\n       '2018-07-22T21:00:00.000000000', '2018-12-30T21:00:00.000000000',\n       '2018-09-02T21:00:00.000000000', '2018-10-07T21:00:00.000000000',\n       '2019-01-13T21:00:00.000000000', '2018-12-02T21:00:00.000000000',\n       '2019-01-20T21:00:00.000000000', '2018-11-11T21:00:00.000000000',\n       '2018-07-29T21:00:00.000000000', '2019-01-06T21:00:00.000000000',\n       '2018-11-25T21:00:00.000000000'], dtype='datetime64[ns]')"
     },
     "execution_count": 11,
     "metadata": {},
     "output_type": "execute_result"
    }
   ],
   "source": [
    "#Смотрю даты\n",
    "df_features['buy_time'].unique()"
   ]
  },
  {
   "cell_type": "code",
   "execution_count": 12,
   "metadata": {
    "pycharm": {
     "name": "#%%\n"
    }
   },
   "outputs": [
    {
     "data": {
      "text/plain": "[numpy.datetime64('2019-01-06T21:00:00.000000000'),\n numpy.datetime64('2019-01-13T21:00:00.000000000'),\n numpy.datetime64('2019-01-20T21:00:00.000000000')]"
     },
     "execution_count": 12,
     "metadata": {},
     "output_type": "execute_result"
    }
   ],
   "source": [
    "#Смотрю время теста, сортируя\n",
    "test_time = sorted(df_test['buy_time'].unique())\n",
    "test_time"
   ]
  },
  {
   "cell_type": "code",
   "execution_count": 13,
   "metadata": {
    "pycharm": {
     "name": "#%%\n"
    }
   },
   "outputs": [
    {
     "data": {
      "text/plain": "[numpy.datetime64('2018-07-08T21:00:00.000000000'),\n numpy.datetime64('2018-07-15T21:00:00.000000000'),\n numpy.datetime64('2018-07-22T21:00:00.000000000'),\n numpy.datetime64('2018-07-29T21:00:00.000000000'),\n numpy.datetime64('2018-08-05T21:00:00.000000000'),\n numpy.datetime64('2018-08-12T21:00:00.000000000'),\n numpy.datetime64('2018-08-19T21:00:00.000000000'),\n numpy.datetime64('2018-08-26T21:00:00.000000000'),\n numpy.datetime64('2018-09-02T21:00:00.000000000'),\n numpy.datetime64('2018-09-09T21:00:00.000000000'),\n numpy.datetime64('2018-09-16T21:00:00.000000000'),\n numpy.datetime64('2018-09-23T21:00:00.000000000'),\n numpy.datetime64('2018-09-30T21:00:00.000000000'),\n numpy.datetime64('2018-10-07T21:00:00.000000000'),\n numpy.datetime64('2018-10-14T21:00:00.000000000'),\n numpy.datetime64('2018-10-21T21:00:00.000000000'),\n numpy.datetime64('2018-10-28T21:00:00.000000000'),\n numpy.datetime64('2018-11-04T21:00:00.000000000'),\n numpy.datetime64('2018-11-11T21:00:00.000000000'),\n numpy.datetime64('2018-11-18T21:00:00.000000000'),\n numpy.datetime64('2018-11-25T21:00:00.000000000'),\n numpy.datetime64('2018-12-02T21:00:00.000000000'),\n numpy.datetime64('2018-12-09T21:00:00.000000000'),\n numpy.datetime64('2018-12-16T21:00:00.000000000'),\n numpy.datetime64('2018-12-23T21:00:00.000000000'),\n numpy.datetime64('2018-12-30T21:00:00.000000000')]"
     },
     "execution_count": 13,
     "metadata": {},
     "output_type": "execute_result"
    }
   ],
   "source": [
    "#Смотрю время трейна, сортируя\n",
    "#Видно что на трейн, уходит 6 месяцев, а на тест один. Также видно что даты в трейн/тест и у фичей совершенно одинаковые. Это значит что можно мержить фичи в трейн/тест по паре id + дата, т.к пара id и дата полностью описывают параметры пользователей\n",
    "train_time = sorted(df_train['buy_time'].unique())\n",
    "train_time"
   ]
  },
  {
   "cell_type": "code",
   "execution_count": 14,
   "metadata": {
    "pycharm": {
     "name": "#%%\n"
    }
   },
   "outputs": [
    {
     "data": {
      "text/plain": "[numpy.datetime64('2018-07-08T21:00:00.000000000'),\n numpy.datetime64('2018-07-15T21:00:00.000000000'),\n numpy.datetime64('2018-07-22T21:00:00.000000000'),\n numpy.datetime64('2018-07-29T21:00:00.000000000'),\n numpy.datetime64('2018-08-05T21:00:00.000000000'),\n numpy.datetime64('2018-08-12T21:00:00.000000000'),\n numpy.datetime64('2018-08-19T21:00:00.000000000'),\n numpy.datetime64('2018-08-26T21:00:00.000000000'),\n numpy.datetime64('2018-09-02T21:00:00.000000000'),\n numpy.datetime64('2018-09-09T21:00:00.000000000'),\n numpy.datetime64('2018-09-16T21:00:00.000000000'),\n numpy.datetime64('2018-09-23T21:00:00.000000000'),\n numpy.datetime64('2018-09-30T21:00:00.000000000'),\n numpy.datetime64('2018-10-07T21:00:00.000000000'),\n numpy.datetime64('2018-10-14T21:00:00.000000000'),\n numpy.datetime64('2018-10-21T21:00:00.000000000'),\n numpy.datetime64('2018-10-28T21:00:00.000000000'),\n numpy.datetime64('2018-11-04T21:00:00.000000000'),\n numpy.datetime64('2018-11-11T21:00:00.000000000'),\n numpy.datetime64('2018-11-18T21:00:00.000000000'),\n numpy.datetime64('2018-11-25T21:00:00.000000000'),\n numpy.datetime64('2018-12-02T21:00:00.000000000'),\n numpy.datetime64('2018-12-09T21:00:00.000000000'),\n numpy.datetime64('2018-12-16T21:00:00.000000000'),\n numpy.datetime64('2018-12-23T21:00:00.000000000'),\n numpy.datetime64('2018-12-30T21:00:00.000000000'),\n numpy.datetime64('2019-01-06T21:00:00.000000000'),\n numpy.datetime64('2019-01-13T21:00:00.000000000'),\n numpy.datetime64('2019-01-20T21:00:00.000000000')]"
     },
     "execution_count": 14,
     "metadata": {},
     "output_type": "execute_result"
    }
   ],
   "source": [
    "feature_time = sorted(df_features['buy_time'].unique())\n",
    "feature_time"
   ]
  },
  {
   "cell_type": "code",
   "execution_count": 15,
   "metadata": {
    "pycharm": {
     "name": "#%%\n"
    }
   },
   "outputs": [
    {
     "data": {
      "text/plain": "array([8, 4, 1, 5, 2, 7, 6, 9], dtype=int64)"
     },
     "execution_count": 15,
     "metadata": {},
     "output_type": "execute_result"
    }
   ],
   "source": [
    "df_train['vas_id'].unique()"
   ]
  },
  {
   "cell_type": "code",
   "execution_count": 16,
   "metadata": {
    "pycharm": {
     "name": "#%%\n"
    }
   },
   "outputs": [
    {
     "data": {
      "text/plain": "array([2, 4, 5, 6, 1, 7, 8, 9], dtype=int64)"
     },
     "execution_count": 16,
     "metadata": {},
     "output_type": "execute_result"
    }
   ],
   "source": [
    "#Видно что услуг всего 9, их надо преобразовать в int\n",
    "df_test['vas_id'].unique()"
   ]
  },
  {
   "cell_type": "code",
   "execution_count": 17,
   "metadata": {
    "pycharm": {
     "name": "#%%\n"
    }
   },
   "outputs": [
    {
     "data": {
      "text/plain": "             id  vas_id            buy_time\n0        540968       8 2018-09-16 21:00:00\n1       1454121       4 2018-07-15 21:00:00\n2       2458816       1 2018-08-12 21:00:00\n3       3535012       5 2018-09-02 21:00:00\n4       1693214       1 2018-09-02 21:00:00\n...         ...     ...                 ...\n831648  3812226       2 2018-12-30 21:00:00\n831649  2480469       2 2018-12-30 21:00:00\n831650   158236       2 2018-12-30 21:00:00\n831651  1825525       2 2018-12-30 21:00:00\n831652  3022610       2 2018-12-30 21:00:00\n\n[831653 rows x 3 columns]",
      "text/html": "<div>\n<style scoped>\n    .dataframe tbody tr th:only-of-type {\n        vertical-align: middle;\n    }\n\n    .dataframe tbody tr th {\n        vertical-align: top;\n    }\n\n    .dataframe thead th {\n        text-align: right;\n    }\n</style>\n<table border=\"1\" class=\"dataframe\">\n  <thead>\n    <tr style=\"text-align: right;\">\n      <th></th>\n      <th>id</th>\n      <th>vas_id</th>\n      <th>buy_time</th>\n    </tr>\n  </thead>\n  <tbody>\n    <tr>\n      <th>0</th>\n      <td>540968</td>\n      <td>8</td>\n      <td>2018-09-16 21:00:00</td>\n    </tr>\n    <tr>\n      <th>1</th>\n      <td>1454121</td>\n      <td>4</td>\n      <td>2018-07-15 21:00:00</td>\n    </tr>\n    <tr>\n      <th>2</th>\n      <td>2458816</td>\n      <td>1</td>\n      <td>2018-08-12 21:00:00</td>\n    </tr>\n    <tr>\n      <th>3</th>\n      <td>3535012</td>\n      <td>5</td>\n      <td>2018-09-02 21:00:00</td>\n    </tr>\n    <tr>\n      <th>4</th>\n      <td>1693214</td>\n      <td>1</td>\n      <td>2018-09-02 21:00:00</td>\n    </tr>\n    <tr>\n      <th>...</th>\n      <td>...</td>\n      <td>...</td>\n      <td>...</td>\n    </tr>\n    <tr>\n      <th>831648</th>\n      <td>3812226</td>\n      <td>2</td>\n      <td>2018-12-30 21:00:00</td>\n    </tr>\n    <tr>\n      <th>831649</th>\n      <td>2480469</td>\n      <td>2</td>\n      <td>2018-12-30 21:00:00</td>\n    </tr>\n    <tr>\n      <th>831650</th>\n      <td>158236</td>\n      <td>2</td>\n      <td>2018-12-30 21:00:00</td>\n    </tr>\n    <tr>\n      <th>831651</th>\n      <td>1825525</td>\n      <td>2</td>\n      <td>2018-12-30 21:00:00</td>\n    </tr>\n    <tr>\n      <th>831652</th>\n      <td>3022610</td>\n      <td>2</td>\n      <td>2018-12-30 21:00:00</td>\n    </tr>\n  </tbody>\n</table>\n<p>831653 rows × 3 columns</p>\n</div>"
     },
     "execution_count": 17,
     "metadata": {},
     "output_type": "execute_result"
    }
   ],
   "source": [
    "#Просмотр баланса классов на тесте\n",
    "feats_bar = df_train.drop(columns='target')\n",
    "target = df_train['target']\n",
    "feats_bar"
   ]
  },
  {
   "cell_type": "code",
   "execution_count": 18,
   "metadata": {
    "pycharm": {
     "name": "#%%\n"
    }
   },
   "outputs": [
    {
     "data": {
      "text/plain": "0         0\n1         0\n2         0\n3         0\n4         0\n         ..\n831648    0\n831649    0\n831650    0\n831651    0\n831652    0\nName: target, Length: 831653, dtype: int64"
     },
     "execution_count": 18,
     "metadata": {},
     "output_type": "execute_result"
    }
   ],
   "source": [
    "target"
   ]
  },
  {
   "cell_type": "code",
   "execution_count": 19,
   "metadata": {
    "pycharm": {
     "name": "#%%\n"
    }
   },
   "outputs": [
    {
     "data": {
      "text/plain": "0    0.927631\n1    0.072369\nName: target, dtype: float64"
     },
     "execution_count": 19,
     "metadata": {},
     "output_type": "execute_result"
    },
    {
     "data": {
      "text/plain": "<Figure size 432x288 with 1 Axes>",
      "image/png": "[encoded data removed]"
     },
     "metadata": {
      "needs_background": "light"
     },
     "output_type": "display_data"
    }
   ],
   "source": [
    "#Очень сильный дизбаланс классов. Возможно во время обучения нужно использовать деревья или мощные ансамбли (LightGBM или CatBoost?)\n",
    "(target.value_counts()/target.shape[0]).plot(kind='bar', title='Распределение целевой переменной')\n",
    "target.value_counts()/target.shape"
   ]
  },
  {
   "cell_type": "code",
   "execution_count": 20,
   "metadata": {
    "pycharm": {
     "name": "#%%\n"
    }
   },
   "outputs": [
    {
     "name": "stdout",
     "output_type": "stream",
     "text": [
      "CPU times: total: 29.4 s\n",
      "Wall time: 31.4 s\n"
     ]
    },
    {
     "data": {
      "text/plain": "(254,)"
     },
     "execution_count": 20,
     "metadata": {},
     "output_type": "execute_result"
    }
   ],
   "source": [
    "%%time\n",
    "#Исследвание фичей\n",
    "features_copy = df_features.copy()\n",
    "features_copy.set_index('id')\n",
    "features_copy.drop(columns=['buy_time'], inplace=True)\n",
    "feature_nunique = features_copy.apply(lambda x: x.nunique(dropna=False))\n",
    "feature_nunique.shape"
   ]
  },
  {
   "cell_type": "code",
   "execution_count": 21,
   "metadata": {
    "pycharm": {
     "name": "#%%\n"
    }
   },
   "outputs": [
    {
     "data": {
      "text/plain": "<Figure size 720x360 with 1 Axes>",
      "image/png": "[encoded data removed]"
     },
     "metadata": {
      "needs_background": "light"
     },
     "output_type": "display_data"
    }
   ],
   "source": [
    "#Распределение значений\n",
    "plt.title(\"Распределение уникальных значений признаков\")\n",
    "feature_nunique.hist(bins=75,figsize=(10, 5));"
   ]
  },
  {
   "cell_type": "code",
   "execution_count": 22,
   "metadata": {
    "pycharm": {
     "name": "#%%\n"
    }
   },
   "outputs": [
    {
     "data": {
      "text/plain": "254"
     },
     "execution_count": 22,
     "metadata": {},
     "output_type": "execute_result"
    }
   ],
   "source": [
    "#Все признаки\n",
    "f_all = set(feature_nunique.index.tolist())\n",
    "len(f_all)"
   ]
  },
  {
   "cell_type": "code",
   "execution_count": 23,
   "metadata": {
    "pycharm": {
     "name": "#%%\n"
    }
   },
   "outputs": [
    {
     "data": {
      "text/plain": "5"
     },
     "execution_count": 23,
     "metadata": {},
     "output_type": "execute_result"
    }
   ],
   "source": [
    "#Константные признаки, подлежат удалению (неиспользованию в обучении модели)\n",
    "f_const = set(feature_nunique[feature_nunique == 1].index.tolist())\n",
    "len(f_const)"
   ]
  },
  {
   "cell_type": "code",
   "execution_count": 24,
   "metadata": {
    "pycharm": {
     "name": "#%%\n"
    }
   },
   "outputs": [
    {
     "data": {
      "text/plain": "{'139', '203', '75', '81', '85'}"
     },
     "execution_count": 24,
     "metadata": {},
     "output_type": "execute_result"
    }
   ],
   "source": [
    "f_const"
   ]
  },
  {
   "cell_type": "code",
   "execution_count": 25,
   "metadata": {
    "pycharm": {
     "name": "#%%\n"
    }
   },
   "outputs": [
    {
     "name": "stdout",
     "output_type": "stream",
     "text": [
      "CPU times: total: 14.8 s\n",
      "Wall time: 16.4 s\n"
     ]
    },
    {
     "data": {
      "text/plain": "247"
     },
     "execution_count": 25,
     "metadata": {},
     "output_type": "execute_result"
    }
   ],
   "source": [
    "%%time\n",
    "#Вещественные признаки\n",
    "f_numeric = (features_copy.fillna(0).astype(int).sum() - features_copy.fillna(0).sum()).abs()\n",
    "f_numeric = set(f_numeric[f_numeric > 0].index.tolist())\n",
    "len(f_numeric)"
   ]
  },
  {
   "cell_type": "code",
   "execution_count": 26,
   "metadata": {
    "pycharm": {
     "name": "#%%\n"
    }
   },
   "outputs": [
    {
     "data": {
      "text/plain": "2"
     },
     "execution_count": 26,
     "metadata": {},
     "output_type": "execute_result"
    }
   ],
   "source": [
    "f_other = f_all - (f_numeric | f_const)\n",
    "len(f_other)"
   ]
  },
  {
   "cell_type": "code",
   "execution_count": 27,
   "metadata": {
    "pycharm": {
     "name": "#%%\n"
    }
   },
   "outputs": [
    {
     "data": {
      "text/plain": "{'252', 'id'}"
     },
     "execution_count": 27,
     "metadata": {},
     "output_type": "execute_result"
    }
   ],
   "source": [
    "#Остается 2 признака, id это понятно и 2ой скорее всего бинарный, посмотрим на него\n",
    "f_other"
   ]
  },
  {
   "cell_type": "code",
   "execution_count": 28,
   "metadata": {
    "pycharm": {
     "name": "#%%\n"
    }
   },
   "outputs": [
    {
     "data": {
      "text/plain": "60"
     },
     "execution_count": 28,
     "metadata": {},
     "output_type": "execute_result"
    }
   ],
   "source": [
    "#Видно что целочисленный, можно кидать в предобработку его на целое число, не категория определенно\n",
    "features_copy['252'].nunique()"
   ]
  },
  {
   "cell_type": "markdown",
   "metadata": {
    "pycharm": {
     "name": "#%% md\n"
    }
   },
   "source": [
    "### Итоги EDA, выводы\n",
    "1. Отсутствуют Null, id уникальны можно поставить индексом в датафреймах<br/>\n",
    "2. Признаки с разными уникальными значениями, там где одно уникальное значение - их можно удалить, они не несут никакого смысла<br/>\n",
    "3. Даты в фичах и в трейн/тест - одинаковые уникальные значения, это хорошо можно сразу мерджить фичи в трейн/тест данные по id + buy_time<br/>\n",
    "4. Сильный дизбаланс классов, линейные модели вряд ли обучатся хорошо. Нужно использовать ансамбли или случайные леса скорее всего.<br/>\n",
    "5. Target, vas_id нужно преобразовать в Int<br/>\n",
    "6. Все признаки у которых уникальные значения в диапазоне от 2 до 30 считаем категориальными на старте<br/>\n",
    "7. При попадании данных в пайплайн постараться делать сразу 3 действия: buy_time преобразовывать в date_time, делать drop 'Unnamed: 0', делать лефт мердж  по id и buy_time<br/>\n",
    "\n",
    "\n",
    "UPD: Во второй ячейке написал функцию по первичной предобработке данных, по пункту 7 + сразу преобразовывает в инт указанные колонки<br/>\n",
    "UPD2: Просмотрел фичи в датасете с фичами, теперь мерджить и писать пайплайны"
   ]
  },
  {
   "cell_type": "markdown",
   "source": [
    "### 2. Подготовка данных для обучения модели (Feature Engineering)"
   ],
   "metadata": {
    "collapsed": false,
    "pycharm": {
     "name": "#%% md\n"
    }
   }
  },
  {
   "cell_type": "code",
   "execution_count": 29,
   "outputs": [
    {
     "data": {
      "text/plain": "               97        79          51        187         13          25  \\\n0       -0.348913 -0.998268   52.911014   4.645192  49.520873   -2.082209   \n1       -0.348913 -0.998268   -8.088986 -16.354808  67.300873  131.407791   \n2       -0.348913 -0.998268    0.911014   6.645192 -66.189127    0.457791   \n3       -0.348913 -0.998268  -21.088986  -8.354808  37.620873   -2.082209   \n4       -0.348913 -0.998268    6.911014 -16.354808 -66.189127   -2.082209   \n...           ...       ...         ...        ...        ...         ...   \n2249995 -0.348913 -0.998268   13.911014   9.645192 -66.189127   -2.082209   \n2249996 -0.348913 -0.998268  -39.088986 -16.354808 -54.359127   -2.082209   \n2249997 -0.348913 -0.998268   39.911014  19.645192 -66.189127   -2.082209   \n2249998 -0.348913 -0.998268  103.911014 -16.354808 -66.189127   -2.082209   \n2249999 -0.348913 -0.998268  -22.088986 -15.354808 -66.189127   -2.082209   \n\n              148           2        168       110  ...         55        140  \\\n0       -0.317164    4.969214 -51.984826 -0.473446  ...  38.254749  -1.276187   \n1       -0.317164  448.069214 -51.984826 -2.473446  ...   1.254749  -1.276187   \n2       -0.317164  -63.180786  12.548504 -2.473446  ...  19.254749  -1.276187   \n3       -0.317164   -6.930786 -51.984826  1.526554  ...  -5.745251  -1.276187   \n4       -0.317164 -104.380786 -51.984826 -2.473446  ...  15.254749  -1.276187   \n...           ...         ...        ...       ...  ...        ...        ...   \n2249995 -0.317164  -98.030786  11.298507  1.526554  ...   2.254749  -1.276187   \n2249996 -0.317164  -68.400786 -51.984826 -2.473446  ...  -9.745251  -1.276187   \n2249997  0.372836   96.029214 -51.984826  0.526554  ...   0.254749  95.323813   \n2249998 -0.317164 -110.740786 -51.984826 -2.473446  ...  -8.745251  -1.276187   \n2249999 -0.317164  -24.050786 -17.584826 -2.473446  ...  -7.745251  -1.276187   \n\n               226        95           116        106         45        61  \\\n0         5.565998 -0.000115  -2844.828651  -9.408469 -16.642826  0.331838   \n1         5.232666 -0.000115  -2940.989783  -9.408469 -65.059494 -0.408162   \n2       -10.580668 -0.000115  11354.061013  -1.768469  -0.526164 -0.118162   \n3        -8.045113 -0.000115  -1386.298387  -9.408469 -32.309494  0.141838   \n4        -4.350668 -0.000115  -2945.772987  -9.408469 -65.059494 -0.408162   \n...            ...       ...           ...        ...        ...       ...   \n2249995  -4.792975 -0.000115   2676.237013  -9.408469  -1.776157 -0.048162   \n2249996  -7.913168 -0.000115  -2709.443867  -9.408469 -62.142828  0.311838   \n2249997 -10.665885 -0.000115    419.431013  -9.408469  22.757176 -0.088162   \n2249998 -15.038168 -0.000115  -2945.754431  -9.408469 -65.059494 -0.408162   \n2249999  -4.792975 -0.000115  13788.825013  33.311531 -20.226162 -0.148162   \n\n              118        136  \n0       -0.343415   3.277409  \n1       -0.343415  -2.722591  \n2       -0.343415  -2.722591  \n3       -0.343415   6.277409  \n4       -0.343415  -2.722591  \n...           ...        ...  \n2249995 -0.343415  -2.722591  \n2249996 -0.343415  -0.722591  \n2249997 -0.343415  20.277409  \n2249998 -0.343415  -2.722591  \n2249999 -0.343415   9.277409  \n\n[2250000 rows x 250 columns]",
      "text/html": "<div>\n<style scoped>\n    .dataframe tbody tr th:only-of-type {\n        vertical-align: middle;\n    }\n\n    .dataframe tbody tr th {\n        vertical-align: top;\n    }\n\n    .dataframe thead th {\n        text-align: right;\n    }\n</style>\n<table border=\"1\" class=\"dataframe\">\n  <thead>\n    <tr style=\"text-align: right;\">\n      <th></th>\n      <th>97</th>\n      <th>79</th>\n      <th>51</th>\n      <th>187</th>\n      <th>13</th>\n      <th>25</th>\n      <th>148</th>\n      <th>2</th>\n      <th>168</th>\n      <th>110</th>\n      <th>...</th>\n      <th>55</th>\n      <th>140</th>\n      <th>226</th>\n      <th>95</th>\n      <th>116</th>\n      <th>106</th>\n      <th>45</th>\n      <th>61</th>\n      <th>118</th>\n      <th>136</th>\n    </tr>\n  </thead>\n  <tbody>\n    <tr>\n      <th>0</th>\n      <td>-0.348913</td>\n      <td>-0.998268</td>\n      <td>52.911014</td>\n      <td>4.645192</td>\n      <td>49.520873</td>\n      <td>-2.082209</td>\n      <td>-0.317164</td>\n      <td>4.969214</td>\n      <td>-51.984826</td>\n      <td>-0.473446</td>\n      <td>...</td>\n      <td>38.254749</td>\n      <td>-1.276187</td>\n      <td>5.565998</td>\n      <td>-0.000115</td>\n      <td>-2844.828651</td>\n      <td>-9.408469</td>\n      <td>-16.642826</td>\n      <td>0.331838</td>\n      <td>-0.343415</td>\n      <td>3.277409</td>\n    </tr>\n    <tr>\n      <th>1</th>\n      <td>-0.348913</td>\n      <td>-0.998268</td>\n      <td>-8.088986</td>\n      <td>-16.354808</td>\n      <td>67.300873</td>\n      <td>131.407791</td>\n      <td>-0.317164</td>\n      <td>448.069214</td>\n      <td>-51.984826</td>\n      <td>-2.473446</td>\n      <td>...</td>\n      <td>1.254749</td>\n      <td>-1.276187</td>\n      <td>5.232666</td>\n      <td>-0.000115</td>\n      <td>-2940.989783</td>\n      <td>-9.408469</td>\n      <td>-65.059494</td>\n      <td>-0.408162</td>\n      <td>-0.343415</td>\n      <td>-2.722591</td>\n    </tr>\n    <tr>\n      <th>2</th>\n      <td>-0.348913</td>\n      <td>-0.998268</td>\n      <td>0.911014</td>\n      <td>6.645192</td>\n      <td>-66.189127</td>\n      <td>0.457791</td>\n      <td>-0.317164</td>\n      <td>-63.180786</td>\n      <td>12.548504</td>\n      <td>-2.473446</td>\n      <td>...</td>\n      <td>19.254749</td>\n      <td>-1.276187</td>\n      <td>-10.580668</td>\n      <td>-0.000115</td>\n      <td>11354.061013</td>\n      <td>-1.768469</td>\n      <td>-0.526164</td>\n      <td>-0.118162</td>\n      <td>-0.343415</td>\n      <td>-2.722591</td>\n    </tr>\n    <tr>\n      <th>3</th>\n      <td>-0.348913</td>\n      <td>-0.998268</td>\n      <td>-21.088986</td>\n      <td>-8.354808</td>\n      <td>37.620873</td>\n      <td>-2.082209</td>\n      <td>-0.317164</td>\n      <td>-6.930786</td>\n      <td>-51.984826</td>\n      <td>1.526554</td>\n      <td>...</td>\n      <td>-5.745251</td>\n      <td>-1.276187</td>\n      <td>-8.045113</td>\n      <td>-0.000115</td>\n      <td>-1386.298387</td>\n      <td>-9.408469</td>\n      <td>-32.309494</td>\n      <td>0.141838</td>\n      <td>-0.343415</td>\n      <td>6.277409</td>\n    </tr>\n    <tr>\n      <th>4</th>\n      <td>-0.348913</td>\n      <td>-0.998268</td>\n      <td>6.911014</td>\n      <td>-16.354808</td>\n      <td>-66.189127</td>\n      <td>-2.082209</td>\n      <td>-0.317164</td>\n      <td>-104.380786</td>\n      <td>-51.984826</td>\n      <td>-2.473446</td>\n      <td>...</td>\n      <td>15.254749</td>\n      <td>-1.276187</td>\n      <td>-4.350668</td>\n      <td>-0.000115</td>\n      <td>-2945.772987</td>\n      <td>-9.408469</td>\n      <td>-65.059494</td>\n      <td>-0.408162</td>\n      <td>-0.343415</td>\n      <td>-2.722591</td>\n    </tr>\n    <tr>\n      <th>...</th>\n      <td>...</td>\n      <td>...</td>\n      <td>...</td>\n      <td>...</td>\n      <td>...</td>\n      <td>...</td>\n      <td>...</td>\n      <td>...</td>\n      <td>...</td>\n      <td>...</td>\n      <td>...</td>\n      <td>...</td>\n      <td>...</td>\n      <td>...</td>\n      <td>...</td>\n      <td>...</td>\n      <td>...</td>\n      <td>...</td>\n      <td>...</td>\n      <td>...</td>\n      <td>...</td>\n    </tr>\n    <tr>\n      <th>2249995</th>\n      <td>-0.348913</td>\n      <td>-0.998268</td>\n      <td>13.911014</td>\n      <td>9.645192</td>\n      <td>-66.189127</td>\n      <td>-2.082209</td>\n      <td>-0.317164</td>\n      <td>-98.030786</td>\n      <td>11.298507</td>\n      <td>1.526554</td>\n      <td>...</td>\n      <td>2.254749</td>\n      <td>-1.276187</td>\n      <td>-4.792975</td>\n      <td>-0.000115</td>\n      <td>2676.237013</td>\n      <td>-9.408469</td>\n      <td>-1.776157</td>\n      <td>-0.048162</td>\n      <td>-0.343415</td>\n      <td>-2.722591</td>\n    </tr>\n    <tr>\n      <th>2249996</th>\n      <td>-0.348913</td>\n      <td>-0.998268</td>\n      <td>-39.088986</td>\n      <td>-16.354808</td>\n      <td>-54.359127</td>\n      <td>-2.082209</td>\n      <td>-0.317164</td>\n      <td>-68.400786</td>\n      <td>-51.984826</td>\n      <td>-2.473446</td>\n      <td>...</td>\n      <td>-9.745251</td>\n      <td>-1.276187</td>\n      <td>-7.913168</td>\n      <td>-0.000115</td>\n      <td>-2709.443867</td>\n      <td>-9.408469</td>\n      <td>-62.142828</td>\n      <td>0.311838</td>\n      <td>-0.343415</td>\n      <td>-0.722591</td>\n    </tr>\n    <tr>\n      <th>2249997</th>\n      <td>-0.348913</td>\n      <td>-0.998268</td>\n      <td>39.911014</td>\n      <td>19.645192</td>\n      <td>-66.189127</td>\n      <td>-2.082209</td>\n      <td>0.372836</td>\n      <td>96.029214</td>\n      <td>-51.984826</td>\n      <td>0.526554</td>\n      <td>...</td>\n      <td>0.254749</td>\n      <td>95.323813</td>\n      <td>-10.665885</td>\n      <td>-0.000115</td>\n      <td>419.431013</td>\n      <td>-9.408469</td>\n      <td>22.757176</td>\n      <td>-0.088162</td>\n      <td>-0.343415</td>\n      <td>20.277409</td>\n    </tr>\n    <tr>\n      <th>2249998</th>\n      <td>-0.348913</td>\n      <td>-0.998268</td>\n      <td>103.911014</td>\n      <td>-16.354808</td>\n      <td>-66.189127</td>\n      <td>-2.082209</td>\n      <td>-0.317164</td>\n      <td>-110.740786</td>\n      <td>-51.984826</td>\n      <td>-2.473446</td>\n      <td>...</td>\n      <td>-8.745251</td>\n      <td>-1.276187</td>\n      <td>-15.038168</td>\n      <td>-0.000115</td>\n      <td>-2945.754431</td>\n      <td>-9.408469</td>\n      <td>-65.059494</td>\n      <td>-0.408162</td>\n      <td>-0.343415</td>\n      <td>-2.722591</td>\n    </tr>\n    <tr>\n      <th>2249999</th>\n      <td>-0.348913</td>\n      <td>-0.998268</td>\n      <td>-22.088986</td>\n      <td>-15.354808</td>\n      <td>-66.189127</td>\n      <td>-2.082209</td>\n      <td>-0.317164</td>\n      <td>-24.050786</td>\n      <td>-17.584826</td>\n      <td>-2.473446</td>\n      <td>...</td>\n      <td>-7.745251</td>\n      <td>-1.276187</td>\n      <td>-4.792975</td>\n      <td>-0.000115</td>\n      <td>13788.825013</td>\n      <td>33.311531</td>\n      <td>-20.226162</td>\n      <td>-0.148162</td>\n      <td>-0.343415</td>\n      <td>9.277409</td>\n    </tr>\n  </tbody>\n</table>\n<p>2250000 rows × 250 columns</p>\n</div>"
     },
     "execution_count": 29,
     "metadata": {},
     "output_type": "execute_result"
    }
   ],
   "source": [
    "#Выбираем признаки для обучения\n",
    "f_other.add('buy_time')\n",
    "f_ok = list(f_other | f_numeric)\n",
    "feats = df_features[f_ok]\n",
    "feats"
   ],
   "metadata": {
    "collapsed": false,
    "pycharm": {
     "name": "#%%\n"
    }
   }
  },
  {
   "cell_type": "code",
   "execution_count": 30,
   "outputs": [
    {
     "name": "stdout",
     "output_type": "stream",
     "text": [
      "CPU times: total: 19.2 s\n",
      "Wall time: 21.3 s\n"
     ]
    },
    {
     "data": {
      "text/plain": "             id  vas_id          buy_time_x  target        97        79  \\\n0       3535012       5 2018-09-02 21:00:00       0 -0.348913 -0.998268   \n1       1693214       1 2018-09-02 21:00:00       0 -0.348913 -0.998268   \n2       3173665       8 2018-07-29 21:00:00       0 -0.348913 -0.998268   \n3       3577737       5 2018-12-23 21:00:00       0 -0.348913 -0.998268   \n4       2000856       1 2018-08-19 21:00:00       0 -0.348913 -0.998268   \n...         ...     ...                 ...     ...       ...       ...   \n429311  2545695       5 2018-12-30 21:00:00       0 -0.348913 -0.998268   \n429312  3388613       5 2018-12-30 21:00:00       0 -0.348913 -0.998268   \n429313  3897358       2 2018-12-30 21:00:00       0 -0.348913 -0.998268   \n429314  2480469       2 2018-12-30 21:00:00       0 -0.348913 -0.998268   \n429315  1825525       2 2018-12-30 21:00:00       0 -0.348913 -0.998268   \n\n                51        187         13        25  ...         55        140  \\\n0        20.911014  13.645192  -9.829127 -2.082209  ...  -1.745251  -1.276187   \n1        31.911014  34.645192 -66.189127 -2.082209  ...  -6.745251  -1.276187   \n2       -49.088986  -5.354808 -66.189127 -2.082209  ...  -8.745251  -1.276187   \n3        31.911014  -4.354808 -66.189127 -2.082209  ...  -8.745251  -1.276187   \n4       165.911014  78.645192 -66.189127 -2.082209  ...   9.254749  81.743813   \n...            ...        ...        ...       ...  ...        ...        ...   \n429311  -23.088986   3.645192 -66.189127 -2.082209  ...  14.254749  -1.276187   \n429312  -41.088986 -13.354808 -66.189127  0.967791  ...  -7.745251  -1.276187   \n429313   -5.088986 -12.354808 -66.189127 -2.082209  ...  -5.745251  -1.276187   \n429314  -12.088986 -15.354808 -66.189127  0.457791  ...  -6.745251  -1.276187   \n429315  -19.088986 -16.354808 -66.189127 -2.082209  ...  -3.745251  -1.276187   \n\n              226        95           116         106          45        61  \\\n0      -11.137705 -0.000115  -2409.657757   14.721531   21.107170  0.061838   \n1      -10.535450 -0.000115  -1475.845287  193.991531  143.573836 -0.128162   \n2      -17.100668 -0.000115  -2945.772987   20.241531  -23.992828  0.081838   \n3        1.274332 -0.000115  -2379.139187   -9.408469  -16.426159 -0.108162   \n4      -13.125668 -0.000115  -1468.236887   25.761531  155.423846  0.221838   \n...           ...       ...           ...         ...         ...       ...   \n429311  19.149332 -0.000115  -1580.319887   -9.408469  -43.876160 -0.058162   \n429312  -2.100668 -0.000115  13701.180013   -9.408469  -29.576160 -0.018162   \n429313  -3.434001 -0.000115  -1635.495687   -9.408469  -64.676161 -0.128162   \n429314 -17.100668 -0.000115   3876.237713   -9.408469  -48.592829 -0.048162   \n429315 -12.786382 -0.000115  -2945.772987   -9.408469  -65.059494 -0.408162   \n\n             118        136  \n0      -0.343415  -2.722591  \n1      -0.343415  -2.722591  \n2      -0.343415  -2.722591  \n3      -0.343415  27.277409  \n4      -0.343415  -2.722591  \n...          ...        ...  \n429311 -0.343415  -2.722591  \n429312 -0.343415  -2.722591  \n429313 -0.343415  -2.722591  \n429314 -0.343415  10.277409  \n429315 -0.343415  -2.722591  \n\n[429316 rows x 253 columns]",
      "text/html": "<div>\n<style scoped>\n    .dataframe tbody tr th:only-of-type {\n        vertical-align: middle;\n    }\n\n    .dataframe tbody tr th {\n        vertical-align: top;\n    }\n\n    .dataframe thead th {\n        text-align: right;\n    }\n</style>\n<table border=\"1\" class=\"dataframe\">\n  <thead>\n    <tr style=\"text-align: right;\">\n      <th></th>\n      <th>id</th>\n      <th>vas_id</th>\n      <th>buy_time_x</th>\n      <th>target</th>\n      <th>97</th>\n      <th>79</th>\n      <th>51</th>\n      <th>187</th>\n      <th>13</th>\n      <th>25</th>\n      <th>...</th>\n      <th>55</th>\n      <th>140</th>\n      <th>226</th>\n      <th>95</th>\n      <th>116</th>\n      <th>106</th>\n      <th>45</th>\n      <th>61</th>\n      <th>118</th>\n      <th>136</th>\n    </tr>\n  </thead>\n  <tbody>\n    <tr>\n      <th>0</th>\n      <td>3535012</td>\n      <td>5</td>\n      <td>2018-09-02 21:00:00</td>\n      <td>0</td>\n      <td>-0.348913</td>\n      <td>-0.998268</td>\n      <td>20.911014</td>\n      <td>13.645192</td>\n      <td>-9.829127</td>\n      <td>-2.082209</td>\n      <td>...</td>\n      <td>-1.745251</td>\n      <td>-1.276187</td>\n      <td>-11.137705</td>\n      <td>-0.000115</td>\n      <td>-2409.657757</td>\n      <td>14.721531</td>\n      <td>21.107170</td>\n      <td>0.061838</td>\n      <td>-0.343415</td>\n      <td>-2.722591</td>\n    </tr>\n    <tr>\n      <th>1</th>\n      <td>1693214</td>\n      <td>1</td>\n      <td>2018-09-02 21:00:00</td>\n      <td>0</td>\n      <td>-0.348913</td>\n      <td>-0.998268</td>\n      <td>31.911014</td>\n      <td>34.645192</td>\n      <td>-66.189127</td>\n      <td>-2.082209</td>\n      <td>...</td>\n      <td>-6.745251</td>\n      <td>-1.276187</td>\n      <td>-10.535450</td>\n      <td>-0.000115</td>\n      <td>-1475.845287</td>\n      <td>193.991531</td>\n      <td>143.573836</td>\n      <td>-0.128162</td>\n      <td>-0.343415</td>\n      <td>-2.722591</td>\n    </tr>\n    <tr>\n      <th>2</th>\n      <td>3173665</td>\n      <td>8</td>\n      <td>2018-07-29 21:00:00</td>\n      <td>0</td>\n      <td>-0.348913</td>\n      <td>-0.998268</td>\n      <td>-49.088986</td>\n      <td>-5.354808</td>\n      <td>-66.189127</td>\n      <td>-2.082209</td>\n      <td>...</td>\n      <td>-8.745251</td>\n      <td>-1.276187</td>\n      <td>-17.100668</td>\n      <td>-0.000115</td>\n      <td>-2945.772987</td>\n      <td>20.241531</td>\n      <td>-23.992828</td>\n      <td>0.081838</td>\n      <td>-0.343415</td>\n      <td>-2.722591</td>\n    </tr>\n    <tr>\n      <th>3</th>\n      <td>3577737</td>\n      <td>5</td>\n      <td>2018-12-23 21:00:00</td>\n      <td>0</td>\n      <td>-0.348913</td>\n      <td>-0.998268</td>\n      <td>31.911014</td>\n      <td>-4.354808</td>\n      <td>-66.189127</td>\n      <td>-2.082209</td>\n      <td>...</td>\n      <td>-8.745251</td>\n      <td>-1.276187</td>\n      <td>1.274332</td>\n      <td>-0.000115</td>\n      <td>-2379.139187</td>\n      <td>-9.408469</td>\n      <td>-16.426159</td>\n      <td>-0.108162</td>\n      <td>-0.343415</td>\n      <td>27.277409</td>\n    </tr>\n    <tr>\n      <th>4</th>\n      <td>2000856</td>\n      <td>1</td>\n      <td>2018-08-19 21:00:00</td>\n      <td>0</td>\n      <td>-0.348913</td>\n      <td>-0.998268</td>\n      <td>165.911014</td>\n      <td>78.645192</td>\n      <td>-66.189127</td>\n      <td>-2.082209</td>\n      <td>...</td>\n      <td>9.254749</td>\n      <td>81.743813</td>\n      <td>-13.125668</td>\n      <td>-0.000115</td>\n      <td>-1468.236887</td>\n      <td>25.761531</td>\n      <td>155.423846</td>\n      <td>0.221838</td>\n      <td>-0.343415</td>\n      <td>-2.722591</td>\n    </tr>\n    <tr>\n      <th>...</th>\n      <td>...</td>\n      <td>...</td>\n      <td>...</td>\n      <td>...</td>\n      <td>...</td>\n      <td>...</td>\n      <td>...</td>\n      <td>...</td>\n      <td>...</td>\n      <td>...</td>\n      <td>...</td>\n      <td>...</td>\n      <td>...</td>\n      <td>...</td>\n      <td>...</td>\n      <td>...</td>\n      <td>...</td>\n      <td>...</td>\n      <td>...</td>\n      <td>...</td>\n      <td>...</td>\n    </tr>\n    <tr>\n      <th>429311</th>\n      <td>2545695</td>\n      <td>5</td>\n      <td>2018-12-30 21:00:00</td>\n      <td>0</td>\n      <td>-0.348913</td>\n      <td>-0.998268</td>\n      <td>-23.088986</td>\n      <td>3.645192</td>\n      <td>-66.189127</td>\n      <td>-2.082209</td>\n      <td>...</td>\n      <td>14.254749</td>\n      <td>-1.276187</td>\n      <td>19.149332</td>\n      <td>-0.000115</td>\n      <td>-1580.319887</td>\n      <td>-9.408469</td>\n      <td>-43.876160</td>\n      <td>-0.058162</td>\n      <td>-0.343415</td>\n      <td>-2.722591</td>\n    </tr>\n    <tr>\n      <th>429312</th>\n      <td>3388613</td>\n      <td>5</td>\n      <td>2018-12-30 21:00:00</td>\n      <td>0</td>\n      <td>-0.348913</td>\n      <td>-0.998268</td>\n      <td>-41.088986</td>\n      <td>-13.354808</td>\n      <td>-66.189127</td>\n      <td>0.967791</td>\n      <td>...</td>\n      <td>-7.745251</td>\n      <td>-1.276187</td>\n      <td>-2.100668</td>\n      <td>-0.000115</td>\n      <td>13701.180013</td>\n      <td>-9.408469</td>\n      <td>-29.576160</td>\n      <td>-0.018162</td>\n      <td>-0.343415</td>\n      <td>-2.722591</td>\n    </tr>\n    <tr>\n      <th>429313</th>\n      <td>3897358</td>\n      <td>2</td>\n      <td>2018-12-30 21:00:00</td>\n      <td>0</td>\n      <td>-0.348913</td>\n      <td>-0.998268</td>\n      <td>-5.088986</td>\n      <td>-12.354808</td>\n      <td>-66.189127</td>\n      <td>-2.082209</td>\n      <td>...</td>\n      <td>-5.745251</td>\n      <td>-1.276187</td>\n      <td>-3.434001</td>\n      <td>-0.000115</td>\n      <td>-1635.495687</td>\n      <td>-9.408469</td>\n      <td>-64.676161</td>\n      <td>-0.128162</td>\n      <td>-0.343415</td>\n      <td>-2.722591</td>\n    </tr>\n    <tr>\n      <th>429314</th>\n      <td>2480469</td>\n      <td>2</td>\n      <td>2018-12-30 21:00:00</td>\n      <td>0</td>\n      <td>-0.348913</td>\n      <td>-0.998268</td>\n      <td>-12.088986</td>\n      <td>-15.354808</td>\n      <td>-66.189127</td>\n      <td>0.457791</td>\n      <td>...</td>\n      <td>-6.745251</td>\n      <td>-1.276187</td>\n      <td>-17.100668</td>\n      <td>-0.000115</td>\n      <td>3876.237713</td>\n      <td>-9.408469</td>\n      <td>-48.592829</td>\n      <td>-0.048162</td>\n      <td>-0.343415</td>\n      <td>10.277409</td>\n    </tr>\n    <tr>\n      <th>429315</th>\n      <td>1825525</td>\n      <td>2</td>\n      <td>2018-12-30 21:00:00</td>\n      <td>0</td>\n      <td>-0.348913</td>\n      <td>-0.998268</td>\n      <td>-19.088986</td>\n      <td>-16.354808</td>\n      <td>-66.189127</td>\n      <td>-2.082209</td>\n      <td>...</td>\n      <td>-3.745251</td>\n      <td>-1.276187</td>\n      <td>-12.786382</td>\n      <td>-0.000115</td>\n      <td>-2945.772987</td>\n      <td>-9.408469</td>\n      <td>-65.059494</td>\n      <td>-0.408162</td>\n      <td>-0.343415</td>\n      <td>-2.722591</td>\n    </tr>\n  </tbody>\n</table>\n<p>429316 rows × 253 columns</p>\n</div>"
     },
     "execution_count": 30,
     "metadata": {},
     "output_type": "execute_result"
    }
   ],
   "source": [
    "%%time\n",
    "#Мерджим наш трейн с признаками по id. Даты получится 2 штуки, buy_time услуги и время сбора информации об абоненте. Также планирую добавить еще одну фичу, которая будет отвечать за разницу этого времени. Полагаю что чем значение больше ее будет, тем хуже, т.к информация об абоненте менее актуальна\n",
    "train_feats_half1 = df_train.merge(feats, how='inner', on='id')\n",
    "train_feats_half1"
   ],
   "metadata": {
    "collapsed": false,
    "pycharm": {
     "name": "#%%\n"
    }
   }
  },
  {
   "cell_type": "code",
   "execution_count": 31,
   "outputs": [
    {
     "name": "stdout",
     "output_type": "stream",
     "text": [
      "CPU times: total: 0 ns\n",
      "Wall time: 57.6 ms\n"
     ]
    },
    {
     "data": {
      "text/plain": "             id  vas_id            buy_time   data_recieve_time  target\n0       3535012       5 2018-09-02 21:00:00 2018-08-05 21:00:00       0\n1       1693214       1 2018-09-02 21:00:00 2018-11-25 21:00:00       0\n2       3173665       8 2018-07-29 21:00:00 2018-09-23 21:00:00       0\n3       3577737       5 2018-12-23 21:00:00 2018-07-08 21:00:00       0\n4       2000856       1 2018-08-19 21:00:00 2018-07-15 21:00:00       0\n...         ...     ...                 ...                 ...     ...\n429311  2545695       5 2018-12-30 21:00:00 2018-07-22 21:00:00       0\n429312  3388613       5 2018-12-30 21:00:00 2018-12-16 21:00:00       0\n429313  3897358       2 2018-12-30 21:00:00 2018-12-09 21:00:00       0\n429314  2480469       2 2018-12-30 21:00:00 2018-07-22 21:00:00       0\n429315  1825525       2 2018-12-30 21:00:00 2018-08-05 21:00:00       0\n\n[429316 rows x 5 columns]",
      "text/html": "<div>\n<style scoped>\n    .dataframe tbody tr th:only-of-type {\n        vertical-align: middle;\n    }\n\n    .dataframe tbody tr th {\n        vertical-align: top;\n    }\n\n    .dataframe thead th {\n        text-align: right;\n    }\n</style>\n<table border=\"1\" class=\"dataframe\">\n  <thead>\n    <tr style=\"text-align: right;\">\n      <th></th>\n      <th>id</th>\n      <th>vas_id</th>\n      <th>buy_time</th>\n      <th>data_recieve_time</th>\n      <th>target</th>\n    </tr>\n  </thead>\n  <tbody>\n    <tr>\n      <th>0</th>\n      <td>3535012</td>\n      <td>5</td>\n      <td>2018-09-02 21:00:00</td>\n      <td>2018-08-05 21:00:00</td>\n      <td>0</td>\n    </tr>\n    <tr>\n      <th>1</th>\n      <td>1693214</td>\n      <td>1</td>\n      <td>2018-09-02 21:00:00</td>\n      <td>2018-11-25 21:00:00</td>\n      <td>0</td>\n    </tr>\n    <tr>\n      <th>2</th>\n      <td>3173665</td>\n      <td>8</td>\n      <td>2018-07-29 21:00:00</td>\n      <td>2018-09-23 21:00:00</td>\n      <td>0</td>\n    </tr>\n    <tr>\n      <th>3</th>\n      <td>3577737</td>\n      <td>5</td>\n      <td>2018-12-23 21:00:00</td>\n      <td>2018-07-08 21:00:00</td>\n      <td>0</td>\n    </tr>\n    <tr>\n      <th>4</th>\n      <td>2000856</td>\n      <td>1</td>\n      <td>2018-08-19 21:00:00</td>\n      <td>2018-07-15 21:00:00</td>\n      <td>0</td>\n    </tr>\n    <tr>\n      <th>...</th>\n      <td>...</td>\n      <td>...</td>\n      <td>...</td>\n      <td>...</td>\n      <td>...</td>\n    </tr>\n    <tr>\n      <th>429311</th>\n      <td>2545695</td>\n      <td>5</td>\n      <td>2018-12-30 21:00:00</td>\n      <td>2018-07-22 21:00:00</td>\n      <td>0</td>\n    </tr>\n    <tr>\n      <th>429312</th>\n      <td>3388613</td>\n      <td>5</td>\n      <td>2018-12-30 21:00:00</td>\n      <td>2018-12-16 21:00:00</td>\n      <td>0</td>\n    </tr>\n    <tr>\n      <th>429313</th>\n      <td>3897358</td>\n      <td>2</td>\n      <td>2018-12-30 21:00:00</td>\n      <td>2018-12-09 21:00:00</td>\n      <td>0</td>\n    </tr>\n    <tr>\n      <th>429314</th>\n      <td>2480469</td>\n      <td>2</td>\n      <td>2018-12-30 21:00:00</td>\n      <td>2018-07-22 21:00:00</td>\n      <td>0</td>\n    </tr>\n    <tr>\n      <th>429315</th>\n      <td>1825525</td>\n      <td>2</td>\n      <td>2018-12-30 21:00:00</td>\n      <td>2018-08-05 21:00:00</td>\n      <td>0</td>\n    </tr>\n  </tbody>\n</table>\n<p>429316 rows × 5 columns</p>\n</div>"
     },
     "execution_count": 31,
     "metadata": {},
     "output_type": "execute_result"
    }
   ],
   "source": [
    "%%time\n",
    "#Преобразование дат и просмотр датасета\n",
    "train_feats_half1.rename(columns={'buy_time_x': 'buy_time', 'buy_time_y': 'data_recieve_time'}, inplace=True)\n",
    "train_feats_half1[['id', 'vas_id', 'buy_time', 'data_recieve_time', 'target']]"
   ],
   "metadata": {
    "collapsed": false,
    "pycharm": {
     "name": "#%%\n"
    }
   }
  },
  {
   "cell_type": "code",
   "execution_count": 32,
   "outputs": [
    {
     "data": {
      "text/plain": "             id  vas_id            buy_time  target        97        79  \\\n0       3535012       5 2018-09-02 21:00:00       0 -0.348913 -0.998268   \n1       1693214       1 2018-09-02 21:00:00       0 -0.348913 -0.998268   \n2       3173665       8 2018-07-29 21:00:00       0 -0.348913 -0.998268   \n3       3577737       5 2018-12-23 21:00:00       0 -0.348913 -0.998268   \n4       2000856       1 2018-08-19 21:00:00       0 -0.348913 -0.998268   \n...         ...     ...                 ...     ...       ...       ...   \n429311  2545695       5 2018-12-30 21:00:00       0 -0.348913 -0.998268   \n429312  3388613       5 2018-12-30 21:00:00       0 -0.348913 -0.998268   \n429313  3897358       2 2018-12-30 21:00:00       0 -0.348913 -0.998268   \n429314  2480469       2 2018-12-30 21:00:00       0 -0.348913 -0.998268   \n429315  1825525       2 2018-12-30 21:00:00       0 -0.348913 -0.998268   \n\n                51        187         13        25  ...         55        140  \\\n0        20.911014  13.645192  -9.829127 -2.082209  ...  -1.745251  -1.276187   \n1        31.911014  34.645192 -66.189127 -2.082209  ...  -6.745251  -1.276187   \n2       -49.088986  -5.354808 -66.189127 -2.082209  ...  -8.745251  -1.276187   \n3        31.911014  -4.354808 -66.189127 -2.082209  ...  -8.745251  -1.276187   \n4       165.911014  78.645192 -66.189127 -2.082209  ...   9.254749  81.743813   \n...            ...        ...        ...       ...  ...        ...        ...   \n429311  -23.088986   3.645192 -66.189127 -2.082209  ...  14.254749  -1.276187   \n429312  -41.088986 -13.354808 -66.189127  0.967791  ...  -7.745251  -1.276187   \n429313   -5.088986 -12.354808 -66.189127 -2.082209  ...  -5.745251  -1.276187   \n429314  -12.088986 -15.354808 -66.189127  0.457791  ...  -6.745251  -1.276187   \n429315  -19.088986 -16.354808 -66.189127 -2.082209  ...  -3.745251  -1.276187   \n\n              226        95           116         106          45        61  \\\n0      -11.137705 -0.000115  -2409.657757   14.721531   21.107170  0.061838   \n1      -10.535450 -0.000115  -1475.845287  193.991531  143.573836 -0.128162   \n2      -17.100668 -0.000115  -2945.772987   20.241531  -23.992828  0.081838   \n3        1.274332 -0.000115  -2379.139187   -9.408469  -16.426159 -0.108162   \n4      -13.125668 -0.000115  -1468.236887   25.761531  155.423846  0.221838   \n...           ...       ...           ...         ...         ...       ...   \n429311  19.149332 -0.000115  -1580.319887   -9.408469  -43.876160 -0.058162   \n429312  -2.100668 -0.000115  13701.180013   -9.408469  -29.576160 -0.018162   \n429313  -3.434001 -0.000115  -1635.495687   -9.408469  -64.676161 -0.128162   \n429314 -17.100668 -0.000115   3876.237713   -9.408469  -48.592829 -0.048162   \n429315 -12.786382 -0.000115  -2945.772987   -9.408469  -65.059494 -0.408162   \n\n             118        136  \n0      -0.343415  -2.722591  \n1      -0.343415  -2.722591  \n2      -0.343415  -2.722591  \n3      -0.343415  27.277409  \n4      -0.343415  -2.722591  \n...          ...        ...  \n429311 -0.343415  -2.722591  \n429312 -0.343415  -2.722591  \n429313 -0.343415  -2.722591  \n429314 -0.343415  10.277409  \n429315 -0.343415  -2.722591  \n\n[429316 rows x 253 columns]",
      "text/html": "<div>\n<style scoped>\n    .dataframe tbody tr th:only-of-type {\n        vertical-align: middle;\n    }\n\n    .dataframe tbody tr th {\n        vertical-align: top;\n    }\n\n    .dataframe thead th {\n        text-align: right;\n    }\n</style>\n<table border=\"1\" class=\"dataframe\">\n  <thead>\n    <tr style=\"text-align: right;\">\n      <th></th>\n      <th>id</th>\n      <th>vas_id</th>\n      <th>buy_time</th>\n      <th>target</th>\n      <th>97</th>\n      <th>79</th>\n      <th>51</th>\n      <th>187</th>\n      <th>13</th>\n      <th>25</th>\n      <th>...</th>\n      <th>55</th>\n      <th>140</th>\n      <th>226</th>\n      <th>95</th>\n      <th>116</th>\n      <th>106</th>\n      <th>45</th>\n      <th>61</th>\n      <th>118</th>\n      <th>136</th>\n    </tr>\n  </thead>\n  <tbody>\n    <tr>\n      <th>0</th>\n      <td>3535012</td>\n      <td>5</td>\n      <td>2018-09-02 21:00:00</td>\n      <td>0</td>\n      <td>-0.348913</td>\n      <td>-0.998268</td>\n      <td>20.911014</td>\n      <td>13.645192</td>\n      <td>-9.829127</td>\n      <td>-2.082209</td>\n      <td>...</td>\n      <td>-1.745251</td>\n      <td>-1.276187</td>\n      <td>-11.137705</td>\n      <td>-0.000115</td>\n      <td>-2409.657757</td>\n      <td>14.721531</td>\n      <td>21.107170</td>\n      <td>0.061838</td>\n      <td>-0.343415</td>\n      <td>-2.722591</td>\n    </tr>\n    <tr>\n      <th>1</th>\n      <td>1693214</td>\n      <td>1</td>\n      <td>2018-09-02 21:00:00</td>\n      <td>0</td>\n      <td>-0.348913</td>\n      <td>-0.998268</td>\n      <td>31.911014</td>\n      <td>34.645192</td>\n      <td>-66.189127</td>\n      <td>-2.082209</td>\n      <td>...</td>\n      <td>-6.745251</td>\n      <td>-1.276187</td>\n      <td>-10.535450</td>\n      <td>-0.000115</td>\n      <td>-1475.845287</td>\n      <td>193.991531</td>\n      <td>143.573836</td>\n      <td>-0.128162</td>\n      <td>-0.343415</td>\n      <td>-2.722591</td>\n    </tr>\n    <tr>\n      <th>2</th>\n      <td>3173665</td>\n      <td>8</td>\n      <td>2018-07-29 21:00:00</td>\n      <td>0</td>\n      <td>-0.348913</td>\n      <td>-0.998268</td>\n      <td>-49.088986</td>\n      <td>-5.354808</td>\n      <td>-66.189127</td>\n      <td>-2.082209</td>\n      <td>...</td>\n      <td>-8.745251</td>\n      <td>-1.276187</td>\n      <td>-17.100668</td>\n      <td>-0.000115</td>\n      <td>-2945.772987</td>\n      <td>20.241531</td>\n      <td>-23.992828</td>\n      <td>0.081838</td>\n      <td>-0.343415</td>\n      <td>-2.722591</td>\n    </tr>\n    <tr>\n      <th>3</th>\n      <td>3577737</td>\n      <td>5</td>\n      <td>2018-12-23 21:00:00</td>\n      <td>0</td>\n      <td>-0.348913</td>\n      <td>-0.998268</td>\n      <td>31.911014</td>\n      <td>-4.354808</td>\n      <td>-66.189127</td>\n      <td>-2.082209</td>\n      <td>...</td>\n      <td>-8.745251</td>\n      <td>-1.276187</td>\n      <td>1.274332</td>\n      <td>-0.000115</td>\n      <td>-2379.139187</td>\n      <td>-9.408469</td>\n      <td>-16.426159</td>\n      <td>-0.108162</td>\n      <td>-0.343415</td>\n      <td>27.277409</td>\n    </tr>\n    <tr>\n      <th>4</th>\n      <td>2000856</td>\n      <td>1</td>\n      <td>2018-08-19 21:00:00</td>\n      <td>0</td>\n      <td>-0.348913</td>\n      <td>-0.998268</td>\n      <td>165.911014</td>\n      <td>78.645192</td>\n      <td>-66.189127</td>\n      <td>-2.082209</td>\n      <td>...</td>\n      <td>9.254749</td>\n      <td>81.743813</td>\n      <td>-13.125668</td>\n      <td>-0.000115</td>\n      <td>-1468.236887</td>\n      <td>25.761531</td>\n      <td>155.423846</td>\n      <td>0.221838</td>\n      <td>-0.343415</td>\n      <td>-2.722591</td>\n    </tr>\n    <tr>\n      <th>...</th>\n      <td>...</td>\n      <td>...</td>\n      <td>...</td>\n      <td>...</td>\n      <td>...</td>\n      <td>...</td>\n      <td>...</td>\n      <td>...</td>\n      <td>...</td>\n      <td>...</td>\n      <td>...</td>\n      <td>...</td>\n      <td>...</td>\n      <td>...</td>\n      <td>...</td>\n      <td>...</td>\n      <td>...</td>\n      <td>...</td>\n      <td>...</td>\n      <td>...</td>\n      <td>...</td>\n    </tr>\n    <tr>\n      <th>429311</th>\n      <td>2545695</td>\n      <td>5</td>\n      <td>2018-12-30 21:00:00</td>\n      <td>0</td>\n      <td>-0.348913</td>\n      <td>-0.998268</td>\n      <td>-23.088986</td>\n      <td>3.645192</td>\n      <td>-66.189127</td>\n      <td>-2.082209</td>\n      <td>...</td>\n      <td>14.254749</td>\n      <td>-1.276187</td>\n      <td>19.149332</td>\n      <td>-0.000115</td>\n      <td>-1580.319887</td>\n      <td>-9.408469</td>\n      <td>-43.876160</td>\n      <td>-0.058162</td>\n      <td>-0.343415</td>\n      <td>-2.722591</td>\n    </tr>\n    <tr>\n      <th>429312</th>\n      <td>3388613</td>\n      <td>5</td>\n      <td>2018-12-30 21:00:00</td>\n      <td>0</td>\n      <td>-0.348913</td>\n      <td>-0.998268</td>\n      <td>-41.088986</td>\n      <td>-13.354808</td>\n      <td>-66.189127</td>\n      <td>0.967791</td>\n      <td>...</td>\n      <td>-7.745251</td>\n      <td>-1.276187</td>\n      <td>-2.100668</td>\n      <td>-0.000115</td>\n      <td>13701.180013</td>\n      <td>-9.408469</td>\n      <td>-29.576160</td>\n      <td>-0.018162</td>\n      <td>-0.343415</td>\n      <td>-2.722591</td>\n    </tr>\n    <tr>\n      <th>429313</th>\n      <td>3897358</td>\n      <td>2</td>\n      <td>2018-12-30 21:00:00</td>\n      <td>0</td>\n      <td>-0.348913</td>\n      <td>-0.998268</td>\n      <td>-5.088986</td>\n      <td>-12.354808</td>\n      <td>-66.189127</td>\n      <td>-2.082209</td>\n      <td>...</td>\n      <td>-5.745251</td>\n      <td>-1.276187</td>\n      <td>-3.434001</td>\n      <td>-0.000115</td>\n      <td>-1635.495687</td>\n      <td>-9.408469</td>\n      <td>-64.676161</td>\n      <td>-0.128162</td>\n      <td>-0.343415</td>\n      <td>-2.722591</td>\n    </tr>\n    <tr>\n      <th>429314</th>\n      <td>2480469</td>\n      <td>2</td>\n      <td>2018-12-30 21:00:00</td>\n      <td>0</td>\n      <td>-0.348913</td>\n      <td>-0.998268</td>\n      <td>-12.088986</td>\n      <td>-15.354808</td>\n      <td>-66.189127</td>\n      <td>0.457791</td>\n      <td>...</td>\n      <td>-6.745251</td>\n      <td>-1.276187</td>\n      <td>-17.100668</td>\n      <td>-0.000115</td>\n      <td>3876.237713</td>\n      <td>-9.408469</td>\n      <td>-48.592829</td>\n      <td>-0.048162</td>\n      <td>-0.343415</td>\n      <td>10.277409</td>\n    </tr>\n    <tr>\n      <th>429315</th>\n      <td>1825525</td>\n      <td>2</td>\n      <td>2018-12-30 21:00:00</td>\n      <td>0</td>\n      <td>-0.348913</td>\n      <td>-0.998268</td>\n      <td>-19.088986</td>\n      <td>-16.354808</td>\n      <td>-66.189127</td>\n      <td>-2.082209</td>\n      <td>...</td>\n      <td>-3.745251</td>\n      <td>-1.276187</td>\n      <td>-12.786382</td>\n      <td>-0.000115</td>\n      <td>-2945.772987</td>\n      <td>-9.408469</td>\n      <td>-65.059494</td>\n      <td>-0.408162</td>\n      <td>-0.343415</td>\n      <td>-2.722591</td>\n    </tr>\n  </tbody>\n</table>\n<p>429316 rows × 253 columns</p>\n</div>"
     },
     "execution_count": 32,
     "metadata": {},
     "output_type": "execute_result"
    }
   ],
   "source": [
    "train_feats_half1"
   ],
   "metadata": {
    "collapsed": false,
    "pycharm": {
     "name": "#%%\n"
    }
   }
  },
  {
   "cell_type": "code",
   "execution_count": 33,
   "outputs": [
    {
     "data": {
      "text/plain": "0"
     },
     "execution_count": 33,
     "metadata": {},
     "output_type": "execute_result"
    }
   ],
   "source": [
    "#Проверка что null отсутствуют. При left join, идут null по всем признакам, а значит эти данные абсолютно бесполезные. Поэтому делаем inner join\n",
    "train_feats_half1['data_recieve_time'].isnull().sum()"
   ],
   "metadata": {
    "collapsed": false,
    "pycharm": {
     "name": "#%%\n"
    }
   }
  },
  {
   "cell_type": "code",
   "execution_count": 34,
   "outputs": [],
   "source": [
    "#Указываем что признак 252, числовой. В будущем будет категория\n",
    "train_feats_half1['252'] = train_feats_half1['252'].astype('int64')"
   ],
   "metadata": {
    "collapsed": false,
    "pycharm": {
     "name": "#%%\n"
    }
   }
  },
  {
   "cell_type": "code",
   "execution_count": 35,
   "outputs": [],
   "source": [
    "#Сохранение полученных датасетов для обучения моделей\n",
    "#train_feats.to_csv('4250k_feats_train.csv')"
   ],
   "metadata": {
    "collapsed": false,
    "pycharm": {
     "name": "#%%\n"
    }
   }
  },
  {
   "cell_type": "code",
   "execution_count": 36,
   "outputs": [
    {
     "name": "stdout",
     "output_type": "stream",
     "text": [
      "CPU times: total: 0 ns\n",
      "Wall time: 0 ns\n"
     ]
    }
   ],
   "source": [
    "#Грузим датасет получившийся\n",
    "#df_train_main = pd.read_csv('4250k_feats_train.zip', engine='c')\n",
    "#df_train_main"
   ],
   "metadata": {
    "collapsed": false,
    "pycharm": {
     "name": "#%%\n"
    }
   }
  },
  {
   "cell_type": "code",
   "execution_count": 37,
   "outputs": [
    {
     "name": "stdout",
     "output_type": "stream",
     "text": [
      "CPU times: total: 26.3 s\n",
      "Wall time: 56.9 s\n"
     ]
    },
    {
     "data": {
      "text/plain": "             id  vas_id            buy_time  target        97        79  \\\n0        540968       8 2018-09-16 21:00:00       0 -0.348913 -0.998268   \n1       1454121       4 2018-07-15 21:00:00       0 -0.348913 -0.998268   \n2       2458816       1 2018-08-12 21:00:00       0 -0.348913 -0.998268   \n3       2611143       2 2018-12-16 21:00:00       0 -0.348913 -0.998268   \n4       2000856       1 2018-08-19 21:00:00       0 -0.348913 -0.998268   \n...         ...     ...                 ...     ...       ...       ...   \n430731  1586693       2 2018-12-30 21:00:00       0 -0.348913 -0.998268   \n430732    90279       2 2018-12-30 21:00:00       0 -0.348913 -0.998268   \n430733  3812226       2 2018-12-30 21:00:00       0 -0.348913 -0.998268   \n430734   158236       2 2018-12-30 21:00:00       0 -0.348913 -0.998268   \n430735  3022610       2 2018-12-30 21:00:00       0 -0.348913 -0.998268   \n\n               51        187          13        25  ...        55        140  \\\n0      -16.088986  -9.354808  -66.189127 -2.082209  ... -3.745251  -1.276187   \n1      -34.088986 -16.354808  577.880873 -2.082209  ... -8.745251  -1.276187   \n2      -24.088986  -8.354808  -66.189127 -2.082209  ... -7.745251  -1.276187   \n3      -51.088986 -16.354808  -66.189127 -2.082209  ... -9.745251  -1.276187   \n4       79.911014  49.645192  -66.189127 -2.082209  ...  2.254749  69.883813   \n...           ...        ...         ...       ...  ...       ...        ...   \n430731 -45.088986 -11.354808  -66.189127 -2.082209  ... -6.745251  -1.276187   \n430732 -42.088986 -16.354808  -66.189127 -2.082209  ... -9.745251  -1.276187   \n430733 -39.088986  -7.354808  -66.189127 -2.082209  ... -4.745251  -1.276187   \n430734 -51.088986 -16.354808  -66.189127 -2.082209  ... -9.745251  -1.276187   \n430735  -0.088986 -12.354808  -18.729127 -2.082209  ... -4.745251  -1.276187   \n\n              226        95          116         106         45        61  \\\n0       -8.634002 -0.000115   236.454513   -9.408469 -36.759494 -0.108162   \n1        3.327904 -0.000115 -2767.662617   -9.408469 -65.059494 -0.408162   \n2       -6.314954 -0.000115 -2765.229037   -6.868469 -61.809494 -0.178162   \n3      -17.100668 -0.000115 -2945.772987   -9.408469 -65.059494 -0.408162   \n4      -13.148287 -0.000115  1070.842213   -9.408469  89.607176  0.081838   \n...           ...       ...          ...         ...        ...       ...   \n430731  16.149332 -0.000115 -2945.190956   -9.408469 -63.192827 -0.028162   \n430732  23.649332 -0.000115  6977.692013   -9.408469 -65.059494 -0.408162   \n430733  -1.900668 -0.000115 -2945.772987  115.011531   4.940506 -0.008162   \n430734  16.399332 -0.000115  1160.199713   -9.408469 -65.059494 -0.408162   \n430735   2.470760 -0.000115 -2843.585487   -9.408469 -39.209494  0.531838   \n\n             118       136  \n0      -0.343415  7.277409  \n1      -0.343415 -2.722591  \n2      -0.343415 -2.722591  \n3      -0.343415 -2.722591  \n4      -0.343415 -2.722591  \n...          ...       ...  \n430731 -0.343415 -2.722591  \n430732 -0.343415 -2.722591  \n430733 -0.343415 -2.722591  \n430734 -0.343415 -2.722591  \n430735 -0.343415  0.277409  \n\n[430736 rows x 253 columns]",
      "text/html": "<div>\n<style scoped>\n    .dataframe tbody tr th:only-of-type {\n        vertical-align: middle;\n    }\n\n    .dataframe tbody tr th {\n        vertical-align: top;\n    }\n\n    .dataframe thead th {\n        text-align: right;\n    }\n</style>\n<table border=\"1\" class=\"dataframe\">\n  <thead>\n    <tr style=\"text-align: right;\">\n      <th></th>\n      <th>id</th>\n      <th>vas_id</th>\n      <th>buy_time</th>\n      <th>target</th>\n      <th>97</th>\n      <th>79</th>\n      <th>51</th>\n      <th>187</th>\n      <th>13</th>\n      <th>25</th>\n      <th>...</th>\n      <th>55</th>\n      <th>140</th>\n      <th>226</th>\n      <th>95</th>\n      <th>116</th>\n      <th>106</th>\n      <th>45</th>\n      <th>61</th>\n      <th>118</th>\n      <th>136</th>\n    </tr>\n  </thead>\n  <tbody>\n    <tr>\n      <th>0</th>\n      <td>540968</td>\n      <td>8</td>\n      <td>2018-09-16 21:00:00</td>\n      <td>0</td>\n      <td>-0.348913</td>\n      <td>-0.998268</td>\n      <td>-16.088986</td>\n      <td>-9.354808</td>\n      <td>-66.189127</td>\n      <td>-2.082209</td>\n      <td>...</td>\n      <td>-3.745251</td>\n      <td>-1.276187</td>\n      <td>-8.634002</td>\n      <td>-0.000115</td>\n      <td>236.454513</td>\n      <td>-9.408469</td>\n      <td>-36.759494</td>\n      <td>-0.108162</td>\n      <td>-0.343415</td>\n      <td>7.277409</td>\n    </tr>\n    <tr>\n      <th>1</th>\n      <td>1454121</td>\n      <td>4</td>\n      <td>2018-07-15 21:00:00</td>\n      <td>0</td>\n      <td>-0.348913</td>\n      <td>-0.998268</td>\n      <td>-34.088986</td>\n      <td>-16.354808</td>\n      <td>577.880873</td>\n      <td>-2.082209</td>\n      <td>...</td>\n      <td>-8.745251</td>\n      <td>-1.276187</td>\n      <td>3.327904</td>\n      <td>-0.000115</td>\n      <td>-2767.662617</td>\n      <td>-9.408469</td>\n      <td>-65.059494</td>\n      <td>-0.408162</td>\n      <td>-0.343415</td>\n      <td>-2.722591</td>\n    </tr>\n    <tr>\n      <th>2</th>\n      <td>2458816</td>\n      <td>1</td>\n      <td>2018-08-12 21:00:00</td>\n      <td>0</td>\n      <td>-0.348913</td>\n      <td>-0.998268</td>\n      <td>-24.088986</td>\n      <td>-8.354808</td>\n      <td>-66.189127</td>\n      <td>-2.082209</td>\n      <td>...</td>\n      <td>-7.745251</td>\n      <td>-1.276187</td>\n      <td>-6.314954</td>\n      <td>-0.000115</td>\n      <td>-2765.229037</td>\n      <td>-6.868469</td>\n      <td>-61.809494</td>\n      <td>-0.178162</td>\n      <td>-0.343415</td>\n      <td>-2.722591</td>\n    </tr>\n    <tr>\n      <th>3</th>\n      <td>2611143</td>\n      <td>2</td>\n      <td>2018-12-16 21:00:00</td>\n      <td>0</td>\n      <td>-0.348913</td>\n      <td>-0.998268</td>\n      <td>-51.088986</td>\n      <td>-16.354808</td>\n      <td>-66.189127</td>\n      <td>-2.082209</td>\n      <td>...</td>\n      <td>-9.745251</td>\n      <td>-1.276187</td>\n      <td>-17.100668</td>\n      <td>-0.000115</td>\n      <td>-2945.772987</td>\n      <td>-9.408469</td>\n      <td>-65.059494</td>\n      <td>-0.408162</td>\n      <td>-0.343415</td>\n      <td>-2.722591</td>\n    </tr>\n    <tr>\n      <th>4</th>\n      <td>2000856</td>\n      <td>1</td>\n      <td>2018-08-19 21:00:00</td>\n      <td>0</td>\n      <td>-0.348913</td>\n      <td>-0.998268</td>\n      <td>79.911014</td>\n      <td>49.645192</td>\n      <td>-66.189127</td>\n      <td>-2.082209</td>\n      <td>...</td>\n      <td>2.254749</td>\n      <td>69.883813</td>\n      <td>-13.148287</td>\n      <td>-0.000115</td>\n      <td>1070.842213</td>\n      <td>-9.408469</td>\n      <td>89.607176</td>\n      <td>0.081838</td>\n      <td>-0.343415</td>\n      <td>-2.722591</td>\n    </tr>\n    <tr>\n      <th>...</th>\n      <td>...</td>\n      <td>...</td>\n      <td>...</td>\n      <td>...</td>\n      <td>...</td>\n      <td>...</td>\n      <td>...</td>\n      <td>...</td>\n      <td>...</td>\n      <td>...</td>\n      <td>...</td>\n      <td>...</td>\n      <td>...</td>\n      <td>...</td>\n      <td>...</td>\n      <td>...</td>\n      <td>...</td>\n      <td>...</td>\n      <td>...</td>\n      <td>...</td>\n      <td>...</td>\n    </tr>\n    <tr>\n      <th>430731</th>\n      <td>1586693</td>\n      <td>2</td>\n      <td>2018-12-30 21:00:00</td>\n      <td>0</td>\n      <td>-0.348913</td>\n      <td>-0.998268</td>\n      <td>-45.088986</td>\n      <td>-11.354808</td>\n      <td>-66.189127</td>\n      <td>-2.082209</td>\n      <td>...</td>\n      <td>-6.745251</td>\n      <td>-1.276187</td>\n      <td>16.149332</td>\n      <td>-0.000115</td>\n      <td>-2945.190956</td>\n      <td>-9.408469</td>\n      <td>-63.192827</td>\n      <td>-0.028162</td>\n      <td>-0.343415</td>\n      <td>-2.722591</td>\n    </tr>\n    <tr>\n      <th>430732</th>\n      <td>90279</td>\n      <td>2</td>\n      <td>2018-12-30 21:00:00</td>\n      <td>0</td>\n      <td>-0.348913</td>\n      <td>-0.998268</td>\n      <td>-42.088986</td>\n      <td>-16.354808</td>\n      <td>-66.189127</td>\n      <td>-2.082209</td>\n      <td>...</td>\n      <td>-9.745251</td>\n      <td>-1.276187</td>\n      <td>23.649332</td>\n      <td>-0.000115</td>\n      <td>6977.692013</td>\n      <td>-9.408469</td>\n      <td>-65.059494</td>\n      <td>-0.408162</td>\n      <td>-0.343415</td>\n      <td>-2.722591</td>\n    </tr>\n    <tr>\n      <th>430733</th>\n      <td>3812226</td>\n      <td>2</td>\n      <td>2018-12-30 21:00:00</td>\n      <td>0</td>\n      <td>-0.348913</td>\n      <td>-0.998268</td>\n      <td>-39.088986</td>\n      <td>-7.354808</td>\n      <td>-66.189127</td>\n      <td>-2.082209</td>\n      <td>...</td>\n      <td>-4.745251</td>\n      <td>-1.276187</td>\n      <td>-1.900668</td>\n      <td>-0.000115</td>\n      <td>-2945.772987</td>\n      <td>115.011531</td>\n      <td>4.940506</td>\n      <td>-0.008162</td>\n      <td>-0.343415</td>\n      <td>-2.722591</td>\n    </tr>\n    <tr>\n      <th>430734</th>\n      <td>158236</td>\n      <td>2</td>\n      <td>2018-12-30 21:00:00</td>\n      <td>0</td>\n      <td>-0.348913</td>\n      <td>-0.998268</td>\n      <td>-51.088986</td>\n      <td>-16.354808</td>\n      <td>-66.189127</td>\n      <td>-2.082209</td>\n      <td>...</td>\n      <td>-9.745251</td>\n      <td>-1.276187</td>\n      <td>16.399332</td>\n      <td>-0.000115</td>\n      <td>1160.199713</td>\n      <td>-9.408469</td>\n      <td>-65.059494</td>\n      <td>-0.408162</td>\n      <td>-0.343415</td>\n      <td>-2.722591</td>\n    </tr>\n    <tr>\n      <th>430735</th>\n      <td>3022610</td>\n      <td>2</td>\n      <td>2018-12-30 21:00:00</td>\n      <td>0</td>\n      <td>-0.348913</td>\n      <td>-0.998268</td>\n      <td>-0.088986</td>\n      <td>-12.354808</td>\n      <td>-18.729127</td>\n      <td>-2.082209</td>\n      <td>...</td>\n      <td>-4.745251</td>\n      <td>-1.276187</td>\n      <td>2.470760</td>\n      <td>-0.000115</td>\n      <td>-2843.585487</td>\n      <td>-9.408469</td>\n      <td>-39.209494</td>\n      <td>0.531838</td>\n      <td>-0.343415</td>\n      <td>0.277409</td>\n    </tr>\n  </tbody>\n</table>\n<p>430736 rows × 253 columns</p>\n</div>"
     },
     "execution_count": 37,
     "metadata": {},
     "output_type": "execute_result"
    }
   ],
   "source": [
    "%%time\n",
    "feats_half2 = df_features_half2[f_ok]\n",
    "train_feats_half2 = df_train.merge(feats_half2, how='inner', on='id')\n",
    "train_feats_half2.rename(columns={'buy_time_x': 'buy_time', 'buy_time_y': 'data_recieve_time'}, inplace=True)\n",
    "train_feats_half2"
   ],
   "metadata": {
    "collapsed": false,
    "pycharm": {
     "name": "#%%\n"
    }
   }
  },
  {
   "cell_type": "code",
   "execution_count": 38,
   "outputs": [
    {
     "data": {
      "text/plain": "             id  vas_id            buy_time  target        97        79  \\\n0       3535012       5 2018-09-02 21:00:00       0 -0.348913 -0.998268   \n1       1693214       1 2018-09-02 21:00:00       0 -0.348913 -0.998268   \n2       3173665       8 2018-07-29 21:00:00       0 -0.348913 -0.998268   \n3       3577737       5 2018-12-23 21:00:00       0 -0.348913 -0.998268   \n4       2000856       1 2018-08-19 21:00:00       0 -0.348913 -0.998268   \n...         ...     ...                 ...     ...       ...       ...   \n860047  1586693       2 2018-12-30 21:00:00       0 -0.348913 -0.998268   \n860048    90279       2 2018-12-30 21:00:00       0 -0.348913 -0.998268   \n860049  3812226       2 2018-12-30 21:00:00       0 -0.348913 -0.998268   \n860050   158236       2 2018-12-30 21:00:00       0 -0.348913 -0.998268   \n860051  3022610       2 2018-12-30 21:00:00       0 -0.348913 -0.998268   \n\n                51        187         13        25  ...        55        140  \\\n0        20.911014  13.645192  -9.829127 -2.082209  ... -1.745251  -1.276187   \n1        31.911014  34.645192 -66.189127 -2.082209  ... -6.745251  -1.276187   \n2       -49.088986  -5.354808 -66.189127 -2.082209  ... -8.745251  -1.276187   \n3        31.911014  -4.354808 -66.189127 -2.082209  ... -8.745251  -1.276187   \n4       165.911014  78.645192 -66.189127 -2.082209  ...  9.254749  81.743813   \n...            ...        ...        ...       ...  ...       ...        ...   \n860047  -45.088986 -11.354808 -66.189127 -2.082209  ... -6.745251  -1.276187   \n860048  -42.088986 -16.354808 -66.189127 -2.082209  ... -9.745251  -1.276187   \n860049  -39.088986  -7.354808 -66.189127 -2.082209  ... -4.745251  -1.276187   \n860050  -51.088986 -16.354808 -66.189127 -2.082209  ... -9.745251  -1.276187   \n860051   -0.088986 -12.354808 -18.729127 -2.082209  ... -4.745251  -1.276187   \n\n              226        95          116         106          45        61  \\\n0      -11.137705 -0.000115 -2409.657757   14.721531   21.107170  0.061838   \n1      -10.535450 -0.000115 -1475.845287  193.991531  143.573836 -0.128162   \n2      -17.100668 -0.000115 -2945.772987   20.241531  -23.992828  0.081838   \n3        1.274332 -0.000115 -2379.139187   -9.408469  -16.426159 -0.108162   \n4      -13.125668 -0.000115 -1468.236887   25.761531  155.423846  0.221838   \n...           ...       ...          ...         ...         ...       ...   \n860047  16.149332 -0.000115 -2945.190956   -9.408469  -63.192827 -0.028162   \n860048  23.649332 -0.000115  6977.692013   -9.408469  -65.059494 -0.408162   \n860049  -1.900668 -0.000115 -2945.772987  115.011531    4.940506 -0.008162   \n860050  16.399332 -0.000115  1160.199713   -9.408469  -65.059494 -0.408162   \n860051   2.470760 -0.000115 -2843.585487   -9.408469  -39.209494  0.531838   \n\n             118        136  \n0      -0.343415  -2.722591  \n1      -0.343415  -2.722591  \n2      -0.343415  -2.722591  \n3      -0.343415  27.277409  \n4      -0.343415  -2.722591  \n...          ...        ...  \n860047 -0.343415  -2.722591  \n860048 -0.343415  -2.722591  \n860049 -0.343415  -2.722591  \n860050 -0.343415  -2.722591  \n860051 -0.343415   0.277409  \n\n[860052 rows x 253 columns]",
      "text/html": "<div>\n<style scoped>\n    .dataframe tbody tr th:only-of-type {\n        vertical-align: middle;\n    }\n\n    .dataframe tbody tr th {\n        vertical-align: top;\n    }\n\n    .dataframe thead th {\n        text-align: right;\n    }\n</style>\n<table border=\"1\" class=\"dataframe\">\n  <thead>\n    <tr style=\"text-align: right;\">\n      <th></th>\n      <th>id</th>\n      <th>vas_id</th>\n      <th>buy_time</th>\n      <th>target</th>\n      <th>97</th>\n      <th>79</th>\n      <th>51</th>\n      <th>187</th>\n      <th>13</th>\n      <th>25</th>\n      <th>...</th>\n      <th>55</th>\n      <th>140</th>\n      <th>226</th>\n      <th>95</th>\n      <th>116</th>\n      <th>106</th>\n      <th>45</th>\n      <th>61</th>\n      <th>118</th>\n      <th>136</th>\n    </tr>\n  </thead>\n  <tbody>\n    <tr>\n      <th>0</th>\n      <td>3535012</td>\n      <td>5</td>\n      <td>2018-09-02 21:00:00</td>\n      <td>0</td>\n      <td>-0.348913</td>\n      <td>-0.998268</td>\n      <td>20.911014</td>\n      <td>13.645192</td>\n      <td>-9.829127</td>\n      <td>-2.082209</td>\n      <td>...</td>\n      <td>-1.745251</td>\n      <td>-1.276187</td>\n      <td>-11.137705</td>\n      <td>-0.000115</td>\n      <td>-2409.657757</td>\n      <td>14.721531</td>\n      <td>21.107170</td>\n      <td>0.061838</td>\n      <td>-0.343415</td>\n      <td>-2.722591</td>\n    </tr>\n    <tr>\n      <th>1</th>\n      <td>1693214</td>\n      <td>1</td>\n      <td>2018-09-02 21:00:00</td>\n      <td>0</td>\n      <td>-0.348913</td>\n      <td>-0.998268</td>\n      <td>31.911014</td>\n      <td>34.645192</td>\n      <td>-66.189127</td>\n      <td>-2.082209</td>\n      <td>...</td>\n      <td>-6.745251</td>\n      <td>-1.276187</td>\n      <td>-10.535450</td>\n      <td>-0.000115</td>\n      <td>-1475.845287</td>\n      <td>193.991531</td>\n      <td>143.573836</td>\n      <td>-0.128162</td>\n      <td>-0.343415</td>\n      <td>-2.722591</td>\n    </tr>\n    <tr>\n      <th>2</th>\n      <td>3173665</td>\n      <td>8</td>\n      <td>2018-07-29 21:00:00</td>\n      <td>0</td>\n      <td>-0.348913</td>\n      <td>-0.998268</td>\n      <td>-49.088986</td>\n      <td>-5.354808</td>\n      <td>-66.189127</td>\n      <td>-2.082209</td>\n      <td>...</td>\n      <td>-8.745251</td>\n      <td>-1.276187</td>\n      <td>-17.100668</td>\n      <td>-0.000115</td>\n      <td>-2945.772987</td>\n      <td>20.241531</td>\n      <td>-23.992828</td>\n      <td>0.081838</td>\n      <td>-0.343415</td>\n      <td>-2.722591</td>\n    </tr>\n    <tr>\n      <th>3</th>\n      <td>3577737</td>\n      <td>5</td>\n      <td>2018-12-23 21:00:00</td>\n      <td>0</td>\n      <td>-0.348913</td>\n      <td>-0.998268</td>\n      <td>31.911014</td>\n      <td>-4.354808</td>\n      <td>-66.189127</td>\n      <td>-2.082209</td>\n      <td>...</td>\n      <td>-8.745251</td>\n      <td>-1.276187</td>\n      <td>1.274332</td>\n      <td>-0.000115</td>\n      <td>-2379.139187</td>\n      <td>-9.408469</td>\n      <td>-16.426159</td>\n      <td>-0.108162</td>\n      <td>-0.343415</td>\n      <td>27.277409</td>\n    </tr>\n    <tr>\n      <th>4</th>\n      <td>2000856</td>\n      <td>1</td>\n      <td>2018-08-19 21:00:00</td>\n      <td>0</td>\n      <td>-0.348913</td>\n      <td>-0.998268</td>\n      <td>165.911014</td>\n      <td>78.645192</td>\n      <td>-66.189127</td>\n      <td>-2.082209</td>\n      <td>...</td>\n      <td>9.254749</td>\n      <td>81.743813</td>\n      <td>-13.125668</td>\n      <td>-0.000115</td>\n      <td>-1468.236887</td>\n      <td>25.761531</td>\n      <td>155.423846</td>\n      <td>0.221838</td>\n      <td>-0.343415</td>\n      <td>-2.722591</td>\n    </tr>\n    <tr>\n      <th>...</th>\n      <td>...</td>\n      <td>...</td>\n      <td>...</td>\n      <td>...</td>\n      <td>...</td>\n      <td>...</td>\n      <td>...</td>\n      <td>...</td>\n      <td>...</td>\n      <td>...</td>\n      <td>...</td>\n      <td>...</td>\n      <td>...</td>\n      <td>...</td>\n      <td>...</td>\n      <td>...</td>\n      <td>...</td>\n      <td>...</td>\n      <td>...</td>\n      <td>...</td>\n      <td>...</td>\n    </tr>\n    <tr>\n      <th>860047</th>\n      <td>1586693</td>\n      <td>2</td>\n      <td>2018-12-30 21:00:00</td>\n      <td>0</td>\n      <td>-0.348913</td>\n      <td>-0.998268</td>\n      <td>-45.088986</td>\n      <td>-11.354808</td>\n      <td>-66.189127</td>\n      <td>-2.082209</td>\n      <td>...</td>\n      <td>-6.745251</td>\n      <td>-1.276187</td>\n      <td>16.149332</td>\n      <td>-0.000115</td>\n      <td>-2945.190956</td>\n      <td>-9.408469</td>\n      <td>-63.192827</td>\n      <td>-0.028162</td>\n      <td>-0.343415</td>\n      <td>-2.722591</td>\n    </tr>\n    <tr>\n      <th>860048</th>\n      <td>90279</td>\n      <td>2</td>\n      <td>2018-12-30 21:00:00</td>\n      <td>0</td>\n      <td>-0.348913</td>\n      <td>-0.998268</td>\n      <td>-42.088986</td>\n      <td>-16.354808</td>\n      <td>-66.189127</td>\n      <td>-2.082209</td>\n      <td>...</td>\n      <td>-9.745251</td>\n      <td>-1.276187</td>\n      <td>23.649332</td>\n      <td>-0.000115</td>\n      <td>6977.692013</td>\n      <td>-9.408469</td>\n      <td>-65.059494</td>\n      <td>-0.408162</td>\n      <td>-0.343415</td>\n      <td>-2.722591</td>\n    </tr>\n    <tr>\n      <th>860049</th>\n      <td>3812226</td>\n      <td>2</td>\n      <td>2018-12-30 21:00:00</td>\n      <td>0</td>\n      <td>-0.348913</td>\n      <td>-0.998268</td>\n      <td>-39.088986</td>\n      <td>-7.354808</td>\n      <td>-66.189127</td>\n      <td>-2.082209</td>\n      <td>...</td>\n      <td>-4.745251</td>\n      <td>-1.276187</td>\n      <td>-1.900668</td>\n      <td>-0.000115</td>\n      <td>-2945.772987</td>\n      <td>115.011531</td>\n      <td>4.940506</td>\n      <td>-0.008162</td>\n      <td>-0.343415</td>\n      <td>-2.722591</td>\n    </tr>\n    <tr>\n      <th>860050</th>\n      <td>158236</td>\n      <td>2</td>\n      <td>2018-12-30 21:00:00</td>\n      <td>0</td>\n      <td>-0.348913</td>\n      <td>-0.998268</td>\n      <td>-51.088986</td>\n      <td>-16.354808</td>\n      <td>-66.189127</td>\n      <td>-2.082209</td>\n      <td>...</td>\n      <td>-9.745251</td>\n      <td>-1.276187</td>\n      <td>16.399332</td>\n      <td>-0.000115</td>\n      <td>1160.199713</td>\n      <td>-9.408469</td>\n      <td>-65.059494</td>\n      <td>-0.408162</td>\n      <td>-0.343415</td>\n      <td>-2.722591</td>\n    </tr>\n    <tr>\n      <th>860051</th>\n      <td>3022610</td>\n      <td>2</td>\n      <td>2018-12-30 21:00:00</td>\n      <td>0</td>\n      <td>-0.348913</td>\n      <td>-0.998268</td>\n      <td>-0.088986</td>\n      <td>-12.354808</td>\n      <td>-18.729127</td>\n      <td>-2.082209</td>\n      <td>...</td>\n      <td>-4.745251</td>\n      <td>-1.276187</td>\n      <td>2.470760</td>\n      <td>-0.000115</td>\n      <td>-2843.585487</td>\n      <td>-9.408469</td>\n      <td>-39.209494</td>\n      <td>0.531838</td>\n      <td>-0.343415</td>\n      <td>0.277409</td>\n    </tr>\n  </tbody>\n</table>\n<p>860052 rows × 253 columns</p>\n</div>"
     },
     "execution_count": 38,
     "metadata": {},
     "output_type": "execute_result"
    }
   ],
   "source": [
    "#Объединяем маленький и большой датафрейм, чтобы извлечь 100% данных из полного файла, осталось создать фичу по датам и сохранить в файл\n",
    "df_train_main = pd.concat([train_feats_half1, train_feats_half2], ignore_index=True)\n",
    "df_train_main"
   ],
   "metadata": {
    "collapsed": false,
    "pycharm": {
     "name": "#%%\n"
    }
   }
  },
  {
   "cell_type": "code",
   "execution_count": 39,
   "outputs": [
    {
     "data": {
      "text/plain": "0"
     },
     "execution_count": 39,
     "metadata": {},
     "output_type": "execute_result"
    }
   ],
   "source": [
    "#Проверка что дубли не затесались нигде в строках\n",
    "df_train_main.duplicated().sum()"
   ],
   "metadata": {
    "collapsed": false,
    "pycharm": {
     "name": "#%%\n"
    }
   }
  },
  {
   "cell_type": "code",
   "execution_count": 40,
   "outputs": [
    {
     "data": {
      "text/plain": "             id  vas_id            buy_time  target        97        79  \\\n0       3535012       5 2018-09-02 21:00:00       0 -0.348913 -0.998268   \n1       1693214       1 2018-09-02 21:00:00       0 -0.348913 -0.998268   \n2       3173665       8 2018-07-29 21:00:00       0 -0.348913 -0.998268   \n3       3577737       5 2018-12-23 21:00:00       0 -0.348913 -0.998268   \n4       2000856       1 2018-08-19 21:00:00       0 -0.348913 -0.998268   \n...         ...     ...                 ...     ...       ...       ...   \n860047  1586693       2 2018-12-30 21:00:00       0 -0.348913 -0.998268   \n860048    90279       2 2018-12-30 21:00:00       0 -0.348913 -0.998268   \n860049  3812226       2 2018-12-30 21:00:00       0 -0.348913 -0.998268   \n860050   158236       2 2018-12-30 21:00:00       0 -0.348913 -0.998268   \n860051  3022610       2 2018-12-30 21:00:00       0 -0.348913 -0.998268   \n\n                51        187         13        25  ...        140        226  \\\n0        20.911014  13.645192  -9.829127 -2.082209  ...  -1.276187 -11.137705   \n1        31.911014  34.645192 -66.189127 -2.082209  ...  -1.276187 -10.535450   \n2       -49.088986  -5.354808 -66.189127 -2.082209  ...  -1.276187 -17.100668   \n3        31.911014  -4.354808 -66.189127 -2.082209  ...  -1.276187   1.274332   \n4       165.911014  78.645192 -66.189127 -2.082209  ...  81.743813 -13.125668   \n...            ...        ...        ...       ...  ...        ...        ...   \n860047  -45.088986 -11.354808 -66.189127 -2.082209  ...  -1.276187  16.149332   \n860048  -42.088986 -16.354808 -66.189127 -2.082209  ...  -1.276187  23.649332   \n860049  -39.088986  -7.354808 -66.189127 -2.082209  ...  -1.276187  -1.900668   \n860050  -51.088986 -16.354808 -66.189127 -2.082209  ...  -1.276187  16.399332   \n860051   -0.088986 -12.354808 -18.729127 -2.082209  ...  -1.276187   2.470760   \n\n              95          116         106          45        61       118  \\\n0      -0.000115 -2409.657757   14.721531   21.107170  0.061838 -0.343415   \n1      -0.000115 -1475.845287  193.991531  143.573836 -0.128162 -0.343415   \n2      -0.000115 -2945.772987   20.241531  -23.992828  0.081838 -0.343415   \n3      -0.000115 -2379.139187   -9.408469  -16.426159 -0.108162 -0.343415   \n4      -0.000115 -1468.236887   25.761531  155.423846  0.221838 -0.343415   \n...          ...          ...         ...         ...       ...       ...   \n860047 -0.000115 -2945.190956   -9.408469  -63.192827 -0.028162 -0.343415   \n860048 -0.000115  6977.692013   -9.408469  -65.059494 -0.408162 -0.343415   \n860049 -0.000115 -2945.772987  115.011531    4.940506 -0.008162 -0.343415   \n860050 -0.000115  1160.199713   -9.408469  -65.059494 -0.408162 -0.343415   \n860051 -0.000115 -2843.585487   -9.408469  -39.209494  0.531838 -0.343415   \n\n              136  time_delta(buy_time-recieve_time)  \n0       -2.722591                                 28  \n1       -2.722591                                -84  \n2       -2.722591                                -56  \n3       27.277409                                168  \n4       -2.722591                                 35  \n...           ...                                ...  \n860047  -2.722591                                 28  \n860048  -2.722591                                -14  \n860049  -2.722591                                154  \n860050  -2.722591                                 84  \n860051   0.277409                                 63  \n\n[860052 rows x 254 columns]",
      "text/html": "<div>\n<style scoped>\n    .dataframe tbody tr th:only-of-type {\n        vertical-align: middle;\n    }\n\n    .dataframe tbody tr th {\n        vertical-align: top;\n    }\n\n    .dataframe thead th {\n        text-align: right;\n    }\n</style>\n<table border=\"1\" class=\"dataframe\">\n  <thead>\n    <tr style=\"text-align: right;\">\n      <th></th>\n      <th>id</th>\n      <th>vas_id</th>\n      <th>buy_time</th>\n      <th>target</th>\n      <th>97</th>\n      <th>79</th>\n      <th>51</th>\n      <th>187</th>\n      <th>13</th>\n      <th>25</th>\n      <th>...</th>\n      <th>140</th>\n      <th>226</th>\n      <th>95</th>\n      <th>116</th>\n      <th>106</th>\n      <th>45</th>\n      <th>61</th>\n      <th>118</th>\n      <th>136</th>\n      <th>time_delta(buy_time-recieve_time)</th>\n    </tr>\n  </thead>\n  <tbody>\n    <tr>\n      <th>0</th>\n      <td>3535012</td>\n      <td>5</td>\n      <td>2018-09-02 21:00:00</td>\n      <td>0</td>\n      <td>-0.348913</td>\n      <td>-0.998268</td>\n      <td>20.911014</td>\n      <td>13.645192</td>\n      <td>-9.829127</td>\n      <td>-2.082209</td>\n      <td>...</td>\n      <td>-1.276187</td>\n      <td>-11.137705</td>\n      <td>-0.000115</td>\n      <td>-2409.657757</td>\n      <td>14.721531</td>\n      <td>21.107170</td>\n      <td>0.061838</td>\n      <td>-0.343415</td>\n      <td>-2.722591</td>\n      <td>28</td>\n    </tr>\n    <tr>\n      <th>1</th>\n      <td>1693214</td>\n      <td>1</td>\n      <td>2018-09-02 21:00:00</td>\n      <td>0</td>\n      <td>-0.348913</td>\n      <td>-0.998268</td>\n      <td>31.911014</td>\n      <td>34.645192</td>\n      <td>-66.189127</td>\n      <td>-2.082209</td>\n      <td>...</td>\n      <td>-1.276187</td>\n      <td>-10.535450</td>\n      <td>-0.000115</td>\n      <td>-1475.845287</td>\n      <td>193.991531</td>\n      <td>143.573836</td>\n      <td>-0.128162</td>\n      <td>-0.343415</td>\n      <td>-2.722591</td>\n      <td>-84</td>\n    </tr>\n    <tr>\n      <th>2</th>\n      <td>3173665</td>\n      <td>8</td>\n      <td>2018-07-29 21:00:00</td>\n      <td>0</td>\n      <td>-0.348913</td>\n      <td>-0.998268</td>\n      <td>-49.088986</td>\n      <td>-5.354808</td>\n      <td>-66.189127</td>\n      <td>-2.082209</td>\n      <td>...</td>\n      <td>-1.276187</td>\n      <td>-17.100668</td>\n      <td>-0.000115</td>\n      <td>-2945.772987</td>\n      <td>20.241531</td>\n      <td>-23.992828</td>\n      <td>0.081838</td>\n      <td>-0.343415</td>\n      <td>-2.722591</td>\n      <td>-56</td>\n    </tr>\n    <tr>\n      <th>3</th>\n      <td>3577737</td>\n      <td>5</td>\n      <td>2018-12-23 21:00:00</td>\n      <td>0</td>\n      <td>-0.348913</td>\n      <td>-0.998268</td>\n      <td>31.911014</td>\n      <td>-4.354808</td>\n      <td>-66.189127</td>\n      <td>-2.082209</td>\n      <td>...</td>\n      <td>-1.276187</td>\n      <td>1.274332</td>\n      <td>-0.000115</td>\n      <td>-2379.139187</td>\n      <td>-9.408469</td>\n      <td>-16.426159</td>\n      <td>-0.108162</td>\n      <td>-0.343415</td>\n      <td>27.277409</td>\n      <td>168</td>\n    </tr>\n    <tr>\n      <th>4</th>\n      <td>2000856</td>\n      <td>1</td>\n      <td>2018-08-19 21:00:00</td>\n      <td>0</td>\n      <td>-0.348913</td>\n      <td>-0.998268</td>\n      <td>165.911014</td>\n      <td>78.645192</td>\n      <td>-66.189127</td>\n      <td>-2.082209</td>\n      <td>...</td>\n      <td>81.743813</td>\n      <td>-13.125668</td>\n      <td>-0.000115</td>\n      <td>-1468.236887</td>\n      <td>25.761531</td>\n      <td>155.423846</td>\n      <td>0.221838</td>\n      <td>-0.343415</td>\n      <td>-2.722591</td>\n      <td>35</td>\n    </tr>\n    <tr>\n      <th>...</th>\n      <td>...</td>\n      <td>...</td>\n      <td>...</td>\n      <td>...</td>\n      <td>...</td>\n      <td>...</td>\n      <td>...</td>\n      <td>...</td>\n      <td>...</td>\n      <td>...</td>\n      <td>...</td>\n      <td>...</td>\n      <td>...</td>\n      <td>...</td>\n      <td>...</td>\n      <td>...</td>\n      <td>...</td>\n      <td>...</td>\n      <td>...</td>\n      <td>...</td>\n      <td>...</td>\n    </tr>\n    <tr>\n      <th>860047</th>\n      <td>1586693</td>\n      <td>2</td>\n      <td>2018-12-30 21:00:00</td>\n      <td>0</td>\n      <td>-0.348913</td>\n      <td>-0.998268</td>\n      <td>-45.088986</td>\n      <td>-11.354808</td>\n      <td>-66.189127</td>\n      <td>-2.082209</td>\n      <td>...</td>\n      <td>-1.276187</td>\n      <td>16.149332</td>\n      <td>-0.000115</td>\n      <td>-2945.190956</td>\n      <td>-9.408469</td>\n      <td>-63.192827</td>\n      <td>-0.028162</td>\n      <td>-0.343415</td>\n      <td>-2.722591</td>\n      <td>28</td>\n    </tr>\n    <tr>\n      <th>860048</th>\n      <td>90279</td>\n      <td>2</td>\n      <td>2018-12-30 21:00:00</td>\n      <td>0</td>\n      <td>-0.348913</td>\n      <td>-0.998268</td>\n      <td>-42.088986</td>\n      <td>-16.354808</td>\n      <td>-66.189127</td>\n      <td>-2.082209</td>\n      <td>...</td>\n      <td>-1.276187</td>\n      <td>23.649332</td>\n      <td>-0.000115</td>\n      <td>6977.692013</td>\n      <td>-9.408469</td>\n      <td>-65.059494</td>\n      <td>-0.408162</td>\n      <td>-0.343415</td>\n      <td>-2.722591</td>\n      <td>-14</td>\n    </tr>\n    <tr>\n      <th>860049</th>\n      <td>3812226</td>\n      <td>2</td>\n      <td>2018-12-30 21:00:00</td>\n      <td>0</td>\n      <td>-0.348913</td>\n      <td>-0.998268</td>\n      <td>-39.088986</td>\n      <td>-7.354808</td>\n      <td>-66.189127</td>\n      <td>-2.082209</td>\n      <td>...</td>\n      <td>-1.276187</td>\n      <td>-1.900668</td>\n      <td>-0.000115</td>\n      <td>-2945.772987</td>\n      <td>115.011531</td>\n      <td>4.940506</td>\n      <td>-0.008162</td>\n      <td>-0.343415</td>\n      <td>-2.722591</td>\n      <td>154</td>\n    </tr>\n    <tr>\n      <th>860050</th>\n      <td>158236</td>\n      <td>2</td>\n      <td>2018-12-30 21:00:00</td>\n      <td>0</td>\n      <td>-0.348913</td>\n      <td>-0.998268</td>\n      <td>-51.088986</td>\n      <td>-16.354808</td>\n      <td>-66.189127</td>\n      <td>-2.082209</td>\n      <td>...</td>\n      <td>-1.276187</td>\n      <td>16.399332</td>\n      <td>-0.000115</td>\n      <td>1160.199713</td>\n      <td>-9.408469</td>\n      <td>-65.059494</td>\n      <td>-0.408162</td>\n      <td>-0.343415</td>\n      <td>-2.722591</td>\n      <td>84</td>\n    </tr>\n    <tr>\n      <th>860051</th>\n      <td>3022610</td>\n      <td>2</td>\n      <td>2018-12-30 21:00:00</td>\n      <td>0</td>\n      <td>-0.348913</td>\n      <td>-0.998268</td>\n      <td>-0.088986</td>\n      <td>-12.354808</td>\n      <td>-18.729127</td>\n      <td>-2.082209</td>\n      <td>...</td>\n      <td>-1.276187</td>\n      <td>2.470760</td>\n      <td>-0.000115</td>\n      <td>-2843.585487</td>\n      <td>-9.408469</td>\n      <td>-39.209494</td>\n      <td>0.531838</td>\n      <td>-0.343415</td>\n      <td>0.277409</td>\n      <td>63</td>\n    </tr>\n  </tbody>\n</table>\n<p>860052 rows × 254 columns</p>\n</div>"
     },
     "execution_count": 40,
     "metadata": {},
     "output_type": "execute_result"
    }
   ],
   "source": [
    "#Добавляем фичу разницы дат с data_train и features, это будет разница дней предложения и сбора информации об абоненте.\n",
    "df_train_main['time_delta(buy_time-recieve_time)'] = (pd.to_datetime(df_train_main['buy_time']) - pd.to_datetime(df_train_main['data_recieve_time'])).dt.days.astype('int64')\n",
    "df_train_main"
   ],
   "metadata": {
    "collapsed": false,
    "pycharm": {
     "name": "#%%\n"
    }
   }
  },
  {
   "cell_type": "code",
   "execution_count": 41,
   "outputs": [],
   "source": [
    "#Сохраняем конечный сет для обучения модели, на нем можно сразу учить модель\n",
    "#df_train_main.to_csv('train.csv')"
   ],
   "metadata": {
    "collapsed": false,
    "pycharm": {
     "name": "#%%\n"
    }
   }
  },
  {
   "cell_type": "code",
   "execution_count": 42,
   "outputs": [
    {
     "name": "stdout",
     "output_type": "stream",
     "text": [
      "CPU times: total: 56.9 s\n",
      "Wall time: 1min\n"
     ]
    },
    {
     "data": {
      "text/plain": "             id  vas_id            buy_time  target        130        118  \\\n0        540968       8 2018-09-16 21:00:00       0   5.318359  -0.343415   \n1       1454121       4 2018-07-15 21:00:00       0 -14.681641  -0.343415   \n2       2458816       1 2018-08-12 21:00:00       0  -5.681641  -0.343415   \n3       3535012       5 2018-09-02 21:00:00       0  -7.681641  -0.343415   \n4       1693214       1 2018-09-02 21:00:00       0   8.318359  -0.343415   \n...         ...     ...                 ...     ...        ...        ...   \n860047  3897343       2 2018-12-30 21:00:00       0   0.318359  -0.343415   \n860048  1498639       5 2018-12-30 21:00:00       0  15.318359  -0.343415   \n860049  1715328       2 2018-12-30 21:00:00       0  12.318359  42.805023   \n860050  3087053       5 2018-12-30 21:00:00       0  -3.681641  -0.343415   \n860051  2827929       6 2018-12-30 21:00:00       0 -14.681641  -0.343415   \n\n            119        66          21           211  ...       128       155  \\\n0      -0.08972 -0.044465   54.495836 -61790.157098  ...  0.104871 -0.000379   \n1      -0.08972 -0.044465  -10.744164 -61790.157098  ... -0.115129 -0.000379   \n2      -0.08972 -0.044465  -10.744164 -61790.157098  ...  0.414871 -0.000379   \n3      -0.08972 -0.044465  -10.744164 -61786.947098  ...  0.324871 -0.000379   \n4      -0.08972 -0.044465  -10.744164 -61771.833764  ...  0.374871 -0.000379   \n...         ...       ...         ...           ...  ...       ...       ...   \n860047 -0.08972 -0.044465  -10.744164 -61790.157098  ... -0.575129 -0.000379   \n860048 -0.08972 -0.044465  -10.744164 -59692.087098  ... -0.575129 -0.000379   \n860049 -0.08972 -0.044465  157.055836 -61790.157098  ...  0.244871 -0.000379   \n860050 -0.08972 -0.044465  -10.744164 -61790.157098  ...  0.354871 -0.000379   \n860051 -0.08972 -0.044465  -10.744164 -61790.157098  ...  0.424871 -0.000379   \n\n               230       175       204       196       105        228  \\\n0       270.227508 -0.019198  0.039208 -0.251959 -0.040043 -33.302382   \n1       -12.772492 -0.019198  0.039208  0.748041 -0.040043 -33.302382   \n2       -39.772492 -0.019198  0.039208  0.748041 -0.040043 -33.302382   \n3       -38.772492 -0.019198  0.039208 -0.251959 -0.040043 -33.302382   \n4         9.227508 -0.019198  0.039208  0.748041 -0.040043 -33.302382   \n...            ...       ...       ...       ...       ...        ...   \n860047  -39.772492 -0.019198  0.039208 -0.251959 -0.040043 -33.302382   \n860048  -39.772492 -0.019198  0.039208 -0.251959 -0.040043 -33.302382   \n860049   28.227508  1.980802  0.039208  0.748041 -0.040043 -33.302382   \n860050  -39.772492 -0.019198  0.039208 -0.251959 -0.040043 -33.302382   \n860051  -34.772492 -0.019198  0.039208 -0.251959 -0.040043 -33.302382   \n\n                244  time_delta(buy_time-recieve_time)  \n0       -613.770792                                -56  \n1       -613.770792                                  7  \n2       -613.770792                               -105  \n3       -613.770792                                 28  \n4       -612.770792                                -84  \n...             ...                                ...  \n860047  -613.770792                                161  \n860048  -613.770792                                 -7  \n860049  -302.770792                                154  \n860050  -613.770792                                  7  \n860051  3626.229208                                 21  \n\n[860052 rows x 254 columns]",
      "text/html": "<div>\n<style scoped>\n    .dataframe tbody tr th:only-of-type {\n        vertical-align: middle;\n    }\n\n    .dataframe tbody tr th {\n        vertical-align: top;\n    }\n\n    .dataframe thead th {\n        text-align: right;\n    }\n</style>\n<table border=\"1\" class=\"dataframe\">\n  <thead>\n    <tr style=\"text-align: right;\">\n      <th></th>\n      <th>id</th>\n      <th>vas_id</th>\n      <th>buy_time</th>\n      <th>target</th>\n      <th>130</th>\n      <th>118</th>\n      <th>119</th>\n      <th>66</th>\n      <th>21</th>\n      <th>211</th>\n      <th>...</th>\n      <th>128</th>\n      <th>155</th>\n      <th>230</th>\n      <th>175</th>\n      <th>204</th>\n      <th>196</th>\n      <th>105</th>\n      <th>228</th>\n      <th>244</th>\n      <th>time_delta(buy_time-recieve_time)</th>\n    </tr>\n  </thead>\n  <tbody>\n    <tr>\n      <th>0</th>\n      <td>540968</td>\n      <td>8</td>\n      <td>2018-09-16 21:00:00</td>\n      <td>0</td>\n      <td>5.318359</td>\n      <td>-0.343415</td>\n      <td>-0.08972</td>\n      <td>-0.044465</td>\n      <td>54.495836</td>\n      <td>-61790.157098</td>\n      <td>...</td>\n      <td>0.104871</td>\n      <td>-0.000379</td>\n      <td>270.227508</td>\n      <td>-0.019198</td>\n      <td>0.039208</td>\n      <td>-0.251959</td>\n      <td>-0.040043</td>\n      <td>-33.302382</td>\n      <td>-613.770792</td>\n      <td>-56</td>\n    </tr>\n    <tr>\n      <th>1</th>\n      <td>1454121</td>\n      <td>4</td>\n      <td>2018-07-15 21:00:00</td>\n      <td>0</td>\n      <td>-14.681641</td>\n      <td>-0.343415</td>\n      <td>-0.08972</td>\n      <td>-0.044465</td>\n      <td>-10.744164</td>\n      <td>-61790.157098</td>\n      <td>...</td>\n      <td>-0.115129</td>\n      <td>-0.000379</td>\n      <td>-12.772492</td>\n      <td>-0.019198</td>\n      <td>0.039208</td>\n      <td>0.748041</td>\n      <td>-0.040043</td>\n      <td>-33.302382</td>\n      <td>-613.770792</td>\n      <td>7</td>\n    </tr>\n    <tr>\n      <th>2</th>\n      <td>2458816</td>\n      <td>1</td>\n      <td>2018-08-12 21:00:00</td>\n      <td>0</td>\n      <td>-5.681641</td>\n      <td>-0.343415</td>\n      <td>-0.08972</td>\n      <td>-0.044465</td>\n      <td>-10.744164</td>\n      <td>-61790.157098</td>\n      <td>...</td>\n      <td>0.414871</td>\n      <td>-0.000379</td>\n      <td>-39.772492</td>\n      <td>-0.019198</td>\n      <td>0.039208</td>\n      <td>0.748041</td>\n      <td>-0.040043</td>\n      <td>-33.302382</td>\n      <td>-613.770792</td>\n      <td>-105</td>\n    </tr>\n    <tr>\n      <th>3</th>\n      <td>3535012</td>\n      <td>5</td>\n      <td>2018-09-02 21:00:00</td>\n      <td>0</td>\n      <td>-7.681641</td>\n      <td>-0.343415</td>\n      <td>-0.08972</td>\n      <td>-0.044465</td>\n      <td>-10.744164</td>\n      <td>-61786.947098</td>\n      <td>...</td>\n      <td>0.324871</td>\n      <td>-0.000379</td>\n      <td>-38.772492</td>\n      <td>-0.019198</td>\n      <td>0.039208</td>\n      <td>-0.251959</td>\n      <td>-0.040043</td>\n      <td>-33.302382</td>\n      <td>-613.770792</td>\n      <td>28</td>\n    </tr>\n    <tr>\n      <th>4</th>\n      <td>1693214</td>\n      <td>1</td>\n      <td>2018-09-02 21:00:00</td>\n      <td>0</td>\n      <td>8.318359</td>\n      <td>-0.343415</td>\n      <td>-0.08972</td>\n      <td>-0.044465</td>\n      <td>-10.744164</td>\n      <td>-61771.833764</td>\n      <td>...</td>\n      <td>0.374871</td>\n      <td>-0.000379</td>\n      <td>9.227508</td>\n      <td>-0.019198</td>\n      <td>0.039208</td>\n      <td>0.748041</td>\n      <td>-0.040043</td>\n      <td>-33.302382</td>\n      <td>-612.770792</td>\n      <td>-84</td>\n    </tr>\n    <tr>\n      <th>...</th>\n      <td>...</td>\n      <td>...</td>\n      <td>...</td>\n      <td>...</td>\n      <td>...</td>\n      <td>...</td>\n      <td>...</td>\n      <td>...</td>\n      <td>...</td>\n      <td>...</td>\n      <td>...</td>\n      <td>...</td>\n      <td>...</td>\n      <td>...</td>\n      <td>...</td>\n      <td>...</td>\n      <td>...</td>\n      <td>...</td>\n      <td>...</td>\n      <td>...</td>\n      <td>...</td>\n    </tr>\n    <tr>\n      <th>860047</th>\n      <td>3897343</td>\n      <td>2</td>\n      <td>2018-12-30 21:00:00</td>\n      <td>0</td>\n      <td>0.318359</td>\n      <td>-0.343415</td>\n      <td>-0.08972</td>\n      <td>-0.044465</td>\n      <td>-10.744164</td>\n      <td>-61790.157098</td>\n      <td>...</td>\n      <td>-0.575129</td>\n      <td>-0.000379</td>\n      <td>-39.772492</td>\n      <td>-0.019198</td>\n      <td>0.039208</td>\n      <td>-0.251959</td>\n      <td>-0.040043</td>\n      <td>-33.302382</td>\n      <td>-613.770792</td>\n      <td>161</td>\n    </tr>\n    <tr>\n      <th>860048</th>\n      <td>1498639</td>\n      <td>5</td>\n      <td>2018-12-30 21:00:00</td>\n      <td>0</td>\n      <td>15.318359</td>\n      <td>-0.343415</td>\n      <td>-0.08972</td>\n      <td>-0.044465</td>\n      <td>-10.744164</td>\n      <td>-59692.087098</td>\n      <td>...</td>\n      <td>-0.575129</td>\n      <td>-0.000379</td>\n      <td>-39.772492</td>\n      <td>-0.019198</td>\n      <td>0.039208</td>\n      <td>-0.251959</td>\n      <td>-0.040043</td>\n      <td>-33.302382</td>\n      <td>-613.770792</td>\n      <td>-7</td>\n    </tr>\n    <tr>\n      <th>860049</th>\n      <td>1715328</td>\n      <td>2</td>\n      <td>2018-12-30 21:00:00</td>\n      <td>0</td>\n      <td>12.318359</td>\n      <td>42.805023</td>\n      <td>-0.08972</td>\n      <td>-0.044465</td>\n      <td>157.055836</td>\n      <td>-61790.157098</td>\n      <td>...</td>\n      <td>0.244871</td>\n      <td>-0.000379</td>\n      <td>28.227508</td>\n      <td>1.980802</td>\n      <td>0.039208</td>\n      <td>0.748041</td>\n      <td>-0.040043</td>\n      <td>-33.302382</td>\n      <td>-302.770792</td>\n      <td>154</td>\n    </tr>\n    <tr>\n      <th>860050</th>\n      <td>3087053</td>\n      <td>5</td>\n      <td>2018-12-30 21:00:00</td>\n      <td>0</td>\n      <td>-3.681641</td>\n      <td>-0.343415</td>\n      <td>-0.08972</td>\n      <td>-0.044465</td>\n      <td>-10.744164</td>\n      <td>-61790.157098</td>\n      <td>...</td>\n      <td>0.354871</td>\n      <td>-0.000379</td>\n      <td>-39.772492</td>\n      <td>-0.019198</td>\n      <td>0.039208</td>\n      <td>-0.251959</td>\n      <td>-0.040043</td>\n      <td>-33.302382</td>\n      <td>-613.770792</td>\n      <td>7</td>\n    </tr>\n    <tr>\n      <th>860051</th>\n      <td>2827929</td>\n      <td>6</td>\n      <td>2018-12-30 21:00:00</td>\n      <td>0</td>\n      <td>-14.681641</td>\n      <td>-0.343415</td>\n      <td>-0.08972</td>\n      <td>-0.044465</td>\n      <td>-10.744164</td>\n      <td>-61790.157098</td>\n      <td>...</td>\n      <td>0.424871</td>\n      <td>-0.000379</td>\n      <td>-34.772492</td>\n      <td>-0.019198</td>\n      <td>0.039208</td>\n      <td>-0.251959</td>\n      <td>-0.040043</td>\n      <td>-33.302382</td>\n      <td>3626.229208</td>\n      <td>21</td>\n    </tr>\n  </tbody>\n</table>\n<p>860052 rows × 254 columns</p>\n</div>"
     },
     "execution_count": 42,
     "metadata": {},
     "output_type": "execute_result"
    }
   ],
   "source": [
    "%%time\n",
    "#Грузим - проверяем что открывается корректно\n",
    "df_train_main = pd.read_csv('train.zip', index_col='Unnamed: 0', parse_dates=['buy_time', 'data_recieve_time'])\n",
    "df_train_main"
   ],
   "metadata": {
    "collapsed": false,
    "pycharm": {
     "name": "#%%\n"
    }
   }
  },
  {
   "cell_type": "code",
   "execution_count": 60,
   "outputs": [
    {
     "data": {
      "text/plain": "            id  vas_id            buy_time\n0      3130519       2 2019-01-20 21:00:00\n1      2000860       4 2019-01-20 21:00:00\n2      1099444       2 2019-01-06 21:00:00\n3      1343255       5 2019-01-13 21:00:00\n4      1277040       2 2019-01-06 21:00:00\n...        ...     ...                 ...\n71226  2502453       5 2019-01-20 21:00:00\n71227  1693213       2 2019-01-20 21:00:00\n71228  1891350       2 2019-01-20 21:00:00\n71229  2437172       2 2019-01-20 21:00:00\n71230   988236       2 2019-01-20 21:00:00\n\n[71231 rows x 3 columns]",
      "text/html": "<div>\n<style scoped>\n    .dataframe tbody tr th:only-of-type {\n        vertical-align: middle;\n    }\n\n    .dataframe tbody tr th {\n        vertical-align: top;\n    }\n\n    .dataframe thead th {\n        text-align: right;\n    }\n</style>\n<table border=\"1\" class=\"dataframe\">\n  <thead>\n    <tr style=\"text-align: right;\">\n      <th></th>\n      <th>id</th>\n      <th>vas_id</th>\n      <th>buy_time</th>\n    </tr>\n  </thead>\n  <tbody>\n    <tr>\n      <th>0</th>\n      <td>3130519</td>\n      <td>2</td>\n      <td>2019-01-20 21:00:00</td>\n    </tr>\n    <tr>\n      <th>1</th>\n      <td>2000860</td>\n      <td>4</td>\n      <td>2019-01-20 21:00:00</td>\n    </tr>\n    <tr>\n      <th>2</th>\n      <td>1099444</td>\n      <td>2</td>\n      <td>2019-01-06 21:00:00</td>\n    </tr>\n    <tr>\n      <th>3</th>\n      <td>1343255</td>\n      <td>5</td>\n      <td>2019-01-13 21:00:00</td>\n    </tr>\n    <tr>\n      <th>4</th>\n      <td>1277040</td>\n      <td>2</td>\n      <td>2019-01-06 21:00:00</td>\n    </tr>\n    <tr>\n      <th>...</th>\n      <td>...</td>\n      <td>...</td>\n      <td>...</td>\n    </tr>\n    <tr>\n      <th>71226</th>\n      <td>2502453</td>\n      <td>5</td>\n      <td>2019-01-20 21:00:00</td>\n    </tr>\n    <tr>\n      <th>71227</th>\n      <td>1693213</td>\n      <td>2</td>\n      <td>2019-01-20 21:00:00</td>\n    </tr>\n    <tr>\n      <th>71228</th>\n      <td>1891350</td>\n      <td>2</td>\n      <td>2019-01-20 21:00:00</td>\n    </tr>\n    <tr>\n      <th>71229</th>\n      <td>2437172</td>\n      <td>2</td>\n      <td>2019-01-20 21:00:00</td>\n    </tr>\n    <tr>\n      <th>71230</th>\n      <td>988236</td>\n      <td>2</td>\n      <td>2019-01-20 21:00:00</td>\n    </tr>\n  </tbody>\n</table>\n<p>71231 rows × 3 columns</p>\n</div>"
     },
     "execution_count": 60,
     "metadata": {},
     "output_type": "execute_result"
    }
   ],
   "source": [
    "#Попробую замерджить данные из нашего большого трейна в тест, по id и buy_time и смотреть разницу в числе строк, датасета. Количество строк не должно меняться\n",
    "df_test"
   ],
   "metadata": {
    "collapsed": false,
    "pycharm": {
     "name": "#%%\n"
    }
   }
  },
  {
   "cell_type": "code",
   "execution_count": 44,
   "outputs": [
    {
     "data": {
      "text/plain": "['97',\n '79',\n '51',\n '187',\n '13',\n '25',\n '148',\n '2',\n '168',\n '110',\n '23',\n '98',\n '102',\n '0',\n '185',\n '217',\n '101',\n '5',\n '46',\n '141',\n '224',\n '241',\n '138',\n '158',\n '31',\n '17',\n '33',\n '77',\n '153',\n '78',\n '54',\n '89',\n '227',\n '181',\n '90',\n '59',\n '103',\n '231',\n '44',\n '29',\n '193',\n '125',\n '27',\n '47',\n '163',\n '151',\n '208',\n '107',\n '164',\n '149',\n '223',\n '171',\n '133',\n '237',\n '64',\n '100',\n '220',\n '244',\n '87',\n '69',\n '166',\n '172',\n '232',\n '186',\n '209',\n '184',\n '3',\n '165',\n '126',\n '48',\n '108',\n '146',\n '155',\n '175',\n '191',\n '180',\n '249',\n '36',\n '206',\n '42',\n '57',\n '131',\n '201',\n '65',\n '34',\n '247',\n '156',\n '137',\n '22',\n '154',\n '179',\n '169',\n '145',\n 'id',\n '15',\n '252',\n '212',\n '52',\n '207',\n '221',\n '91',\n '1',\n '111',\n '170',\n '73',\n '189',\n '12',\n '230',\n '216',\n '88',\n '229',\n '200',\n '117',\n '14',\n '53',\n '157',\n '235',\n '243',\n '198',\n '192',\n '178',\n '228',\n '40',\n '215',\n '16',\n '104',\n '38',\n '242',\n '121',\n '205',\n '114',\n '196',\n '142',\n '143',\n '115',\n '21',\n '7',\n '93',\n '120',\n '195',\n '67',\n '76',\n '113',\n '202',\n '37',\n '8',\n '84',\n '182',\n '26',\n '123',\n '62',\n '135',\n '225',\n '63',\n '83',\n 'buy_time',\n '119',\n '49',\n '194',\n '160',\n '30',\n '248',\n '124',\n '150',\n '94',\n '28',\n '236',\n '147',\n '68',\n '72',\n '35',\n '134',\n '41',\n '60',\n '162',\n '92',\n '174',\n '99',\n '250',\n '199',\n '245',\n '96',\n '233',\n '234',\n '251',\n '238',\n '173',\n '213',\n '176',\n '80',\n '6',\n '177',\n '19',\n '219',\n '167',\n '183',\n '190',\n '246',\n '32',\n '122',\n '71',\n '127',\n '161',\n '204',\n '4',\n '112',\n '152',\n '239',\n '9',\n '10',\n '39',\n '159',\n '18',\n '74',\n '132',\n '144',\n '11',\n '188',\n '58',\n '240',\n '197',\n '210',\n '56',\n '105',\n '218',\n '109',\n '20',\n '43',\n '129',\n '214',\n '50',\n '211',\n '128',\n '70',\n '82',\n '24',\n '66',\n '86',\n '130',\n '222',\n '55',\n '140',\n '226',\n '95',\n '116',\n '106',\n '45',\n '61',\n '118',\n '136']"
     },
     "execution_count": 44,
     "metadata": {},
     "output_type": "execute_result"
    }
   ],
   "source": [
    "feats.columns.to_list()"
   ],
   "metadata": {
    "collapsed": false,
    "pycharm": {
     "name": "#%%\n"
    }
   }
  },
  {
   "cell_type": "code",
   "execution_count": 45,
   "outputs": [
    {
     "data": {
      "text/plain": "True"
     },
     "execution_count": 45,
     "metadata": {},
     "output_type": "execute_result"
    }
   ],
   "source": [
    "feats_half2.columns.to_list()\n",
    "feats_half2.columns.to_list() == feats.columns.to_list()"
   ],
   "metadata": {
    "collapsed": false,
    "pycharm": {
     "name": "#%%\n"
    }
   }
  },
  {
   "cell_type": "code",
   "execution_count": 46,
   "outputs": [
    {
     "data": {
      "text/plain": "            id  vas_id            buy_time        97        79         51  \\\n0      3130519       2 2019-01-20 21:00:00 -0.348913 -0.998268 -22.088986   \n1      2000860       4 2019-01-20 21:00:00 -0.348913 -0.998268  -9.088986   \n2      1343255       5 2019-01-13 21:00:00 -0.348913 -0.998268 -22.088986   \n3      3195325       6 2019-01-20 21:00:00 -0.348913 -0.998268 -35.088986   \n4      3324464       1 2019-01-13 21:00:00 -0.348913 -0.998268  22.911014   \n...        ...     ...                 ...       ...       ...        ...   \n36811  4151123       2 2019-01-20 21:00:00 -0.348913 -0.998268  32.911014   \n36812  3474537       2 2019-01-20 21:00:00 -0.348913 -0.998268 -40.088986   \n36813  2502453       5 2019-01-20 21:00:00 -0.348913 -0.998268 -51.088986   \n36814  2437172       2 2019-01-20 21:00:00 -0.348913 -0.998268 -40.088986   \n36815   988236       2 2019-01-20 21:00:00 -0.348913 -0.998268 -28.088986   \n\n             187          13        25       148  ...         55       140  \\\n0      -0.354808  -66.189127 -2.082209 -0.317164  ...  -8.745251 -1.276187   \n1     -16.354808  -66.189127 -2.082209 -0.317164  ...  -9.745251 -1.276187   \n2      -7.354808  289.740873 -2.082209  0.182836  ...  -9.745251 -1.276187   \n3     -16.354808  -66.189127 -2.082209 -0.317164  ...  -9.745251 -1.276187   \n4     -15.354808  -66.189127 -2.082209  0.282836  ...  47.254749 -1.276187   \n...          ...         ...       ...       ...  ...        ...       ...   \n36811  43.645192  -66.189127 -2.082209 -0.317164  ...  37.254749 -1.276187   \n36812 -16.354808  -66.189127 -2.082209 -0.317164  ...  -0.745251 -1.276187   \n36813 -16.354808  -66.189127 -2.082209 -0.317164  ...  -9.745251 -1.276187   \n36814 -16.354808  145.670873 -2.082209 -0.317164  ...  -7.745251 -1.276187   \n36815  28.645192  -66.189127 -2.082209  0.352836  ...  -4.745251 -1.276187   \n\n             226        95          116       106         45        61  \\\n0       6.899332 -0.000115 -2850.687047 -9.408469 -53.726160  0.421838   \n1       1.399332 -0.000115 -2944.810091 -9.408469 -65.059494 -0.408162   \n2      -7.475668 -0.000115 -2945.772987 -9.408469  -2.209494 -0.058162   \n3      -8.850668 -0.000115 -2945.377476 -9.408469 -65.059494 -0.408162   \n4       0.613617 -0.000115 -2451.505407 -9.408469 -37.809496  0.261838   \n...          ...       ...          ...       ...        ...       ...   \n36811   3.299332 -0.000115  1640.399013 -9.408469   8.190506 -0.138162   \n36812  12.899332 -0.000115 -2896.436073 -9.408469 -65.059494 -0.408162   \n36813   7.099332 -0.000115 -2945.772987 -9.408469 -65.059494 -0.408162   \n36814  -2.100668 -0.000115 -2850.338417 -9.408469 -65.059494 -0.408162   \n36815   9.232666 -0.000115 -2080.623587 -9.408469  71.673846 -0.118162   \n\n            118       136  \n0     -0.343415 -2.722591  \n1     -0.343415 -2.722591  \n2     -0.343415 -2.722591  \n3     -0.343415 -2.722591  \n4     -0.343415  1.277409  \n...         ...       ...  \n36811 -0.343415 -2.722591  \n36812 -0.343415 -2.722591  \n36813 -0.343415 -2.722591  \n36814 -0.343415 -2.722591  \n36815 -0.343415 -2.722591  \n\n[36816 rows x 252 columns]",
      "text/html": "<div>\n<style scoped>\n    .dataframe tbody tr th:only-of-type {\n        vertical-align: middle;\n    }\n\n    .dataframe tbody tr th {\n        vertical-align: top;\n    }\n\n    .dataframe thead th {\n        text-align: right;\n    }\n</style>\n<table border=\"1\" class=\"dataframe\">\n  <thead>\n    <tr style=\"text-align: right;\">\n      <th></th>\n      <th>id</th>\n      <th>vas_id</th>\n      <th>buy_time</th>\n      <th>97</th>\n      <th>79</th>\n      <th>51</th>\n      <th>187</th>\n      <th>13</th>\n      <th>25</th>\n      <th>148</th>\n      <th>...</th>\n      <th>55</th>\n      <th>140</th>\n      <th>226</th>\n      <th>95</th>\n      <th>116</th>\n      <th>106</th>\n      <th>45</th>\n      <th>61</th>\n      <th>118</th>\n      <th>136</th>\n    </tr>\n  </thead>\n  <tbody>\n    <tr>\n      <th>0</th>\n      <td>3130519</td>\n      <td>2</td>\n      <td>2019-01-20 21:00:00</td>\n      <td>-0.348913</td>\n      <td>-0.998268</td>\n      <td>-22.088986</td>\n      <td>-0.354808</td>\n      <td>-66.189127</td>\n      <td>-2.082209</td>\n      <td>-0.317164</td>\n      <td>...</td>\n      <td>-8.745251</td>\n      <td>-1.276187</td>\n      <td>6.899332</td>\n      <td>-0.000115</td>\n      <td>-2850.687047</td>\n      <td>-9.408469</td>\n      <td>-53.726160</td>\n      <td>0.421838</td>\n      <td>-0.343415</td>\n      <td>-2.722591</td>\n    </tr>\n    <tr>\n      <th>1</th>\n      <td>2000860</td>\n      <td>4</td>\n      <td>2019-01-20 21:00:00</td>\n      <td>-0.348913</td>\n      <td>-0.998268</td>\n      <td>-9.088986</td>\n      <td>-16.354808</td>\n      <td>-66.189127</td>\n      <td>-2.082209</td>\n      <td>-0.317164</td>\n      <td>...</td>\n      <td>-9.745251</td>\n      <td>-1.276187</td>\n      <td>1.399332</td>\n      <td>-0.000115</td>\n      <td>-2944.810091</td>\n      <td>-9.408469</td>\n      <td>-65.059494</td>\n      <td>-0.408162</td>\n      <td>-0.343415</td>\n      <td>-2.722591</td>\n    </tr>\n    <tr>\n      <th>2</th>\n      <td>1343255</td>\n      <td>5</td>\n      <td>2019-01-13 21:00:00</td>\n      <td>-0.348913</td>\n      <td>-0.998268</td>\n      <td>-22.088986</td>\n      <td>-7.354808</td>\n      <td>289.740873</td>\n      <td>-2.082209</td>\n      <td>0.182836</td>\n      <td>...</td>\n      <td>-9.745251</td>\n      <td>-1.276187</td>\n      <td>-7.475668</td>\n      <td>-0.000115</td>\n      <td>-2945.772987</td>\n      <td>-9.408469</td>\n      <td>-2.209494</td>\n      <td>-0.058162</td>\n      <td>-0.343415</td>\n      <td>-2.722591</td>\n    </tr>\n    <tr>\n      <th>3</th>\n      <td>3195325</td>\n      <td>6</td>\n      <td>2019-01-20 21:00:00</td>\n      <td>-0.348913</td>\n      <td>-0.998268</td>\n      <td>-35.088986</td>\n      <td>-16.354808</td>\n      <td>-66.189127</td>\n      <td>-2.082209</td>\n      <td>-0.317164</td>\n      <td>...</td>\n      <td>-9.745251</td>\n      <td>-1.276187</td>\n      <td>-8.850668</td>\n      <td>-0.000115</td>\n      <td>-2945.377476</td>\n      <td>-9.408469</td>\n      <td>-65.059494</td>\n      <td>-0.408162</td>\n      <td>-0.343415</td>\n      <td>-2.722591</td>\n    </tr>\n    <tr>\n      <th>4</th>\n      <td>3324464</td>\n      <td>1</td>\n      <td>2019-01-13 21:00:00</td>\n      <td>-0.348913</td>\n      <td>-0.998268</td>\n      <td>22.911014</td>\n      <td>-15.354808</td>\n      <td>-66.189127</td>\n      <td>-2.082209</td>\n      <td>0.282836</td>\n      <td>...</td>\n      <td>47.254749</td>\n      <td>-1.276187</td>\n      <td>0.613617</td>\n      <td>-0.000115</td>\n      <td>-2451.505407</td>\n      <td>-9.408469</td>\n      <td>-37.809496</td>\n      <td>0.261838</td>\n      <td>-0.343415</td>\n      <td>1.277409</td>\n    </tr>\n    <tr>\n      <th>...</th>\n      <td>...</td>\n      <td>...</td>\n      <td>...</td>\n      <td>...</td>\n      <td>...</td>\n      <td>...</td>\n      <td>...</td>\n      <td>...</td>\n      <td>...</td>\n      <td>...</td>\n      <td>...</td>\n      <td>...</td>\n      <td>...</td>\n      <td>...</td>\n      <td>...</td>\n      <td>...</td>\n      <td>...</td>\n      <td>...</td>\n      <td>...</td>\n      <td>...</td>\n      <td>...</td>\n    </tr>\n    <tr>\n      <th>36811</th>\n      <td>4151123</td>\n      <td>2</td>\n      <td>2019-01-20 21:00:00</td>\n      <td>-0.348913</td>\n      <td>-0.998268</td>\n      <td>32.911014</td>\n      <td>43.645192</td>\n      <td>-66.189127</td>\n      <td>-2.082209</td>\n      <td>-0.317164</td>\n      <td>...</td>\n      <td>37.254749</td>\n      <td>-1.276187</td>\n      <td>3.299332</td>\n      <td>-0.000115</td>\n      <td>1640.399013</td>\n      <td>-9.408469</td>\n      <td>8.190506</td>\n      <td>-0.138162</td>\n      <td>-0.343415</td>\n      <td>-2.722591</td>\n    </tr>\n    <tr>\n      <th>36812</th>\n      <td>3474537</td>\n      <td>2</td>\n      <td>2019-01-20 21:00:00</td>\n      <td>-0.348913</td>\n      <td>-0.998268</td>\n      <td>-40.088986</td>\n      <td>-16.354808</td>\n      <td>-66.189127</td>\n      <td>-2.082209</td>\n      <td>-0.317164</td>\n      <td>...</td>\n      <td>-0.745251</td>\n      <td>-1.276187</td>\n      <td>12.899332</td>\n      <td>-0.000115</td>\n      <td>-2896.436073</td>\n      <td>-9.408469</td>\n      <td>-65.059494</td>\n      <td>-0.408162</td>\n      <td>-0.343415</td>\n      <td>-2.722591</td>\n    </tr>\n    <tr>\n      <th>36813</th>\n      <td>2502453</td>\n      <td>5</td>\n      <td>2019-01-20 21:00:00</td>\n      <td>-0.348913</td>\n      <td>-0.998268</td>\n      <td>-51.088986</td>\n      <td>-16.354808</td>\n      <td>-66.189127</td>\n      <td>-2.082209</td>\n      <td>-0.317164</td>\n      <td>...</td>\n      <td>-9.745251</td>\n      <td>-1.276187</td>\n      <td>7.099332</td>\n      <td>-0.000115</td>\n      <td>-2945.772987</td>\n      <td>-9.408469</td>\n      <td>-65.059494</td>\n      <td>-0.408162</td>\n      <td>-0.343415</td>\n      <td>-2.722591</td>\n    </tr>\n    <tr>\n      <th>36814</th>\n      <td>2437172</td>\n      <td>2</td>\n      <td>2019-01-20 21:00:00</td>\n      <td>-0.348913</td>\n      <td>-0.998268</td>\n      <td>-40.088986</td>\n      <td>-16.354808</td>\n      <td>145.670873</td>\n      <td>-2.082209</td>\n      <td>-0.317164</td>\n      <td>...</td>\n      <td>-7.745251</td>\n      <td>-1.276187</td>\n      <td>-2.100668</td>\n      <td>-0.000115</td>\n      <td>-2850.338417</td>\n      <td>-9.408469</td>\n      <td>-65.059494</td>\n      <td>-0.408162</td>\n      <td>-0.343415</td>\n      <td>-2.722591</td>\n    </tr>\n    <tr>\n      <th>36815</th>\n      <td>988236</td>\n      <td>2</td>\n      <td>2019-01-20 21:00:00</td>\n      <td>-0.348913</td>\n      <td>-0.998268</td>\n      <td>-28.088986</td>\n      <td>28.645192</td>\n      <td>-66.189127</td>\n      <td>-2.082209</td>\n      <td>0.352836</td>\n      <td>...</td>\n      <td>-4.745251</td>\n      <td>-1.276187</td>\n      <td>9.232666</td>\n      <td>-0.000115</td>\n      <td>-2080.623587</td>\n      <td>-9.408469</td>\n      <td>71.673846</td>\n      <td>-0.118162</td>\n      <td>-0.343415</td>\n      <td>-2.722591</td>\n    </tr>\n  </tbody>\n</table>\n<p>36816 rows × 252 columns</p>\n</div>"
     },
     "execution_count": 46,
     "metadata": {},
     "output_type": "execute_result"
    }
   ],
   "source": [
    "test_h1 = df_test.merge(feats, how='inner', on='id')\n",
    "test_h1.rename(columns={'buy_time_x': 'buy_time', 'buy_time_y': 'data_recieve_time'}, inplace=True)\n",
    "test_h1"
   ],
   "metadata": {
    "collapsed": false,
    "pycharm": {
     "name": "#%%\n"
    }
   }
  },
  {
   "cell_type": "code",
   "execution_count": 47,
   "outputs": [
    {
     "data": {
      "text/plain": "            id  vas_id            buy_time        97        79         51  \\\n0      1099444       2 2019-01-06 21:00:00 -0.348913 -0.998268  51.911014   \n1      1277040       2 2019-01-06 21:00:00 -0.348913 -0.998268 -33.088986   \n2       720364       2 2019-01-13 21:00:00 -0.348913 -0.998268 -37.088986   \n3      4088271       2 2019-01-13 21:00:00 -0.348913 -0.998268  -2.088986   \n4       921310       5 2019-01-06 21:00:00 -0.348913 -0.998268 -41.088986   \n...        ...     ...                 ...       ...       ...        ...   \n36845   899101       2 2019-01-20 21:00:00 -0.348913 -0.998268 -47.088986   \n36846  3173663       2 2019-01-20 21:00:00 -0.348913 -0.998268 -32.088986   \n36847  2545712       2 2019-01-20 21:00:00 -0.348913 -0.998268   7.911014   \n36848  1693213       2 2019-01-20 21:00:00 -0.348913 -0.998268 -51.088986   \n36849  1891350       2 2019-01-20 21:00:00 -0.348913 -0.998268 -41.088986   \n\n             187          13         25       148  ...         55       140  \\\n0     -16.354808  -66.189127  -2.082209 -0.317164  ...  -4.745251 -1.276187   \n1     -15.354808  357.540873  -2.082209 -0.317164  ...  -4.745251 -1.276187   \n2     -16.354808  -66.189127   2.667791 -0.317164  ...  -9.745251 -1.276187   \n3      14.645192  145.670873  -2.082209 -0.317164  ...  -9.745251 -1.276187   \n4      -7.354808   52.840873  87.967791  0.182836  ...  -8.745251 -1.276187   \n...          ...         ...        ...       ...  ...        ...       ...   \n36845 -16.354808  -66.189127  -2.082209 -0.317164  ...  -9.745251 -1.276187   \n36846 -13.354808  -66.189127  -2.082209  0.182836  ...  -6.745251 -1.276187   \n36847  12.645192  137.200873  -2.082209  0.402836  ...  18.254749 -1.276187   \n36848  -9.354808  -66.189127  -2.082209 -0.317164  ...  -9.745251 -1.276187   \n36849 -11.354808  -66.189127  -2.082209  0.352836  ...  -9.745251 -1.276187   \n\n             226        95          116        106         45        61  \\\n0      -6.100668 -0.000115 -2945.772987   3.301531 -64.476161 -0.038162   \n1      11.699332 -0.000115   305.159613  -9.408469 -64.659494 -0.218162   \n2      14.399332 -0.000115 -2754.278827  -9.408469 -65.059494 -0.408162   \n3      -9.942773 -0.000115   803.543413  -9.408469 -38.476160  0.061838   \n4       5.732666 -0.000115 -2945.772987  -9.408469 -16.092827 -0.148162   \n...          ...       ...          ...        ...        ...       ...   \n36845  18.149332 -0.000115  -296.179187  -9.408469 -65.059494 -0.408162   \n36846   4.899332 -0.000115 -2724.880407  -7.878469 -59.276160  0.111838   \n36847   5.042189 -0.000115 -2883.844277  20.251531  31.707176  0.051838   \n36848  21.232664 -0.000115 -2945.772987  -9.408469 -47.242826  0.541838   \n36849  -4.684001 -0.000115   465.272013  -9.408469 -19.142826 -0.028162   \n\n            118       136  \n0     -0.343415 -2.722591  \n1     -0.343415 -2.722591  \n2     -0.343415 -2.722591  \n3     -0.343415 -2.722591  \n4     -0.343415 -2.722591  \n...         ...       ...  \n36845 -0.343415 -2.722591  \n36846 -0.343415 -2.722591  \n36847 -0.343415 -2.722591  \n36848 -0.343415 -0.722591  \n36849 -0.343415  7.277409  \n\n[36850 rows x 252 columns]",
      "text/html": "<div>\n<style scoped>\n    .dataframe tbody tr th:only-of-type {\n        vertical-align: middle;\n    }\n\n    .dataframe tbody tr th {\n        vertical-align: top;\n    }\n\n    .dataframe thead th {\n        text-align: right;\n    }\n</style>\n<table border=\"1\" class=\"dataframe\">\n  <thead>\n    <tr style=\"text-align: right;\">\n      <th></th>\n      <th>id</th>\n      <th>vas_id</th>\n      <th>buy_time</th>\n      <th>97</th>\n      <th>79</th>\n      <th>51</th>\n      <th>187</th>\n      <th>13</th>\n      <th>25</th>\n      <th>148</th>\n      <th>...</th>\n      <th>55</th>\n      <th>140</th>\n      <th>226</th>\n      <th>95</th>\n      <th>116</th>\n      <th>106</th>\n      <th>45</th>\n      <th>61</th>\n      <th>118</th>\n      <th>136</th>\n    </tr>\n  </thead>\n  <tbody>\n    <tr>\n      <th>0</th>\n      <td>1099444</td>\n      <td>2</td>\n      <td>2019-01-06 21:00:00</td>\n      <td>-0.348913</td>\n      <td>-0.998268</td>\n      <td>51.911014</td>\n      <td>-16.354808</td>\n      <td>-66.189127</td>\n      <td>-2.082209</td>\n      <td>-0.317164</td>\n      <td>...</td>\n      <td>-4.745251</td>\n      <td>-1.276187</td>\n      <td>-6.100668</td>\n      <td>-0.000115</td>\n      <td>-2945.772987</td>\n      <td>3.301531</td>\n      <td>-64.476161</td>\n      <td>-0.038162</td>\n      <td>-0.343415</td>\n      <td>-2.722591</td>\n    </tr>\n    <tr>\n      <th>1</th>\n      <td>1277040</td>\n      <td>2</td>\n      <td>2019-01-06 21:00:00</td>\n      <td>-0.348913</td>\n      <td>-0.998268</td>\n      <td>-33.088986</td>\n      <td>-15.354808</td>\n      <td>357.540873</td>\n      <td>-2.082209</td>\n      <td>-0.317164</td>\n      <td>...</td>\n      <td>-4.745251</td>\n      <td>-1.276187</td>\n      <td>11.699332</td>\n      <td>-0.000115</td>\n      <td>305.159613</td>\n      <td>-9.408469</td>\n      <td>-64.659494</td>\n      <td>-0.218162</td>\n      <td>-0.343415</td>\n      <td>-2.722591</td>\n    </tr>\n    <tr>\n      <th>2</th>\n      <td>720364</td>\n      <td>2</td>\n      <td>2019-01-13 21:00:00</td>\n      <td>-0.348913</td>\n      <td>-0.998268</td>\n      <td>-37.088986</td>\n      <td>-16.354808</td>\n      <td>-66.189127</td>\n      <td>2.667791</td>\n      <td>-0.317164</td>\n      <td>...</td>\n      <td>-9.745251</td>\n      <td>-1.276187</td>\n      <td>14.399332</td>\n      <td>-0.000115</td>\n      <td>-2754.278827</td>\n      <td>-9.408469</td>\n      <td>-65.059494</td>\n      <td>-0.408162</td>\n      <td>-0.343415</td>\n      <td>-2.722591</td>\n    </tr>\n    <tr>\n      <th>3</th>\n      <td>4088271</td>\n      <td>2</td>\n      <td>2019-01-13 21:00:00</td>\n      <td>-0.348913</td>\n      <td>-0.998268</td>\n      <td>-2.088986</td>\n      <td>14.645192</td>\n      <td>145.670873</td>\n      <td>-2.082209</td>\n      <td>-0.317164</td>\n      <td>...</td>\n      <td>-9.745251</td>\n      <td>-1.276187</td>\n      <td>-9.942773</td>\n      <td>-0.000115</td>\n      <td>803.543413</td>\n      <td>-9.408469</td>\n      <td>-38.476160</td>\n      <td>0.061838</td>\n      <td>-0.343415</td>\n      <td>-2.722591</td>\n    </tr>\n    <tr>\n      <th>4</th>\n      <td>921310</td>\n      <td>5</td>\n      <td>2019-01-06 21:00:00</td>\n      <td>-0.348913</td>\n      <td>-0.998268</td>\n      <td>-41.088986</td>\n      <td>-7.354808</td>\n      <td>52.840873</td>\n      <td>87.967791</td>\n      <td>0.182836</td>\n      <td>...</td>\n      <td>-8.745251</td>\n      <td>-1.276187</td>\n      <td>5.732666</td>\n      <td>-0.000115</td>\n      <td>-2945.772987</td>\n      <td>-9.408469</td>\n      <td>-16.092827</td>\n      <td>-0.148162</td>\n      <td>-0.343415</td>\n      <td>-2.722591</td>\n    </tr>\n    <tr>\n      <th>...</th>\n      <td>...</td>\n      <td>...</td>\n      <td>...</td>\n      <td>...</td>\n      <td>...</td>\n      <td>...</td>\n      <td>...</td>\n      <td>...</td>\n      <td>...</td>\n      <td>...</td>\n      <td>...</td>\n      <td>...</td>\n      <td>...</td>\n      <td>...</td>\n      <td>...</td>\n      <td>...</td>\n      <td>...</td>\n      <td>...</td>\n      <td>...</td>\n      <td>...</td>\n      <td>...</td>\n    </tr>\n    <tr>\n      <th>36845</th>\n      <td>899101</td>\n      <td>2</td>\n      <td>2019-01-20 21:00:00</td>\n      <td>-0.348913</td>\n      <td>-0.998268</td>\n      <td>-47.088986</td>\n      <td>-16.354808</td>\n      <td>-66.189127</td>\n      <td>-2.082209</td>\n      <td>-0.317164</td>\n      <td>...</td>\n      <td>-9.745251</td>\n      <td>-1.276187</td>\n      <td>18.149332</td>\n      <td>-0.000115</td>\n      <td>-296.179187</td>\n      <td>-9.408469</td>\n      <td>-65.059494</td>\n      <td>-0.408162</td>\n      <td>-0.343415</td>\n      <td>-2.722591</td>\n    </tr>\n    <tr>\n      <th>36846</th>\n      <td>3173663</td>\n      <td>2</td>\n      <td>2019-01-20 21:00:00</td>\n      <td>-0.348913</td>\n      <td>-0.998268</td>\n      <td>-32.088986</td>\n      <td>-13.354808</td>\n      <td>-66.189127</td>\n      <td>-2.082209</td>\n      <td>0.182836</td>\n      <td>...</td>\n      <td>-6.745251</td>\n      <td>-1.276187</td>\n      <td>4.899332</td>\n      <td>-0.000115</td>\n      <td>-2724.880407</td>\n      <td>-7.878469</td>\n      <td>-59.276160</td>\n      <td>0.111838</td>\n      <td>-0.343415</td>\n      <td>-2.722591</td>\n    </tr>\n    <tr>\n      <th>36847</th>\n      <td>2545712</td>\n      <td>2</td>\n      <td>2019-01-20 21:00:00</td>\n      <td>-0.348913</td>\n      <td>-0.998268</td>\n      <td>7.911014</td>\n      <td>12.645192</td>\n      <td>137.200873</td>\n      <td>-2.082209</td>\n      <td>0.402836</td>\n      <td>...</td>\n      <td>18.254749</td>\n      <td>-1.276187</td>\n      <td>5.042189</td>\n      <td>-0.000115</td>\n      <td>-2883.844277</td>\n      <td>20.251531</td>\n      <td>31.707176</td>\n      <td>0.051838</td>\n      <td>-0.343415</td>\n      <td>-2.722591</td>\n    </tr>\n    <tr>\n      <th>36848</th>\n      <td>1693213</td>\n      <td>2</td>\n      <td>2019-01-20 21:00:00</td>\n      <td>-0.348913</td>\n      <td>-0.998268</td>\n      <td>-51.088986</td>\n      <td>-9.354808</td>\n      <td>-66.189127</td>\n      <td>-2.082209</td>\n      <td>-0.317164</td>\n      <td>...</td>\n      <td>-9.745251</td>\n      <td>-1.276187</td>\n      <td>21.232664</td>\n      <td>-0.000115</td>\n      <td>-2945.772987</td>\n      <td>-9.408469</td>\n      <td>-47.242826</td>\n      <td>0.541838</td>\n      <td>-0.343415</td>\n      <td>-0.722591</td>\n    </tr>\n    <tr>\n      <th>36849</th>\n      <td>1891350</td>\n      <td>2</td>\n      <td>2019-01-20 21:00:00</td>\n      <td>-0.348913</td>\n      <td>-0.998268</td>\n      <td>-41.088986</td>\n      <td>-11.354808</td>\n      <td>-66.189127</td>\n      <td>-2.082209</td>\n      <td>0.352836</td>\n      <td>...</td>\n      <td>-9.745251</td>\n      <td>-1.276187</td>\n      <td>-4.684001</td>\n      <td>-0.000115</td>\n      <td>465.272013</td>\n      <td>-9.408469</td>\n      <td>-19.142826</td>\n      <td>-0.028162</td>\n      <td>-0.343415</td>\n      <td>7.277409</td>\n    </tr>\n  </tbody>\n</table>\n<p>36850 rows × 252 columns</p>\n</div>"
     },
     "execution_count": 47,
     "metadata": {},
     "output_type": "execute_result"
    }
   ],
   "source": [
    "test_h2 = df_test.merge(feats_half2, how='inner', on='id')\n",
    "test_h2.rename(columns={'buy_time_x': 'buy_time', 'buy_time_y': 'data_recieve_time'}, inplace=True)\n",
    "test_h2"
   ],
   "metadata": {
    "collapsed": false,
    "pycharm": {
     "name": "#%%\n"
    }
   }
  },
  {
   "cell_type": "code",
   "execution_count": null,
   "outputs": [],
   "source": [
    "df_test_mod = pd.concat([test_h1, test_h2], ignore_index=True)\n",
    "df_test_mod"
   ],
   "metadata": {
    "collapsed": false,
    "pycharm": {
     "name": "#%%\n"
    }
   }
  },
  {
   "cell_type": "code",
   "execution_count": 93,
   "outputs": [
    {
     "data": {
      "text/plain": "                 buy_time   data_recieve_time\n0     2019-01-20 21:00:00 2018-09-09 21:00:00\n1     2019-01-20 21:00:00 2018-07-22 21:00:00\n2     2019-01-13 21:00:00 2018-09-09 21:00:00\n3     2019-01-20 21:00:00 2019-01-13 21:00:00\n4     2019-01-13 21:00:00 2018-07-15 21:00:00\n...                   ...                 ...\n73661 2019-01-20 21:00:00 2018-08-26 21:00:00\n73662 2019-01-20 21:00:00 2018-12-23 21:00:00\n73663 2019-01-20 21:00:00 2018-08-12 21:00:00\n73664 2019-01-20 21:00:00 2018-11-11 21:00:00\n73665 2019-01-20 21:00:00 2018-12-23 21:00:00\n\n[71231 rows x 2 columns]",
      "text/html": "<div>\n<style scoped>\n    .dataframe tbody tr th:only-of-type {\n        vertical-align: middle;\n    }\n\n    .dataframe tbody tr th {\n        vertical-align: top;\n    }\n\n    .dataframe thead th {\n        text-align: right;\n    }\n</style>\n<table border=\"1\" class=\"dataframe\">\n  <thead>\n    <tr style=\"text-align: right;\">\n      <th></th>\n      <th>buy_time</th>\n      <th>data_recieve_time</th>\n    </tr>\n  </thead>\n  <tbody>\n    <tr>\n      <th>0</th>\n      <td>2019-01-20 21:00:00</td>\n      <td>2018-09-09 21:00:00</td>\n    </tr>\n    <tr>\n      <th>1</th>\n      <td>2019-01-20 21:00:00</td>\n      <td>2018-07-22 21:00:00</td>\n    </tr>\n    <tr>\n      <th>2</th>\n      <td>2019-01-13 21:00:00</td>\n      <td>2018-09-09 21:00:00</td>\n    </tr>\n    <tr>\n      <th>3</th>\n      <td>2019-01-20 21:00:00</td>\n      <td>2019-01-13 21:00:00</td>\n    </tr>\n    <tr>\n      <th>4</th>\n      <td>2019-01-13 21:00:00</td>\n      <td>2018-07-15 21:00:00</td>\n    </tr>\n    <tr>\n      <th>...</th>\n      <td>...</td>\n      <td>...</td>\n    </tr>\n    <tr>\n      <th>73661</th>\n      <td>2019-01-20 21:00:00</td>\n      <td>2018-08-26 21:00:00</td>\n    </tr>\n    <tr>\n      <th>73662</th>\n      <td>2019-01-20 21:00:00</td>\n      <td>2018-12-23 21:00:00</td>\n    </tr>\n    <tr>\n      <th>73663</th>\n      <td>2019-01-20 21:00:00</td>\n      <td>2018-08-12 21:00:00</td>\n    </tr>\n    <tr>\n      <th>73664</th>\n      <td>2019-01-20 21:00:00</td>\n      <td>2018-11-11 21:00:00</td>\n    </tr>\n    <tr>\n      <th>73665</th>\n      <td>2019-01-20 21:00:00</td>\n      <td>2018-12-23 21:00:00</td>\n    </tr>\n  </tbody>\n</table>\n<p>71231 rows × 2 columns</p>\n</div>"
     },
     "execution_count": 93,
     "metadata": {},
     "output_type": "execute_result"
    }
   ],
   "source": [
    "#Удалем все дубликаты в датасете с признаками и получаем исходную размерность тестового датасета, значит во время обработки необходимо выполнить все эти приемы\n",
    "df_test_mod = df_test_mod[~df_test_mod[['id', 'vas_id', 'buy_time']].duplicated()]\n",
    "df_test_mod[['buy_time', 'data_recieve_time']]"
   ],
   "metadata": {
    "collapsed": false,
    "pycharm": {
     "name": "#%%\n"
    }
   }
  },
  {
   "cell_type": "markdown",
   "source": [
    "### Итоги 2го этапа.\n",
    "1) Написал функцию по предобработке исходных данных. (Удаление колнки лишней, float_to_int, преобразование из timestamp в datetime)\n",
    "2) Подготовил из 4250000 объектов с признаками (94.5% всех признаков), ~800000 для обучения модели через мердж трейна и признаков по пользователям\n",
    "3) Получили 2 даты по каждому пользователю: одна - дата покупки, вторая - дата сбора информации об абоненте. Необходимо будет сделать 3ю фичу разницу этих дат в днях по модулю, она будет отражать актуальность данных об абоненте\n",
    "\n",
    "###### Дальнейший план работы\n",
    "1) Загрузить данные из заготовленного файла для трейна 4250k_feats_train.zip в нем csv\n",
    "2) Перед созданием последней фичи или после, промерджить данные по id/id+buy_time, в data_train.csv. Необходимо убедиться что тест, никак не меняется по объему данных (количеству объектов или хотя бы в не меньшую сторону)\n",
    "3) Разбить данные на трейн/тест, для измерения метрики. Кросс валидация по ситуации буду думать и по времени, наверное после бейзлайна уже.\n",
    "4) После создания фичи, можно собирать модель/пайплайн и обучать модель. Затем gridsearch/другие модели, но исходные данные будут уже эти точно\n",
    "5) Сохранение результатов и все остальные прикладные вещи\n",
    "\n",
    "UPD: Добавил данные в пункт 2 итогов, до полного количества, собрал 100% данных и добавил фичу разницы дней.\n",
    "UPD2: Фичи собираю через 2 датафрейма из features.csv, а потом при предсказания теста, нужно делать конкатенацию, чтобы вернуть исходное состояние. В полученном датасете больше строк чем в тесте, т.к id дублируются для разного времени.\n",
    "UPD3: Решено UPD2, df_test_mod[~df_test_mod[['id', 'vas_id', 'buy_time']].duplicated()], удаляем дубликаты подмножества (id, vas_id, buy_time), получаем исходный датасет. Очень важно при обработке"
   ],
   "metadata": {
    "collapsed": false,
    "pycharm": {
     "name": "#%% md\n"
    }
   }
  },
  {
   "cell_type": "code",
   "execution_count": 49,
   "metadata": {
    "pycharm": {
     "name": "#%%\n"
    }
   },
   "outputs": [
    {
     "data": {
      "text/plain": "'\\nclass ColumnSelector(BaseEstimator, TransformerMixin):\\n    def __init__(self, columns):\\n        self.columns = columns\\n\\n    def fit(self, X, y=None):\\n        return self\\n\\n    def transform(self, X):\\n        assert isinstance(X, pd.DataFrame)\\n\\n        try:\\n            return X[self.columns]\\n        except KeyError:\\n            cols_error = list(set(self.columns) - set(X.columns))\\n            raise KeyError(\"DataFrame не содердит следующие колонки: %s\" % cols_error)\\n'"
     },
     "execution_count": 49,
     "metadata": {},
     "output_type": "execute_result"
    }
   ],
   "source": [
    "\"\"\"\n",
    "class ColumnSelector(BaseEstimator, TransformerMixin):\n",
    "    def __init__(self, columns):\n",
    "        self.columns = columns\n",
    "\n",
    "    def fit(self, X, y=None):\n",
    "        return self\n",
    "\n",
    "    def transform(self, X):\n",
    "        assert isinstance(X, pd.DataFrame)\n",
    "\n",
    "        try:\n",
    "            return X[self.columns]\n",
    "        except KeyError:\n",
    "            cols_error = list(set(self.columns) - set(X.columns))\n",
    "            raise KeyError(\"DataFrame не содердит следующие колонки: %s\" % cols_error)\n",
    "\"\"\""
   ]
  }
 ],
 "metadata": {
  "kernelspec": {
   "display_name": "Python 3 (ipykernel)",
   "language": "python",
   "name": "python3"
  },
  "language_info": {
   "codemirror_mode": {
    "name": "ipython",
    "version": 3
   },
   "file_extension": ".py",
   "mimetype": "text/x-python",
   "name": "python",
   "nbconvert_exporter": "python",
   "pygments_lexer": "ipython3",
   "version": "3.10.4"
  }
 },
 "nbformat": 4,
 "nbformat_minor": 1
}