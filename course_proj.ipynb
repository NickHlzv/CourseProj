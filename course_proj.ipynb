{
 "cells": [
  {
   "cell_type": "code",
   "execution_count": 1,
   "metadata": {
    "pycharm": {
     "name": "#%%\n"
    }
   },
   "outputs": [],
   "source": [
    "import numpy as np\n",
    "import pandas as pd\n",
    "import matplotlib.pyplot as plt\n",
    "from sklearn.model_selection import train_test_split\n",
    "from sklearn.base import BaseEstimator, TransformerMixin\n",
    "from sklearn.metrics import classification_report, precision_score, recall_score, f1_score\n",
    "from catboost import CatBoostClassifier\n",
    "from sklearn.pipeline import make_pipeline\n",
    "import warnings\n",
    "warnings.filterwarnings('ignore')\n",
    "%matplotlib inline"
   ]
  },
  {
   "cell_type": "code",
   "execution_count": 2,
   "metadata": {
    "pycharm": {
     "name": "#%%\n"
    }
   },
   "outputs": [],
   "source": [
    "#После проведения EDA (блок ниже), написал функцию по предобработке данных для любого датафрейма, тест, трайн или фичи\n",
    "#Сразу удаляем лишнюю колонку, преобразуем дату и переводи в int нужные признаки (например target и vas_id)\n",
    "def prepare_data(data_df, columns_to_int=None):\n",
    "    data_df['buy_time'] = pd.to_datetime(data_df['buy_time'], unit='s')\n",
    "    try:\n",
    "        data_df = data_df.drop(columns='Unnamed: 0')\n",
    "    except KeyError:\n",
    "        pass\n",
    "    if columns_to_int:\n",
    "        try:\n",
    "            data_df[columns_to_int] = data_df[columns_to_int].astype('int64')\n",
    "        except KeyError:\n",
    "            raise KeyError(\"Column doesn't exist, or isn't numeric type. Unable to convert type to int. Correct key mistakes, and try again\")\n",
    "    return data_df"
   ]
  },
  {
   "cell_type": "markdown",
   "metadata": {
    "pycharm": {
     "name": "#%% md\n"
    }
   },
   "source": [
    "### Загрузка и просмотр датасета"
   ]
  },
  {
   "cell_type": "code",
   "execution_count": 3,
   "metadata": {
    "pycharm": {
     "name": "#%%\n"
    }
   },
   "outputs": [
    {
     "data": {
      "text/plain": "             id  vas_id            buy_time  target\n0        540968       8 2018-09-16 21:00:00       0\n1       1454121       4 2018-07-15 21:00:00       0\n2       2458816       1 2018-08-12 21:00:00       0\n3       3535012       5 2018-09-02 21:00:00       0\n4       1693214       1 2018-09-02 21:00:00       0\n...         ...     ...                 ...     ...\n831648  3812226       2 2018-12-30 21:00:00       0\n831649  2480469       2 2018-12-30 21:00:00       0\n831650   158236       2 2018-12-30 21:00:00       0\n831651  1825525       2 2018-12-30 21:00:00       0\n831652  3022610       2 2018-12-30 21:00:00       0\n\n[831653 rows x 4 columns]",
      "text/html": "<div>\n<style scoped>\n    .dataframe tbody tr th:only-of-type {\n        vertical-align: middle;\n    }\n\n    .dataframe tbody tr th {\n        vertical-align: top;\n    }\n\n    .dataframe thead th {\n        text-align: right;\n    }\n</style>\n<table border=\"1\" class=\"dataframe\">\n  <thead>\n    <tr style=\"text-align: right;\">\n      <th></th>\n      <th>id</th>\n      <th>vas_id</th>\n      <th>buy_time</th>\n      <th>target</th>\n    </tr>\n  </thead>\n  <tbody>\n    <tr>\n      <th>0</th>\n      <td>540968</td>\n      <td>8</td>\n      <td>2018-09-16 21:00:00</td>\n      <td>0</td>\n    </tr>\n    <tr>\n      <th>1</th>\n      <td>1454121</td>\n      <td>4</td>\n      <td>2018-07-15 21:00:00</td>\n      <td>0</td>\n    </tr>\n    <tr>\n      <th>2</th>\n      <td>2458816</td>\n      <td>1</td>\n      <td>2018-08-12 21:00:00</td>\n      <td>0</td>\n    </tr>\n    <tr>\n      <th>3</th>\n      <td>3535012</td>\n      <td>5</td>\n      <td>2018-09-02 21:00:00</td>\n      <td>0</td>\n    </tr>\n    <tr>\n      <th>4</th>\n      <td>1693214</td>\n      <td>1</td>\n      <td>2018-09-02 21:00:00</td>\n      <td>0</td>\n    </tr>\n    <tr>\n      <th>...</th>\n      <td>...</td>\n      <td>...</td>\n      <td>...</td>\n      <td>...</td>\n    </tr>\n    <tr>\n      <th>831648</th>\n      <td>3812226</td>\n      <td>2</td>\n      <td>2018-12-30 21:00:00</td>\n      <td>0</td>\n    </tr>\n    <tr>\n      <th>831649</th>\n      <td>2480469</td>\n      <td>2</td>\n      <td>2018-12-30 21:00:00</td>\n      <td>0</td>\n    </tr>\n    <tr>\n      <th>831650</th>\n      <td>158236</td>\n      <td>2</td>\n      <td>2018-12-30 21:00:00</td>\n      <td>0</td>\n    </tr>\n    <tr>\n      <th>831651</th>\n      <td>1825525</td>\n      <td>2</td>\n      <td>2018-12-30 21:00:00</td>\n      <td>0</td>\n    </tr>\n    <tr>\n      <th>831652</th>\n      <td>3022610</td>\n      <td>2</td>\n      <td>2018-12-30 21:00:00</td>\n      <td>0</td>\n    </tr>\n  </tbody>\n</table>\n<p>831653 rows × 4 columns</p>\n</div>"
     },
     "execution_count": 3,
     "metadata": {},
     "output_type": "execute_result"
    }
   ],
   "source": [
    "#Убираем фиктивные колонки, видимо индексы, преобразуем даты, чтобы увидеть больше информации из имеющихся данных\n",
    "df_train = pd.read_csv('data_train.csv')\n",
    "df_train = prepare_data(df_train, columns_to_int=['vas_id', 'target'])\n",
    "df_test = pd.read_csv('data_test.csv')\n",
    "df_test = prepare_data(df_test, columns_to_int='vas_id')\n",
    "df_train"
   ]
  },
  {
   "cell_type": "code",
   "execution_count": 4,
   "metadata": {
    "pycharm": {
     "name": "#%%\n"
    }
   },
   "outputs": [
    {
     "data": {
      "text/plain": "            id  vas_id            buy_time\n0      3130519       2 2019-01-20 21:00:00\n1      2000860       4 2019-01-20 21:00:00\n2      1099444       2 2019-01-06 21:00:00\n3      1343255       5 2019-01-13 21:00:00\n4      1277040       2 2019-01-06 21:00:00\n...        ...     ...                 ...\n71226  2502453       5 2019-01-20 21:00:00\n71227  1693213       2 2019-01-20 21:00:00\n71228  1891350       2 2019-01-20 21:00:00\n71229  2437172       2 2019-01-20 21:00:00\n71230   988236       2 2019-01-20 21:00:00\n\n[71231 rows x 3 columns]",
      "text/html": "<div>\n<style scoped>\n    .dataframe tbody tr th:only-of-type {\n        vertical-align: middle;\n    }\n\n    .dataframe tbody tr th {\n        vertical-align: top;\n    }\n\n    .dataframe thead th {\n        text-align: right;\n    }\n</style>\n<table border=\"1\" class=\"dataframe\">\n  <thead>\n    <tr style=\"text-align: right;\">\n      <th></th>\n      <th>id</th>\n      <th>vas_id</th>\n      <th>buy_time</th>\n    </tr>\n  </thead>\n  <tbody>\n    <tr>\n      <th>0</th>\n      <td>3130519</td>\n      <td>2</td>\n      <td>2019-01-20 21:00:00</td>\n    </tr>\n    <tr>\n      <th>1</th>\n      <td>2000860</td>\n      <td>4</td>\n      <td>2019-01-20 21:00:00</td>\n    </tr>\n    <tr>\n      <th>2</th>\n      <td>1099444</td>\n      <td>2</td>\n      <td>2019-01-06 21:00:00</td>\n    </tr>\n    <tr>\n      <th>3</th>\n      <td>1343255</td>\n      <td>5</td>\n      <td>2019-01-13 21:00:00</td>\n    </tr>\n    <tr>\n      <th>4</th>\n      <td>1277040</td>\n      <td>2</td>\n      <td>2019-01-06 21:00:00</td>\n    </tr>\n    <tr>\n      <th>...</th>\n      <td>...</td>\n      <td>...</td>\n      <td>...</td>\n    </tr>\n    <tr>\n      <th>71226</th>\n      <td>2502453</td>\n      <td>5</td>\n      <td>2019-01-20 21:00:00</td>\n    </tr>\n    <tr>\n      <th>71227</th>\n      <td>1693213</td>\n      <td>2</td>\n      <td>2019-01-20 21:00:00</td>\n    </tr>\n    <tr>\n      <th>71228</th>\n      <td>1891350</td>\n      <td>2</td>\n      <td>2019-01-20 21:00:00</td>\n    </tr>\n    <tr>\n      <th>71229</th>\n      <td>2437172</td>\n      <td>2</td>\n      <td>2019-01-20 21:00:00</td>\n    </tr>\n    <tr>\n      <th>71230</th>\n      <td>988236</td>\n      <td>2</td>\n      <td>2019-01-20 21:00:00</td>\n    </tr>\n  </tbody>\n</table>\n<p>71231 rows × 3 columns</p>\n</div>"
     },
     "execution_count": 4,
     "metadata": {},
     "output_type": "execute_result"
    }
   ],
   "source": [
    "df_test"
   ]
  },
  {
   "cell_type": "code",
   "execution_count": 5,
   "metadata": {
    "pycharm": {
     "name": "#%%\n"
    }
   },
   "outputs": [
    {
     "name": "stdout",
     "output_type": "stream",
     "text": [
      "CPU times: total: 5min 56s\n",
      "Wall time: 5min 57s\n"
     ]
    },
    {
     "data": {
      "text/plain": "              id            buy_time          0           1           2  \\\n0        2013026 2018-07-15 21:00:00  18.910029   46.980888    4.969214   \n1        2014722 2018-10-14 21:00:00  36.690029  152.400888  448.069214   \n2        2015199 2018-12-23 21:00:00 -67.019971  157.050888  -63.180786   \n3        2021765 2018-08-12 21:00:00   7.010029  150.200888   -6.930786   \n4        2027465 2018-08-05 21:00:00 -90.439971  134.220888 -104.380786   \n...          ...                 ...        ...         ...         ...   \n2249995  1910382 2018-09-23 21:00:00 -84.089971   91.410888  -98.030786   \n2249996  1910476 2018-12-09 21:00:00 -54.459971 -133.699112  -68.400786   \n2249997  1910755 2018-09-09 21:00:00 -92.559971  298.190888   96.029214   \n2249998  1910965 2018-09-30 21:00:00 -96.799971 -408.179112 -110.740786   \n2249999  1911161 2018-11-18 21:00:00 -44.009971  684.690888  -24.050786   \n\n                   3           4           5         6           7  ...  \\\n0          -1.386798    3.791754   -14.01179 -16.08618  -65.076097  ...   \n1         563.833202  463.841754   568.99821 -16.08618  -53.216097  ...   \n2         178.103202  -68.598246   156.99821   3.51382   25.183903  ...   \n3         216.213202   76.621754   351.84821 -16.08618  -65.076097  ...   \n4         153.643202 -109.798246   132.53821 -16.08618  -65.076097  ...   \n...              ...         ...         ...       ...         ...  ...   \n2249995   106.603202 -103.448246    85.49821 -16.08618  -59.146097  ...   \n2249996  -186.306798  -73.818246  -207.41179 -16.08618  -65.076097  ...   \n2249997  1120.953202   90.611754  1099.84821 -16.08618  -47.286097  ...   \n2249998  -460.786798 -116.158246  -481.89179 -16.08618  -65.076097  ...   \n2249999   725.303202  -29.468246   704.19821  -6.00618  339.323903  ...   \n\n                 243          244         245        246           247  \\\n0        -977.373846  -613.770792  -25.996269 -37.630448   -301.747724   \n1        -891.373846  -544.770792  -20.996269  48.369552     80.252276   \n2        -977.373846  -613.770792  -12.996269 -37.630448  10829.252276   \n3        -973.373846  -613.770792  -23.996269 -37.630448   -205.747724   \n4        1643.626154  2007.229208  206.003731 -21.630448   6667.252276   \n...              ...          ...         ...        ...           ...   \n2249995  1980.626154  2251.229208  -22.996269  10.369552    -80.747724   \n2249996  -970.373846  -613.770792  -24.996269 -27.630448   -136.747724   \n2249997  -976.373846  -613.770792  -24.996269 -36.630448   -246.747724   \n2249998  -977.373846  -613.770792  -25.996269 -37.630448   -306.747724   \n2249999  7564.626154  4933.229208  -25.996269 -16.630448    569.252276   \n\n               248       249        250       251  252  \n0       -25.832889 -0.694428 -12.175933  -0.45614  0.0  \n1       -13.832889 -0.694428  -1.175933  -0.45614  0.0  \n2       -25.832889 -0.694428 -12.175933  -0.45614  0.0  \n3       -24.832889 -0.694428 -11.175933  -0.45614  1.0  \n4        92.167111 -0.694428  49.824067  47.54386  0.0  \n...            ...       ...        ...       ...  ...  \n2249995 -25.832889 -0.694428 -12.175933  -0.45614  1.0  \n2249996 -25.832889 -0.694428 -12.175933  -0.45614  0.0  \n2249997 -24.832889 -0.694428 -11.175933  -0.45614  1.0  \n2249998 -25.832889 -0.694428 -12.175933  -0.45614  0.0  \n2249999  -4.832889 -0.694428 -12.175933  -0.45614  0.0  \n\n[2250000 rows x 255 columns]",
      "text/html": "<div>\n<style scoped>\n    .dataframe tbody tr th:only-of-type {\n        vertical-align: middle;\n    }\n\n    .dataframe tbody tr th {\n        vertical-align: top;\n    }\n\n    .dataframe thead th {\n        text-align: right;\n    }\n</style>\n<table border=\"1\" class=\"dataframe\">\n  <thead>\n    <tr style=\"text-align: right;\">\n      <th></th>\n      <th>id</th>\n      <th>buy_time</th>\n      <th>0</th>\n      <th>1</th>\n      <th>2</th>\n      <th>3</th>\n      <th>4</th>\n      <th>5</th>\n      <th>6</th>\n      <th>7</th>\n      <th>...</th>\n      <th>243</th>\n      <th>244</th>\n      <th>245</th>\n      <th>246</th>\n      <th>247</th>\n      <th>248</th>\n      <th>249</th>\n      <th>250</th>\n      <th>251</th>\n      <th>252</th>\n    </tr>\n  </thead>\n  <tbody>\n    <tr>\n      <th>0</th>\n      <td>2013026</td>\n      <td>2018-07-15 21:00:00</td>\n      <td>18.910029</td>\n      <td>46.980888</td>\n      <td>4.969214</td>\n      <td>-1.386798</td>\n      <td>3.791754</td>\n      <td>-14.01179</td>\n      <td>-16.08618</td>\n      <td>-65.076097</td>\n      <td>...</td>\n      <td>-977.373846</td>\n      <td>-613.770792</td>\n      <td>-25.996269</td>\n      <td>-37.630448</td>\n      <td>-301.747724</td>\n      <td>-25.832889</td>\n      <td>-0.694428</td>\n      <td>-12.175933</td>\n      <td>-0.45614</td>\n      <td>0.0</td>\n    </tr>\n    <tr>\n      <th>1</th>\n      <td>2014722</td>\n      <td>2018-10-14 21:00:00</td>\n      <td>36.690029</td>\n      <td>152.400888</td>\n      <td>448.069214</td>\n      <td>563.833202</td>\n      <td>463.841754</td>\n      <td>568.99821</td>\n      <td>-16.08618</td>\n      <td>-53.216097</td>\n      <td>...</td>\n      <td>-891.373846</td>\n      <td>-544.770792</td>\n      <td>-20.996269</td>\n      <td>48.369552</td>\n      <td>80.252276</td>\n      <td>-13.832889</td>\n      <td>-0.694428</td>\n      <td>-1.175933</td>\n      <td>-0.45614</td>\n      <td>0.0</td>\n    </tr>\n    <tr>\n      <th>2</th>\n      <td>2015199</td>\n      <td>2018-12-23 21:00:00</td>\n      <td>-67.019971</td>\n      <td>157.050888</td>\n      <td>-63.180786</td>\n      <td>178.103202</td>\n      <td>-68.598246</td>\n      <td>156.99821</td>\n      <td>3.51382</td>\n      <td>25.183903</td>\n      <td>...</td>\n      <td>-977.373846</td>\n      <td>-613.770792</td>\n      <td>-12.996269</td>\n      <td>-37.630448</td>\n      <td>10829.252276</td>\n      <td>-25.832889</td>\n      <td>-0.694428</td>\n      <td>-12.175933</td>\n      <td>-0.45614</td>\n      <td>0.0</td>\n    </tr>\n    <tr>\n      <th>3</th>\n      <td>2021765</td>\n      <td>2018-08-12 21:00:00</td>\n      <td>7.010029</td>\n      <td>150.200888</td>\n      <td>-6.930786</td>\n      <td>216.213202</td>\n      <td>76.621754</td>\n      <td>351.84821</td>\n      <td>-16.08618</td>\n      <td>-65.076097</td>\n      <td>...</td>\n      <td>-973.373846</td>\n      <td>-613.770792</td>\n      <td>-23.996269</td>\n      <td>-37.630448</td>\n      <td>-205.747724</td>\n      <td>-24.832889</td>\n      <td>-0.694428</td>\n      <td>-11.175933</td>\n      <td>-0.45614</td>\n      <td>1.0</td>\n    </tr>\n    <tr>\n      <th>4</th>\n      <td>2027465</td>\n      <td>2018-08-05 21:00:00</td>\n      <td>-90.439971</td>\n      <td>134.220888</td>\n      <td>-104.380786</td>\n      <td>153.643202</td>\n      <td>-109.798246</td>\n      <td>132.53821</td>\n      <td>-16.08618</td>\n      <td>-65.076097</td>\n      <td>...</td>\n      <td>1643.626154</td>\n      <td>2007.229208</td>\n      <td>206.003731</td>\n      <td>-21.630448</td>\n      <td>6667.252276</td>\n      <td>92.167111</td>\n      <td>-0.694428</td>\n      <td>49.824067</td>\n      <td>47.54386</td>\n      <td>0.0</td>\n    </tr>\n    <tr>\n      <th>...</th>\n      <td>...</td>\n      <td>...</td>\n      <td>...</td>\n      <td>...</td>\n      <td>...</td>\n      <td>...</td>\n      <td>...</td>\n      <td>...</td>\n      <td>...</td>\n      <td>...</td>\n      <td>...</td>\n      <td>...</td>\n      <td>...</td>\n      <td>...</td>\n      <td>...</td>\n      <td>...</td>\n      <td>...</td>\n      <td>...</td>\n      <td>...</td>\n      <td>...</td>\n      <td>...</td>\n    </tr>\n    <tr>\n      <th>2249995</th>\n      <td>1910382</td>\n      <td>2018-09-23 21:00:00</td>\n      <td>-84.089971</td>\n      <td>91.410888</td>\n      <td>-98.030786</td>\n      <td>106.603202</td>\n      <td>-103.448246</td>\n      <td>85.49821</td>\n      <td>-16.08618</td>\n      <td>-59.146097</td>\n      <td>...</td>\n      <td>1980.626154</td>\n      <td>2251.229208</td>\n      <td>-22.996269</td>\n      <td>10.369552</td>\n      <td>-80.747724</td>\n      <td>-25.832889</td>\n      <td>-0.694428</td>\n      <td>-12.175933</td>\n      <td>-0.45614</td>\n      <td>1.0</td>\n    </tr>\n    <tr>\n      <th>2249996</th>\n      <td>1910476</td>\n      <td>2018-12-09 21:00:00</td>\n      <td>-54.459971</td>\n      <td>-133.699112</td>\n      <td>-68.400786</td>\n      <td>-186.306798</td>\n      <td>-73.818246</td>\n      <td>-207.41179</td>\n      <td>-16.08618</td>\n      <td>-65.076097</td>\n      <td>...</td>\n      <td>-970.373846</td>\n      <td>-613.770792</td>\n      <td>-24.996269</td>\n      <td>-27.630448</td>\n      <td>-136.747724</td>\n      <td>-25.832889</td>\n      <td>-0.694428</td>\n      <td>-12.175933</td>\n      <td>-0.45614</td>\n      <td>0.0</td>\n    </tr>\n    <tr>\n      <th>2249997</th>\n      <td>1910755</td>\n      <td>2018-09-09 21:00:00</td>\n      <td>-92.559971</td>\n      <td>298.190888</td>\n      <td>96.029214</td>\n      <td>1120.953202</td>\n      <td>90.611754</td>\n      <td>1099.84821</td>\n      <td>-16.08618</td>\n      <td>-47.286097</td>\n      <td>...</td>\n      <td>-976.373846</td>\n      <td>-613.770792</td>\n      <td>-24.996269</td>\n      <td>-36.630448</td>\n      <td>-246.747724</td>\n      <td>-24.832889</td>\n      <td>-0.694428</td>\n      <td>-11.175933</td>\n      <td>-0.45614</td>\n      <td>1.0</td>\n    </tr>\n    <tr>\n      <th>2249998</th>\n      <td>1910965</td>\n      <td>2018-09-30 21:00:00</td>\n      <td>-96.799971</td>\n      <td>-408.179112</td>\n      <td>-110.740786</td>\n      <td>-460.786798</td>\n      <td>-116.158246</td>\n      <td>-481.89179</td>\n      <td>-16.08618</td>\n      <td>-65.076097</td>\n      <td>...</td>\n      <td>-977.373846</td>\n      <td>-613.770792</td>\n      <td>-25.996269</td>\n      <td>-37.630448</td>\n      <td>-306.747724</td>\n      <td>-25.832889</td>\n      <td>-0.694428</td>\n      <td>-12.175933</td>\n      <td>-0.45614</td>\n      <td>0.0</td>\n    </tr>\n    <tr>\n      <th>2249999</th>\n      <td>1911161</td>\n      <td>2018-11-18 21:00:00</td>\n      <td>-44.009971</td>\n      <td>684.690888</td>\n      <td>-24.050786</td>\n      <td>725.303202</td>\n      <td>-29.468246</td>\n      <td>704.19821</td>\n      <td>-6.00618</td>\n      <td>339.323903</td>\n      <td>...</td>\n      <td>7564.626154</td>\n      <td>4933.229208</td>\n      <td>-25.996269</td>\n      <td>-16.630448</td>\n      <td>569.252276</td>\n      <td>-4.832889</td>\n      <td>-0.694428</td>\n      <td>-12.175933</td>\n      <td>-0.45614</td>\n      <td>0.0</td>\n    </tr>\n  </tbody>\n</table>\n<p>2250000 rows × 255 columns</p>\n</div>"
     },
     "execution_count": 5,
     "metadata": {},
     "output_type": "execute_result"
    }
   ],
   "source": [
    "%%time\n",
    "#Датафрейм очень большой, поэтому решил открывать пандасом только n-первых строк от него.\n",
    "#UPD: Для максимального извлечения данных для обучения на мердж, прогружал 4250000 строк, почти весь датасет, больше в озу не умещается. Из этих данных намерджил 800000 объектов для обучения\n",
    "\n",
    "#UPD Final: Делим датафрейм features.csv, на 2 почти равные части по ним иннер мерждим, и делаем конкат, в итоге как-бы собирая из 2х частей итоговые данные для тренировки модели. !!!! ЯЧЕЙКА ВЫПОЛНЯЕТСЯ 5-7 МИНУТ У МЕНЯ !!!!\n",
    "\n",
    "df_features = pd.read_csv('features.csv.zip', sep='\\t', engine='c', nrows=2250000)\n",
    "df_features_half2 = pd.read_csv('features.csv.zip', sep='\\t', engine='c', skiprows=[i for i in range(1, 2250000)])\n",
    "df_features = prepare_data(df_features)\n",
    "df_features_half2 = prepare_data(df_features_half2)\n",
    "df_features"
   ]
  },
  {
   "cell_type": "markdown",
   "metadata": {
    "pycharm": {
     "name": "#%% md\n"
    }
   },
   "source": [
    "### 1. EDA (Explore Data Analysis)"
   ]
  },
  {
   "cell_type": "code",
   "execution_count": 6,
   "metadata": {
    "pycharm": {
     "name": "#%%\n"
    }
   },
   "outputs": [
    {
     "data": {
      "text/plain": "                 id             0             1             2             3  \\\ncount  2.250000e+06  2.250000e+06  2.250000e+06  2.250000e+06  2.250000e+06   \nmean   2.180632e+06  1.384095e-01  2.066754e-01  1.381051e-01  2.373670e-01   \nstd    1.260652e+06  1.946273e+02  4.071594e+02  2.097158e+02  4.791540e+02   \nmin    3.000000e+00 -1.376470e+03 -1.494609e+03 -1.379881e+03 -1.331817e+03   \n25%    1.088280e+06 -9.679997e+01 -2.090291e+02 -1.107408e+02 -2.429968e+02   \n50%    2.178391e+06 -8.493997e+01 -6.071911e+01 -8.531079e+01 -7.942680e+01   \n75%    3.275414e+06  1.228003e+01  1.180909e+02  2.780921e+01  1.260832e+02   \nmax    4.362734e+06  4.473950e+04  1.034994e+05  4.476064e+04  1.309629e+05   \n\n                  4             5             6             7             8  \\\ncount  2.250000e+06  2.250000e+06  2.250000e+06  2.250000e+06  2.250000e+06   \nmean   9.748741e-02  1.731523e-01  1.196795e-02  9.017393e-02 -3.833907e-02   \nstd    2.263798e+02  5.422711e+02  1.078153e+02  2.737020e+02  7.412283e+01   \nmin   -1.385638e+03 -2.009132e+03 -5.830362e+02 -8.023561e+02 -5.737337e+02   \n25%   -1.161582e+02 -2.600218e+02 -1.608618e+01 -6.507610e+01 -6.783660e+00   \n50%   -8.768825e+01 -9.353679e+01 -1.608618e+01 -6.507610e+01 -6.783660e+00   \n75%    2.959175e+01  1.194582e+02 -1.608618e+01 -5.914610e+01 -6.783660e+00   \nmax    4.712013e+04  1.309418e+05  4.482021e+04  1.032552e+05  4.482952e+04   \n\n       ...           243           244           245           246  \\\ncount  ...  2.250000e+06  2.250000e+06  2.250000e+06  2.250000e+06   \nmean   ... -1.287198e+00 -7.467148e-01  1.003456e-01 -7.150350e-02   \nstd    ...  3.200340e+03  2.236044e+03  1.062988e+03  2.959711e+02   \nmin    ... -9.773738e+02 -6.137708e+02 -2.599627e+01 -3.763045e+01   \n25%    ... -9.773738e+02 -6.137708e+02 -2.599627e+01 -3.763045e+01   \n50%    ... -9.583738e+02 -6.137708e+02 -2.599627e+01 -3.763045e+01   \n75%    ... -4.853738e+02 -4.077708e+02 -2.499627e+01 -3.363045e+01   \nmax    ...  2.876716e+05  1.904692e+05  9.801580e+05  5.429037e+04   \n\n                247           248           249           250           251  \\\ncount  2.250000e+06  2.250000e+06  2.250000e+06  2.250000e+06  2.250000e+06   \nmean  -7.049370e-01 -1.088263e-01  8.301778e-04 -8.262202e-03  1.043671e-03   \nstd    1.329342e+03  2.518386e+02  1.661549e+01  1.748434e+02  8.229370e+00   \nmin   -3.067477e+02 -2.583289e+01 -6.944285e-01 -1.217593e+01 -4.561399e-01   \n25%   -3.057477e+02 -2.583289e+01 -6.944285e-01 -1.217593e+01 -4.561399e-01   \n50%   -2.397477e+02 -2.383289e+01 -6.944285e-01 -1.217593e+01 -4.561399e-01   \n75%   -7.774772e+01 -1.083289e+01 -6.944285e-01 -9.175933e+00 -4.561399e-01   \nmax    2.715813e+05  9.750017e+04  1.892331e+04  9.750782e+04  9.489544e+03   \n\n                252  \ncount  2.250000e+06  \nmean   2.555022e-01  \nstd    8.337374e-01  \nmin    0.000000e+00  \n25%    0.000000e+00  \n50%    0.000000e+00  \n75%    1.000000e+00  \nmax    4.460000e+02  \n\n[8 rows x 254 columns]",
      "text/html": "<div>\n<style scoped>\n    .dataframe tbody tr th:only-of-type {\n        vertical-align: middle;\n    }\n\n    .dataframe tbody tr th {\n        vertical-align: top;\n    }\n\n    .dataframe thead th {\n        text-align: right;\n    }\n</style>\n<table border=\"1\" class=\"dataframe\">\n  <thead>\n    <tr style=\"text-align: right;\">\n      <th></th>\n      <th>id</th>\n      <th>0</th>\n      <th>1</th>\n      <th>2</th>\n      <th>3</th>\n      <th>4</th>\n      <th>5</th>\n      <th>6</th>\n      <th>7</th>\n      <th>8</th>\n      <th>...</th>\n      <th>243</th>\n      <th>244</th>\n      <th>245</th>\n      <th>246</th>\n      <th>247</th>\n      <th>248</th>\n      <th>249</th>\n      <th>250</th>\n      <th>251</th>\n      <th>252</th>\n    </tr>\n  </thead>\n  <tbody>\n    <tr>\n      <th>count</th>\n      <td>2.250000e+06</td>\n      <td>2.250000e+06</td>\n      <td>2.250000e+06</td>\n      <td>2.250000e+06</td>\n      <td>2.250000e+06</td>\n      <td>2.250000e+06</td>\n      <td>2.250000e+06</td>\n      <td>2.250000e+06</td>\n      <td>2.250000e+06</td>\n      <td>2.250000e+06</td>\n      <td>...</td>\n      <td>2.250000e+06</td>\n      <td>2.250000e+06</td>\n      <td>2.250000e+06</td>\n      <td>2.250000e+06</td>\n      <td>2.250000e+06</td>\n      <td>2.250000e+06</td>\n      <td>2.250000e+06</td>\n      <td>2.250000e+06</td>\n      <td>2.250000e+06</td>\n      <td>2.250000e+06</td>\n    </tr>\n    <tr>\n      <th>mean</th>\n      <td>2.180632e+06</td>\n      <td>1.384095e-01</td>\n      <td>2.066754e-01</td>\n      <td>1.381051e-01</td>\n      <td>2.373670e-01</td>\n      <td>9.748741e-02</td>\n      <td>1.731523e-01</td>\n      <td>1.196795e-02</td>\n      <td>9.017393e-02</td>\n      <td>-3.833907e-02</td>\n      <td>...</td>\n      <td>-1.287198e+00</td>\n      <td>-7.467148e-01</td>\n      <td>1.003456e-01</td>\n      <td>-7.150350e-02</td>\n      <td>-7.049370e-01</td>\n      <td>-1.088263e-01</td>\n      <td>8.301778e-04</td>\n      <td>-8.262202e-03</td>\n      <td>1.043671e-03</td>\n      <td>2.555022e-01</td>\n    </tr>\n    <tr>\n      <th>std</th>\n      <td>1.260652e+06</td>\n      <td>1.946273e+02</td>\n      <td>4.071594e+02</td>\n      <td>2.097158e+02</td>\n      <td>4.791540e+02</td>\n      <td>2.263798e+02</td>\n      <td>5.422711e+02</td>\n      <td>1.078153e+02</td>\n      <td>2.737020e+02</td>\n      <td>7.412283e+01</td>\n      <td>...</td>\n      <td>3.200340e+03</td>\n      <td>2.236044e+03</td>\n      <td>1.062988e+03</td>\n      <td>2.959711e+02</td>\n      <td>1.329342e+03</td>\n      <td>2.518386e+02</td>\n      <td>1.661549e+01</td>\n      <td>1.748434e+02</td>\n      <td>8.229370e+00</td>\n      <td>8.337374e-01</td>\n    </tr>\n    <tr>\n      <th>min</th>\n      <td>3.000000e+00</td>\n      <td>-1.376470e+03</td>\n      <td>-1.494609e+03</td>\n      <td>-1.379881e+03</td>\n      <td>-1.331817e+03</td>\n      <td>-1.385638e+03</td>\n      <td>-2.009132e+03</td>\n      <td>-5.830362e+02</td>\n      <td>-8.023561e+02</td>\n      <td>-5.737337e+02</td>\n      <td>...</td>\n      <td>-9.773738e+02</td>\n      <td>-6.137708e+02</td>\n      <td>-2.599627e+01</td>\n      <td>-3.763045e+01</td>\n      <td>-3.067477e+02</td>\n      <td>-2.583289e+01</td>\n      <td>-6.944285e-01</td>\n      <td>-1.217593e+01</td>\n      <td>-4.561399e-01</td>\n      <td>0.000000e+00</td>\n    </tr>\n    <tr>\n      <th>25%</th>\n      <td>1.088280e+06</td>\n      <td>-9.679997e+01</td>\n      <td>-2.090291e+02</td>\n      <td>-1.107408e+02</td>\n      <td>-2.429968e+02</td>\n      <td>-1.161582e+02</td>\n      <td>-2.600218e+02</td>\n      <td>-1.608618e+01</td>\n      <td>-6.507610e+01</td>\n      <td>-6.783660e+00</td>\n      <td>...</td>\n      <td>-9.773738e+02</td>\n      <td>-6.137708e+02</td>\n      <td>-2.599627e+01</td>\n      <td>-3.763045e+01</td>\n      <td>-3.057477e+02</td>\n      <td>-2.583289e+01</td>\n      <td>-6.944285e-01</td>\n      <td>-1.217593e+01</td>\n      <td>-4.561399e-01</td>\n      <td>0.000000e+00</td>\n    </tr>\n    <tr>\n      <th>50%</th>\n      <td>2.178391e+06</td>\n      <td>-8.493997e+01</td>\n      <td>-6.071911e+01</td>\n      <td>-8.531079e+01</td>\n      <td>-7.942680e+01</td>\n      <td>-8.768825e+01</td>\n      <td>-9.353679e+01</td>\n      <td>-1.608618e+01</td>\n      <td>-6.507610e+01</td>\n      <td>-6.783660e+00</td>\n      <td>...</td>\n      <td>-9.583738e+02</td>\n      <td>-6.137708e+02</td>\n      <td>-2.599627e+01</td>\n      <td>-3.763045e+01</td>\n      <td>-2.397477e+02</td>\n      <td>-2.383289e+01</td>\n      <td>-6.944285e-01</td>\n      <td>-1.217593e+01</td>\n      <td>-4.561399e-01</td>\n      <td>0.000000e+00</td>\n    </tr>\n    <tr>\n      <th>75%</th>\n      <td>3.275414e+06</td>\n      <td>1.228003e+01</td>\n      <td>1.180909e+02</td>\n      <td>2.780921e+01</td>\n      <td>1.260832e+02</td>\n      <td>2.959175e+01</td>\n      <td>1.194582e+02</td>\n      <td>-1.608618e+01</td>\n      <td>-5.914610e+01</td>\n      <td>-6.783660e+00</td>\n      <td>...</td>\n      <td>-4.853738e+02</td>\n      <td>-4.077708e+02</td>\n      <td>-2.499627e+01</td>\n      <td>-3.363045e+01</td>\n      <td>-7.774772e+01</td>\n      <td>-1.083289e+01</td>\n      <td>-6.944285e-01</td>\n      <td>-9.175933e+00</td>\n      <td>-4.561399e-01</td>\n      <td>1.000000e+00</td>\n    </tr>\n    <tr>\n      <th>max</th>\n      <td>4.362734e+06</td>\n      <td>4.473950e+04</td>\n      <td>1.034994e+05</td>\n      <td>4.476064e+04</td>\n      <td>1.309629e+05</td>\n      <td>4.712013e+04</td>\n      <td>1.309418e+05</td>\n      <td>4.482021e+04</td>\n      <td>1.032552e+05</td>\n      <td>4.482952e+04</td>\n      <td>...</td>\n      <td>2.876716e+05</td>\n      <td>1.904692e+05</td>\n      <td>9.801580e+05</td>\n      <td>5.429037e+04</td>\n      <td>2.715813e+05</td>\n      <td>9.750017e+04</td>\n      <td>1.892331e+04</td>\n      <td>9.750782e+04</td>\n      <td>9.489544e+03</td>\n      <td>4.460000e+02</td>\n    </tr>\n  </tbody>\n</table>\n<p>8 rows × 254 columns</p>\n</div>"
     },
     "execution_count": 6,
     "metadata": {},
     "output_type": "execute_result"
    }
   ],
   "source": [
    "df_features.describe()"
   ]
  },
  {
   "cell_type": "code",
   "execution_count": 7,
   "metadata": {
    "pycharm": {
     "name": "#%%\n"
    }
   },
   "outputs": [
    {
     "data": {
      "text/plain": "139          1\n75           1\n81           1\n203          1\n85           1\n        ...   \n117    1317474\n207    1343057\n38     1465830\n116    1548854\nid     2213001\nLength: 255, dtype: int64"
     },
     "execution_count": 7,
     "metadata": {},
     "output_type": "execute_result"
    }
   ],
   "source": [
    "#Смотрим на число уникальных значений признака. Вероятно если одно значание - признак бесполезен, его можно выбросить\n",
    "df_features.nunique().sort_values()"
   ]
  },
  {
   "cell_type": "code",
   "execution_count": 8,
   "metadata": {
    "pycharm": {
     "name": "#%%\n"
    }
   },
   "outputs": [
    {
     "data": {
      "text/plain": "id          0\nbuy_time    0\n0           0\n1           0\n2           0\n           ..\n248         0\n249         0\n250         0\n251         0\n252         0\nLength: 255, dtype: int64"
     },
     "execution_count": 8,
     "metadata": {},
     "output_type": "execute_result"
    }
   ],
   "source": [
    "#Смотрю Null. Они отсутствуют везде, значит их не нужно обрабатывать\n",
    "df_features.isna().sum()"
   ]
  },
  {
   "cell_type": "code",
   "execution_count": 9,
   "metadata": {
    "pycharm": {
     "name": "#%%\n"
    }
   },
   "outputs": [
    {
     "data": {
      "text/plain": "id          0\nvas_id      0\nbuy_time    0\ntarget      0\ndtype: int64"
     },
     "execution_count": 9,
     "metadata": {},
     "output_type": "execute_result"
    }
   ],
   "source": [
    "df_train.isna().sum()"
   ]
  },
  {
   "cell_type": "code",
   "execution_count": 10,
   "metadata": {
    "pycharm": {
     "name": "#%%\n"
    }
   },
   "outputs": [
    {
     "data": {
      "text/plain": "id          0\nvas_id      0\nbuy_time    0\ndtype: int64"
     },
     "execution_count": 10,
     "metadata": {},
     "output_type": "execute_result"
    }
   ],
   "source": [
    "df_test.isna().sum()"
   ]
  },
  {
   "cell_type": "code",
   "execution_count": 11,
   "metadata": {
    "pycharm": {
     "name": "#%%\n"
    }
   },
   "outputs": [
    {
     "data": {
      "text/plain": "array(['2018-07-15T21:00:00.000000000', '2018-10-14T21:00:00.000000000',\n       '2018-12-23T21:00:00.000000000', '2018-08-12T21:00:00.000000000',\n       '2018-08-05T21:00:00.000000000', '2018-12-16T21:00:00.000000000',\n       '2018-09-23T21:00:00.000000000', '2018-12-09T21:00:00.000000000',\n       '2018-09-09T21:00:00.000000000', '2018-08-26T21:00:00.000000000',\n       '2018-08-19T21:00:00.000000000', '2018-11-18T21:00:00.000000000',\n       '2018-10-28T21:00:00.000000000', '2018-10-21T21:00:00.000000000',\n       '2018-11-04T21:00:00.000000000', '2018-09-16T21:00:00.000000000',\n       '2018-07-08T21:00:00.000000000', '2018-09-30T21:00:00.000000000',\n       '2018-07-22T21:00:00.000000000', '2018-12-30T21:00:00.000000000',\n       '2018-09-02T21:00:00.000000000', '2018-10-07T21:00:00.000000000',\n       '2019-01-13T21:00:00.000000000', '2018-12-02T21:00:00.000000000',\n       '2019-01-20T21:00:00.000000000', '2018-11-11T21:00:00.000000000',\n       '2018-07-29T21:00:00.000000000', '2019-01-06T21:00:00.000000000',\n       '2018-11-25T21:00:00.000000000'], dtype='datetime64[ns]')"
     },
     "execution_count": 11,
     "metadata": {},
     "output_type": "execute_result"
    }
   ],
   "source": [
    "#Смотрю даты\n",
    "df_features['buy_time'].unique()"
   ]
  },
  {
   "cell_type": "code",
   "execution_count": 12,
   "metadata": {
    "pycharm": {
     "name": "#%%\n"
    }
   },
   "outputs": [
    {
     "data": {
      "text/plain": "[numpy.datetime64('2019-01-06T21:00:00.000000000'),\n numpy.datetime64('2019-01-13T21:00:00.000000000'),\n numpy.datetime64('2019-01-20T21:00:00.000000000')]"
     },
     "execution_count": 12,
     "metadata": {},
     "output_type": "execute_result"
    }
   ],
   "source": [
    "#Смотрю время теста, сортируя\n",
    "test_time = sorted(df_test['buy_time'].unique())\n",
    "test_time"
   ]
  },
  {
   "cell_type": "code",
   "execution_count": 13,
   "metadata": {
    "pycharm": {
     "name": "#%%\n"
    }
   },
   "outputs": [
    {
     "data": {
      "text/plain": "[numpy.datetime64('2018-07-08T21:00:00.000000000'),\n numpy.datetime64('2018-07-15T21:00:00.000000000'),\n numpy.datetime64('2018-07-22T21:00:00.000000000'),\n numpy.datetime64('2018-07-29T21:00:00.000000000'),\n numpy.datetime64('2018-08-05T21:00:00.000000000'),\n numpy.datetime64('2018-08-12T21:00:00.000000000'),\n numpy.datetime64('2018-08-19T21:00:00.000000000'),\n numpy.datetime64('2018-08-26T21:00:00.000000000'),\n numpy.datetime64('2018-09-02T21:00:00.000000000'),\n numpy.datetime64('2018-09-09T21:00:00.000000000'),\n numpy.datetime64('2018-09-16T21:00:00.000000000'),\n numpy.datetime64('2018-09-23T21:00:00.000000000'),\n numpy.datetime64('2018-09-30T21:00:00.000000000'),\n numpy.datetime64('2018-10-07T21:00:00.000000000'),\n numpy.datetime64('2018-10-14T21:00:00.000000000'),\n numpy.datetime64('2018-10-21T21:00:00.000000000'),\n numpy.datetime64('2018-10-28T21:00:00.000000000'),\n numpy.datetime64('2018-11-04T21:00:00.000000000'),\n numpy.datetime64('2018-11-11T21:00:00.000000000'),\n numpy.datetime64('2018-11-18T21:00:00.000000000'),\n numpy.datetime64('2018-11-25T21:00:00.000000000'),\n numpy.datetime64('2018-12-02T21:00:00.000000000'),\n numpy.datetime64('2018-12-09T21:00:00.000000000'),\n numpy.datetime64('2018-12-16T21:00:00.000000000'),\n numpy.datetime64('2018-12-23T21:00:00.000000000'),\n numpy.datetime64('2018-12-30T21:00:00.000000000')]"
     },
     "execution_count": 13,
     "metadata": {},
     "output_type": "execute_result"
    }
   ],
   "source": [
    "#Смотрю время трейна, сортируя\n",
    "#Видно, что на трейн уходит 6 месяцев, а на тест один. Также видно что даты в трейн/тест и у фичей совершенно одинаковые. Это значит что можно мержить фичи в трейн/тест по паре id + дата, т.к пара id и дата полностью описывают параметры пользователей\n",
    "train_time = sorted(df_train['buy_time'].unique())\n",
    "train_time"
   ]
  },
  {
   "cell_type": "code",
   "execution_count": 14,
   "metadata": {
    "pycharm": {
     "name": "#%%\n"
    }
   },
   "outputs": [
    {
     "data": {
      "text/plain": "[numpy.datetime64('2018-07-08T21:00:00.000000000'),\n numpy.datetime64('2018-07-15T21:00:00.000000000'),\n numpy.datetime64('2018-07-22T21:00:00.000000000'),\n numpy.datetime64('2018-07-29T21:00:00.000000000'),\n numpy.datetime64('2018-08-05T21:00:00.000000000'),\n numpy.datetime64('2018-08-12T21:00:00.000000000'),\n numpy.datetime64('2018-08-19T21:00:00.000000000'),\n numpy.datetime64('2018-08-26T21:00:00.000000000'),\n numpy.datetime64('2018-09-02T21:00:00.000000000'),\n numpy.datetime64('2018-09-09T21:00:00.000000000'),\n numpy.datetime64('2018-09-16T21:00:00.000000000'),\n numpy.datetime64('2018-09-23T21:00:00.000000000'),\n numpy.datetime64('2018-09-30T21:00:00.000000000'),\n numpy.datetime64('2018-10-07T21:00:00.000000000'),\n numpy.datetime64('2018-10-14T21:00:00.000000000'),\n numpy.datetime64('2018-10-21T21:00:00.000000000'),\n numpy.datetime64('2018-10-28T21:00:00.000000000'),\n numpy.datetime64('2018-11-04T21:00:00.000000000'),\n numpy.datetime64('2018-11-11T21:00:00.000000000'),\n numpy.datetime64('2018-11-18T21:00:00.000000000'),\n numpy.datetime64('2018-11-25T21:00:00.000000000'),\n numpy.datetime64('2018-12-02T21:00:00.000000000'),\n numpy.datetime64('2018-12-09T21:00:00.000000000'),\n numpy.datetime64('2018-12-16T21:00:00.000000000'),\n numpy.datetime64('2018-12-23T21:00:00.000000000'),\n numpy.datetime64('2018-12-30T21:00:00.000000000'),\n numpy.datetime64('2019-01-06T21:00:00.000000000'),\n numpy.datetime64('2019-01-13T21:00:00.000000000'),\n numpy.datetime64('2019-01-20T21:00:00.000000000')]"
     },
     "execution_count": 14,
     "metadata": {},
     "output_type": "execute_result"
    }
   ],
   "source": [
    "feature_time = sorted(df_features['buy_time'].unique())\n",
    "feature_time"
   ]
  },
  {
   "cell_type": "code",
   "execution_count": 15,
   "metadata": {
    "pycharm": {
     "name": "#%%\n"
    }
   },
   "outputs": [
    {
     "data": {
      "text/plain": "array([8, 4, 1, 5, 2, 7, 6, 9], dtype=int64)"
     },
     "execution_count": 15,
     "metadata": {},
     "output_type": "execute_result"
    }
   ],
   "source": [
    "df_train['vas_id'].unique()"
   ]
  },
  {
   "cell_type": "code",
   "execution_count": 16,
   "metadata": {
    "pycharm": {
     "name": "#%%\n"
    }
   },
   "outputs": [
    {
     "data": {
      "text/plain": "array([2, 4, 5, 6, 1, 7, 8, 9], dtype=int64)"
     },
     "execution_count": 16,
     "metadata": {},
     "output_type": "execute_result"
    }
   ],
   "source": [
    "#Видно что услуг всего 9, их надо преобразовать в int\n",
    "df_test['vas_id'].unique()"
   ]
  },
  {
   "cell_type": "code",
   "execution_count": 17,
   "metadata": {
    "pycharm": {
     "name": "#%%\n"
    }
   },
   "outputs": [
    {
     "data": {
      "text/plain": "             id  vas_id            buy_time\n0        540968       8 2018-09-16 21:00:00\n1       1454121       4 2018-07-15 21:00:00\n2       2458816       1 2018-08-12 21:00:00\n3       3535012       5 2018-09-02 21:00:00\n4       1693214       1 2018-09-02 21:00:00\n...         ...     ...                 ...\n831648  3812226       2 2018-12-30 21:00:00\n831649  2480469       2 2018-12-30 21:00:00\n831650   158236       2 2018-12-30 21:00:00\n831651  1825525       2 2018-12-30 21:00:00\n831652  3022610       2 2018-12-30 21:00:00\n\n[831653 rows x 3 columns]",
      "text/html": "<div>\n<style scoped>\n    .dataframe tbody tr th:only-of-type {\n        vertical-align: middle;\n    }\n\n    .dataframe tbody tr th {\n        vertical-align: top;\n    }\n\n    .dataframe thead th {\n        text-align: right;\n    }\n</style>\n<table border=\"1\" class=\"dataframe\">\n  <thead>\n    <tr style=\"text-align: right;\">\n      <th></th>\n      <th>id</th>\n      <th>vas_id</th>\n      <th>buy_time</th>\n    </tr>\n  </thead>\n  <tbody>\n    <tr>\n      <th>0</th>\n      <td>540968</td>\n      <td>8</td>\n      <td>2018-09-16 21:00:00</td>\n    </tr>\n    <tr>\n      <th>1</th>\n      <td>1454121</td>\n      <td>4</td>\n      <td>2018-07-15 21:00:00</td>\n    </tr>\n    <tr>\n      <th>2</th>\n      <td>2458816</td>\n      <td>1</td>\n      <td>2018-08-12 21:00:00</td>\n    </tr>\n    <tr>\n      <th>3</th>\n      <td>3535012</td>\n      <td>5</td>\n      <td>2018-09-02 21:00:00</td>\n    </tr>\n    <tr>\n      <th>4</th>\n      <td>1693214</td>\n      <td>1</td>\n      <td>2018-09-02 21:00:00</td>\n    </tr>\n    <tr>\n      <th>...</th>\n      <td>...</td>\n      <td>...</td>\n      <td>...</td>\n    </tr>\n    <tr>\n      <th>831648</th>\n      <td>3812226</td>\n      <td>2</td>\n      <td>2018-12-30 21:00:00</td>\n    </tr>\n    <tr>\n      <th>831649</th>\n      <td>2480469</td>\n      <td>2</td>\n      <td>2018-12-30 21:00:00</td>\n    </tr>\n    <tr>\n      <th>831650</th>\n      <td>158236</td>\n      <td>2</td>\n      <td>2018-12-30 21:00:00</td>\n    </tr>\n    <tr>\n      <th>831651</th>\n      <td>1825525</td>\n      <td>2</td>\n      <td>2018-12-30 21:00:00</td>\n    </tr>\n    <tr>\n      <th>831652</th>\n      <td>3022610</td>\n      <td>2</td>\n      <td>2018-12-30 21:00:00</td>\n    </tr>\n  </tbody>\n</table>\n<p>831653 rows × 3 columns</p>\n</div>"
     },
     "execution_count": 17,
     "metadata": {},
     "output_type": "execute_result"
    }
   ],
   "source": [
    "#Просмотр баланса классов на тесте\n",
    "feats_bar = df_train.drop(columns='target')\n",
    "target = df_train['target']\n",
    "feats_bar"
   ]
  },
  {
   "cell_type": "code",
   "execution_count": 18,
   "metadata": {
    "pycharm": {
     "name": "#%%\n"
    }
   },
   "outputs": [
    {
     "data": {
      "text/plain": "0         0\n1         0\n2         0\n3         0\n4         0\n         ..\n831648    0\n831649    0\n831650    0\n831651    0\n831652    0\nName: target, Length: 831653, dtype: int64"
     },
     "execution_count": 18,
     "metadata": {},
     "output_type": "execute_result"
    }
   ],
   "source": [
    "target"
   ]
  },
  {
   "cell_type": "code",
   "execution_count": 19,
   "metadata": {
    "pycharm": {
     "name": "#%%\n"
    }
   },
   "outputs": [
    {
     "data": {
      "text/plain": "0    0.927631\n1    0.072369\nName: target, dtype: float64"
     },
     "execution_count": 19,
     "metadata": {},
     "output_type": "execute_result"
    },
    {
     "data": {
      "text/plain": "<Figure size 432x288 with 1 Axes>",
      "image/png": "[encoded data removed]"
     },
     "metadata": {
      "needs_background": "light"
     },
     "output_type": "display_data"
    }
   ],
   "source": [
    "#Очень сильный дизбаланс классов. Возможно во время обучения нужно использовать деревья или мощные ансамбли (LightGBM или CatBoost?)\n",
    "(target.value_counts()/target.shape[0]).plot(kind='bar', title='Распределение целевой переменной')\n",
    "target.value_counts()/target.shape"
   ]
  },
  {
   "cell_type": "code",
   "execution_count": 20,
   "metadata": {
    "pycharm": {
     "name": "#%%\n"
    }
   },
   "outputs": [
    {
     "name": "stdout",
     "output_type": "stream",
     "text": [
      "CPU times: total: 22 s\n",
      "Wall time: 22.8 s\n"
     ]
    },
    {
     "data": {
      "text/plain": "(254,)"
     },
     "execution_count": 20,
     "metadata": {},
     "output_type": "execute_result"
    }
   ],
   "source": [
    "%%time\n",
    "#Исследвание фичей\n",
    "features_copy = df_features.copy()\n",
    "features_copy.set_index('id')\n",
    "features_copy.drop(columns=['buy_time'], inplace=True)\n",
    "feature_nunique = features_copy.apply(lambda x: x.nunique(dropna=False))\n",
    "feature_nunique.shape"
   ]
  },
  {
   "cell_type": "code",
   "execution_count": 21,
   "metadata": {
    "pycharm": {
     "name": "#%%\n"
    }
   },
   "outputs": [
    {
     "data": {
      "text/plain": "<Figure size 720x360 with 1 Axes>",
      "image/png": "[encoded data removed]"
     },
     "metadata": {
      "needs_background": "light"
     },
     "output_type": "display_data"
    }
   ],
   "source": [
    "#Распределение значений\n",
    "plt.title(\"Распределение уникальных значений признаков\")\n",
    "feature_nunique.hist(bins=75,figsize=(10, 5));"
   ]
  },
  {
   "cell_type": "code",
   "execution_count": 22,
   "metadata": {
    "pycharm": {
     "name": "#%%\n"
    }
   },
   "outputs": [
    {
     "data": {
      "text/plain": "254"
     },
     "execution_count": 22,
     "metadata": {},
     "output_type": "execute_result"
    }
   ],
   "source": [
    "#Все признаки\n",
    "f_all = set(feature_nunique.index.tolist())\n",
    "len(f_all)"
   ]
  },
  {
   "cell_type": "code",
   "execution_count": 23,
   "metadata": {
    "pycharm": {
     "name": "#%%\n"
    }
   },
   "outputs": [
    {
     "data": {
      "text/plain": "5"
     },
     "execution_count": 23,
     "metadata": {},
     "output_type": "execute_result"
    }
   ],
   "source": [
    "#Константные признаки, подлежат удалению (неиспользованию в обучении модели)\n",
    "f_const = set(feature_nunique[feature_nunique == 1].index.tolist())\n",
    "len(f_const)"
   ]
  },
  {
   "cell_type": "code",
   "execution_count": 24,
   "metadata": {
    "pycharm": {
     "name": "#%%\n"
    }
   },
   "outputs": [
    {
     "data": {
      "text/plain": "{'139', '203', '75', '81', '85'}"
     },
     "execution_count": 24,
     "metadata": {},
     "output_type": "execute_result"
    }
   ],
   "source": [
    "f_const"
   ]
  },
  {
   "cell_type": "code",
   "execution_count": 25,
   "metadata": {
    "pycharm": {
     "name": "#%%\n"
    }
   },
   "outputs": [
    {
     "name": "stdout",
     "output_type": "stream",
     "text": [
      "CPU times: total: 11.6 s\n",
      "Wall time: 12.2 s\n"
     ]
    },
    {
     "data": {
      "text/plain": "247"
     },
     "execution_count": 25,
     "metadata": {},
     "output_type": "execute_result"
    }
   ],
   "source": [
    "%%time\n",
    "#Вещественные признаки\n",
    "f_numeric = (features_copy.fillna(0).astype(int).sum() - features_copy.fillna(0).sum()).abs()\n",
    "f_numeric = set(f_numeric[f_numeric > 0].index.tolist())\n",
    "len(f_numeric)"
   ]
  },
  {
   "cell_type": "code",
   "execution_count": 26,
   "metadata": {
    "pycharm": {
     "name": "#%%\n"
    }
   },
   "outputs": [
    {
     "data": {
      "text/plain": "3"
     },
     "execution_count": 26,
     "metadata": {},
     "output_type": "execute_result"
    }
   ],
   "source": [
    "f_other = f_all - (f_numeric | f_const)\n",
    "f_other.add('buy_time')\n",
    "len(f_other)"
   ]
  },
  {
   "cell_type": "code",
   "execution_count": 27,
   "metadata": {
    "pycharm": {
     "name": "#%%\n"
    }
   },
   "outputs": [
    {
     "data": {
      "text/plain": "{'252', 'buy_time', 'id'}"
     },
     "execution_count": 27,
     "metadata": {},
     "output_type": "execute_result"
    }
   ],
   "source": [
    "#Остается 2 признака, id это понятно и 2ой скорее всего бинарный, посмотрим на него\n",
    "f_other"
   ]
  },
  {
   "cell_type": "code",
   "execution_count": 28,
   "metadata": {
    "pycharm": {
     "name": "#%%\n"
    }
   },
   "outputs": [
    {
     "data": {
      "text/plain": "60"
     },
     "execution_count": 28,
     "metadata": {},
     "output_type": "execute_result"
    }
   ],
   "source": [
    "#Видно что целочисленный, можно кидать в предобработку его на целое число, не категория определенно\n",
    "features_copy['252'].nunique()"
   ]
  },
  {
   "cell_type": "markdown",
   "metadata": {
    "pycharm": {
     "name": "#%% md\n"
    }
   },
   "source": [
    "### Итоги EDA, выводы\n",
    "1. Отсутствуют Null, id уникальны можно поставить индексом в датафреймах<br/>\n",
    "2. Признаки с разными уникальными значениями, там где одно уникальное значение - их можно удалить, они не несут никакого смысла<br/>\n",
    "3. Даты в фичах и в трейн/тест - одинаковые уникальные значения, это хорошо можно сразу мерджить фичи в трейн/тест данные по id + buy_time<br/>\n",
    "4. Сильный дизбаланс классов, линейные модели вряд ли обучатся хорошо. Нужно использовать ансамбли или случайные леса скорее всего.<br/>\n",
    "5. Target, vas_id нужно преобразовать в Int<br/>\n",
    "6. Все признаки у которых уникальные значения в диапазоне от 2 до 30 считаем категориальными на старте<br/>\n",
    "7. При попадании данных в пайплайн постараться делать сразу 3 действия: buy_time преобразовывать в date_time, делать drop 'Unnamed: 0', делать лефт мердж  по id и buy_time<br/>\n",
    "\n",
    "\n",
    "UPD: Во второй ячейке написал функцию по первичной предобработке данных, по пункту 7 + сразу преобразовывает в инт указанные колонки<br/>\n",
    "UPD2: Просмотрел фичи в датасете с фичами, теперь мерджить и писать пайплайны"
   ]
  },
  {
   "cell_type": "markdown",
   "source": [
    "### 2. Подготовка данных для обучения модели (Feature Engineering)"
   ],
   "metadata": {
    "collapsed": false,
    "pycharm": {
     "name": "#%% md\n"
    }
   }
  },
  {
   "cell_type": "code",
   "execution_count": 29,
   "outputs": [
    {
     "name": "stdout",
     "output_type": "stream",
     "text": [
      "CPU times: total: 0 ns\n",
      "Wall time: 0 ns\n"
     ]
    }
   ],
   "source": [
    "%%time\n",
    "#Выбираем признаки для обучения\n",
    "f_ok = list(f_other | f_numeric)"
   ],
   "metadata": {
    "collapsed": false,
    "pycharm": {
     "name": "#%%\n"
    }
   }
  },
  {
   "cell_type": "code",
   "execution_count": 30,
   "outputs": [],
   "source": [
    "#Функция выполняется в районе минуты - 2х. 2 больших мерджа и склеивание датасетов до финала\n",
    "def feature_creator(df_test):\n",
    "    #Мерджим датафрейм входной с первой частью признаков и переименовываем\n",
    "    test_feats_half1 = df_test.merge(df_features[f_ok], how='inner', on='id')\n",
    "    test_feats_half1.rename(columns={'buy_time_x': 'buy_time', 'buy_time_y': 'data_receive_time'}, inplace=True)\n",
    "    #Мерджим датафрейм входной со второй частью признаков и переименовываем\n",
    "    test_feats_half2 = df_test.merge(df_features_half2[f_ok], how='inner', on='id')\n",
    "    test_feats_half2.rename(columns={'buy_time_x': 'buy_time', 'buy_time_y': 'data_receive_time'}, inplace=True)\n",
    "    #Объединяем в единый сет\n",
    "    test = pd.concat([test_feats_half1, test_feats_half2], ignore_index=True)\n",
    "    #Добавляем фичу разницы времени между собранной карточкой абнента и предолжения ему услуги\n",
    "    test['time_delta(buy_time-receive_time)'] = (pd.to_datetime(test['buy_time']) - pd.to_datetime(test['data_receive_time'])).dt.days.astype('int64')\n",
    "    #Возвращаем итоговый датафрейм, удаляя дубликаты. Датафрейм получается со всеми готовыми признаками, по которым можно учить модель\n",
    "    #Преобразование дат, в timestamp обратно, для удобства разбиения на категории и обучения модели\n",
    "    if test['data_receive_time'].dtype == '<M8[ns]':\n",
    "        test['data_receive_time'] = test.data_receive_time.values.astype(np.int64) // 10 ** 9\n",
    "    if test['buy_time'].dtype == '<M8[ns]':\n",
    "        test['buy_time'] = test.buy_time.values.astype(np.int64) // 10 ** 9\n",
    "#        X.set_index('id')\n",
    "    #Преобразования в int, для обучения модели\n",
    "    test['252'] = test['252'].astype(np.int64)\n",
    "    return test[~test[['id', 'vas_id', 'buy_time']].duplicated()]"
   ],
   "metadata": {
    "collapsed": false,
    "pycharm": {
     "name": "#%%\n"
    }
   }
  },
  {
   "cell_type": "code",
   "execution_count": 31,
   "outputs": [
    {
     "name": "stdout",
     "output_type": "stream",
     "text": [
      "CPU times: total: 0 ns\n",
      "Wall time: 0 ns\n"
     ]
    }
   ],
   "source": [
    "%%time\n",
    "#Здесь уже создана функция в ячейке 30, которая будет из data_train или data_test, сразу делать готовый датасет для вставки в модель. Функция сделана на основе кода из ячеек\n",
    "\n",
    "#В этой ячейке проверяется работа функции на тесте, переменная все равно будет перезаписана, ранее заготовленным файлом из ячеек\n",
    "#df_train_main = feature_creator(df_train)\n",
    "#df_train_main"
   ],
   "metadata": {
    "collapsed": false,
    "pycharm": {
     "name": "#%%\n"
    }
   }
  },
  {
   "cell_type": "code",
   "execution_count": 32,
   "outputs": [],
   "source": [
    "#Сохраняем конечный сет для обучения модели, на нем можно сразу учить модель\n",
    "#df_train_main.to_csv('train.csv')"
   ],
   "metadata": {
    "collapsed": false,
    "pycharm": {
     "name": "#%%\n"
    }
   }
  },
  {
   "cell_type": "code",
   "execution_count": 33,
   "outputs": [
    {
     "name": "stdout",
     "output_type": "stream",
     "text": [
      "CPU times: total: 45.9 s\n",
      "Wall time: 47.1 s\n"
     ]
    },
    {
     "data": {
      "text/plain": "             id  vas_id    buy_time  target       131          50  252  \\\n0       3535012       5  1535922000       0  1.426717   20.869716    0   \n1       1693214       1  1535922000       0  1.426717   33.869716    0   \n2       3173665       8  1532898000       0  1.426717  -45.130284    0   \n3       3577737       5  1545598800       0  1.426717   36.869716    1   \n4       2000856       1  1534712400       0  1.426717  151.869716    0   \n...         ...     ...         ...     ...       ...         ...  ...   \n860047  1586693       2  1546203600       0 -1.573283  -41.130284    0   \n860048    90279       2  1546203600       0 -3.573283  -37.130284    0   \n860049  3812226       2  1546203600       0  1.426717  -35.130284    0   \n860050   158236       2  1546203600       0 -3.573283  -46.130284    0   \n860051  3022610       2  1546203600       0 -0.573283    0.869716    0   \n\n             181       152        93  ...       150         134        130  \\\n0      -1.257363 -0.212646 -0.185299  ... -0.143269 -190.670372  -7.681641   \n1      -1.257363 -0.212646 -0.185299  ...  0.296731 -190.670372   8.318359   \n2      -1.257363 -0.212646 -0.185299  ... -0.143269 -190.670372  -7.681641   \n3      -1.257363 -0.212646 -0.185299  ... -0.143269 -190.670372  12.318359   \n4      -1.257363 -0.212646 -0.185299  ...  0.196731 -190.670372  30.318359   \n...          ...       ...       ...  ...       ...         ...        ...   \n860047 -1.257363 -0.212646 -0.185299  ... -0.143269 -190.670372  -8.681641   \n860048 -1.257363 -0.212646 -0.185299  ... -0.143269 -190.670372 -14.681641   \n860049 -1.257363 -0.212646 -0.185299  ... -0.143269 -190.670372   1.318359   \n860050 -1.257363 -0.212646 -0.185299  ... -0.143269 -190.670372 -14.681641   \n860051 -1.257363 -0.212646 -0.185299  ... -0.143269 -190.670372  -7.681641   \n\n                 211         108       216           2         229  \\\n0      -61786.947098   12.174686 -0.000083   54.079214 -107.128986   \n1      -61771.833764  191.444686 -0.000083   64.679214  -87.128986   \n2      -61790.157098   17.694686 -0.000083  -81.090786 -266.128986   \n3      -61790.157098  -11.955314 -0.000083 -110.740786 -235.128986   \n4      -61494.237098   23.214686 -0.000083  178.619214 -266.128986   \n...              ...         ...       ...         ...         ...   \n860047 -61790.157098  -11.955314 -0.000083 -110.740786 -265.128986   \n860048 -61790.157098  -11.955314 -0.000083 -101.430786  125.871014   \n860049 -61790.157098  112.464686 -0.000083   24.279214 -266.128986   \n860050 -61790.157098  -11.955314 -0.000083 -110.740786  -95.128986   \n860051 -61804.977098  -11.955314 -0.000083   73.139214 -266.128986   \n\n                 222  time_delta(buy_time-receive_time)  \n0      -5.726695e+08                                 28  \n1       9.708557e+08                                -84  \n2      -5.726695e+08                                -56  \n3      -5.726695e+08                                168  \n4       9.595373e+08                                 35  \n...              ...                                ...  \n860047 -5.726695e+08                                 28  \n860048  9.752621e+08                                -14  \n860049 -5.726695e+08                                154  \n860050 -5.726695e+08                                 84  \n860051  9.682637e+08                                 63  \n\n[831653 rows x 254 columns]",
      "text/html": "<div>\n<style scoped>\n    .dataframe tbody tr th:only-of-type {\n        vertical-align: middle;\n    }\n\n    .dataframe tbody tr th {\n        vertical-align: top;\n    }\n\n    .dataframe thead th {\n        text-align: right;\n    }\n</style>\n<table border=\"1\" class=\"dataframe\">\n  <thead>\n    <tr style=\"text-align: right;\">\n      <th></th>\n      <th>id</th>\n      <th>vas_id</th>\n      <th>buy_time</th>\n      <th>target</th>\n      <th>131</th>\n      <th>50</th>\n      <th>252</th>\n      <th>181</th>\n      <th>152</th>\n      <th>93</th>\n      <th>...</th>\n      <th>150</th>\n      <th>134</th>\n      <th>130</th>\n      <th>211</th>\n      <th>108</th>\n      <th>216</th>\n      <th>2</th>\n      <th>229</th>\n      <th>222</th>\n      <th>time_delta(buy_time-receive_time)</th>\n    </tr>\n  </thead>\n  <tbody>\n    <tr>\n      <th>0</th>\n      <td>3535012</td>\n      <td>5</td>\n      <td>1535922000</td>\n      <td>0</td>\n      <td>1.426717</td>\n      <td>20.869716</td>\n      <td>0</td>\n      <td>-1.257363</td>\n      <td>-0.212646</td>\n      <td>-0.185299</td>\n      <td>...</td>\n      <td>-0.143269</td>\n      <td>-190.670372</td>\n      <td>-7.681641</td>\n      <td>-61786.947098</td>\n      <td>12.174686</td>\n      <td>-0.000083</td>\n      <td>54.079214</td>\n      <td>-107.128986</td>\n      <td>-5.726695e+08</td>\n      <td>28</td>\n    </tr>\n    <tr>\n      <th>1</th>\n      <td>1693214</td>\n      <td>1</td>\n      <td>1535922000</td>\n      <td>0</td>\n      <td>1.426717</td>\n      <td>33.869716</td>\n      <td>0</td>\n      <td>-1.257363</td>\n      <td>-0.212646</td>\n      <td>-0.185299</td>\n      <td>...</td>\n      <td>0.296731</td>\n      <td>-190.670372</td>\n      <td>8.318359</td>\n      <td>-61771.833764</td>\n      <td>191.444686</td>\n      <td>-0.000083</td>\n      <td>64.679214</td>\n      <td>-87.128986</td>\n      <td>9.708557e+08</td>\n      <td>-84</td>\n    </tr>\n    <tr>\n      <th>2</th>\n      <td>3173665</td>\n      <td>8</td>\n      <td>1532898000</td>\n      <td>0</td>\n      <td>1.426717</td>\n      <td>-45.130284</td>\n      <td>0</td>\n      <td>-1.257363</td>\n      <td>-0.212646</td>\n      <td>-0.185299</td>\n      <td>...</td>\n      <td>-0.143269</td>\n      <td>-190.670372</td>\n      <td>-7.681641</td>\n      <td>-61790.157098</td>\n      <td>17.694686</td>\n      <td>-0.000083</td>\n      <td>-81.090786</td>\n      <td>-266.128986</td>\n      <td>-5.726695e+08</td>\n      <td>-56</td>\n    </tr>\n    <tr>\n      <th>3</th>\n      <td>3577737</td>\n      <td>5</td>\n      <td>1545598800</td>\n      <td>0</td>\n      <td>1.426717</td>\n      <td>36.869716</td>\n      <td>1</td>\n      <td>-1.257363</td>\n      <td>-0.212646</td>\n      <td>-0.185299</td>\n      <td>...</td>\n      <td>-0.143269</td>\n      <td>-190.670372</td>\n      <td>12.318359</td>\n      <td>-61790.157098</td>\n      <td>-11.955314</td>\n      <td>-0.000083</td>\n      <td>-110.740786</td>\n      <td>-235.128986</td>\n      <td>-5.726695e+08</td>\n      <td>168</td>\n    </tr>\n    <tr>\n      <th>4</th>\n      <td>2000856</td>\n      <td>1</td>\n      <td>1534712400</td>\n      <td>0</td>\n      <td>1.426717</td>\n      <td>151.869716</td>\n      <td>0</td>\n      <td>-1.257363</td>\n      <td>-0.212646</td>\n      <td>-0.185299</td>\n      <td>...</td>\n      <td>0.196731</td>\n      <td>-190.670372</td>\n      <td>30.318359</td>\n      <td>-61494.237098</td>\n      <td>23.214686</td>\n      <td>-0.000083</td>\n      <td>178.619214</td>\n      <td>-266.128986</td>\n      <td>9.595373e+08</td>\n      <td>35</td>\n    </tr>\n    <tr>\n      <th>...</th>\n      <td>...</td>\n      <td>...</td>\n      <td>...</td>\n      <td>...</td>\n      <td>...</td>\n      <td>...</td>\n      <td>...</td>\n      <td>...</td>\n      <td>...</td>\n      <td>...</td>\n      <td>...</td>\n      <td>...</td>\n      <td>...</td>\n      <td>...</td>\n      <td>...</td>\n      <td>...</td>\n      <td>...</td>\n      <td>...</td>\n      <td>...</td>\n      <td>...</td>\n      <td>...</td>\n    </tr>\n    <tr>\n      <th>860047</th>\n      <td>1586693</td>\n      <td>2</td>\n      <td>1546203600</td>\n      <td>0</td>\n      <td>-1.573283</td>\n      <td>-41.130284</td>\n      <td>0</td>\n      <td>-1.257363</td>\n      <td>-0.212646</td>\n      <td>-0.185299</td>\n      <td>...</td>\n      <td>-0.143269</td>\n      <td>-190.670372</td>\n      <td>-8.681641</td>\n      <td>-61790.157098</td>\n      <td>-11.955314</td>\n      <td>-0.000083</td>\n      <td>-110.740786</td>\n      <td>-265.128986</td>\n      <td>-5.726695e+08</td>\n      <td>28</td>\n    </tr>\n    <tr>\n      <th>860048</th>\n      <td>90279</td>\n      <td>2</td>\n      <td>1546203600</td>\n      <td>0</td>\n      <td>-3.573283</td>\n      <td>-37.130284</td>\n      <td>0</td>\n      <td>-1.257363</td>\n      <td>-0.212646</td>\n      <td>-0.185299</td>\n      <td>...</td>\n      <td>-0.143269</td>\n      <td>-190.670372</td>\n      <td>-14.681641</td>\n      <td>-61790.157098</td>\n      <td>-11.955314</td>\n      <td>-0.000083</td>\n      <td>-101.430786</td>\n      <td>125.871014</td>\n      <td>9.752621e+08</td>\n      <td>-14</td>\n    </tr>\n    <tr>\n      <th>860049</th>\n      <td>3812226</td>\n      <td>2</td>\n      <td>1546203600</td>\n      <td>0</td>\n      <td>1.426717</td>\n      <td>-35.130284</td>\n      <td>0</td>\n      <td>-1.257363</td>\n      <td>-0.212646</td>\n      <td>-0.185299</td>\n      <td>...</td>\n      <td>-0.143269</td>\n      <td>-190.670372</td>\n      <td>1.318359</td>\n      <td>-61790.157098</td>\n      <td>112.464686</td>\n      <td>-0.000083</td>\n      <td>24.279214</td>\n      <td>-266.128986</td>\n      <td>-5.726695e+08</td>\n      <td>154</td>\n    </tr>\n    <tr>\n      <th>860050</th>\n      <td>158236</td>\n      <td>2</td>\n      <td>1546203600</td>\n      <td>0</td>\n      <td>-3.573283</td>\n      <td>-46.130284</td>\n      <td>0</td>\n      <td>-1.257363</td>\n      <td>-0.212646</td>\n      <td>-0.185299</td>\n      <td>...</td>\n      <td>-0.143269</td>\n      <td>-190.670372</td>\n      <td>-14.681641</td>\n      <td>-61790.157098</td>\n      <td>-11.955314</td>\n      <td>-0.000083</td>\n      <td>-110.740786</td>\n      <td>-95.128986</td>\n      <td>-5.726695e+08</td>\n      <td>84</td>\n    </tr>\n    <tr>\n      <th>860051</th>\n      <td>3022610</td>\n      <td>2</td>\n      <td>1546203600</td>\n      <td>0</td>\n      <td>-0.573283</td>\n      <td>0.869716</td>\n      <td>0</td>\n      <td>-1.257363</td>\n      <td>-0.212646</td>\n      <td>-0.185299</td>\n      <td>...</td>\n      <td>-0.143269</td>\n      <td>-190.670372</td>\n      <td>-7.681641</td>\n      <td>-61804.977098</td>\n      <td>-11.955314</td>\n      <td>-0.000083</td>\n      <td>73.139214</td>\n      <td>-266.128986</td>\n      <td>9.682637e+08</td>\n      <td>63</td>\n    </tr>\n  </tbody>\n</table>\n<p>831653 rows × 254 columns</p>\n</div>"
     },
     "execution_count": 33,
     "metadata": {},
     "output_type": "execute_result"
    }
   ],
   "source": [
    "%%time\n",
    "#Грузим - проверяем что открывается корректно\n",
    "df_train_main = pd.read_csv('train.csv', index_col='Unnamed: 0')\n",
    "df_train_main"
   ],
   "metadata": {
    "collapsed": false,
    "pycharm": {
     "name": "#%%\n"
    }
   }
  },
  {
   "cell_type": "code",
   "execution_count": 34,
   "outputs": [
    {
     "data": {
      "text/plain": "            id  vas_id            buy_time\n0      3130519       2 2019-01-20 21:00:00\n1      2000860       4 2019-01-20 21:00:00\n2      1099444       2 2019-01-06 21:00:00\n3      1343255       5 2019-01-13 21:00:00\n4      1277040       2 2019-01-06 21:00:00\n...        ...     ...                 ...\n71226  2502453       5 2019-01-20 21:00:00\n71227  1693213       2 2019-01-20 21:00:00\n71228  1891350       2 2019-01-20 21:00:00\n71229  2437172       2 2019-01-20 21:00:00\n71230   988236       2 2019-01-20 21:00:00\n\n[71231 rows x 3 columns]",
      "text/html": "<div>\n<style scoped>\n    .dataframe tbody tr th:only-of-type {\n        vertical-align: middle;\n    }\n\n    .dataframe tbody tr th {\n        vertical-align: top;\n    }\n\n    .dataframe thead th {\n        text-align: right;\n    }\n</style>\n<table border=\"1\" class=\"dataframe\">\n  <thead>\n    <tr style=\"text-align: right;\">\n      <th></th>\n      <th>id</th>\n      <th>vas_id</th>\n      <th>buy_time</th>\n    </tr>\n  </thead>\n  <tbody>\n    <tr>\n      <th>0</th>\n      <td>3130519</td>\n      <td>2</td>\n      <td>2019-01-20 21:00:00</td>\n    </tr>\n    <tr>\n      <th>1</th>\n      <td>2000860</td>\n      <td>4</td>\n      <td>2019-01-20 21:00:00</td>\n    </tr>\n    <tr>\n      <th>2</th>\n      <td>1099444</td>\n      <td>2</td>\n      <td>2019-01-06 21:00:00</td>\n    </tr>\n    <tr>\n      <th>3</th>\n      <td>1343255</td>\n      <td>5</td>\n      <td>2019-01-13 21:00:00</td>\n    </tr>\n    <tr>\n      <th>4</th>\n      <td>1277040</td>\n      <td>2</td>\n      <td>2019-01-06 21:00:00</td>\n    </tr>\n    <tr>\n      <th>...</th>\n      <td>...</td>\n      <td>...</td>\n      <td>...</td>\n    </tr>\n    <tr>\n      <th>71226</th>\n      <td>2502453</td>\n      <td>5</td>\n      <td>2019-01-20 21:00:00</td>\n    </tr>\n    <tr>\n      <th>71227</th>\n      <td>1693213</td>\n      <td>2</td>\n      <td>2019-01-20 21:00:00</td>\n    </tr>\n    <tr>\n      <th>71228</th>\n      <td>1891350</td>\n      <td>2</td>\n      <td>2019-01-20 21:00:00</td>\n    </tr>\n    <tr>\n      <th>71229</th>\n      <td>2437172</td>\n      <td>2</td>\n      <td>2019-01-20 21:00:00</td>\n    </tr>\n    <tr>\n      <th>71230</th>\n      <td>988236</td>\n      <td>2</td>\n      <td>2019-01-20 21:00:00</td>\n    </tr>\n  </tbody>\n</table>\n<p>71231 rows × 3 columns</p>\n</div>"
     },
     "execution_count": 34,
     "metadata": {},
     "output_type": "execute_result"
    }
   ],
   "source": [
    "#Попробую замерджить данные из нашего большого трейна в тест, по id и buy_time и смотреть разницу в числе строк, датасета. Количество строк не должно меняться\n",
    "df_test"
   ],
   "metadata": {
    "collapsed": false,
    "pycharm": {
     "name": "#%%\n"
    }
   }
  },
  {
   "cell_type": "code",
   "execution_count": 35,
   "outputs": [
    {
     "name": "stdout",
     "output_type": "stream",
     "text": [
      "CPU times: total: 0 ns\n",
      "Wall time: 0 ns\n"
     ]
    }
   ],
   "source": [
    "%%time\n",
    "#Еще раз прогон функции на тесте и число строк полностью сохраняется - теперь смело пихаем в наш пайплайн\n",
    "#test_main = feature_creator(df_test)\n",
    "#test_main"
   ],
   "metadata": {
    "collapsed": false,
    "pycharm": {
     "name": "#%%\n"
    }
   }
  },
  {
   "cell_type": "markdown",
   "source": [
    "### Итоги 2го этапа.\n",
    "1) Написал функцию по предобработке исходных данных. (Удаление колнки лишней, float_to_int, преобразование из timestamp в datetime)\n",
    "2) Подготовил из 4250000 объектов с признаками (94.5% всех признаков), ~800000 для обучения модели через мердж трейна и признаков по пользователям\n",
    "3) Получили 2 даты по каждому пользователю: одна - дата покупки, вторая - дата сбора информации об абоненте. Необходимо будет сделать 3ю фичу разницу этих дат в днях по модулю, она будет отражать актуальность данных об абоненте\n",
    "\n",
    "###### Дальнейший план работы\n",
    "1) Загрузить данные из заготовленного файла для трейна 4250k_feats_train.zip в нем csv\n",
    "2) Перед созданием последней фичи или после, промерджить данные по id/id+buy_time, в data_train.csv. Необходимо убедиться что тест, никак не меняется по объему данных (количеству объектов или хотя бы в не меньшую сторону)\n",
    "3) Разбить данные на трейн/тест, для измерения метрики. Кросс валидация по ситуации буду думать и по времени, наверное после бейзлайна уже.\n",
    "4) После создания фичи, можно собирать модель/пайплайн и обучать модель. Затем gridsearch/другие модели, но исходные данные будут уже эти точно\n",
    "5) Сохранение результатов и все остальные прикладные вещи\n",
    "\n",
    "UPD: Добавил данные в пункт 2 итогов, до полного количества, собрал 100% данных и добавил фичу разницы дней.\n",
    "UPD2: Фичи собираю через 2 датафрейма из features.csv, а потом при предсказания теста, нужно делать конкатенацию, чтобы вернуть исходное состояние. В полученном датасете больше строк чем в тесте, т.к id дублируются для разного времени.\n",
    "UPD3: Решено UPD2, df_test_mod[~df_test_mod[['id', 'vas_id', 'buy_time']].duplicated()], удаляем дубликаты подмножества (id, vas_id, buy_time), получаем исходный датасет. Очень важно при обработке"
   ],
   "metadata": {
    "collapsed": false,
    "pycharm": {
     "name": "#%% md\n"
    }
   }
  },
  {
   "cell_type": "code",
   "execution_count": 36,
   "outputs": [
    {
     "data": {
      "text/plain": "{'252', 'buy_time', 'data_receive_time', 'id', 'vas_id'}"
     },
     "execution_count": 36,
     "metadata": {},
     "output_type": "execute_result"
    }
   ],
   "source": [
    "#f_other.remove('id')\n",
    "f_other.update(['data_receive_time', 'vas_id'])\n",
    "f_numeric.add('time_delta(buy_time-receive_time)')\n",
    "#col_ok = list(f_other | f_numeric)\n",
    "f_other"
   ],
   "metadata": {
    "collapsed": false,
    "pycharm": {
     "name": "#%%\n"
    }
   }
  },
  {
   "cell_type": "code",
   "execution_count": 37,
   "outputs": [
    {
     "data": {
      "text/plain": "id                                   0\nvas_id                               0\nbuy_time                             0\ntarget                               0\n131                                  0\n                                    ..\n216                                  0\n2                                    0\n229                                  0\n222                                  0\ntime_delta(buy_time-receive_time)    0\nLength: 254, dtype: int64"
     },
     "execution_count": 37,
     "metadata": {},
     "output_type": "execute_result"
    }
   ],
   "source": [
    "df_train_main.isnull().sum()\n"
   ],
   "metadata": {
    "collapsed": false,
    "pycharm": {
     "name": "#%%\n"
    }
   }
  },
  {
   "cell_type": "code",
   "execution_count": 38,
   "outputs": [],
   "source": [
    "y = df_train_main['target']\n",
    "X = df_train_main.drop(columns='target')\n",
    "X_train, X_test, y_train, y_test = train_test_split(X, y,\n",
    "                                                    shuffle=True,\n",
    "                                                    test_size=0.30,\n",
    "                                                    random_state=42)"
   ],
   "metadata": {
    "collapsed": false,
    "pycharm": {
     "name": "#%%\n"
    }
   }
  },
  {
   "cell_type": "code",
   "execution_count": 39,
   "outputs": [],
   "source": [
    "class FeatureCreator(BaseEstimator, TransformerMixin):\n",
    "    \"\"\"\n",
    "    Transform base data test add them features from subscriber info\n",
    "    Use only on base test data (data_train that not changed)\n",
    "    Data train already prepared and doesn't need to change them on fit method\n",
    "    \"\"\"\n",
    "    def __init__(self, key=None):\n",
    "        self.key = key\n",
    "\n",
    "    def fit(self, X, y=None):\n",
    "        return self\n",
    "\n",
    "    def transform(self, X):\n",
    "        #Мерджим датафрейм входной со второй частью признаков и переименовываем, предварительно проверяя чтобы малый датасет был меньше 6 колонок\n",
    "        if X.shape[1] < 6:\n",
    "            test_feats_half1 = X.merge(df_features[self.key], how='inner', on='id')\n",
    "            test_feats_half2 = X.merge(df_features_half2[self.key], how='inner', on='id')\n",
    "            test_feats_half1.rename(columns={'buy_time_x': 'buy_time', 'buy_time_y': 'data_receive_time'}, inplace=True)\n",
    "            test_feats_half2.rename(columns={'buy_time_x': 'buy_time', 'buy_time_y': 'data_receive_time'}, inplace=True)\n",
    "        #Объединяем в единый сет\n",
    "            X = pd.concat([test_feats_half1, test_feats_half2], ignore_index=True)\n",
    "        #Добавляем фичу разницы времени между собранной карточкой абнента и предолжения ему услуги\n",
    "            X['time_delta(buy_time-receive_time)'] = (pd.to_datetime(X['buy_time']) - pd.to_datetime(X['data_receive_time'])).dt.days.astype('int64')\n",
    "        #Преобразование времени в timestamp, для удобства обучения модели признаков\n",
    "        if X['data_receive_time'].dtype == '<M8[ns]':\n",
    "            X['data_receive_time'] = X.data_receive_time.values.astype(np.int64) // 10 ** 9\n",
    "        if X['buy_time'].dtype == '<M8[ns]':\n",
    "            X['buy_time'] = X.buy_time.values.astype(np.int64) // 10 ** 9\n",
    "        #Преобразование категории в целое число\n",
    "        X['252'] = X['252'].astype('int64')\n",
    "        #Возвращаем итоговый датафрейм, удаляя дубликаты. Датафрейм получается со всеми готовыми признаками, по которым можно учить модель\n",
    "        return X[~X[['id', 'vas_id', 'buy_time']].duplicated()]\n",
    "\n",
    "    #Если во время работы pipeline выходит исключение по различиям размера данных и метки класса, нужно применить сначала этот equalizer и метку класса для трансформированного X, которая сможет нормально обучиться на модели. Это может произойти в случае сжатия дубликатов во время работы pipeline\n",
    "    def label_len_equalizer(self, X, y):\n",
    "        X_new = self.transform(X)\n",
    "        y_new = X_new.join(y)\n",
    "        try:\n",
    "            return y_new['target']\n",
    "        except KeyError:\n",
    "            raise KeyError(\"'y' - isn't target label. Put in y argument a target label\")"
   ],
   "metadata": {
    "collapsed": false,
    "pycharm": {
     "name": "#%%\n"
    }
   }
  },
  {
   "cell_type": "code",
   "execution_count": 40,
   "outputs": [
    {
     "name": "stdout",
     "output_type": "stream",
     "text": [
      "CPU times: total: 53.4 s\n",
      "Wall time: 2min 4s\n"
     ]
    },
    {
     "data": {
      "text/plain": "            id  vas_id    buy_time       178       181         223        54  \\\n0      3130519       2  1548018000 -0.005184 -1.257363  -58.544078 -4.958702   \n1      2000860       4  1548018000 -0.005184 -1.257363  -58.544078 -4.958702   \n2      1343255       5  1547413200 -0.005184 -1.257363  297.385922 -4.958702   \n3      3195325       6  1548018000 -0.005184 -1.257363  -58.544078 -4.958702   \n4      3324464       1  1547413200 -0.005184  5.742637   43.145922  2.041298   \n...        ...     ...         ...       ...       ...         ...       ...   \n73661   899101       2  1548018000 -0.005184 -1.257363  -58.544078 -4.958702   \n73662  3173663       2  1548018000 -0.005184 -1.257363  -58.544078 -4.958702   \n73663  2545712       2  1548018000 -0.005184 -1.257363  144.845922  3.041298   \n73664  1693213       2  1548018000 -0.005184 -1.257363  -58.544078 -4.958702   \n73665  1891350       2  1548018000 -0.005184 -1.257363  -58.544078 -4.958702   \n\n            100        59       160  ...       137       176       138  \\\n0     -3.950157 -3.882665 -0.152157  ... -0.825973 -0.033778 -1.935988   \n1     -3.950157 -2.882665 -0.152157  ... -0.825973 -0.033778 -1.935988   \n2     -3.950157 -3.882665 -0.152157  ... -0.825973 -0.033778 -1.935988   \n3     -3.950157 -3.882665 -0.152157  ... -0.825973 -0.033778 -1.935988   \n4     -3.950157  4.117335 -0.152157  ...  5.174027 -0.033778  2.064012   \n...         ...       ...       ...  ...       ...       ...       ...   \n73661 -3.950157 -0.882665 -0.152157  ... -0.825973 -0.033778 -1.935988   \n73662 -3.950157 -2.882665 -0.152157  ... -0.825973 -0.033778 -1.935988   \n73663 -3.950157 -2.882665  0.517843  ... -0.825973 -0.033778 -1.935988   \n73664 -3.950157 -3.882665 -0.152157  ... -0.825973 -0.033778 -0.935988   \n73665 -3.950157 -2.882665 -0.152157  ...  4.174027 -0.033778  6.064012   \n\n               243       133        24       182        188        186  \\\n0      -970.373846  0.582717 -0.009327 -2.793637 -23.970371 -53.767387   \n1      -977.373846 -0.417283 -0.009327 -2.793637 -35.303704 -65.100720   \n2      -977.373846 -0.017283 -0.009327 -2.793637 -21.220371  -2.250720   \n3      -977.373846 -0.417283 -0.009327 -2.793637 -35.303704 -65.100720   \n4      -175.373846 -0.017283 -0.009327  5.789697 -34.270371 -37.850722   \n...            ...       ...       ...       ...        ...        ...   \n73661  -531.373846 -0.417283 -0.009327 -2.793637 -35.303704 -65.100720   \n73662  -576.373846 -0.167283 -0.009327 -2.793637 -31.770370 -59.317386   \n73663  -977.373846  0.582717 -0.009327 -2.793637  61.146296  31.665940   \n73664  -977.373846  0.582717 -0.009327 -2.793637 -17.487036 -47.284052   \n73665  1640.626154 -0.217283 -0.009327 -2.793637 -32.387038 -19.184050   \n\n       time_delta(buy_time-receive_time)  \n0                                    133  \n1                                    182  \n2                                    126  \n3                                      7  \n4                                    182  \n...                                  ...  \n73661                                147  \n73662                                 28  \n73663                                161  \n73664                                 70  \n73665                                 28  \n\n[71231 rows x 253 columns]",
      "text/html": "<div>\n<style scoped>\n    .dataframe tbody tr th:only-of-type {\n        vertical-align: middle;\n    }\n\n    .dataframe tbody tr th {\n        vertical-align: top;\n    }\n\n    .dataframe thead th {\n        text-align: right;\n    }\n</style>\n<table border=\"1\" class=\"dataframe\">\n  <thead>\n    <tr style=\"text-align: right;\">\n      <th></th>\n      <th>id</th>\n      <th>vas_id</th>\n      <th>buy_time</th>\n      <th>178</th>\n      <th>181</th>\n      <th>223</th>\n      <th>54</th>\n      <th>100</th>\n      <th>59</th>\n      <th>160</th>\n      <th>...</th>\n      <th>137</th>\n      <th>176</th>\n      <th>138</th>\n      <th>243</th>\n      <th>133</th>\n      <th>24</th>\n      <th>182</th>\n      <th>188</th>\n      <th>186</th>\n      <th>time_delta(buy_time-receive_time)</th>\n    </tr>\n  </thead>\n  <tbody>\n    <tr>\n      <th>0</th>\n      <td>3130519</td>\n      <td>2</td>\n      <td>1548018000</td>\n      <td>-0.005184</td>\n      <td>-1.257363</td>\n      <td>-58.544078</td>\n      <td>-4.958702</td>\n      <td>-3.950157</td>\n      <td>-3.882665</td>\n      <td>-0.152157</td>\n      <td>...</td>\n      <td>-0.825973</td>\n      <td>-0.033778</td>\n      <td>-1.935988</td>\n      <td>-970.373846</td>\n      <td>0.582717</td>\n      <td>-0.009327</td>\n      <td>-2.793637</td>\n      <td>-23.970371</td>\n      <td>-53.767387</td>\n      <td>133</td>\n    </tr>\n    <tr>\n      <th>1</th>\n      <td>2000860</td>\n      <td>4</td>\n      <td>1548018000</td>\n      <td>-0.005184</td>\n      <td>-1.257363</td>\n      <td>-58.544078</td>\n      <td>-4.958702</td>\n      <td>-3.950157</td>\n      <td>-2.882665</td>\n      <td>-0.152157</td>\n      <td>...</td>\n      <td>-0.825973</td>\n      <td>-0.033778</td>\n      <td>-1.935988</td>\n      <td>-977.373846</td>\n      <td>-0.417283</td>\n      <td>-0.009327</td>\n      <td>-2.793637</td>\n      <td>-35.303704</td>\n      <td>-65.100720</td>\n      <td>182</td>\n    </tr>\n    <tr>\n      <th>2</th>\n      <td>1343255</td>\n      <td>5</td>\n      <td>1547413200</td>\n      <td>-0.005184</td>\n      <td>-1.257363</td>\n      <td>297.385922</td>\n      <td>-4.958702</td>\n      <td>-3.950157</td>\n      <td>-3.882665</td>\n      <td>-0.152157</td>\n      <td>...</td>\n      <td>-0.825973</td>\n      <td>-0.033778</td>\n      <td>-1.935988</td>\n      <td>-977.373846</td>\n      <td>-0.017283</td>\n      <td>-0.009327</td>\n      <td>-2.793637</td>\n      <td>-21.220371</td>\n      <td>-2.250720</td>\n      <td>126</td>\n    </tr>\n    <tr>\n      <th>3</th>\n      <td>3195325</td>\n      <td>6</td>\n      <td>1548018000</td>\n      <td>-0.005184</td>\n      <td>-1.257363</td>\n      <td>-58.544078</td>\n      <td>-4.958702</td>\n      <td>-3.950157</td>\n      <td>-3.882665</td>\n      <td>-0.152157</td>\n      <td>...</td>\n      <td>-0.825973</td>\n      <td>-0.033778</td>\n      <td>-1.935988</td>\n      <td>-977.373846</td>\n      <td>-0.417283</td>\n      <td>-0.009327</td>\n      <td>-2.793637</td>\n      <td>-35.303704</td>\n      <td>-65.100720</td>\n      <td>7</td>\n    </tr>\n    <tr>\n      <th>4</th>\n      <td>3324464</td>\n      <td>1</td>\n      <td>1547413200</td>\n      <td>-0.005184</td>\n      <td>5.742637</td>\n      <td>43.145922</td>\n      <td>2.041298</td>\n      <td>-3.950157</td>\n      <td>4.117335</td>\n      <td>-0.152157</td>\n      <td>...</td>\n      <td>5.174027</td>\n      <td>-0.033778</td>\n      <td>2.064012</td>\n      <td>-175.373846</td>\n      <td>-0.017283</td>\n      <td>-0.009327</td>\n      <td>5.789697</td>\n      <td>-34.270371</td>\n      <td>-37.850722</td>\n      <td>182</td>\n    </tr>\n    <tr>\n      <th>...</th>\n      <td>...</td>\n      <td>...</td>\n      <td>...</td>\n      <td>...</td>\n      <td>...</td>\n      <td>...</td>\n      <td>...</td>\n      <td>...</td>\n      <td>...</td>\n      <td>...</td>\n      <td>...</td>\n      <td>...</td>\n      <td>...</td>\n      <td>...</td>\n      <td>...</td>\n      <td>...</td>\n      <td>...</td>\n      <td>...</td>\n      <td>...</td>\n      <td>...</td>\n      <td>...</td>\n    </tr>\n    <tr>\n      <th>73661</th>\n      <td>899101</td>\n      <td>2</td>\n      <td>1548018000</td>\n      <td>-0.005184</td>\n      <td>-1.257363</td>\n      <td>-58.544078</td>\n      <td>-4.958702</td>\n      <td>-3.950157</td>\n      <td>-0.882665</td>\n      <td>-0.152157</td>\n      <td>...</td>\n      <td>-0.825973</td>\n      <td>-0.033778</td>\n      <td>-1.935988</td>\n      <td>-531.373846</td>\n      <td>-0.417283</td>\n      <td>-0.009327</td>\n      <td>-2.793637</td>\n      <td>-35.303704</td>\n      <td>-65.100720</td>\n      <td>147</td>\n    </tr>\n    <tr>\n      <th>73662</th>\n      <td>3173663</td>\n      <td>2</td>\n      <td>1548018000</td>\n      <td>-0.005184</td>\n      <td>-1.257363</td>\n      <td>-58.544078</td>\n      <td>-4.958702</td>\n      <td>-3.950157</td>\n      <td>-2.882665</td>\n      <td>-0.152157</td>\n      <td>...</td>\n      <td>-0.825973</td>\n      <td>-0.033778</td>\n      <td>-1.935988</td>\n      <td>-576.373846</td>\n      <td>-0.167283</td>\n      <td>-0.009327</td>\n      <td>-2.793637</td>\n      <td>-31.770370</td>\n      <td>-59.317386</td>\n      <td>28</td>\n    </tr>\n    <tr>\n      <th>73663</th>\n      <td>2545712</td>\n      <td>2</td>\n      <td>1548018000</td>\n      <td>-0.005184</td>\n      <td>-1.257363</td>\n      <td>144.845922</td>\n      <td>3.041298</td>\n      <td>-3.950157</td>\n      <td>-2.882665</td>\n      <td>0.517843</td>\n      <td>...</td>\n      <td>-0.825973</td>\n      <td>-0.033778</td>\n      <td>-1.935988</td>\n      <td>-977.373846</td>\n      <td>0.582717</td>\n      <td>-0.009327</td>\n      <td>-2.793637</td>\n      <td>61.146296</td>\n      <td>31.665940</td>\n      <td>161</td>\n    </tr>\n    <tr>\n      <th>73664</th>\n      <td>1693213</td>\n      <td>2</td>\n      <td>1548018000</td>\n      <td>-0.005184</td>\n      <td>-1.257363</td>\n      <td>-58.544078</td>\n      <td>-4.958702</td>\n      <td>-3.950157</td>\n      <td>-3.882665</td>\n      <td>-0.152157</td>\n      <td>...</td>\n      <td>-0.825973</td>\n      <td>-0.033778</td>\n      <td>-0.935988</td>\n      <td>-977.373846</td>\n      <td>0.582717</td>\n      <td>-0.009327</td>\n      <td>-2.793637</td>\n      <td>-17.487036</td>\n      <td>-47.284052</td>\n      <td>70</td>\n    </tr>\n    <tr>\n      <th>73665</th>\n      <td>1891350</td>\n      <td>2</td>\n      <td>1548018000</td>\n      <td>-0.005184</td>\n      <td>-1.257363</td>\n      <td>-58.544078</td>\n      <td>-4.958702</td>\n      <td>-3.950157</td>\n      <td>-2.882665</td>\n      <td>-0.152157</td>\n      <td>...</td>\n      <td>4.174027</td>\n      <td>-0.033778</td>\n      <td>6.064012</td>\n      <td>1640.626154</td>\n      <td>-0.217283</td>\n      <td>-0.009327</td>\n      <td>-2.793637</td>\n      <td>-32.387038</td>\n      <td>-19.184050</td>\n      <td>28</td>\n    </tr>\n  </tbody>\n</table>\n<p>71231 rows × 253 columns</p>\n</div>"
     },
     "execution_count": 40,
     "metadata": {},
     "output_type": "execute_result"
    }
   ],
   "source": [
    "%%time\n",
    "#Тестируем что создаватель фичей работает на тесте, трейн уже готов сразу, с ним никаких предобработок не надо делать\n",
    "test_creator = make_pipeline(FeatureCreator(key=f_ok))\n",
    "tst = test_creator.transform(df_test)\n",
    "tst"
   ],
   "metadata": {
    "collapsed": false,
    "pycharm": {
     "name": "#%%\n"
    }
   }
  },
  {
   "cell_type": "code",
   "execution_count": 41,
   "outputs": [
    {
     "data": {
      "text/plain": "            id  vas_id    buy_time       178       181         223        54  \\\n0      3130519       2  1548018000 -0.005184 -1.257363  -58.544078 -4.958702   \n1      2000860       4  1548018000 -0.005184 -1.257363  -58.544078 -4.958702   \n2      1343255       5  1547413200 -0.005184 -1.257363  297.385922 -4.958702   \n3      3195325       6  1548018000 -0.005184 -1.257363  -58.544078 -4.958702   \n4      3324464       1  1547413200 -0.005184  5.742637   43.145922  2.041298   \n...        ...     ...         ...       ...       ...         ...       ...   \n73661   899101       2  1548018000 -0.005184 -1.257363  -58.544078 -4.958702   \n73662  3173663       2  1548018000 -0.005184 -1.257363  -58.544078 -4.958702   \n73663  2545712       2  1548018000 -0.005184 -1.257363  144.845922  3.041298   \n73664  1693213       2  1548018000 -0.005184 -1.257363  -58.544078 -4.958702   \n73665  1891350       2  1548018000 -0.005184 -1.257363  -58.544078 -4.958702   \n\n            100        59       160  ...       137       176       138  \\\n0     -3.950157 -3.882665 -0.152157  ... -0.825973 -0.033778 -1.935988   \n1     -3.950157 -2.882665 -0.152157  ... -0.825973 -0.033778 -1.935988   \n2     -3.950157 -3.882665 -0.152157  ... -0.825973 -0.033778 -1.935988   \n3     -3.950157 -3.882665 -0.152157  ... -0.825973 -0.033778 -1.935988   \n4     -3.950157  4.117335 -0.152157  ...  5.174027 -0.033778  2.064012   \n...         ...       ...       ...  ...       ...       ...       ...   \n73661 -3.950157 -0.882665 -0.152157  ... -0.825973 -0.033778 -1.935988   \n73662 -3.950157 -2.882665 -0.152157  ... -0.825973 -0.033778 -1.935988   \n73663 -3.950157 -2.882665  0.517843  ... -0.825973 -0.033778 -1.935988   \n73664 -3.950157 -3.882665 -0.152157  ... -0.825973 -0.033778 -0.935988   \n73665 -3.950157 -2.882665 -0.152157  ...  4.174027 -0.033778  6.064012   \n\n               243       133        24       182        188        186  \\\n0      -970.373846  0.582717 -0.009327 -2.793637 -23.970371 -53.767387   \n1      -977.373846 -0.417283 -0.009327 -2.793637 -35.303704 -65.100720   \n2      -977.373846 -0.017283 -0.009327 -2.793637 -21.220371  -2.250720   \n3      -977.373846 -0.417283 -0.009327 -2.793637 -35.303704 -65.100720   \n4      -175.373846 -0.017283 -0.009327  5.789697 -34.270371 -37.850722   \n...            ...       ...       ...       ...        ...        ...   \n73661  -531.373846 -0.417283 -0.009327 -2.793637 -35.303704 -65.100720   \n73662  -576.373846 -0.167283 -0.009327 -2.793637 -31.770370 -59.317386   \n73663  -977.373846  0.582717 -0.009327 -2.793637  61.146296  31.665940   \n73664  -977.373846  0.582717 -0.009327 -2.793637 -17.487036 -47.284052   \n73665  1640.626154 -0.217283 -0.009327 -2.793637 -32.387038 -19.184050   \n\n       time_delta(buy_time-receive_time)  \n0                                    133  \n1                                    182  \n2                                    126  \n3                                      7  \n4                                    182  \n...                                  ...  \n73661                                147  \n73662                                 28  \n73663                                161  \n73664                                 70  \n73665                                 28  \n\n[71231 rows x 253 columns]",
      "text/html": "<div>\n<style scoped>\n    .dataframe tbody tr th:only-of-type {\n        vertical-align: middle;\n    }\n\n    .dataframe tbody tr th {\n        vertical-align: top;\n    }\n\n    .dataframe thead th {\n        text-align: right;\n    }\n</style>\n<table border=\"1\" class=\"dataframe\">\n  <thead>\n    <tr style=\"text-align: right;\">\n      <th></th>\n      <th>id</th>\n      <th>vas_id</th>\n      <th>buy_time</th>\n      <th>178</th>\n      <th>181</th>\n      <th>223</th>\n      <th>54</th>\n      <th>100</th>\n      <th>59</th>\n      <th>160</th>\n      <th>...</th>\n      <th>137</th>\n      <th>176</th>\n      <th>138</th>\n      <th>243</th>\n      <th>133</th>\n      <th>24</th>\n      <th>182</th>\n      <th>188</th>\n      <th>186</th>\n      <th>time_delta(buy_time-receive_time)</th>\n    </tr>\n  </thead>\n  <tbody>\n    <tr>\n      <th>0</th>\n      <td>3130519</td>\n      <td>2</td>\n      <td>1548018000</td>\n      <td>-0.005184</td>\n      <td>-1.257363</td>\n      <td>-58.544078</td>\n      <td>-4.958702</td>\n      <td>-3.950157</td>\n      <td>-3.882665</td>\n      <td>-0.152157</td>\n      <td>...</td>\n      <td>-0.825973</td>\n      <td>-0.033778</td>\n      <td>-1.935988</td>\n      <td>-970.373846</td>\n      <td>0.582717</td>\n      <td>-0.009327</td>\n      <td>-2.793637</td>\n      <td>-23.970371</td>\n      <td>-53.767387</td>\n      <td>133</td>\n    </tr>\n    <tr>\n      <th>1</th>\n      <td>2000860</td>\n      <td>4</td>\n      <td>1548018000</td>\n      <td>-0.005184</td>\n      <td>-1.257363</td>\n      <td>-58.544078</td>\n      <td>-4.958702</td>\n      <td>-3.950157</td>\n      <td>-2.882665</td>\n      <td>-0.152157</td>\n      <td>...</td>\n      <td>-0.825973</td>\n      <td>-0.033778</td>\n      <td>-1.935988</td>\n      <td>-977.373846</td>\n      <td>-0.417283</td>\n      <td>-0.009327</td>\n      <td>-2.793637</td>\n      <td>-35.303704</td>\n      <td>-65.100720</td>\n      <td>182</td>\n    </tr>\n    <tr>\n      <th>2</th>\n      <td>1343255</td>\n      <td>5</td>\n      <td>1547413200</td>\n      <td>-0.005184</td>\n      <td>-1.257363</td>\n      <td>297.385922</td>\n      <td>-4.958702</td>\n      <td>-3.950157</td>\n      <td>-3.882665</td>\n      <td>-0.152157</td>\n      <td>...</td>\n      <td>-0.825973</td>\n      <td>-0.033778</td>\n      <td>-1.935988</td>\n      <td>-977.373846</td>\n      <td>-0.017283</td>\n      <td>-0.009327</td>\n      <td>-2.793637</td>\n      <td>-21.220371</td>\n      <td>-2.250720</td>\n      <td>126</td>\n    </tr>\n    <tr>\n      <th>3</th>\n      <td>3195325</td>\n      <td>6</td>\n      <td>1548018000</td>\n      <td>-0.005184</td>\n      <td>-1.257363</td>\n      <td>-58.544078</td>\n      <td>-4.958702</td>\n      <td>-3.950157</td>\n      <td>-3.882665</td>\n      <td>-0.152157</td>\n      <td>...</td>\n      <td>-0.825973</td>\n      <td>-0.033778</td>\n      <td>-1.935988</td>\n      <td>-977.373846</td>\n      <td>-0.417283</td>\n      <td>-0.009327</td>\n      <td>-2.793637</td>\n      <td>-35.303704</td>\n      <td>-65.100720</td>\n      <td>7</td>\n    </tr>\n    <tr>\n      <th>4</th>\n      <td>3324464</td>\n      <td>1</td>\n      <td>1547413200</td>\n      <td>-0.005184</td>\n      <td>5.742637</td>\n      <td>43.145922</td>\n      <td>2.041298</td>\n      <td>-3.950157</td>\n      <td>4.117335</td>\n      <td>-0.152157</td>\n      <td>...</td>\n      <td>5.174027</td>\n      <td>-0.033778</td>\n      <td>2.064012</td>\n      <td>-175.373846</td>\n      <td>-0.017283</td>\n      <td>-0.009327</td>\n      <td>5.789697</td>\n      <td>-34.270371</td>\n      <td>-37.850722</td>\n      <td>182</td>\n    </tr>\n    <tr>\n      <th>...</th>\n      <td>...</td>\n      <td>...</td>\n      <td>...</td>\n      <td>...</td>\n      <td>...</td>\n      <td>...</td>\n      <td>...</td>\n      <td>...</td>\n      <td>...</td>\n      <td>...</td>\n      <td>...</td>\n      <td>...</td>\n      <td>...</td>\n      <td>...</td>\n      <td>...</td>\n      <td>...</td>\n      <td>...</td>\n      <td>...</td>\n      <td>...</td>\n      <td>...</td>\n      <td>...</td>\n    </tr>\n    <tr>\n      <th>73661</th>\n      <td>899101</td>\n      <td>2</td>\n      <td>1548018000</td>\n      <td>-0.005184</td>\n      <td>-1.257363</td>\n      <td>-58.544078</td>\n      <td>-4.958702</td>\n      <td>-3.950157</td>\n      <td>-0.882665</td>\n      <td>-0.152157</td>\n      <td>...</td>\n      <td>-0.825973</td>\n      <td>-0.033778</td>\n      <td>-1.935988</td>\n      <td>-531.373846</td>\n      <td>-0.417283</td>\n      <td>-0.009327</td>\n      <td>-2.793637</td>\n      <td>-35.303704</td>\n      <td>-65.100720</td>\n      <td>147</td>\n    </tr>\n    <tr>\n      <th>73662</th>\n      <td>3173663</td>\n      <td>2</td>\n      <td>1548018000</td>\n      <td>-0.005184</td>\n      <td>-1.257363</td>\n      <td>-58.544078</td>\n      <td>-4.958702</td>\n      <td>-3.950157</td>\n      <td>-2.882665</td>\n      <td>-0.152157</td>\n      <td>...</td>\n      <td>-0.825973</td>\n      <td>-0.033778</td>\n      <td>-1.935988</td>\n      <td>-576.373846</td>\n      <td>-0.167283</td>\n      <td>-0.009327</td>\n      <td>-2.793637</td>\n      <td>-31.770370</td>\n      <td>-59.317386</td>\n      <td>28</td>\n    </tr>\n    <tr>\n      <th>73663</th>\n      <td>2545712</td>\n      <td>2</td>\n      <td>1548018000</td>\n      <td>-0.005184</td>\n      <td>-1.257363</td>\n      <td>144.845922</td>\n      <td>3.041298</td>\n      <td>-3.950157</td>\n      <td>-2.882665</td>\n      <td>0.517843</td>\n      <td>...</td>\n      <td>-0.825973</td>\n      <td>-0.033778</td>\n      <td>-1.935988</td>\n      <td>-977.373846</td>\n      <td>0.582717</td>\n      <td>-0.009327</td>\n      <td>-2.793637</td>\n      <td>61.146296</td>\n      <td>31.665940</td>\n      <td>161</td>\n    </tr>\n    <tr>\n      <th>73664</th>\n      <td>1693213</td>\n      <td>2</td>\n      <td>1548018000</td>\n      <td>-0.005184</td>\n      <td>-1.257363</td>\n      <td>-58.544078</td>\n      <td>-4.958702</td>\n      <td>-3.950157</td>\n      <td>-3.882665</td>\n      <td>-0.152157</td>\n      <td>...</td>\n      <td>-0.825973</td>\n      <td>-0.033778</td>\n      <td>-0.935988</td>\n      <td>-977.373846</td>\n      <td>0.582717</td>\n      <td>-0.009327</td>\n      <td>-2.793637</td>\n      <td>-17.487036</td>\n      <td>-47.284052</td>\n      <td>70</td>\n    </tr>\n    <tr>\n      <th>73665</th>\n      <td>1891350</td>\n      <td>2</td>\n      <td>1548018000</td>\n      <td>-0.005184</td>\n      <td>-1.257363</td>\n      <td>-58.544078</td>\n      <td>-4.958702</td>\n      <td>-3.950157</td>\n      <td>-2.882665</td>\n      <td>-0.152157</td>\n      <td>...</td>\n      <td>4.174027</td>\n      <td>-0.033778</td>\n      <td>6.064012</td>\n      <td>1640.626154</td>\n      <td>-0.217283</td>\n      <td>-0.009327</td>\n      <td>-2.793637</td>\n      <td>-32.387038</td>\n      <td>-19.184050</td>\n      <td>28</td>\n    </tr>\n  </tbody>\n</table>\n<p>71231 rows × 253 columns</p>\n</div>"
     },
     "execution_count": 41,
     "metadata": {},
     "output_type": "execute_result"
    }
   ],
   "source": [
    "tst"
   ],
   "metadata": {
    "collapsed": false,
    "pycharm": {
     "name": "#%%\n"
    }
   }
  },
  {
   "cell_type": "code",
   "execution_count": 42,
   "outputs": [],
   "source": [
    "y_train = FeatureCreator(key=f_ok).label_len_equalizer(X_train, y_train)"
   ],
   "metadata": {
    "collapsed": false,
    "pycharm": {
     "name": "#%%\n"
    }
   }
  },
  {
   "cell_type": "code",
   "execution_count": 43,
   "outputs": [
    {
     "name": "stdout",
     "output_type": "stream",
     "text": [
      "Learning rate set to 0.156173\n",
      "0:\tlearn: 0.3717545\ttotal: 558ms\tremaining: 9m 17s\n",
      "1:\tlearn: 0.2302011\ttotal: 913ms\tremaining: 7m 35s\n",
      "2:\tlearn: 0.3712303\ttotal: 1.22s\tremaining: 6m 46s\n",
      "3:\tlearn: 0.3717177\ttotal: 1.51s\tremaining: 6m 15s\n",
      "4:\tlearn: 0.2283126\ttotal: 1.85s\tremaining: 6m 8s\n",
      "5:\tlearn: 0.2284121\ttotal: 2.23s\tremaining: 6m 9s\n",
      "6:\tlearn: 0.2433867\ttotal: 2.59s\tremaining: 6m 7s\n",
      "7:\tlearn: 0.3699370\ttotal: 2.97s\tremaining: 6m 8s\n",
      "8:\tlearn: 0.3715422\ttotal: 3.34s\tremaining: 6m 7s\n",
      "9:\tlearn: 0.3716784\ttotal: 3.73s\tremaining: 6m 9s\n",
      "10:\tlearn: 0.3715181\ttotal: 4.11s\tremaining: 6m 9s\n",
      "11:\tlearn: 0.3715437\ttotal: 4.41s\tremaining: 6m 2s\n",
      "12:\tlearn: 0.3681058\ttotal: 4.79s\tremaining: 6m 3s\n",
      "13:\tlearn: 0.3680208\ttotal: 5.15s\tremaining: 6m 2s\n",
      "14:\tlearn: 0.3671461\ttotal: 5.5s\tremaining: 6m\n",
      "15:\tlearn: 0.3674768\ttotal: 5.81s\tremaining: 5m 57s\n",
      "16:\tlearn: 0.3661309\ttotal: 6.17s\tremaining: 5m 56s\n",
      "17:\tlearn: 0.3587344\ttotal: 6.5s\tremaining: 5m 54s\n",
      "18:\tlearn: 0.3596021\ttotal: 6.82s\tremaining: 5m 52s\n",
      "19:\tlearn: 0.3552683\ttotal: 7.16s\tremaining: 5m 51s\n",
      "20:\tlearn: 0.3634293\ttotal: 7.55s\tremaining: 5m 52s\n",
      "21:\tlearn: 0.3616617\ttotal: 7.82s\tremaining: 5m 47s\n",
      "22:\tlearn: 0.3624618\ttotal: 8.19s\tremaining: 5m 47s\n",
      "23:\tlearn: 0.3587958\ttotal: 8.51s\tremaining: 5m 46s\n",
      "24:\tlearn: 0.3569667\ttotal: 8.78s\tremaining: 5m 42s\n",
      "25:\tlearn: 0.3557942\ttotal: 9.1s\tremaining: 5m 40s\n",
      "26:\tlearn: 0.3546400\ttotal: 9.39s\tremaining: 5m 38s\n",
      "27:\tlearn: 0.3536235\ttotal: 9.75s\tremaining: 5m 38s\n",
      "28:\tlearn: 0.3524867\ttotal: 10.1s\tremaining: 5m 36s\n",
      "29:\tlearn: 0.3646741\ttotal: 10.4s\tremaining: 5m 35s\n",
      "30:\tlearn: 0.3652317\ttotal: 10.7s\tremaining: 5m 35s\n",
      "31:\tlearn: 0.3664390\ttotal: 11s\tremaining: 5m 33s\n",
      "32:\tlearn: 0.3685028\ttotal: 11.4s\tremaining: 5m 34s\n",
      "33:\tlearn: 0.3675619\ttotal: 11.7s\tremaining: 5m 33s\n",
      "34:\tlearn: 0.3724045\ttotal: 12s\tremaining: 5m 30s\n",
      "35:\tlearn: 0.3739933\ttotal: 12.3s\tremaining: 5m 28s\n",
      "36:\tlearn: 0.3733472\ttotal: 12.7s\tremaining: 5m 29s\n",
      "37:\tlearn: 0.3734743\ttotal: 12.9s\tremaining: 5m 27s\n",
      "38:\tlearn: 0.3734392\ttotal: 13.2s\tremaining: 5m 26s\n",
      "39:\tlearn: 0.3731315\ttotal: 13.6s\tremaining: 5m 25s\n",
      "40:\tlearn: 0.3731426\ttotal: 13.8s\tremaining: 5m 23s\n",
      "41:\tlearn: 0.3749220\ttotal: 14.1s\tremaining: 5m 22s\n",
      "42:\tlearn: 0.3741656\ttotal: 14.4s\tremaining: 5m 21s\n",
      "43:\tlearn: 0.3740675\ttotal: 14.7s\tremaining: 5m 20s\n",
      "44:\tlearn: 0.3747984\ttotal: 15.1s\tremaining: 5m 19s\n",
      "45:\tlearn: 0.3747680\ttotal: 15.4s\tremaining: 5m 18s\n",
      "46:\tlearn: 0.3747744\ttotal: 15.6s\tremaining: 5m 16s\n",
      "47:\tlearn: 0.3749392\ttotal: 15.9s\tremaining: 5m 15s\n",
      "48:\tlearn: 0.3746090\ttotal: 16.3s\tremaining: 5m 15s\n",
      "49:\tlearn: 0.3747980\ttotal: 16.6s\tremaining: 5m 14s\n",
      "50:\tlearn: 0.3748437\ttotal: 16.9s\tremaining: 5m 14s\n",
      "51:\tlearn: 0.3748307\ttotal: 17.2s\tremaining: 5m 13s\n",
      "52:\tlearn: 0.3755903\ttotal: 17.5s\tremaining: 5m 12s\n",
      "53:\tlearn: 0.3754493\ttotal: 17.8s\tremaining: 5m 12s\n",
      "54:\tlearn: 0.3756271\ttotal: 18.1s\tremaining: 5m 11s\n",
      "55:\tlearn: 0.3758312\ttotal: 18.5s\tremaining: 5m 12s\n",
      "56:\tlearn: 0.3762751\ttotal: 18.8s\tremaining: 5m 11s\n",
      "57:\tlearn: 0.3765245\ttotal: 19.1s\tremaining: 5m 10s\n",
      "58:\tlearn: 0.3767196\ttotal: 19.4s\tremaining: 5m 9s\n",
      "59:\tlearn: 0.3767844\ttotal: 19.7s\tremaining: 5m 8s\n",
      "60:\tlearn: 0.3804115\ttotal: 20s\tremaining: 5m 7s\n",
      "61:\tlearn: 0.3802438\ttotal: 20.3s\tremaining: 5m 7s\n",
      "62:\tlearn: 0.3800183\ttotal: 20.6s\tremaining: 5m 6s\n",
      "63:\tlearn: 0.3810970\ttotal: 20.9s\tremaining: 5m 6s\n",
      "64:\tlearn: 0.3812120\ttotal: 21.2s\tremaining: 5m 5s\n",
      "65:\tlearn: 0.3810198\ttotal: 21.5s\tremaining: 5m 4s\n",
      "66:\tlearn: 0.3826138\ttotal: 21.8s\tremaining: 5m 3s\n",
      "67:\tlearn: 0.3836497\ttotal: 22.1s\tremaining: 5m 3s\n",
      "68:\tlearn: 0.3836841\ttotal: 22.5s\tremaining: 5m 3s\n",
      "69:\tlearn: 0.3840506\ttotal: 22.8s\tremaining: 5m 3s\n",
      "70:\tlearn: 0.3847383\ttotal: 23.1s\tremaining: 5m 1s\n",
      "71:\tlearn: 0.3850249\ttotal: 23.4s\tremaining: 5m 1s\n",
      "72:\tlearn: 0.3850765\ttotal: 23.7s\tremaining: 5m 1s\n",
      "73:\tlearn: 0.3850554\ttotal: 24s\tremaining: 5m\n",
      "74:\tlearn: 0.3847357\ttotal: 24.3s\tremaining: 5m\n",
      "75:\tlearn: 0.3846233\ttotal: 24.7s\tremaining: 4m 59s\n",
      "76:\tlearn: 0.3846379\ttotal: 25s\tremaining: 4m 59s\n",
      "77:\tlearn: 0.3851282\ttotal: 25.3s\tremaining: 4m 59s\n",
      "78:\tlearn: 0.3851877\ttotal: 25.6s\tremaining: 4m 59s\n",
      "79:\tlearn: 0.3838422\ttotal: 26s\tremaining: 4m 58s\n",
      "80:\tlearn: 0.3846299\ttotal: 26.3s\tremaining: 4m 58s\n",
      "81:\tlearn: 0.3844897\ttotal: 26.6s\tremaining: 4m 57s\n",
      "82:\tlearn: 0.3854192\ttotal: 26.9s\tremaining: 4m 56s\n",
      "83:\tlearn: 0.3854167\ttotal: 27.2s\tremaining: 4m 56s\n",
      "84:\tlearn: 0.3854378\ttotal: 27.5s\tremaining: 4m 56s\n",
      "85:\tlearn: 0.3859131\ttotal: 27.8s\tremaining: 4m 55s\n",
      "86:\tlearn: 0.3859414\ttotal: 28.1s\tremaining: 4m 55s\n",
      "87:\tlearn: 0.3861673\ttotal: 28.4s\tremaining: 4m 54s\n",
      "88:\tlearn: 0.3867568\ttotal: 28.7s\tremaining: 4m 53s\n",
      "89:\tlearn: 0.3873181\ttotal: 29s\tremaining: 4m 53s\n",
      "90:\tlearn: 0.3879553\ttotal: 29.3s\tremaining: 4m 52s\n",
      "91:\tlearn: 0.3881897\ttotal: 29.6s\tremaining: 4m 52s\n",
      "92:\tlearn: 0.3902156\ttotal: 30s\tremaining: 4m 52s\n",
      "93:\tlearn: 0.3902431\ttotal: 30.3s\tremaining: 4m 51s\n",
      "94:\tlearn: 0.3902514\ttotal: 30.5s\tremaining: 4m 50s\n",
      "95:\tlearn: 0.3902447\ttotal: 30.8s\tremaining: 4m 50s\n",
      "96:\tlearn: 0.3901672\ttotal: 31.1s\tremaining: 4m 49s\n",
      "97:\tlearn: 0.3900713\ttotal: 31.4s\tremaining: 4m 49s\n",
      "98:\tlearn: 0.3901438\ttotal: 31.7s\tremaining: 4m 48s\n",
      "99:\tlearn: 0.3902748\ttotal: 32s\tremaining: 4m 47s\n",
      "100:\tlearn: 0.3922290\ttotal: 32.4s\tremaining: 4m 47s\n",
      "101:\tlearn: 0.3925371\ttotal: 32.6s\tremaining: 4m 47s\n",
      "102:\tlearn: 0.3932701\ttotal: 32.9s\tremaining: 4m 46s\n",
      "103:\tlearn: 0.3938083\ttotal: 33.2s\tremaining: 4m 46s\n",
      "104:\tlearn: 0.3939182\ttotal: 33.5s\tremaining: 4m 45s\n",
      "105:\tlearn: 0.3938429\ttotal: 33.7s\tremaining: 4m 44s\n",
      "106:\tlearn: 0.3938501\ttotal: 34s\tremaining: 4m 43s\n",
      "107:\tlearn: 0.3941370\ttotal: 34.3s\tremaining: 4m 43s\n",
      "108:\tlearn: 0.3946083\ttotal: 34.6s\tremaining: 4m 42s\n",
      "109:\tlearn: 0.3947919\ttotal: 34.9s\tremaining: 4m 42s\n",
      "110:\tlearn: 0.3950037\ttotal: 35.2s\tremaining: 4m 42s\n",
      "111:\tlearn: 0.3950924\ttotal: 35.5s\tremaining: 4m 41s\n",
      "112:\tlearn: 0.3953651\ttotal: 35.9s\tremaining: 4m 41s\n",
      "113:\tlearn: 0.3955285\ttotal: 36.2s\tremaining: 4m 41s\n",
      "114:\tlearn: 0.3953013\ttotal: 36.5s\tremaining: 4m 40s\n",
      "115:\tlearn: 0.3954521\ttotal: 36.8s\tremaining: 4m 40s\n",
      "116:\tlearn: 0.3958004\ttotal: 37.2s\tremaining: 4m 40s\n",
      "117:\tlearn: 0.3959847\ttotal: 37.5s\tremaining: 4m 39s\n",
      "118:\tlearn: 0.3964096\ttotal: 37.8s\tremaining: 4m 39s\n",
      "119:\tlearn: 0.3976084\ttotal: 38.1s\tremaining: 4m 39s\n",
      "120:\tlearn: 0.3975255\ttotal: 38.4s\tremaining: 4m 38s\n",
      "121:\tlearn: 0.3991515\ttotal: 38.6s\tremaining: 4m 38s\n",
      "122:\tlearn: 0.3996946\ttotal: 39s\tremaining: 4m 37s\n",
      "123:\tlearn: 0.3996947\ttotal: 39.3s\tremaining: 4m 37s\n",
      "124:\tlearn: 0.3997150\ttotal: 39.5s\tremaining: 4m 36s\n",
      "125:\tlearn: 0.3998982\ttotal: 39.8s\tremaining: 4m 36s\n",
      "126:\tlearn: 0.4000136\ttotal: 40.1s\tremaining: 4m 35s\n",
      "127:\tlearn: 0.4000136\ttotal: 40.4s\tremaining: 4m 34s\n",
      "128:\tlearn: 0.4007662\ttotal: 40.6s\tremaining: 4m 34s\n",
      "129:\tlearn: 0.4011865\ttotal: 40.9s\tremaining: 4m 33s\n",
      "130:\tlearn: 0.4016809\ttotal: 41.2s\tremaining: 4m 33s\n",
      "131:\tlearn: 0.4019111\ttotal: 41.5s\tremaining: 4m 32s\n",
      "132:\tlearn: 0.4019048\ttotal: 41.7s\tremaining: 4m 32s\n",
      "133:\tlearn: 0.4018574\ttotal: 42s\tremaining: 4m 31s\n",
      "134:\tlearn: 0.4023164\ttotal: 42.3s\tremaining: 4m 31s\n",
      "135:\tlearn: 0.4026614\ttotal: 42.6s\tremaining: 4m 30s\n",
      "136:\tlearn: 0.4031895\ttotal: 42.9s\tremaining: 4m 29s\n",
      "137:\tlearn: 0.4032365\ttotal: 43.1s\tremaining: 4m 29s\n",
      "138:\tlearn: 0.4037706\ttotal: 43.4s\tremaining: 4m 28s\n",
      "139:\tlearn: 0.4037508\ttotal: 43.7s\tremaining: 4m 28s\n",
      "140:\tlearn: 0.4038790\ttotal: 44s\tremaining: 4m 27s\n",
      "141:\tlearn: 0.4041351\ttotal: 44.3s\tremaining: 4m 27s\n",
      "142:\tlearn: 0.4042557\ttotal: 44.6s\tremaining: 4m 27s\n",
      "143:\tlearn: 0.4042766\ttotal: 44.9s\tremaining: 4m 26s\n",
      "144:\tlearn: 0.4044788\ttotal: 45.1s\tremaining: 4m 26s\n",
      "145:\tlearn: 0.4059165\ttotal: 45.4s\tremaining: 4m 25s\n",
      "146:\tlearn: 0.4058035\ttotal: 45.7s\tremaining: 4m 25s\n",
      "147:\tlearn: 0.4063830\ttotal: 46s\tremaining: 4m 25s\n",
      "148:\tlearn: 0.4065771\ttotal: 46.3s\tremaining: 4m 24s\n",
      "149:\tlearn: 0.4069811\ttotal: 46.6s\tremaining: 4m 24s\n",
      "150:\tlearn: 0.4072000\ttotal: 46.9s\tremaining: 4m 23s\n",
      "151:\tlearn: 0.4082348\ttotal: 47.2s\tremaining: 4m 23s\n",
      "152:\tlearn: 0.4081949\ttotal: 47.5s\tremaining: 4m 22s\n",
      "153:\tlearn: 0.4081612\ttotal: 47.8s\tremaining: 4m 22s\n",
      "154:\tlearn: 0.4084923\ttotal: 48.1s\tremaining: 4m 22s\n",
      "155:\tlearn: 0.4089944\ttotal: 48.5s\tremaining: 4m 22s\n",
      "156:\tlearn: 0.4093321\ttotal: 48.8s\tremaining: 4m 21s\n",
      "157:\tlearn: 0.4081481\ttotal: 49.2s\tremaining: 4m 21s\n",
      "158:\tlearn: 0.4081467\ttotal: 49.4s\tremaining: 4m 21s\n",
      "159:\tlearn: 0.4083893\ttotal: 49.8s\tremaining: 4m 21s\n",
      "160:\tlearn: 0.4087978\ttotal: 50.1s\tremaining: 4m 20s\n",
      "161:\tlearn: 0.4094031\ttotal: 50.3s\tremaining: 4m 20s\n",
      "162:\tlearn: 0.4096881\ttotal: 50.7s\tremaining: 4m 20s\n",
      "163:\tlearn: 0.4097081\ttotal: 51s\tremaining: 4m 19s\n",
      "164:\tlearn: 0.4101258\ttotal: 51.3s\tremaining: 4m 19s\n",
      "165:\tlearn: 0.4104432\ttotal: 51.6s\tremaining: 4m 19s\n",
      "166:\tlearn: 0.4104830\ttotal: 51.9s\tremaining: 4m 18s\n",
      "167:\tlearn: 0.4103905\ttotal: 52.1s\tremaining: 4m 18s\n",
      "168:\tlearn: 0.4102720\ttotal: 52.4s\tremaining: 4m 17s\n",
      "169:\tlearn: 0.4103784\ttotal: 52.7s\tremaining: 4m 17s\n",
      "170:\tlearn: 0.4104597\ttotal: 53s\tremaining: 4m 16s\n",
      "171:\tlearn: 0.4102616\ttotal: 53.3s\tremaining: 4m 16s\n",
      "172:\tlearn: 0.4102798\ttotal: 53.5s\tremaining: 4m 15s\n",
      "173:\tlearn: 0.4102858\ttotal: 53.8s\tremaining: 4m 15s\n",
      "174:\tlearn: 0.4104614\ttotal: 54.1s\tremaining: 4m 14s\n",
      "175:\tlearn: 0.4105002\ttotal: 54.3s\tremaining: 4m 14s\n",
      "176:\tlearn: 0.4109081\ttotal: 54.6s\tremaining: 4m 13s\n",
      "177:\tlearn: 0.4112502\ttotal: 54.9s\tremaining: 4m 13s\n",
      "178:\tlearn: 0.4121284\ttotal: 55.3s\tremaining: 4m 13s\n",
      "179:\tlearn: 0.4120936\ttotal: 55.6s\tremaining: 4m 13s\n",
      "180:\tlearn: 0.4123076\ttotal: 55.9s\tremaining: 4m 12s\n",
      "181:\tlearn: 0.4123413\ttotal: 56.2s\tremaining: 4m 12s\n",
      "182:\tlearn: 0.4123402\ttotal: 56.5s\tremaining: 4m 12s\n",
      "183:\tlearn: 0.4123472\ttotal: 56.8s\tremaining: 4m 11s\n",
      "184:\tlearn: 0.4119937\ttotal: 57.1s\tremaining: 4m 11s\n",
      "185:\tlearn: 0.4120749\ttotal: 57.4s\tremaining: 4m 11s\n",
      "186:\tlearn: 0.4122166\ttotal: 57.7s\tremaining: 4m 10s\n",
      "187:\tlearn: 0.4126781\ttotal: 58s\tremaining: 4m 10s\n",
      "188:\tlearn: 0.4135273\ttotal: 58.3s\tremaining: 4m 10s\n",
      "189:\tlearn: 0.4136491\ttotal: 58.6s\tremaining: 4m 9s\n",
      "190:\tlearn: 0.4137757\ttotal: 58.9s\tremaining: 4m 9s\n",
      "191:\tlearn: 0.4137815\ttotal: 59.2s\tremaining: 4m 9s\n",
      "192:\tlearn: 0.4149219\ttotal: 59.5s\tremaining: 4m 8s\n",
      "193:\tlearn: 0.4149891\ttotal: 59.8s\tremaining: 4m 8s\n",
      "194:\tlearn: 0.4151755\ttotal: 1m\tremaining: 4m 7s\n",
      "195:\tlearn: 0.4151793\ttotal: 1m\tremaining: 4m 7s\n",
      "196:\tlearn: 0.4170183\ttotal: 1m\tremaining: 4m 7s\n",
      "197:\tlearn: 0.4170908\ttotal: 1m\tremaining: 4m 6s\n",
      "198:\tlearn: 0.4172276\ttotal: 1m 1s\tremaining: 4m 6s\n",
      "199:\tlearn: 0.4173642\ttotal: 1m 1s\tremaining: 4m 6s\n",
      "200:\tlearn: 0.4178895\ttotal: 1m 1s\tremaining: 4m 6s\n",
      "201:\tlearn: 0.4180967\ttotal: 1m 2s\tremaining: 4m 5s\n",
      "202:\tlearn: 0.4184071\ttotal: 1m 2s\tremaining: 4m 5s\n",
      "203:\tlearn: 0.4187633\ttotal: 1m 2s\tremaining: 4m 5s\n",
      "204:\tlearn: 0.4190782\ttotal: 1m 3s\tremaining: 4m 5s\n",
      "205:\tlearn: 0.4197630\ttotal: 1m 3s\tremaining: 4m 4s\n",
      "206:\tlearn: 0.4197787\ttotal: 1m 3s\tremaining: 4m 4s\n",
      "207:\tlearn: 0.4197556\ttotal: 1m 4s\tremaining: 4m 4s\n",
      "208:\tlearn: 0.4195512\ttotal: 1m 4s\tremaining: 4m 3s\n",
      "209:\tlearn: 0.4197151\ttotal: 1m 4s\tremaining: 4m 3s\n",
      "210:\tlearn: 0.4198980\ttotal: 1m 4s\tremaining: 4m 2s\n",
      "211:\tlearn: 0.4202644\ttotal: 1m 5s\tremaining: 4m 2s\n",
      "212:\tlearn: 0.4210843\ttotal: 1m 5s\tremaining: 4m 2s\n",
      "213:\tlearn: 0.4211106\ttotal: 1m 5s\tremaining: 4m 1s\n",
      "214:\tlearn: 0.4215410\ttotal: 1m 6s\tremaining: 4m 1s\n",
      "215:\tlearn: 0.4216586\ttotal: 1m 6s\tremaining: 4m 1s\n",
      "216:\tlearn: 0.4225897\ttotal: 1m 6s\tremaining: 4m\n",
      "217:\tlearn: 0.4227230\ttotal: 1m 7s\tremaining: 4m\n",
      "218:\tlearn: 0.4226197\ttotal: 1m 7s\tremaining: 4m\n",
      "219:\tlearn: 0.4232545\ttotal: 1m 7s\tremaining: 4m\n",
      "220:\tlearn: 0.4237748\ttotal: 1m 8s\tremaining: 3m 59s\n",
      "221:\tlearn: 0.4242172\ttotal: 1m 8s\tremaining: 3m 59s\n",
      "222:\tlearn: 0.4244463\ttotal: 1m 8s\tremaining: 3m 58s\n",
      "223:\tlearn: 0.4245754\ttotal: 1m 8s\tremaining: 3m 58s\n",
      "224:\tlearn: 0.4249114\ttotal: 1m 9s\tremaining: 3m 58s\n",
      "225:\tlearn: 0.4249759\ttotal: 1m 9s\tremaining: 3m 58s\n",
      "226:\tlearn: 0.4252196\ttotal: 1m 9s\tremaining: 3m 57s\n",
      "227:\tlearn: 0.4249788\ttotal: 1m 10s\tremaining: 3m 57s\n",
      "228:\tlearn: 0.4250121\ttotal: 1m 10s\tremaining: 3m 57s\n",
      "229:\tlearn: 0.4250724\ttotal: 1m 10s\tremaining: 3m 56s\n",
      "230:\tlearn: 0.4254031\ttotal: 1m 11s\tremaining: 3m 56s\n",
      "231:\tlearn: 0.4256601\ttotal: 1m 11s\tremaining: 3m 56s\n",
      "232:\tlearn: 0.4257916\ttotal: 1m 11s\tremaining: 3m 55s\n",
      "233:\tlearn: 0.4261384\ttotal: 1m 11s\tremaining: 3m 55s\n",
      "234:\tlearn: 0.4265234\ttotal: 1m 12s\tremaining: 3m 55s\n",
      "235:\tlearn: 0.4266662\ttotal: 1m 12s\tremaining: 3m 54s\n",
      "236:\tlearn: 0.4274487\ttotal: 1m 12s\tremaining: 3m 54s\n",
      "237:\tlearn: 0.4272638\ttotal: 1m 13s\tremaining: 3m 54s\n",
      "238:\tlearn: 0.4271922\ttotal: 1m 13s\tremaining: 3m 53s\n",
      "239:\tlearn: 0.4273180\ttotal: 1m 13s\tremaining: 3m 53s\n",
      "240:\tlearn: 0.4277030\ttotal: 1m 14s\tremaining: 3m 53s\n",
      "241:\tlearn: 0.4277979\ttotal: 1m 14s\tremaining: 3m 52s\n",
      "242:\tlearn: 0.4279166\ttotal: 1m 14s\tremaining: 3m 52s\n",
      "243:\tlearn: 0.4284173\ttotal: 1m 14s\tremaining: 3m 51s\n",
      "244:\tlearn: 0.4284552\ttotal: 1m 15s\tremaining: 3m 51s\n",
      "245:\tlearn: 0.4289793\ttotal: 1m 15s\tremaining: 3m 51s\n",
      "246:\tlearn: 0.4290482\ttotal: 1m 15s\tremaining: 3m 50s\n",
      "247:\tlearn: 0.4290790\ttotal: 1m 15s\tremaining: 3m 50s\n",
      "248:\tlearn: 0.4292401\ttotal: 1m 16s\tremaining: 3m 49s\n",
      "249:\tlearn: 0.4295625\ttotal: 1m 16s\tremaining: 3m 49s\n",
      "250:\tlearn: 0.4296857\ttotal: 1m 16s\tremaining: 3m 49s\n",
      "251:\tlearn: 0.4304243\ttotal: 1m 17s\tremaining: 3m 49s\n",
      "252:\tlearn: 0.4304998\ttotal: 1m 17s\tremaining: 3m 48s\n",
      "253:\tlearn: 0.4304251\ttotal: 1m 17s\tremaining: 3m 48s\n",
      "254:\tlearn: 0.4306876\ttotal: 1m 18s\tremaining: 3m 48s\n",
      "255:\tlearn: 0.4312204\ttotal: 1m 18s\tremaining: 3m 47s\n",
      "256:\tlearn: 0.4314239\ttotal: 1m 18s\tremaining: 3m 47s\n",
      "257:\tlearn: 0.4319342\ttotal: 1m 19s\tremaining: 3m 47s\n",
      "258:\tlearn: 0.4321700\ttotal: 1m 19s\tremaining: 3m 47s\n",
      "259:\tlearn: 0.4324593\ttotal: 1m 19s\tremaining: 3m 46s\n",
      "260:\tlearn: 0.4327720\ttotal: 1m 20s\tremaining: 3m 46s\n",
      "261:\tlearn: 0.4331472\ttotal: 1m 20s\tremaining: 3m 46s\n",
      "262:\tlearn: 0.4338651\ttotal: 1m 20s\tremaining: 3m 46s\n",
      "263:\tlearn: 0.4336807\ttotal: 1m 20s\tremaining: 3m 45s\n",
      "264:\tlearn: 0.4333808\ttotal: 1m 21s\tremaining: 3m 45s\n",
      "265:\tlearn: 0.4334416\ttotal: 1m 21s\tremaining: 3m 45s\n",
      "266:\tlearn: 0.4339532\ttotal: 1m 21s\tremaining: 3m 44s\n",
      "267:\tlearn: 0.4342240\ttotal: 1m 22s\tremaining: 3m 44s\n",
      "268:\tlearn: 0.4341994\ttotal: 1m 22s\tremaining: 3m 44s\n",
      "269:\tlearn: 0.4341563\ttotal: 1m 22s\tremaining: 3m 43s\n",
      "270:\tlearn: 0.4344197\ttotal: 1m 23s\tremaining: 3m 43s\n",
      "271:\tlearn: 0.4345191\ttotal: 1m 23s\tremaining: 3m 43s\n",
      "272:\tlearn: 0.4346199\ttotal: 1m 23s\tremaining: 3m 42s\n",
      "273:\tlearn: 0.4347697\ttotal: 1m 24s\tremaining: 3m 42s\n",
      "274:\tlearn: 0.4348517\ttotal: 1m 24s\tremaining: 3m 42s\n",
      "275:\tlearn: 0.4354775\ttotal: 1m 24s\tremaining: 3m 41s\n",
      "276:\tlearn: 0.4366011\ttotal: 1m 24s\tremaining: 3m 41s\n",
      "277:\tlearn: 0.4370123\ttotal: 1m 25s\tremaining: 3m 41s\n",
      "278:\tlearn: 0.4365999\ttotal: 1m 25s\tremaining: 3m 40s\n",
      "279:\tlearn: 0.4367953\ttotal: 1m 25s\tremaining: 3m 40s\n",
      "280:\tlearn: 0.4370517\ttotal: 1m 26s\tremaining: 3m 40s\n",
      "281:\tlearn: 0.4371902\ttotal: 1m 26s\tremaining: 3m 39s\n",
      "282:\tlearn: 0.4372419\ttotal: 1m 26s\tremaining: 3m 39s\n",
      "283:\tlearn: 0.4373813\ttotal: 1m 26s\tremaining: 3m 39s\n",
      "284:\tlearn: 0.4373957\ttotal: 1m 27s\tremaining: 3m 38s\n",
      "285:\tlearn: 0.4375764\ttotal: 1m 27s\tremaining: 3m 38s\n",
      "286:\tlearn: 0.4376569\ttotal: 1m 27s\tremaining: 3m 38s\n",
      "287:\tlearn: 0.4377746\ttotal: 1m 28s\tremaining: 3m 37s\n",
      "288:\tlearn: 0.4380729\ttotal: 1m 28s\tremaining: 3m 37s\n",
      "289:\tlearn: 0.4386845\ttotal: 1m 28s\tremaining: 3m 37s\n",
      "290:\tlearn: 0.4385380\ttotal: 1m 29s\tremaining: 3m 36s\n",
      "291:\tlearn: 0.4388521\ttotal: 1m 29s\tremaining: 3m 36s\n",
      "292:\tlearn: 0.4388706\ttotal: 1m 29s\tremaining: 3m 36s\n",
      "293:\tlearn: 0.4390260\ttotal: 1m 29s\tremaining: 3m 35s\n",
      "294:\tlearn: 0.4395923\ttotal: 1m 30s\tremaining: 3m 35s\n",
      "295:\tlearn: 0.4395329\ttotal: 1m 30s\tremaining: 3m 35s\n",
      "296:\tlearn: 0.4401786\ttotal: 1m 30s\tremaining: 3m 35s\n",
      "297:\tlearn: 0.4403506\ttotal: 1m 31s\tremaining: 3m 34s\n",
      "298:\tlearn: 0.4404685\ttotal: 1m 31s\tremaining: 3m 34s\n",
      "299:\tlearn: 0.4404646\ttotal: 1m 31s\tremaining: 3m 34s\n",
      "300:\tlearn: 0.4411949\ttotal: 1m 32s\tremaining: 3m 34s\n",
      "301:\tlearn: 0.4411987\ttotal: 1m 32s\tremaining: 3m 33s\n",
      "302:\tlearn: 0.4411513\ttotal: 1m 32s\tremaining: 3m 33s\n",
      "303:\tlearn: 0.4410849\ttotal: 1m 33s\tremaining: 3m 33s\n",
      "304:\tlearn: 0.4412060\ttotal: 1m 33s\tremaining: 3m 32s\n",
      "305:\tlearn: 0.4412205\ttotal: 1m 33s\tremaining: 3m 32s\n",
      "306:\tlearn: 0.4412021\ttotal: 1m 33s\tremaining: 3m 31s\n",
      "307:\tlearn: 0.4414990\ttotal: 1m 34s\tremaining: 3m 31s\n",
      "308:\tlearn: 0.4416089\ttotal: 1m 34s\tremaining: 3m 31s\n",
      "309:\tlearn: 0.4413891\ttotal: 1m 34s\tremaining: 3m 30s\n",
      "310:\tlearn: 0.4416414\ttotal: 1m 35s\tremaining: 3m 30s\n",
      "311:\tlearn: 0.4420741\ttotal: 1m 35s\tremaining: 3m 30s\n",
      "312:\tlearn: 0.4428539\ttotal: 1m 35s\tremaining: 3m 30s\n",
      "313:\tlearn: 0.4428393\ttotal: 1m 36s\tremaining: 3m 30s\n",
      "314:\tlearn: 0.4431433\ttotal: 1m 36s\tremaining: 3m 30s\n",
      "315:\tlearn: 0.4431287\ttotal: 1m 36s\tremaining: 3m 29s\n",
      "316:\tlearn: 0.4430405\ttotal: 1m 37s\tremaining: 3m 29s\n",
      "317:\tlearn: 0.4431394\ttotal: 1m 37s\tremaining: 3m 29s\n",
      "318:\tlearn: 0.4432824\ttotal: 1m 37s\tremaining: 3m 29s\n",
      "319:\tlearn: 0.4434944\ttotal: 1m 38s\tremaining: 3m 28s\n",
      "320:\tlearn: 0.4433993\ttotal: 1m 38s\tremaining: 3m 28s\n",
      "321:\tlearn: 0.4431542\ttotal: 1m 39s\tremaining: 3m 28s\n",
      "322:\tlearn: 0.4436732\ttotal: 1m 39s\tremaining: 3m 28s\n",
      "323:\tlearn: 0.4444262\ttotal: 1m 39s\tremaining: 3m 28s\n",
      "324:\tlearn: 0.4443458\ttotal: 1m 40s\tremaining: 3m 28s\n",
      "325:\tlearn: 0.4443313\ttotal: 1m 40s\tremaining: 3m 27s\n",
      "326:\tlearn: 0.4447475\ttotal: 1m 40s\tremaining: 3m 27s\n",
      "327:\tlearn: 0.4450688\ttotal: 1m 41s\tremaining: 3m 27s\n",
      "328:\tlearn: 0.4454699\ttotal: 1m 41s\tremaining: 3m 27s\n",
      "329:\tlearn: 0.4455976\ttotal: 1m 41s\tremaining: 3m 27s\n",
      "330:\tlearn: 0.4457764\ttotal: 1m 42s\tremaining: 3m 26s\n",
      "331:\tlearn: 0.4459841\ttotal: 1m 42s\tremaining: 3m 26s\n",
      "332:\tlearn: 0.4459988\ttotal: 1m 43s\tremaining: 3m 26s\n",
      "333:\tlearn: 0.4462541\ttotal: 1m 43s\tremaining: 3m 26s\n",
      "334:\tlearn: 0.4463705\ttotal: 1m 43s\tremaining: 3m 26s\n",
      "335:\tlearn: 0.4469059\ttotal: 1m 44s\tremaining: 3m 25s\n",
      "336:\tlearn: 0.4467855\ttotal: 1m 44s\tremaining: 3m 25s\n",
      "337:\tlearn: 0.4470449\ttotal: 1m 44s\tremaining: 3m 25s\n",
      "338:\tlearn: 0.4472160\ttotal: 1m 45s\tremaining: 3m 25s\n",
      "339:\tlearn: 0.4472557\ttotal: 1m 45s\tremaining: 3m 24s\n",
      "340:\tlearn: 0.4473723\ttotal: 1m 45s\tremaining: 3m 24s\n",
      "341:\tlearn: 0.4474742\ttotal: 1m 46s\tremaining: 3m 24s\n",
      "342:\tlearn: 0.4477578\ttotal: 1m 46s\tremaining: 3m 23s\n",
      "343:\tlearn: 0.4475506\ttotal: 1m 46s\tremaining: 3m 23s\n",
      "344:\tlearn: 0.4475648\ttotal: 1m 47s\tremaining: 3m 23s\n",
      "345:\tlearn: 0.4478567\ttotal: 1m 47s\tremaining: 3m 23s\n",
      "346:\tlearn: 0.4477984\ttotal: 1m 47s\tremaining: 3m 22s\n",
      "347:\tlearn: 0.4487835\ttotal: 1m 48s\tremaining: 3m 22s\n",
      "348:\tlearn: 0.4485767\ttotal: 1m 48s\tremaining: 3m 22s\n",
      "349:\tlearn: 0.4485727\ttotal: 1m 48s\tremaining: 3m 21s\n",
      "350:\tlearn: 0.4488792\ttotal: 1m 48s\tremaining: 3m 21s\n",
      "351:\tlearn: 0.4486898\ttotal: 1m 49s\tremaining: 3m 21s\n",
      "352:\tlearn: 0.4490773\ttotal: 1m 49s\tremaining: 3m 20s\n",
      "353:\tlearn: 0.4493226\ttotal: 1m 49s\tremaining: 3m 20s\n",
      "354:\tlearn: 0.4495111\ttotal: 1m 50s\tremaining: 3m 20s\n",
      "355:\tlearn: 0.4496855\ttotal: 1m 50s\tremaining: 3m 19s\n",
      "356:\tlearn: 0.4498870\ttotal: 1m 50s\tremaining: 3m 19s\n",
      "357:\tlearn: 0.4498363\ttotal: 1m 51s\tremaining: 3m 19s\n",
      "358:\tlearn: 0.4501178\ttotal: 1m 51s\tremaining: 3m 18s\n",
      "359:\tlearn: 0.4502889\ttotal: 1m 51s\tremaining: 3m 18s\n",
      "360:\tlearn: 0.4503797\ttotal: 1m 52s\tremaining: 3m 18s\n",
      "361:\tlearn: 0.4507134\ttotal: 1m 52s\tremaining: 3m 17s\n",
      "362:\tlearn: 0.4508434\ttotal: 1m 52s\tremaining: 3m 17s\n",
      "363:\tlearn: 0.4508508\ttotal: 1m 52s\tremaining: 3m 17s\n",
      "364:\tlearn: 0.4508508\ttotal: 1m 53s\tremaining: 3m 16s\n",
      "365:\tlearn: 0.4511443\ttotal: 1m 53s\tremaining: 3m 16s\n",
      "366:\tlearn: 0.4511433\ttotal: 1m 53s\tremaining: 3m 16s\n",
      "367:\tlearn: 0.4517595\ttotal: 1m 54s\tremaining: 3m 16s\n",
      "368:\tlearn: 0.4518577\ttotal: 1m 54s\tremaining: 3m 15s\n",
      "369:\tlearn: 0.4521318\ttotal: 1m 54s\tremaining: 3m 15s\n",
      "370:\tlearn: 0.4522825\ttotal: 1m 55s\tremaining: 3m 15s\n",
      "371:\tlearn: 0.4523510\ttotal: 1m 55s\tremaining: 3m 14s\n",
      "372:\tlearn: 0.4524343\ttotal: 1m 55s\tremaining: 3m 14s\n",
      "373:\tlearn: 0.4525280\ttotal: 1m 55s\tremaining: 3m 14s\n",
      "374:\tlearn: 0.4528394\ttotal: 1m 56s\tremaining: 3m 13s\n",
      "375:\tlearn: 0.4532702\ttotal: 1m 56s\tremaining: 3m 13s\n",
      "376:\tlearn: 0.4529374\ttotal: 1m 57s\tremaining: 3m 13s\n",
      "377:\tlearn: 0.4530398\ttotal: 1m 57s\tremaining: 3m 13s\n",
      "378:\tlearn: 0.4531513\ttotal: 1m 57s\tremaining: 3m 12s\n",
      "379:\tlearn: 0.4534992\ttotal: 1m 57s\tremaining: 3m 12s\n",
      "380:\tlearn: 0.4536210\ttotal: 1m 58s\tremaining: 3m 12s\n",
      "381:\tlearn: 0.4539208\ttotal: 1m 58s\tremaining: 3m 11s\n",
      "382:\tlearn: 0.4543095\ttotal: 1m 58s\tremaining: 3m 11s\n",
      "383:\tlearn: 0.4546345\ttotal: 1m 59s\tremaining: 3m 11s\n",
      "384:\tlearn: 0.4547517\ttotal: 1m 59s\tremaining: 3m 10s\n",
      "385:\tlearn: 0.4548778\ttotal: 1m 59s\tremaining: 3m 10s\n",
      "386:\tlearn: 0.4550765\ttotal: 2m\tremaining: 3m 10s\n",
      "387:\tlearn: 0.4551269\ttotal: 2m\tremaining: 3m 9s\n",
      "388:\tlearn: 0.4551861\ttotal: 2m\tremaining: 3m 9s\n",
      "389:\tlearn: 0.4554410\ttotal: 2m 1s\tremaining: 3m 9s\n",
      "390:\tlearn: 0.4557759\ttotal: 2m 1s\tremaining: 3m 9s\n",
      "391:\tlearn: 0.4557759\ttotal: 2m 1s\tremaining: 3m 9s\n",
      "392:\tlearn: 0.4556946\ttotal: 2m 2s\tremaining: 3m 8s\n",
      "393:\tlearn: 0.4560797\ttotal: 2m 2s\tremaining: 3m 8s\n",
      "394:\tlearn: 0.4563938\ttotal: 2m 2s\tremaining: 3m 8s\n",
      "395:\tlearn: 0.4561878\ttotal: 2m 3s\tremaining: 3m 7s\n",
      "396:\tlearn: 0.4561953\ttotal: 2m 3s\tremaining: 3m 7s\n",
      "397:\tlearn: 0.4567935\ttotal: 2m 3s\tremaining: 3m 7s\n",
      "398:\tlearn: 0.4567684\ttotal: 2m 4s\tremaining: 3m 6s\n",
      "399:\tlearn: 0.4571056\ttotal: 2m 4s\tremaining: 3m 6s\n",
      "400:\tlearn: 0.4571587\ttotal: 2m 4s\tremaining: 3m 6s\n",
      "401:\tlearn: 0.4577917\ttotal: 2m 4s\tremaining: 3m 5s\n",
      "402:\tlearn: 0.4577917\ttotal: 2m 5s\tremaining: 3m 5s\n",
      "403:\tlearn: 0.4578690\ttotal: 2m 5s\tremaining: 3m 5s\n",
      "404:\tlearn: 0.4580185\ttotal: 2m 5s\tremaining: 3m 4s\n",
      "405:\tlearn: 0.4587661\ttotal: 2m 6s\tremaining: 3m 4s\n",
      "406:\tlearn: 0.4587030\ttotal: 2m 6s\tremaining: 3m 4s\n",
      "407:\tlearn: 0.4593244\ttotal: 2m 6s\tremaining: 3m 3s\n",
      "408:\tlearn: 0.4593442\ttotal: 2m 7s\tremaining: 3m 3s\n",
      "409:\tlearn: 0.4594973\ttotal: 2m 7s\tremaining: 3m 3s\n",
      "410:\tlearn: 0.4600163\ttotal: 2m 7s\tremaining: 3m 2s\n",
      "411:\tlearn: 0.4601416\ttotal: 2m 7s\tremaining: 3m 2s\n",
      "412:\tlearn: 0.4600716\ttotal: 2m 8s\tremaining: 3m 2s\n",
      "413:\tlearn: 0.4601767\ttotal: 2m 8s\tremaining: 3m 1s\n",
      "414:\tlearn: 0.4599639\ttotal: 2m 8s\tremaining: 3m 1s\n",
      "415:\tlearn: 0.4600940\ttotal: 2m 9s\tremaining: 3m 1s\n",
      "416:\tlearn: 0.4603846\ttotal: 2m 9s\tremaining: 3m\n",
      "417:\tlearn: 0.4603521\ttotal: 2m 9s\tremaining: 3m\n",
      "418:\tlearn: 0.4604597\ttotal: 2m 9s\tremaining: 3m\n",
      "419:\tlearn: 0.4605524\ttotal: 2m 10s\tremaining: 2m 59s\n",
      "420:\tlearn: 0.4609428\ttotal: 2m 10s\tremaining: 2m 59s\n",
      "421:\tlearn: 0.4611956\ttotal: 2m 10s\tremaining: 2m 59s\n",
      "422:\tlearn: 0.4613358\ttotal: 2m 11s\tremaining: 2m 58s\n",
      "423:\tlearn: 0.4614233\ttotal: 2m 11s\tremaining: 2m 58s\n",
      "424:\tlearn: 0.4613408\ttotal: 2m 11s\tremaining: 2m 58s\n",
      "425:\tlearn: 0.4616085\ttotal: 2m 12s\tremaining: 2m 57s\n",
      "426:\tlearn: 0.4621189\ttotal: 2m 12s\tremaining: 2m 57s\n",
      "427:\tlearn: 0.4623062\ttotal: 2m 12s\tremaining: 2m 57s\n",
      "428:\tlearn: 0.4623062\ttotal: 2m 12s\tremaining: 2m 56s\n",
      "429:\tlearn: 0.4623736\ttotal: 2m 13s\tremaining: 2m 56s\n",
      "430:\tlearn: 0.4625786\ttotal: 2m 13s\tremaining: 2m 56s\n",
      "431:\tlearn: 0.4625463\ttotal: 2m 13s\tremaining: 2m 55s\n",
      "432:\tlearn: 0.4630310\ttotal: 2m 14s\tremaining: 2m 55s\n",
      "433:\tlearn: 0.4631911\ttotal: 2m 14s\tremaining: 2m 55s\n",
      "434:\tlearn: 0.4634883\ttotal: 2m 14s\tremaining: 2m 54s\n",
      "435:\tlearn: 0.4633584\ttotal: 2m 14s\tremaining: 2m 54s\n",
      "436:\tlearn: 0.4636278\ttotal: 2m 15s\tremaining: 2m 54s\n",
      "437:\tlearn: 0.4635605\ttotal: 2m 15s\tremaining: 2m 53s\n",
      "438:\tlearn: 0.4635854\ttotal: 2m 15s\tremaining: 2m 53s\n",
      "439:\tlearn: 0.4635303\ttotal: 2m 16s\tremaining: 2m 53s\n",
      "440:\tlearn: 0.4634055\ttotal: 2m 16s\tremaining: 2m 52s\n",
      "441:\tlearn: 0.4635478\ttotal: 2m 16s\tremaining: 2m 52s\n",
      "442:\tlearn: 0.4639893\ttotal: 2m 17s\tremaining: 2m 52s\n",
      "443:\tlearn: 0.4643414\ttotal: 2m 17s\tremaining: 2m 52s\n",
      "444:\tlearn: 0.4647652\ttotal: 2m 17s\tremaining: 2m 51s\n",
      "445:\tlearn: 0.4647917\ttotal: 2m 17s\tremaining: 2m 51s\n",
      "446:\tlearn: 0.4646324\ttotal: 2m 18s\tremaining: 2m 51s\n",
      "447:\tlearn: 0.4646648\ttotal: 2m 18s\tremaining: 2m 50s\n",
      "448:\tlearn: 0.4646202\ttotal: 2m 18s\tremaining: 2m 50s\n",
      "449:\tlearn: 0.4646950\ttotal: 2m 19s\tremaining: 2m 50s\n",
      "450:\tlearn: 0.4650091\ttotal: 2m 19s\tremaining: 2m 49s\n",
      "451:\tlearn: 0.4651789\ttotal: 2m 19s\tremaining: 2m 49s\n",
      "452:\tlearn: 0.4654688\ttotal: 2m 20s\tremaining: 2m 49s\n",
      "453:\tlearn: 0.4659526\ttotal: 2m 20s\tremaining: 2m 49s\n",
      "454:\tlearn: 0.4660446\ttotal: 2m 20s\tremaining: 2m 48s\n",
      "455:\tlearn: 0.4663714\ttotal: 2m 21s\tremaining: 2m 48s\n",
      "456:\tlearn: 0.4665477\ttotal: 2m 21s\tremaining: 2m 48s\n",
      "457:\tlearn: 0.4666872\ttotal: 2m 21s\tremaining: 2m 47s\n",
      "458:\tlearn: 0.4669662\ttotal: 2m 22s\tremaining: 2m 47s\n",
      "459:\tlearn: 0.4670159\ttotal: 2m 22s\tremaining: 2m 47s\n",
      "460:\tlearn: 0.4669684\ttotal: 2m 22s\tremaining: 2m 46s\n",
      "461:\tlearn: 0.4669899\ttotal: 2m 22s\tremaining: 2m 46s\n",
      "462:\tlearn: 0.4671715\ttotal: 2m 23s\tremaining: 2m 46s\n",
      "463:\tlearn: 0.4675539\ttotal: 2m 23s\tremaining: 2m 45s\n",
      "464:\tlearn: 0.4676415\ttotal: 2m 23s\tremaining: 2m 45s\n",
      "465:\tlearn: 0.4678306\ttotal: 2m 24s\tremaining: 2m 45s\n",
      "466:\tlearn: 0.4678332\ttotal: 2m 24s\tremaining: 2m 44s\n",
      "467:\tlearn: 0.4677738\ttotal: 2m 24s\tremaining: 2m 44s\n",
      "468:\tlearn: 0.4676192\ttotal: 2m 25s\tremaining: 2m 44s\n",
      "469:\tlearn: 0.4674853\ttotal: 2m 25s\tremaining: 2m 43s\n",
      "470:\tlearn: 0.4675350\ttotal: 2m 25s\tremaining: 2m 43s\n",
      "471:\tlearn: 0.4675729\ttotal: 2m 26s\tremaining: 2m 43s\n",
      "472:\tlearn: 0.4677890\ttotal: 2m 26s\tremaining: 2m 43s\n",
      "473:\tlearn: 0.4679319\ttotal: 2m 26s\tremaining: 2m 42s\n",
      "474:\tlearn: 0.4679133\ttotal: 2m 26s\tremaining: 2m 42s\n",
      "475:\tlearn: 0.4682555\ttotal: 2m 27s\tremaining: 2m 42s\n",
      "476:\tlearn: 0.4684273\ttotal: 2m 27s\tremaining: 2m 41s\n",
      "477:\tlearn: 0.4684866\ttotal: 2m 27s\tremaining: 2m 41s\n",
      "478:\tlearn: 0.4687419\ttotal: 2m 28s\tremaining: 2m 41s\n",
      "479:\tlearn: 0.4685494\ttotal: 2m 28s\tremaining: 2m 40s\n",
      "480:\tlearn: 0.4684921\ttotal: 2m 28s\tremaining: 2m 40s\n",
      "481:\tlearn: 0.4685783\ttotal: 2m 28s\tremaining: 2m 40s\n",
      "482:\tlearn: 0.4684790\ttotal: 2m 29s\tremaining: 2m 39s\n",
      "483:\tlearn: 0.4686603\ttotal: 2m 29s\tremaining: 2m 39s\n",
      "484:\tlearn: 0.4688741\ttotal: 2m 29s\tremaining: 2m 39s\n",
      "485:\tlearn: 0.4695861\ttotal: 2m 30s\tremaining: 2m 38s\n",
      "486:\tlearn: 0.4697995\ttotal: 2m 30s\tremaining: 2m 38s\n",
      "487:\tlearn: 0.4698091\ttotal: 2m 30s\tremaining: 2m 38s\n",
      "488:\tlearn: 0.4698415\ttotal: 2m 31s\tremaining: 2m 37s\n",
      "489:\tlearn: 0.4698243\ttotal: 2m 31s\tremaining: 2m 37s\n",
      "490:\tlearn: 0.4699730\ttotal: 2m 31s\tremaining: 2m 37s\n",
      "491:\tlearn: 0.4698224\ttotal: 2m 31s\tremaining: 2m 36s\n",
      "492:\tlearn: 0.4699234\ttotal: 2m 32s\tremaining: 2m 36s\n",
      "493:\tlearn: 0.4701083\ttotal: 2m 32s\tremaining: 2m 36s\n",
      "494:\tlearn: 0.4699921\ttotal: 2m 32s\tremaining: 2m 35s\n",
      "495:\tlearn: 0.4697556\ttotal: 2m 33s\tremaining: 2m 35s\n",
      "496:\tlearn: 0.4697480\ttotal: 2m 33s\tremaining: 2m 35s\n",
      "497:\tlearn: 0.4697691\ttotal: 2m 33s\tremaining: 2m 34s\n",
      "498:\tlearn: 0.4702111\ttotal: 2m 34s\tremaining: 2m 34s\n",
      "499:\tlearn: 0.4702130\ttotal: 2m 34s\tremaining: 2m 34s\n",
      "500:\tlearn: 0.4702130\ttotal: 2m 34s\tremaining: 2m 33s\n",
      "501:\tlearn: 0.4705616\ttotal: 2m 34s\tremaining: 2m 33s\n",
      "502:\tlearn: 0.4708776\ttotal: 2m 35s\tremaining: 2m 33s\n",
      "503:\tlearn: 0.4711440\ttotal: 2m 35s\tremaining: 2m 32s\n",
      "504:\tlearn: 0.4715836\ttotal: 2m 35s\tremaining: 2m 32s\n",
      "505:\tlearn: 0.4710908\ttotal: 2m 36s\tremaining: 2m 32s\n",
      "506:\tlearn: 0.4713287\ttotal: 2m 36s\tremaining: 2m 32s\n",
      "507:\tlearn: 0.4713706\ttotal: 2m 36s\tremaining: 2m 31s\n",
      "508:\tlearn: 0.4712660\ttotal: 2m 36s\tremaining: 2m 31s\n",
      "509:\tlearn: 0.4712926\ttotal: 2m 37s\tremaining: 2m 31s\n",
      "510:\tlearn: 0.4716044\ttotal: 2m 37s\tremaining: 2m 30s\n",
      "511:\tlearn: 0.4713590\ttotal: 2m 37s\tremaining: 2m 30s\n",
      "512:\tlearn: 0.4717753\ttotal: 2m 38s\tremaining: 2m 30s\n",
      "513:\tlearn: 0.4718534\ttotal: 2m 38s\tremaining: 2m 29s\n",
      "514:\tlearn: 0.4718705\ttotal: 2m 38s\tremaining: 2m 29s\n",
      "515:\tlearn: 0.4721081\ttotal: 2m 39s\tremaining: 2m 29s\n",
      "516:\tlearn: 0.4729059\ttotal: 2m 39s\tremaining: 2m 29s\n",
      "517:\tlearn: 0.4731756\ttotal: 2m 39s\tremaining: 2m 28s\n",
      "518:\tlearn: 0.4735091\ttotal: 2m 40s\tremaining: 2m 28s\n",
      "519:\tlearn: 0.4739410\ttotal: 2m 40s\tremaining: 2m 28s\n",
      "520:\tlearn: 0.4741042\ttotal: 2m 40s\tremaining: 2m 27s\n",
      "521:\tlearn: 0.4742028\ttotal: 2m 41s\tremaining: 2m 27s\n",
      "522:\tlearn: 0.4742598\ttotal: 2m 41s\tremaining: 2m 27s\n",
      "523:\tlearn: 0.4746507\ttotal: 2m 41s\tremaining: 2m 26s\n",
      "524:\tlearn: 0.4746184\ttotal: 2m 41s\tremaining: 2m 26s\n",
      "525:\tlearn: 0.4746031\ttotal: 2m 42s\tremaining: 2m 26s\n",
      "526:\tlearn: 0.4748325\ttotal: 2m 42s\tremaining: 2m 25s\n",
      "527:\tlearn: 0.4749140\ttotal: 2m 42s\tremaining: 2m 25s\n",
      "528:\tlearn: 0.4747202\ttotal: 2m 43s\tremaining: 2m 25s\n",
      "529:\tlearn: 0.4748680\ttotal: 2m 43s\tremaining: 2m 24s\n",
      "530:\tlearn: 0.4749294\ttotal: 2m 43s\tremaining: 2m 24s\n",
      "531:\tlearn: 0.4753124\ttotal: 2m 44s\tremaining: 2m 24s\n",
      "532:\tlearn: 0.4752539\ttotal: 2m 44s\tremaining: 2m 24s\n",
      "533:\tlearn: 0.4755493\ttotal: 2m 44s\tremaining: 2m 23s\n",
      "534:\tlearn: 0.4758247\ttotal: 2m 44s\tremaining: 2m 23s\n",
      "535:\tlearn: 0.4758662\ttotal: 2m 45s\tremaining: 2m 23s\n",
      "536:\tlearn: 0.4759553\ttotal: 2m 45s\tremaining: 2m 22s\n",
      "537:\tlearn: 0.4762089\ttotal: 2m 45s\tremaining: 2m 22s\n",
      "538:\tlearn: 0.4759783\ttotal: 2m 46s\tremaining: 2m 22s\n",
      "539:\tlearn: 0.4760967\ttotal: 2m 46s\tremaining: 2m 21s\n",
      "540:\tlearn: 0.4763565\ttotal: 2m 46s\tremaining: 2m 21s\n",
      "541:\tlearn: 0.4764287\ttotal: 2m 46s\tremaining: 2m 21s\n",
      "542:\tlearn: 0.4764918\ttotal: 2m 47s\tremaining: 2m 20s\n",
      "543:\tlearn: 0.4766639\ttotal: 2m 47s\tremaining: 2m 20s\n",
      "544:\tlearn: 0.4766316\ttotal: 2m 47s\tremaining: 2m 20s\n",
      "545:\tlearn: 0.4768575\ttotal: 2m 48s\tremaining: 2m 19s\n",
      "546:\tlearn: 0.4772119\ttotal: 2m 48s\tremaining: 2m 19s\n",
      "547:\tlearn: 0.4773790\ttotal: 2m 48s\tremaining: 2m 19s\n",
      "548:\tlearn: 0.4773651\ttotal: 2m 49s\tremaining: 2m 19s\n",
      "549:\tlearn: 0.4775754\ttotal: 2m 49s\tremaining: 2m 18s\n",
      "550:\tlearn: 0.4776076\ttotal: 2m 49s\tremaining: 2m 18s\n",
      "551:\tlearn: 0.4780478\ttotal: 2m 50s\tremaining: 2m 18s\n",
      "552:\tlearn: 0.4783407\ttotal: 2m 50s\tremaining: 2m 17s\n",
      "553:\tlearn: 0.4787594\ttotal: 2m 50s\tremaining: 2m 17s\n",
      "554:\tlearn: 0.4792324\ttotal: 2m 51s\tremaining: 2m 17s\n",
      "555:\tlearn: 0.4795674\ttotal: 2m 51s\tremaining: 2m 16s\n",
      "556:\tlearn: 0.4795506\ttotal: 2m 51s\tremaining: 2m 16s\n",
      "557:\tlearn: 0.4799459\ttotal: 2m 51s\tremaining: 2m 16s\n",
      "558:\tlearn: 0.4798713\ttotal: 2m 52s\tremaining: 2m 15s\n",
      "559:\tlearn: 0.4799846\ttotal: 2m 52s\tremaining: 2m 15s\n",
      "560:\tlearn: 0.4804698\ttotal: 2m 52s\tremaining: 2m 15s\n",
      "561:\tlearn: 0.4803707\ttotal: 2m 53s\tremaining: 2m 14s\n",
      "562:\tlearn: 0.4803952\ttotal: 2m 53s\tremaining: 2m 14s\n",
      "563:\tlearn: 0.4806049\ttotal: 2m 53s\tremaining: 2m 14s\n",
      "564:\tlearn: 0.4807002\ttotal: 2m 53s\tremaining: 2m 13s\n",
      "565:\tlearn: 0.4807002\ttotal: 2m 54s\tremaining: 2m 13s\n",
      "566:\tlearn: 0.4810192\ttotal: 2m 54s\tremaining: 2m 13s\n",
      "567:\tlearn: 0.4812736\ttotal: 2m 54s\tremaining: 2m 12s\n",
      "568:\tlearn: 0.4813713\ttotal: 2m 55s\tremaining: 2m 12s\n",
      "569:\tlearn: 0.4814743\ttotal: 2m 55s\tremaining: 2m 12s\n",
      "570:\tlearn: 0.4815643\ttotal: 2m 55s\tremaining: 2m 11s\n",
      "571:\tlearn: 0.4816899\ttotal: 2m 56s\tremaining: 2m 11s\n",
      "572:\tlearn: 0.4817220\ttotal: 2m 56s\tremaining: 2m 11s\n",
      "573:\tlearn: 0.4819393\ttotal: 2m 56s\tremaining: 2m 11s\n",
      "574:\tlearn: 0.4822643\ttotal: 2m 56s\tremaining: 2m 10s\n",
      "575:\tlearn: 0.4823285\ttotal: 2m 57s\tremaining: 2m 10s\n",
      "576:\tlearn: 0.4826821\ttotal: 2m 57s\tremaining: 2m 10s\n",
      "577:\tlearn: 0.4827154\ttotal: 2m 57s\tremaining: 2m 9s\n",
      "578:\tlearn: 0.4832185\ttotal: 2m 58s\tremaining: 2m 9s\n",
      "579:\tlearn: 0.4829304\ttotal: 2m 58s\tremaining: 2m 9s\n",
      "580:\tlearn: 0.4833855\ttotal: 2m 58s\tremaining: 2m 8s\n",
      "581:\tlearn: 0.4837466\ttotal: 2m 59s\tremaining: 2m 8s\n",
      "582:\tlearn: 0.4840337\ttotal: 2m 59s\tremaining: 2m 8s\n",
      "583:\tlearn: 0.4840181\ttotal: 2m 59s\tremaining: 2m 8s\n",
      "584:\tlearn: 0.4837689\ttotal: 3m\tremaining: 2m 7s\n",
      "585:\tlearn: 0.4836471\ttotal: 3m\tremaining: 2m 7s\n",
      "586:\tlearn: 0.4838430\ttotal: 3m\tremaining: 2m 7s\n",
      "587:\tlearn: 0.4838430\ttotal: 3m\tremaining: 2m 6s\n",
      "588:\tlearn: 0.4838684\ttotal: 3m 1s\tremaining: 2m 6s\n",
      "589:\tlearn: 0.4842480\ttotal: 3m 1s\tremaining: 2m 6s\n",
      "590:\tlearn: 0.4845935\ttotal: 3m 1s\tremaining: 2m 5s\n",
      "591:\tlearn: 0.4846179\ttotal: 3m 2s\tremaining: 2m 5s\n",
      "592:\tlearn: 0.4847784\ttotal: 3m 2s\tremaining: 2m 5s\n",
      "593:\tlearn: 0.4848193\ttotal: 3m 2s\tremaining: 2m 4s\n",
      "594:\tlearn: 0.4852707\ttotal: 3m 3s\tremaining: 2m 4s\n",
      "595:\tlearn: 0.4851938\ttotal: 3m 3s\tremaining: 2m 4s\n",
      "596:\tlearn: 0.4852337\ttotal: 3m 3s\tremaining: 2m 3s\n",
      "597:\tlearn: 0.4849925\ttotal: 3m 3s\tremaining: 2m 3s\n",
      "598:\tlearn: 0.4850888\ttotal: 3m 4s\tremaining: 2m 3s\n",
      "599:\tlearn: 0.4850333\ttotal: 3m 4s\tremaining: 2m 3s\n",
      "600:\tlearn: 0.4850888\ttotal: 3m 4s\tremaining: 2m 2s\n",
      "601:\tlearn: 0.4853805\ttotal: 3m 5s\tremaining: 2m 2s\n",
      "602:\tlearn: 0.4853512\ttotal: 3m 5s\tremaining: 2m 2s\n",
      "603:\tlearn: 0.4852568\ttotal: 3m 5s\tremaining: 2m 1s\n",
      "604:\tlearn: 0.4860904\ttotal: 3m 6s\tremaining: 2m 1s\n",
      "605:\tlearn: 0.4863122\ttotal: 3m 6s\tremaining: 2m 1s\n",
      "606:\tlearn: 0.4862472\ttotal: 3m 6s\tremaining: 2m\n",
      "607:\tlearn: 0.4863131\ttotal: 3m 6s\tremaining: 2m\n",
      "608:\tlearn: 0.4864752\ttotal: 3m 7s\tremaining: 2m\n",
      "609:\tlearn: 0.4864432\ttotal: 3m 7s\tremaining: 1m 59s\n",
      "610:\tlearn: 0.4863920\ttotal: 3m 7s\tremaining: 1m 59s\n",
      "611:\tlearn: 0.4863677\ttotal: 3m 8s\tremaining: 1m 59s\n",
      "612:\tlearn: 0.4862958\ttotal: 3m 8s\tremaining: 1m 58s\n",
      "613:\tlearn: 0.4862802\ttotal: 3m 8s\tremaining: 1m 58s\n",
      "614:\tlearn: 0.4862844\ttotal: 3m 8s\tremaining: 1m 58s\n",
      "615:\tlearn: 0.4863330\ttotal: 3m 9s\tremaining: 1m 57s\n",
      "616:\tlearn: 0.4865983\ttotal: 3m 9s\tremaining: 1m 57s\n",
      "617:\tlearn: 0.4865515\ttotal: 3m 9s\tremaining: 1m 57s\n",
      "618:\tlearn: 0.4870500\ttotal: 3m 10s\tremaining: 1m 57s\n",
      "619:\tlearn: 0.4870421\ttotal: 3m 10s\tremaining: 1m 56s\n",
      "620:\tlearn: 0.4869780\ttotal: 3m 10s\tremaining: 1m 56s\n",
      "621:\tlearn: 0.4872136\ttotal: 3m 11s\tremaining: 1m 56s\n",
      "622:\tlearn: 0.4869666\ttotal: 3m 11s\tremaining: 1m 55s\n",
      "623:\tlearn: 0.4870533\ttotal: 3m 11s\tremaining: 1m 55s\n",
      "624:\tlearn: 0.4871659\ttotal: 3m 12s\tremaining: 1m 55s\n",
      "625:\tlearn: 0.4871988\ttotal: 3m 12s\tremaining: 1m 54s\n",
      "626:\tlearn: 0.4871996\ttotal: 3m 12s\tremaining: 1m 54s\n",
      "627:\tlearn: 0.4870800\ttotal: 3m 12s\tremaining: 1m 54s\n",
      "628:\tlearn: 0.4869526\ttotal: 3m 13s\tremaining: 1m 54s\n",
      "629:\tlearn: 0.4870332\ttotal: 3m 13s\tremaining: 1m 53s\n",
      "630:\tlearn: 0.4872576\ttotal: 3m 13s\tremaining: 1m 53s\n",
      "631:\tlearn: 0.4872974\ttotal: 3m 14s\tremaining: 1m 53s\n",
      "632:\tlearn: 0.4872991\ttotal: 3m 14s\tremaining: 1m 52s\n",
      "633:\tlearn: 0.4875078\ttotal: 3m 14s\tremaining: 1m 52s\n",
      "634:\tlearn: 0.4874429\ttotal: 3m 15s\tremaining: 1m 52s\n",
      "635:\tlearn: 0.4876204\ttotal: 3m 15s\tremaining: 1m 51s\n",
      "636:\tlearn: 0.4883233\ttotal: 3m 15s\tremaining: 1m 51s\n",
      "637:\tlearn: 0.4885215\ttotal: 3m 16s\tremaining: 1m 51s\n",
      "638:\tlearn: 0.4895992\ttotal: 3m 16s\tremaining: 1m 50s\n",
      "639:\tlearn: 0.4895600\ttotal: 3m 16s\tremaining: 1m 50s\n",
      "640:\tlearn: 0.4896169\ttotal: 3m 17s\tremaining: 1m 50s\n",
      "641:\tlearn: 0.4898011\ttotal: 3m 17s\tremaining: 1m 50s\n",
      "642:\tlearn: 0.4898573\ttotal: 3m 17s\tremaining: 1m 49s\n",
      "643:\tlearn: 0.4902676\ttotal: 3m 17s\tremaining: 1m 49s\n",
      "644:\tlearn: 0.4906464\ttotal: 3m 18s\tremaining: 1m 49s\n",
      "645:\tlearn: 0.4908154\ttotal: 3m 18s\tremaining: 1m 48s\n",
      "646:\tlearn: 0.4908227\ttotal: 3m 18s\tremaining: 1m 48s\n",
      "647:\tlearn: 0.4908390\ttotal: 3m 19s\tremaining: 1m 48s\n",
      "648:\tlearn: 0.4913212\ttotal: 3m 19s\tremaining: 1m 47s\n",
      "649:\tlearn: 0.4915233\ttotal: 3m 19s\tremaining: 1m 47s\n",
      "650:\tlearn: 0.4914834\ttotal: 3m 20s\tremaining: 1m 47s\n",
      "651:\tlearn: 0.4915086\ttotal: 3m 20s\tremaining: 1m 46s\n",
      "652:\tlearn: 0.4918526\ttotal: 3m 20s\tremaining: 1m 46s\n",
      "653:\tlearn: 0.4918457\ttotal: 3m 21s\tremaining: 1m 46s\n",
      "654:\tlearn: 0.4923667\ttotal: 3m 21s\tremaining: 1m 46s\n",
      "655:\tlearn: 0.4925108\ttotal: 3m 21s\tremaining: 1m 45s\n",
      "656:\tlearn: 0.4926521\ttotal: 3m 22s\tremaining: 1m 45s\n",
      "657:\tlearn: 0.4932553\ttotal: 3m 22s\tremaining: 1m 45s\n",
      "658:\tlearn: 0.4934314\ttotal: 3m 22s\tremaining: 1m 44s\n",
      "659:\tlearn: 0.4935360\ttotal: 3m 22s\tremaining: 1m 44s\n",
      "660:\tlearn: 0.4935351\ttotal: 3m 23s\tremaining: 1m 44s\n",
      "661:\tlearn: 0.4935588\ttotal: 3m 23s\tremaining: 1m 43s\n",
      "662:\tlearn: 0.4938315\ttotal: 3m 23s\tremaining: 1m 43s\n",
      "663:\tlearn: 0.4938315\ttotal: 3m 24s\tremaining: 1m 43s\n",
      "664:\tlearn: 0.4942718\ttotal: 3m 24s\tremaining: 1m 42s\n",
      "665:\tlearn: 0.4942097\ttotal: 3m 24s\tremaining: 1m 42s\n",
      "666:\tlearn: 0.4943059\ttotal: 3m 24s\tremaining: 1m 42s\n",
      "667:\tlearn: 0.4949480\ttotal: 3m 25s\tremaining: 1m 42s\n",
      "668:\tlearn: 0.4950365\ttotal: 3m 25s\tremaining: 1m 41s\n",
      "669:\tlearn: 0.4953727\ttotal: 3m 25s\tremaining: 1m 41s\n",
      "670:\tlearn: 0.4953481\ttotal: 3m 26s\tremaining: 1m 41s\n",
      "671:\tlearn: 0.4955317\ttotal: 3m 26s\tremaining: 1m 40s\n",
      "672:\tlearn: 0.4955399\ttotal: 3m 26s\tremaining: 1m 40s\n",
      "673:\tlearn: 0.4955879\ttotal: 3m 27s\tremaining: 1m 40s\n",
      "674:\tlearn: 0.4956427\ttotal: 3m 27s\tremaining: 1m 39s\n",
      "675:\tlearn: 0.4956749\ttotal: 3m 27s\tremaining: 1m 39s\n",
      "676:\tlearn: 0.4955865\ttotal: 3m 28s\tremaining: 1m 39s\n",
      "677:\tlearn: 0.4962584\ttotal: 3m 28s\tremaining: 1m 38s\n",
      "678:\tlearn: 0.4964265\ttotal: 3m 28s\tremaining: 1m 38s\n",
      "679:\tlearn: 0.4964745\ttotal: 3m 28s\tremaining: 1m 38s\n",
      "680:\tlearn: 0.4963222\ttotal: 3m 29s\tremaining: 1m 37s\n",
      "681:\tlearn: 0.4962502\ttotal: 3m 29s\tremaining: 1m 37s\n",
      "682:\tlearn: 0.4961782\ttotal: 3m 29s\tremaining: 1m 37s\n",
      "683:\tlearn: 0.4962742\ttotal: 3m 30s\tremaining: 1m 37s\n",
      "684:\tlearn: 0.4965537\ttotal: 3m 30s\tremaining: 1m 36s\n",
      "685:\tlearn: 0.4967935\ttotal: 3m 30s\tremaining: 1m 36s\n",
      "686:\tlearn: 0.4969701\ttotal: 3m 31s\tremaining: 1m 36s\n",
      "687:\tlearn: 0.4970660\ttotal: 3m 31s\tremaining: 1m 35s\n",
      "688:\tlearn: 0.4971535\ttotal: 3m 31s\tremaining: 1m 35s\n",
      "689:\tlearn: 0.4972973\ttotal: 3m 31s\tremaining: 1m 35s\n",
      "690:\tlearn: 0.4974650\ttotal: 3m 32s\tremaining: 1m 34s\n",
      "691:\tlearn: 0.4976482\ttotal: 3m 32s\tremaining: 1m 34s\n",
      "692:\tlearn: 0.4980233\ttotal: 3m 32s\tremaining: 1m 34s\n",
      "693:\tlearn: 0.4981186\ttotal: 3m 33s\tremaining: 1m 34s\n",
      "694:\tlearn: 0.4979830\ttotal: 3m 33s\tremaining: 1m 33s\n",
      "695:\tlearn: 0.4980388\ttotal: 3m 33s\tremaining: 1m 33s\n",
      "696:\tlearn: 0.4984213\ttotal: 3m 34s\tremaining: 1m 33s\n",
      "697:\tlearn: 0.4985330\ttotal: 3m 34s\tremaining: 1m 32s\n",
      "698:\tlearn: 0.4985090\ttotal: 3m 34s\tremaining: 1m 32s\n",
      "699:\tlearn: 0.4989160\ttotal: 3m 35s\tremaining: 1m 32s\n",
      "700:\tlearn: 0.4990915\ttotal: 3m 35s\tremaining: 1m 31s\n",
      "701:\tlearn: 0.4991154\ttotal: 3m 35s\tremaining: 1m 31s\n",
      "702:\tlearn: 0.4990755\ttotal: 3m 35s\tremaining: 1m 31s\n",
      "703:\tlearn: 0.4989082\ttotal: 3m 36s\tremaining: 1m 30s\n",
      "704:\tlearn: 0.4987088\ttotal: 3m 36s\tremaining: 1m 30s\n",
      "705:\tlearn: 0.4988682\ttotal: 3m 36s\tremaining: 1m 30s\n",
      "706:\tlearn: 0.4987725\ttotal: 3m 37s\tremaining: 1m 30s\n",
      "707:\tlearn: 0.4991634\ttotal: 3m 37s\tremaining: 1m 29s\n",
      "708:\tlearn: 0.4992830\ttotal: 3m 37s\tremaining: 1m 29s\n",
      "709:\tlearn: 0.4993785\ttotal: 3m 38s\tremaining: 1m 29s\n",
      "710:\tlearn: 0.4992908\ttotal: 3m 38s\tremaining: 1m 28s\n",
      "711:\tlearn: 0.4995777\ttotal: 3m 38s\tremaining: 1m 28s\n",
      "712:\tlearn: 0.4994105\ttotal: 3m 38s\tremaining: 1m 28s\n",
      "713:\tlearn: 0.4994025\ttotal: 3m 39s\tremaining: 1m 27s\n",
      "714:\tlearn: 0.4994583\ttotal: 3m 39s\tremaining: 1m 27s\n",
      "715:\tlearn: 0.5000000\ttotal: 3m 39s\tremaining: 1m 27s\n",
      "716:\tlearn: 0.5000239\ttotal: 3m 40s\tremaining: 1m 26s\n",
      "717:\tlearn: 0.5001911\ttotal: 3m 40s\tremaining: 1m 26s\n",
      "718:\tlearn: 0.5002388\ttotal: 3m 40s\tremaining: 1m 26s\n",
      "719:\tlearn: 0.5004776\ttotal: 3m 41s\tremaining: 1m 25s\n",
      "720:\tlearn: 0.5004856\ttotal: 3m 41s\tremaining: 1m 25s\n",
      "721:\tlearn: 0.5010585\ttotal: 3m 41s\tremaining: 1m 25s\n",
      "722:\tlearn: 0.5009155\ttotal: 3m 42s\tremaining: 1m 25s\n",
      "723:\tlearn: 0.5010507\ttotal: 3m 42s\tremaining: 1m 24s\n",
      "724:\tlearn: 0.5008838\ttotal: 3m 42s\tremaining: 1m 24s\n",
      "725:\tlearn: 0.5015126\ttotal: 3m 42s\tremaining: 1m 24s\n",
      "726:\tlearn: 0.5015998\ttotal: 3m 43s\tremaining: 1m 23s\n",
      "727:\tlearn: 0.5018703\ttotal: 3m 43s\tremaining: 1m 23s\n",
      "728:\tlearn: 0.5020689\ttotal: 3m 43s\tremaining: 1m 23s\n",
      "729:\tlearn: 0.5021882\ttotal: 3m 44s\tremaining: 1m 22s\n",
      "730:\tlearn: 0.5021008\ttotal: 3m 44s\tremaining: 1m 22s\n",
      "731:\tlearn: 0.5021641\ttotal: 3m 44s\tremaining: 1m 22s\n",
      "732:\tlearn: 0.5022753\ttotal: 3m 45s\tremaining: 1m 22s\n",
      "733:\tlearn: 0.5024341\ttotal: 3m 45s\tremaining: 1m 21s\n",
      "734:\tlearn: 0.5024339\ttotal: 3m 45s\tremaining: 1m 21s\n",
      "735:\tlearn: 0.5027993\ttotal: 3m 46s\tremaining: 1m 21s\n",
      "736:\tlearn: 0.5027599\ttotal: 3m 46s\tremaining: 1m 20s\n",
      "737:\tlearn: 0.5027364\ttotal: 3m 46s\tremaining: 1m 20s\n",
      "738:\tlearn: 0.5028079\ttotal: 3m 46s\tremaining: 1m 20s\n",
      "739:\tlearn: 0.5031178\ttotal: 3m 47s\tremaining: 1m 19s\n",
      "740:\tlearn: 0.5033955\ttotal: 3m 47s\tremaining: 1m 19s\n",
      "741:\tlearn: 0.5036335\ttotal: 3m 47s\tremaining: 1m 19s\n",
      "742:\tlearn: 0.5038636\ttotal: 3m 48s\tremaining: 1m 18s\n",
      "743:\tlearn: 0.5038556\ttotal: 3m 48s\tremaining: 1m 18s\n",
      "744:\tlearn: 0.5039505\ttotal: 3m 48s\tremaining: 1m 18s\n",
      "745:\tlearn: 0.5041496\ttotal: 3m 49s\tremaining: 1m 17s\n",
      "746:\tlearn: 0.5041496\ttotal: 3m 49s\tremaining: 1m 17s\n",
      "747:\tlearn: 0.5045692\ttotal: 3m 49s\tremaining: 1m 17s\n",
      "748:\tlearn: 0.5047828\ttotal: 3m 49s\tremaining: 1m 17s\n",
      "749:\tlearn: 0.5048062\ttotal: 3m 50s\tremaining: 1m 16s\n",
      "750:\tlearn: 0.5050129\ttotal: 3m 50s\tremaining: 1m 16s\n",
      "751:\tlearn: 0.5052655\ttotal: 3m 50s\tremaining: 1m 16s\n",
      "752:\tlearn: 0.5054394\ttotal: 3m 51s\tremaining: 1m 15s\n",
      "753:\tlearn: 0.5057719\ttotal: 3m 51s\tremaining: 1m 15s\n",
      "754:\tlearn: 0.5057876\ttotal: 3m 51s\tremaining: 1m 15s\n",
      "755:\tlearn: 0.5059380\ttotal: 3m 52s\tremaining: 1m 14s\n",
      "756:\tlearn: 0.5061591\ttotal: 3m 52s\tremaining: 1m 14s\n",
      "757:\tlearn: 0.5064440\ttotal: 3m 52s\tremaining: 1m 14s\n",
      "758:\tlearn: 0.5063572\ttotal: 3m 53s\tremaining: 1m 14s\n",
      "759:\tlearn: 0.5065718\ttotal: 3m 53s\tremaining: 1m 13s\n",
      "760:\tlearn: 0.5066967\ttotal: 3m 53s\tremaining: 1m 13s\n",
      "761:\tlearn: 0.5067048\ttotal: 3m 53s\tremaining: 1m 13s\n",
      "762:\tlearn: 0.5069658\ttotal: 3m 54s\tremaining: 1m 12s\n",
      "763:\tlearn: 0.5068947\ttotal: 3m 54s\tremaining: 1m 12s\n",
      "764:\tlearn: 0.5067373\ttotal: 3m 54s\tremaining: 1m 12s\n",
      "765:\tlearn: 0.5066079\ttotal: 3m 55s\tremaining: 1m 11s\n",
      "766:\tlearn: 0.5066633\ttotal: 3m 55s\tremaining: 1m 11s\n",
      "767:\tlearn: 0.5073822\ttotal: 3m 56s\tremaining: 1m 11s\n",
      "768:\tlearn: 0.5077196\ttotal: 3m 56s\tremaining: 1m 11s\n",
      "769:\tlearn: 0.5077760\ttotal: 3m 56s\tremaining: 1m 10s\n",
      "770:\tlearn: 0.5077508\ttotal: 3m 57s\tremaining: 1m 10s\n",
      "771:\tlearn: 0.5081136\ttotal: 3m 57s\tremaining: 1m 10s\n",
      "772:\tlearn: 0.5081689\ttotal: 3m 58s\tremaining: 1m 9s\n",
      "773:\tlearn: 0.5081468\ttotal: 3m 58s\tremaining: 1m 9s\n",
      "774:\tlearn: 0.5085487\ttotal: 3m 58s\tremaining: 1m 9s\n",
      "775:\tlearn: 0.5085895\ttotal: 3m 59s\tremaining: 1m 9s\n",
      "776:\tlearn: 0.5087152\ttotal: 3m 59s\tremaining: 1m 8s\n",
      "777:\tlearn: 0.5087072\ttotal: 3m 59s\tremaining: 1m 8s\n",
      "778:\tlearn: 0.5087469\ttotal: 4m\tremaining: 1m 8s\n",
      "779:\tlearn: 0.5090310\ttotal: 4m\tremaining: 1m 7s\n",
      "780:\tlearn: 0.5090246\ttotal: 4m 1s\tremaining: 1m 7s\n",
      "781:\tlearn: 0.5093168\ttotal: 4m 1s\tremaining: 1m 7s\n",
      "782:\tlearn: 0.5092292\ttotal: 4m 1s\tremaining: 1m 6s\n",
      "783:\tlearn: 0.5092378\ttotal: 4m 2s\tremaining: 1m 6s\n",
      "784:\tlearn: 0.5094785\ttotal: 4m 2s\tremaining: 1m 6s\n",
      "785:\tlearn: 0.5095027\ttotal: 4m 2s\tremaining: 1m 6s\n",
      "786:\tlearn: 0.5098642\ttotal: 4m 2s\tremaining: 1m 5s\n",
      "787:\tlearn: 0.5100826\ttotal: 4m 3s\tremaining: 1m 5s\n",
      "788:\tlearn: 0.5102018\ttotal: 4m 3s\tremaining: 1m 5s\n",
      "789:\tlearn: 0.5106275\ttotal: 4m 3s\tremaining: 1m 4s\n",
      "790:\tlearn: 0.5106423\ttotal: 4m 4s\tremaining: 1m 4s\n",
      "791:\tlearn: 0.5107461\ttotal: 4m 4s\tremaining: 1m 4s\n",
      "792:\tlearn: 0.5106194\ttotal: 4m 4s\tremaining: 1m 3s\n",
      "793:\tlearn: 0.5108403\ttotal: 4m 5s\tremaining: 1m 3s\n",
      "794:\tlearn: 0.5109852\ttotal: 4m 5s\tremaining: 1m 3s\n",
      "795:\tlearn: 0.5109549\ttotal: 4m 5s\tremaining: 1m 2s\n",
      "796:\tlearn: 0.5108539\ttotal: 4m 6s\tremaining: 1m 2s\n",
      "797:\tlearn: 0.5107899\ttotal: 4m 6s\tremaining: 1m 2s\n",
      "798:\tlearn: 0.5107575\ttotal: 4m 6s\tremaining: 1m 2s\n",
      "799:\tlearn: 0.5108128\ttotal: 4m 6s\tremaining: 1m 1s\n",
      "800:\tlearn: 0.5108047\ttotal: 4m 7s\tremaining: 1m 1s\n",
      "801:\tlearn: 0.5113320\ttotal: 4m 7s\tremaining: 1m 1s\n",
      "802:\tlearn: 0.5113717\ttotal: 4m 7s\tremaining: 1m\n",
      "803:\tlearn: 0.5115285\ttotal: 4m 8s\tremaining: 1m\n",
      "804:\tlearn: 0.5114343\ttotal: 4m 8s\tremaining: 1m\n",
      "805:\tlearn: 0.5117633\ttotal: 4m 8s\tremaining: 59.9s\n",
      "806:\tlearn: 0.5120400\ttotal: 4m 9s\tremaining: 59.6s\n",
      "807:\tlearn: 0.5124539\ttotal: 4m 9s\tremaining: 59.3s\n",
      "808:\tlearn: 0.5123371\ttotal: 4m 9s\tremaining: 59s\n",
      "809:\tlearn: 0.5122762\ttotal: 4m 9s\tremaining: 58.6s\n",
      "810:\tlearn: 0.5122835\ttotal: 4m 10s\tremaining: 58.3s\n",
      "811:\tlearn: 0.5124571\ttotal: 4m 10s\tremaining: 58s\n",
      "812:\tlearn: 0.5124181\ttotal: 4m 10s\tremaining: 57.7s\n",
      "813:\tlearn: 0.5124895\ttotal: 4m 11s\tremaining: 57.4s\n",
      "814:\tlearn: 0.5124903\ttotal: 4m 11s\tremaining: 57.1s\n",
      "815:\tlearn: 0.5125220\ttotal: 4m 11s\tremaining: 56.8s\n",
      "816:\tlearn: 0.5125844\ttotal: 4m 12s\tremaining: 56.4s\n",
      "817:\tlearn: 0.5128603\ttotal: 4m 12s\tremaining: 56.1s\n",
      "818:\tlearn: 0.5128886\ttotal: 4m 12s\tremaining: 55.8s\n",
      "819:\tlearn: 0.5131011\ttotal: 4m 12s\tremaining: 55.5s\n",
      "820:\tlearn: 0.5129883\ttotal: 4m 13s\tremaining: 55.2s\n",
      "821:\tlearn: 0.5130938\ttotal: 4m 13s\tremaining: 54.9s\n",
      "822:\tlearn: 0.5131546\ttotal: 4m 13s\tremaining: 54.6s\n",
      "823:\tlearn: 0.5133759\ttotal: 4m 14s\tremaining: 54.3s\n",
      "824:\tlearn: 0.5134383\ttotal: 4m 14s\tremaining: 54s\n",
      "825:\tlearn: 0.5136489\ttotal: 4m 14s\tremaining: 53.7s\n",
      "826:\tlearn: 0.5135994\ttotal: 4m 15s\tremaining: 53.3s\n",
      "827:\tlearn: 0.5137754\ttotal: 4m 15s\tremaining: 53s\n",
      "828:\tlearn: 0.5143218\ttotal: 4m 15s\tremaining: 52.7s\n",
      "829:\tlearn: 0.5143236\ttotal: 4m 15s\tremaining: 52.4s\n",
      "830:\tlearn: 0.5144889\ttotal: 4m 16s\tremaining: 52.1s\n",
      "831:\tlearn: 0.5143309\ttotal: 4m 16s\tremaining: 51.8s\n",
      "832:\tlearn: 0.5144320\ttotal: 4m 16s\tremaining: 51.5s\n",
      "833:\tlearn: 0.5144166\ttotal: 4m 17s\tremaining: 51.2s\n",
      "834:\tlearn: 0.5144175\ttotal: 4m 17s\tremaining: 50.9s\n",
      "835:\tlearn: 0.5144049\ttotal: 4m 17s\tremaining: 50.5s\n",
      "836:\tlearn: 0.5148408\ttotal: 4m 17s\tremaining: 50.2s\n",
      "837:\tlearn: 0.5148480\ttotal: 4m 18s\tremaining: 49.9s\n",
      "838:\tlearn: 0.5149744\ttotal: 4m 18s\tremaining: 49.6s\n",
      "839:\tlearn: 0.5149744\ttotal: 4m 18s\tremaining: 49.3s\n",
      "840:\tlearn: 0.5149663\ttotal: 4m 19s\tremaining: 49s\n",
      "841:\tlearn: 0.5149653\ttotal: 4m 19s\tremaining: 48.7s\n",
      "842:\tlearn: 0.5153343\ttotal: 4m 19s\tremaining: 48.4s\n",
      "843:\tlearn: 0.5152640\ttotal: 4m 19s\tremaining: 48s\n",
      "844:\tlearn: 0.5157562\ttotal: 4m 20s\tremaining: 47.7s\n",
      "845:\tlearn: 0.5158102\ttotal: 4m 20s\tremaining: 47.4s\n",
      "846:\tlearn: 0.5160506\ttotal: 4m 20s\tremaining: 47.1s\n",
      "847:\tlearn: 0.5160618\ttotal: 4m 21s\tremaining: 46.8s\n",
      "848:\tlearn: 0.5161056\ttotal: 4m 21s\tremaining: 46.5s\n",
      "849:\tlearn: 0.5164710\ttotal: 4m 21s\tremaining: 46.2s\n",
      "850:\tlearn: 0.5165026\ttotal: 4m 22s\tremaining: 45.9s\n",
      "851:\tlearn: 0.5163235\ttotal: 4m 22s\tremaining: 45.6s\n",
      "852:\tlearn: 0.5163469\ttotal: 4m 22s\tremaining: 45.3s\n",
      "853:\tlearn: 0.5164161\ttotal: 4m 22s\tremaining: 45s\n",
      "854:\tlearn: 0.5165087\ttotal: 4m 23s\tremaining: 44.7s\n",
      "855:\tlearn: 0.5166572\ttotal: 4m 23s\tremaining: 44.3s\n",
      "856:\tlearn: 0.5170619\ttotal: 4m 23s\tremaining: 44s\n",
      "857:\tlearn: 0.5171636\ttotal: 4m 24s\tremaining: 43.7s\n",
      "858:\tlearn: 0.5173632\ttotal: 4m 24s\tremaining: 43.4s\n",
      "859:\tlearn: 0.5173936\ttotal: 4m 24s\tremaining: 43.1s\n",
      "860:\tlearn: 0.5178577\ttotal: 4m 25s\tremaining: 42.8s\n",
      "861:\tlearn: 0.5176393\ttotal: 4m 25s\tremaining: 42.5s\n",
      "862:\tlearn: 0.5178169\ttotal: 4m 25s\tremaining: 42.2s\n",
      "863:\tlearn: 0.5179314\ttotal: 4m 26s\tremaining: 41.9s\n",
      "864:\tlearn: 0.5181590\ttotal: 4m 26s\tremaining: 41.6s\n",
      "865:\tlearn: 0.5182758\ttotal: 4m 26s\tremaining: 41.3s\n",
      "866:\tlearn: 0.5180960\ttotal: 4m 26s\tremaining: 41s\n",
      "867:\tlearn: 0.5181894\ttotal: 4m 27s\tremaining: 40.6s\n",
      "868:\tlearn: 0.5182151\ttotal: 4m 27s\tremaining: 40.3s\n",
      "869:\tlearn: 0.5185407\ttotal: 4m 27s\tremaining: 40s\n",
      "870:\tlearn: 0.5185792\ttotal: 4m 28s\tremaining: 39.7s\n",
      "871:\tlearn: 0.5187204\ttotal: 4m 28s\tremaining: 39.4s\n",
      "872:\tlearn: 0.5187146\ttotal: 4m 28s\tremaining: 39.1s\n",
      "873:\tlearn: 0.5190575\ttotal: 4m 28s\tremaining: 38.8s\n",
      "874:\tlearn: 0.5189736\ttotal: 4m 29s\tremaining: 38.5s\n",
      "875:\tlearn: 0.5190517\ttotal: 4m 29s\tremaining: 38.2s\n",
      "876:\tlearn: 0.5191847\ttotal: 4m 29s\tremaining: 37.9s\n",
      "877:\tlearn: 0.5194318\ttotal: 4m 30s\tremaining: 37.5s\n",
      "878:\tlearn: 0.5194633\ttotal: 4m 30s\tremaining: 37.2s\n",
      "879:\tlearn: 0.5192613\ttotal: 4m 30s\tremaining: 36.9s\n",
      "880:\tlearn: 0.5196379\ttotal: 4m 31s\tremaining: 36.6s\n",
      "881:\tlearn: 0.5196952\ttotal: 4m 31s\tremaining: 36.3s\n",
      "882:\tlearn: 0.5198930\ttotal: 4m 31s\tremaining: 36s\n",
      "883:\tlearn: 0.5200013\ttotal: 4m 32s\tremaining: 35.7s\n",
      "884:\tlearn: 0.5199710\ttotal: 4m 32s\tremaining: 35.4s\n",
      "885:\tlearn: 0.5202467\ttotal: 4m 32s\tremaining: 35.1s\n",
      "886:\tlearn: 0.5202454\ttotal: 4m 32s\tremaining: 34.8s\n",
      "887:\tlearn: 0.5208844\ttotal: 4m 33s\tremaining: 34.5s\n",
      "888:\tlearn: 0.5209310\ttotal: 4m 33s\tremaining: 34.2s\n",
      "889:\tlearn: 0.5209857\ttotal: 4m 33s\tremaining: 33.8s\n",
      "890:\tlearn: 0.5209637\ttotal: 4m 34s\tremaining: 33.5s\n",
      "891:\tlearn: 0.5210882\ttotal: 4m 34s\tremaining: 33.2s\n",
      "892:\tlearn: 0.5212333\ttotal: 4m 34s\tremaining: 32.9s\n",
      "893:\tlearn: 0.5218403\ttotal: 4m 35s\tremaining: 32.6s\n",
      "894:\tlearn: 0.5221396\ttotal: 4m 35s\tremaining: 32.3s\n",
      "895:\tlearn: 0.5223515\ttotal: 4m 35s\tremaining: 32s\n",
      "896:\tlearn: 0.5223829\ttotal: 4m 36s\tremaining: 31.7s\n",
      "897:\tlearn: 0.5225455\ttotal: 4m 36s\tremaining: 31.4s\n",
      "898:\tlearn: 0.5224868\ttotal: 4m 36s\tremaining: 31.1s\n",
      "899:\tlearn: 0.5225101\ttotal: 4m 37s\tremaining: 30.8s\n",
      "900:\tlearn: 0.5224950\ttotal: 4m 37s\tremaining: 30.5s\n",
      "901:\tlearn: 0.5228927\ttotal: 4m 37s\tremaining: 30.2s\n",
      "902:\tlearn: 0.5231383\ttotal: 4m 37s\tremaining: 29.9s\n",
      "903:\tlearn: 0.5233099\ttotal: 4m 38s\tremaining: 29.6s\n",
      "904:\tlearn: 0.5234490\ttotal: 4m 38s\tremaining: 29.2s\n",
      "905:\tlearn: 0.5234646\ttotal: 4m 38s\tremaining: 28.9s\n",
      "906:\tlearn: 0.5236188\ttotal: 4m 39s\tremaining: 28.6s\n",
      "907:\tlearn: 0.5238155\ttotal: 4m 39s\tremaining: 28.3s\n",
      "908:\tlearn: 0.5238125\ttotal: 4m 39s\tremaining: 28s\n",
      "909:\tlearn: 0.5242596\ttotal: 4m 40s\tremaining: 27.7s\n",
      "910:\tlearn: 0.5239980\ttotal: 4m 40s\tremaining: 27.4s\n",
      "911:\tlearn: 0.5239980\ttotal: 4m 40s\tremaining: 27.1s\n",
      "912:\tlearn: 0.5244831\ttotal: 4m 41s\tremaining: 26.8s\n",
      "913:\tlearn: 0.5244996\ttotal: 4m 41s\tremaining: 26.5s\n",
      "914:\tlearn: 0.5247229\ttotal: 4m 41s\tremaining: 26.2s\n",
      "915:\tlearn: 0.5245860\ttotal: 4m 41s\tremaining: 25.8s\n",
      "916:\tlearn: 0.5246519\ttotal: 4m 42s\tremaining: 25.5s\n",
      "917:\tlearn: 0.5246751\ttotal: 4m 42s\tremaining: 25.2s\n",
      "918:\tlearn: 0.5250055\ttotal: 4m 42s\tremaining: 24.9s\n",
      "919:\tlearn: 0.5249870\ttotal: 4m 43s\tremaining: 24.6s\n",
      "920:\tlearn: 0.5250188\ttotal: 4m 43s\tremaining: 24.3s\n",
      "921:\tlearn: 0.5251146\ttotal: 4m 43s\tremaining: 24s\n",
      "922:\tlearn: 0.5251691\ttotal: 4m 44s\tremaining: 23.7s\n",
      "923:\tlearn: 0.5254056\ttotal: 4m 44s\tremaining: 23.4s\n",
      "924:\tlearn: 0.5255527\ttotal: 4m 44s\tremaining: 23.1s\n",
      "925:\tlearn: 0.5262778\ttotal: 4m 45s\tremaining: 22.8s\n",
      "926:\tlearn: 0.5263967\ttotal: 4m 45s\tremaining: 22.5s\n",
      "927:\tlearn: 0.5260400\ttotal: 4m 45s\tremaining: 22.2s\n",
      "928:\tlearn: 0.5264727\ttotal: 4m 46s\tremaining: 21.9s\n",
      "929:\tlearn: 0.5264314\ttotal: 4m 46s\tremaining: 21.6s\n",
      "930:\tlearn: 0.5266955\ttotal: 4m 46s\tremaining: 21.2s\n",
      "931:\tlearn: 0.5269878\ttotal: 4m 46s\tremaining: 20.9s\n",
      "932:\tlearn: 0.5268377\ttotal: 4m 47s\tremaining: 20.6s\n",
      "933:\tlearn: 0.5266098\ttotal: 4m 47s\tremaining: 20.3s\n",
      "934:\tlearn: 0.5267964\ttotal: 4m 47s\tremaining: 20s\n",
      "935:\tlearn: 0.5268773\ttotal: 4m 48s\tremaining: 19.7s\n",
      "936:\tlearn: 0.5270605\ttotal: 4m 48s\tremaining: 19.4s\n",
      "937:\tlearn: 0.5271067\ttotal: 4m 48s\tremaining: 19.1s\n",
      "938:\tlearn: 0.5271216\ttotal: 4m 49s\tremaining: 18.8s\n",
      "939:\tlearn: 0.5271264\ttotal: 4m 49s\tremaining: 18.5s\n",
      "940:\tlearn: 0.5274219\ttotal: 4m 49s\tremaining: 18.2s\n",
      "941:\tlearn: 0.5276183\ttotal: 4m 50s\tremaining: 17.9s\n",
      "942:\tlearn: 0.5278309\ttotal: 4m 50s\tremaining: 17.5s\n",
      "943:\tlearn: 0.5279794\ttotal: 4m 50s\tremaining: 17.2s\n",
      "944:\tlearn: 0.5279972\ttotal: 4m 51s\tremaining: 16.9s\n",
      "945:\tlearn: 0.5283865\ttotal: 4m 51s\tremaining: 16.6s\n",
      "946:\tlearn: 0.5283007\ttotal: 4m 51s\tremaining: 16.3s\n",
      "947:\tlearn: 0.5285349\ttotal: 4m 52s\tremaining: 16s\n",
      "948:\tlearn: 0.5287479\ttotal: 4m 52s\tremaining: 15.7s\n",
      "949:\tlearn: 0.5286095\ttotal: 4m 52s\tremaining: 15.4s\n",
      "950:\tlearn: 0.5291693\ttotal: 4m 53s\tremaining: 15.1s\n",
      "951:\tlearn: 0.5291841\ttotal: 4m 53s\tremaining: 14.8s\n",
      "952:\tlearn: 0.5292136\ttotal: 4m 53s\tremaining: 14.5s\n",
      "953:\tlearn: 0.5295896\ttotal: 4m 53s\tremaining: 14.2s\n",
      "954:\tlearn: 0.5294726\ttotal: 4m 54s\tremaining: 13.9s\n",
      "955:\tlearn: 0.5295878\ttotal: 4m 54s\tremaining: 13.6s\n",
      "956:\tlearn: 0.5294394\ttotal: 4m 54s\tremaining: 13.2s\n",
      "957:\tlearn: 0.5294855\ttotal: 4m 55s\tremaining: 12.9s\n",
      "958:\tlearn: 0.5295961\ttotal: 4m 55s\tremaining: 12.6s\n",
      "959:\tlearn: 0.5297860\ttotal: 4m 55s\tremaining: 12.3s\n",
      "960:\tlearn: 0.5299767\ttotal: 4m 56s\tremaining: 12s\n",
      "961:\tlearn: 0.5303578\ttotal: 4m 56s\tremaining: 11.7s\n",
      "962:\tlearn: 0.5305522\ttotal: 4m 56s\tremaining: 11.4s\n",
      "963:\tlearn: 0.5304620\ttotal: 4m 56s\tremaining: 11.1s\n",
      "964:\tlearn: 0.5308634\ttotal: 4m 57s\tremaining: 10.8s\n",
      "965:\tlearn: 0.5311624\ttotal: 4m 57s\tremaining: 10.5s\n",
      "966:\tlearn: 0.5310846\ttotal: 4m 57s\tremaining: 10.2s\n",
      "967:\tlearn: 0.5309740\ttotal: 4m 58s\tremaining: 9.86s\n",
      "968:\tlearn: 0.5313013\ttotal: 4m 58s\tremaining: 9.55s\n",
      "969:\tlearn: 0.5313287\ttotal: 4m 58s\tremaining: 9.24s\n",
      "970:\tlearn: 0.5318174\ttotal: 4m 59s\tremaining: 8.93s\n",
      "971:\tlearn: 0.5316939\ttotal: 4m 59s\tremaining: 8.63s\n",
      "972:\tlearn: 0.5319319\ttotal: 4m 59s\tremaining: 8.32s\n",
      "973:\tlearn: 0.5317941\ttotal: 5m\tremaining: 8.01s\n",
      "974:\tlearn: 0.5316919\ttotal: 5m\tremaining: 7.7s\n",
      "975:\tlearn: 0.5318986\ttotal: 5m\tremaining: 7.39s\n",
      "976:\tlearn: 0.5323350\ttotal: 5m 1s\tremaining: 7.09s\n",
      "977:\tlearn: 0.5326748\ttotal: 5m 1s\tremaining: 6.78s\n",
      "978:\tlearn: 0.5327207\ttotal: 5m 1s\tremaining: 6.47s\n",
      "979:\tlearn: 0.5324850\ttotal: 5m 1s\tremaining: 6.16s\n",
      "980:\tlearn: 0.5325372\ttotal: 5m 2s\tremaining: 5.85s\n",
      "981:\tlearn: 0.5326080\ttotal: 5m 2s\tremaining: 5.54s\n",
      "982:\tlearn: 0.5325725\ttotal: 5m 2s\tremaining: 5.24s\n",
      "983:\tlearn: 0.5327434\ttotal: 5m 3s\tremaining: 4.93s\n",
      "984:\tlearn: 0.5325703\ttotal: 5m 3s\tremaining: 4.62s\n",
      "985:\tlearn: 0.5327725\ttotal: 5m 3s\tremaining: 4.31s\n",
      "986:\tlearn: 0.5332666\ttotal: 5m 4s\tremaining: 4s\n",
      "987:\tlearn: 0.5336438\ttotal: 5m 4s\tremaining: 3.7s\n",
      "988:\tlearn: 0.5337209\ttotal: 5m 4s\tremaining: 3.39s\n",
      "989:\tlearn: 0.5338897\ttotal: 5m 5s\tremaining: 3.08s\n",
      "990:\tlearn: 0.5339021\ttotal: 5m 5s\tremaining: 2.77s\n",
      "991:\tlearn: 0.5343392\ttotal: 5m 5s\tremaining: 2.46s\n",
      "992:\tlearn: 0.5343392\ttotal: 5m 5s\tremaining: 2.16s\n",
      "993:\tlearn: 0.5347366\ttotal: 5m 6s\tremaining: 1.85s\n",
      "994:\tlearn: 0.5347781\ttotal: 5m 6s\tremaining: 1.54s\n",
      "995:\tlearn: 0.5347908\ttotal: 5m 6s\tremaining: 1.23s\n",
      "996:\tlearn: 0.5344868\ttotal: 5m 7s\tremaining: 924ms\n",
      "997:\tlearn: 0.5348888\ttotal: 5m 7s\tremaining: 616ms\n",
      "998:\tlearn: 0.5348783\ttotal: 5m 7s\tremaining: 308ms\n",
      "999:\tlearn: 0.5348536\ttotal: 5m 8s\tremaining: 0us\n",
      "CPU times: total: 32min 47s\n",
      "Wall time: 5min 12s\n"
     ]
    },
    {
     "data": {
      "text/plain": "Pipeline(steps=[('featurecreator',\n                 FeatureCreator(key=['178', '181', '223', '54', '100', '59',\n                                     '160', '66', '118', '124', '6', '105',\n                                     '241', '128', '205', '210', '23', '117',\n                                     '5', '43', '134', '238', '109', '166',\n                                     '64', '32', '60', '184', '148', '51', ...])),\n                ('catboostclassifier',\n                 <catboost.core.CatBoostClassifier object at 0x0000023C5311EBE0>)])",
      "text/html": "<style>#sk-container-id-1 {color: black;background-color: white;}#sk-container-id-1 pre{padding: 0;}#sk-container-id-1 div.sk-toggleable {background-color: white;}#sk-container-id-1 label.sk-toggleable__label {cursor: pointer;display: block;width: 100%;margin-bottom: 0;padding: 0.3em;box-sizing: border-box;text-align: center;}#sk-container-id-1 label.sk-toggleable__label-arrow:before {content: \"▸\";float: left;margin-right: 0.25em;color: #696969;}#sk-container-id-1 label.sk-toggleable__label-arrow:hover:before {color: black;}#sk-container-id-1 div.sk-estimator:hover label.sk-toggleable__label-arrow:before {color: black;}#sk-container-id-1 div.sk-toggleable__content {max-height: 0;max-width: 0;overflow: hidden;text-align: left;background-color: #f0f8ff;}#sk-container-id-1 div.sk-toggleable__content pre {margin: 0.2em;color: black;border-radius: 0.25em;background-color: #f0f8ff;}#sk-container-id-1 input.sk-toggleable__control:checked~div.sk-toggleable__content {max-height: 200px;max-width: 100%;overflow: auto;}#sk-container-id-1 input.sk-toggleable__control:checked~label.sk-toggleable__label-arrow:before {content: \"▾\";}#sk-container-id-1 div.sk-estimator input.sk-toggleable__control:checked~label.sk-toggleable__label {background-color: #d4ebff;}#sk-container-id-1 div.sk-label input.sk-toggleable__control:checked~label.sk-toggleable__label {background-color: #d4ebff;}#sk-container-id-1 input.sk-hidden--visually {border: 0;clip: rect(1px 1px 1px 1px);clip: rect(1px, 1px, 1px, 1px);height: 1px;margin: -1px;overflow: hidden;padding: 0;position: absolute;width: 1px;}#sk-container-id-1 div.sk-estimator {font-family: monospace;background-color: #f0f8ff;border: 1px dotted black;border-radius: 0.25em;box-sizing: border-box;margin-bottom: 0.5em;}#sk-container-id-1 div.sk-estimator:hover {background-color: #d4ebff;}#sk-container-id-1 div.sk-parallel-item::after {content: \"\";width: 100%;border-bottom: 1px solid gray;flex-grow: 1;}#sk-container-id-1 div.sk-label:hover label.sk-toggleable__label {background-color: #d4ebff;}#sk-container-id-1 div.sk-serial::before {content: \"\";position: absolute;border-left: 1px solid gray;box-sizing: border-box;top: 0;bottom: 0;left: 50%;z-index: 0;}#sk-container-id-1 div.sk-serial {display: flex;flex-direction: column;align-items: center;background-color: white;padding-right: 0.2em;padding-left: 0.2em;position: relative;}#sk-container-id-1 div.sk-item {position: relative;z-index: 1;}#sk-container-id-1 div.sk-parallel {display: flex;align-items: stretch;justify-content: center;background-color: white;position: relative;}#sk-container-id-1 div.sk-item::before, #sk-container-id-1 div.sk-parallel-item::before {content: \"\";position: absolute;border-left: 1px solid gray;box-sizing: border-box;top: 0;bottom: 0;left: 50%;z-index: -1;}#sk-container-id-1 div.sk-parallel-item {display: flex;flex-direction: column;z-index: 1;position: relative;background-color: white;}#sk-container-id-1 div.sk-parallel-item:first-child::after {align-self: flex-end;width: 50%;}#sk-container-id-1 div.sk-parallel-item:last-child::after {align-self: flex-start;width: 50%;}#sk-container-id-1 div.sk-parallel-item:only-child::after {width: 0;}#sk-container-id-1 div.sk-dashed-wrapped {border: 1px dashed gray;margin: 0 0.4em 0.5em 0.4em;box-sizing: border-box;padding-bottom: 0.4em;background-color: white;}#sk-container-id-1 div.sk-label label {font-family: monospace;font-weight: bold;display: inline-block;line-height: 1.2em;}#sk-container-id-1 div.sk-label-container {text-align: center;}#sk-container-id-1 div.sk-container {/* jupyter's `normalize.less` sets `[hidden] { display: none; }` but bootstrap.min.css set `[hidden] { display: none !important; }` so we also need the `!important` here to be able to override the default hidden behavior on the sphinx rendered scikit-learn.org. See: https://github.com/scikit-learn/scikit-learn/issues/21755 */display: inline-block !important;position: relative;}#sk-container-id-1 div.sk-text-repr-fallback {display: none;}</style><div id=\"sk-container-id-1\" class=\"sk-top-container\"><div class=\"sk-text-repr-fallback\"><pre>Pipeline(steps=[(&#x27;featurecreator&#x27;,\n                 FeatureCreator(key=[&#x27;178&#x27;, &#x27;181&#x27;, &#x27;223&#x27;, &#x27;54&#x27;, &#x27;100&#x27;, &#x27;59&#x27;,\n                                     &#x27;160&#x27;, &#x27;66&#x27;, &#x27;118&#x27;, &#x27;124&#x27;, &#x27;6&#x27;, &#x27;105&#x27;,\n                                     &#x27;241&#x27;, &#x27;128&#x27;, &#x27;205&#x27;, &#x27;210&#x27;, &#x27;23&#x27;, &#x27;117&#x27;,\n                                     &#x27;5&#x27;, &#x27;43&#x27;, &#x27;134&#x27;, &#x27;238&#x27;, &#x27;109&#x27;, &#x27;166&#x27;,\n                                     &#x27;64&#x27;, &#x27;32&#x27;, &#x27;60&#x27;, &#x27;184&#x27;, &#x27;148&#x27;, &#x27;51&#x27;, ...])),\n                (&#x27;catboostclassifier&#x27;,\n                 &lt;catboost.core.CatBoostClassifier object at 0x0000023C5311EBE0&gt;)])</pre><b>In a Jupyter environment, please rerun this cell to show the HTML representation or trust the notebook. <br />On GitHub, the HTML representation is unable to render, please try loading this page with nbviewer.org.</b></div><div class=\"sk-container\" hidden><div class=\"sk-item sk-dashed-wrapped\"><div class=\"sk-label-container\"><div class=\"sk-label sk-toggleable\"><input class=\"sk-toggleable__control sk-hidden--visually\" id=\"sk-estimator-id-1\" type=\"checkbox\" ><label for=\"sk-estimator-id-1\" class=\"sk-toggleable__label sk-toggleable__label-arrow\">Pipeline</label><div class=\"sk-toggleable__content\"><pre>Pipeline(steps=[(&#x27;featurecreator&#x27;,\n                 FeatureCreator(key=[&#x27;178&#x27;, &#x27;181&#x27;, &#x27;223&#x27;, &#x27;54&#x27;, &#x27;100&#x27;, &#x27;59&#x27;,\n                                     &#x27;160&#x27;, &#x27;66&#x27;, &#x27;118&#x27;, &#x27;124&#x27;, &#x27;6&#x27;, &#x27;105&#x27;,\n                                     &#x27;241&#x27;, &#x27;128&#x27;, &#x27;205&#x27;, &#x27;210&#x27;, &#x27;23&#x27;, &#x27;117&#x27;,\n                                     &#x27;5&#x27;, &#x27;43&#x27;, &#x27;134&#x27;, &#x27;238&#x27;, &#x27;109&#x27;, &#x27;166&#x27;,\n                                     &#x27;64&#x27;, &#x27;32&#x27;, &#x27;60&#x27;, &#x27;184&#x27;, &#x27;148&#x27;, &#x27;51&#x27;, ...])),\n                (&#x27;catboostclassifier&#x27;,\n                 &lt;catboost.core.CatBoostClassifier object at 0x0000023C5311EBE0&gt;)])</pre></div></div></div><div class=\"sk-serial\"><div class=\"sk-item\"><div class=\"sk-estimator sk-toggleable\"><input class=\"sk-toggleable__control sk-hidden--visually\" id=\"sk-estimator-id-2\" type=\"checkbox\" ><label for=\"sk-estimator-id-2\" class=\"sk-toggleable__label sk-toggleable__label-arrow\">FeatureCreator</label><div class=\"sk-toggleable__content\"><pre>FeatureCreator(key=[&#x27;178&#x27;, &#x27;181&#x27;, &#x27;223&#x27;, &#x27;54&#x27;, &#x27;100&#x27;, &#x27;59&#x27;, &#x27;160&#x27;, &#x27;66&#x27;, &#x27;118&#x27;,\n                    &#x27;124&#x27;, &#x27;6&#x27;, &#x27;105&#x27;, &#x27;241&#x27;, &#x27;128&#x27;, &#x27;205&#x27;, &#x27;210&#x27;, &#x27;23&#x27;, &#x27;117&#x27;,\n                    &#x27;5&#x27;, &#x27;43&#x27;, &#x27;134&#x27;, &#x27;238&#x27;, &#x27;109&#x27;, &#x27;166&#x27;, &#x27;64&#x27;, &#x27;32&#x27;, &#x27;60&#x27;,\n                    &#x27;184&#x27;, &#x27;148&#x27;, &#x27;51&#x27;, ...])</pre></div></div></div><div class=\"sk-item\"><div class=\"sk-estimator sk-toggleable\"><input class=\"sk-toggleable__control sk-hidden--visually\" id=\"sk-estimator-id-3\" type=\"checkbox\" ><label for=\"sk-estimator-id-3\" class=\"sk-toggleable__label sk-toggleable__label-arrow\">CatBoostClassifier</label><div class=\"sk-toggleable__content\"><pre>&lt;catboost.core.CatBoostClassifier object at 0x0000023C5311EBE0&gt;</pre></div></div></div></div></div></div></div>"
     },
     "execution_count": 43,
     "metadata": {},
     "output_type": "execute_result"
    }
   ],
   "source": [
    "%%time\n",
    "frozen_params = {\n",
    "#      'class_weights':[1, 2.5],\n",
    "      'silent':False,\n",
    "      'random_state':42,\n",
    "      'eval_metric':'F1',\n",
    "#      'early_stopping_rounds':20\n",
    "}\n",
    "\n",
    "main_pipeline = make_pipeline(\n",
    "    FeatureCreator(key=f_ok),\n",
    "    CatBoostClassifier(**frozen_params, cat_features=['vas_id'], ignored_features=['id']),\n",
    ")\n",
    "\n",
    "main_pipeline.fit(X_train, y_train)"
   ],
   "metadata": {
    "collapsed": false,
    "pycharm": {
     "name": "#%%\n"
    }
   }
  },
  {
   "cell_type": "code",
   "execution_count": 44,
   "outputs": [
    {
     "name": "stdout",
     "output_type": "stream",
     "text": [
      "CPU times: total: 1.84 s\n",
      "Wall time: 2.41 s\n"
     ]
    },
    {
     "data": {
      "text/plain": "array([0, 0, 0, ..., 0, 0, 0], dtype=int64)"
     },
     "execution_count": 44,
     "metadata": {},
     "output_type": "execute_result"
    }
   ],
   "source": [
    "%%time\n",
    "y_pred = main_pipeline.predict(X_test)\n",
    "y_pred"
   ],
   "metadata": {
    "collapsed": false,
    "pycharm": {
     "name": "#%%\n"
    }
   }
  },
  {
   "cell_type": "code",
   "execution_count": 45,
   "outputs": [
    {
     "name": "stdout",
     "output_type": "stream",
     "text": [
      "CPU times: total: 46.5 s\n",
      "Wall time: 2min 1s\n"
     ]
    },
    {
     "data": {
      "text/plain": "array([0, 0, 0, ..., 0, 0, 0], dtype=int64)"
     },
     "execution_count": 45,
     "metadata": {},
     "output_type": "execute_result"
    }
   ],
   "source": [
    "%%time\n",
    "test_predict = main_pipeline.predict(df_test)\n",
    "test_predict"
   ],
   "metadata": {
    "collapsed": false,
    "pycharm": {
     "name": "#%%\n"
    }
   }
  },
  {
   "cell_type": "code",
   "execution_count": 46,
   "outputs": [
    {
     "name": "stdout",
     "output_type": "stream",
     "text": [
      "              precision    recall  f1-score   support\n",
      "\n",
      "           0       0.95      0.98      0.97    231382\n",
      "           1       0.61      0.31      0.41     18114\n",
      "\n",
      "    accuracy                           0.94    249496\n",
      "   macro avg       0.78      0.65      0.69    249496\n",
      "weighted avg       0.92      0.94      0.93    249496\n",
      "\n"
     ]
    }
   ],
   "source": [
    "#Смотрим метрики которые получились, вроде бы и не плохо для начала\n",
    "print(classification_report(y_test, y_pred))"
   ],
   "metadata": {
    "collapsed": false,
    "pycharm": {
     "name": "#%%\n"
    }
   }
  },
  {
   "cell_type": "code",
   "execution_count": 47,
   "outputs": [],
   "source": [
    "#Функция построения графика зависимости метрик и порога вероятности\n",
    "def show_proba_calibration_plots(y_predicted_probs, y_true_labels):\n",
    "    preds_with_true_labels = np.array(list(zip(y_predicted_probs, y_true_labels)))\n",
    "\n",
    "    thresholds = []\n",
    "    precisions = []\n",
    "    recalls = []\n",
    "    f1_scores = []\n",
    "\n",
    "    for threshold in np.linspace(0.1, 0.9, 9):\n",
    "        thresholds.append(threshold)\n",
    "        precisions.append(precision_score(y_true_labels, list(map(int, y_predicted_probs > threshold))))\n",
    "        recalls.append(recall_score(y_true_labels, list(map(int, y_predicted_probs > threshold))))\n",
    "        f1_scores.append(f1_score(y_true_labels, list(map(int, y_predicted_probs > threshold))))\n",
    "\n",
    "    figure = plt.figure(figsize = (10, 5))\n",
    "\n",
    "    plt1 = figure.add_subplot(111)\n",
    "    plt1.axhline(0.5, color=\"red\")\n",
    "    plt1.plot(thresholds, precisions, label='Precision', linewidth=4)\n",
    "    plt1.plot(thresholds, recalls, label='Recall', linewidth=4)\n",
    "    plt1.plot(thresholds, f1_scores, label='F1', linewidth=4)\n",
    "    plt1.set_ylabel('Scores')\n",
    "    plt1.set_xlabel('Probability threshold')\n",
    "    plt1.set_title('Probabilities threshold calibration')\n",
    "    plt1.legend(bbox_to_anchor=(0.25, 0.25))"
   ],
   "metadata": {
    "collapsed": false,
    "pycharm": {
     "name": "#%%\n"
    }
   }
  },
  {
   "cell_type": "code",
   "execution_count": 48,
   "outputs": [
    {
     "data": {
      "text/plain": "array([[0.98806786, 0.01193214],\n       [0.79899597, 0.20100403],\n       [0.98866823, 0.01133177],\n       ...,\n       [0.98969673, 0.01030327],\n       [0.98578205, 0.01421795],\n       [0.99327919, 0.00672081]])"
     },
     "execution_count": 48,
     "metadata": {},
     "output_type": "execute_result"
    }
   ],
   "source": [
    "y_pred_proba = main_pipeline.predict_proba(X_test)\n",
    "y_pred_proba"
   ],
   "metadata": {
    "collapsed": false,
    "pycharm": {
     "name": "#%%\n"
    }
   }
  },
  {
   "cell_type": "code",
   "execution_count": 49,
   "outputs": [
    {
     "data": {
      "text/plain": "<Figure size 720x360 with 1 Axes>",
      "image/png": "[encoded data removed]"
     },
     "metadata": {
      "needs_background": "light"
     },
     "output_type": "display_data"
    }
   ],
   "source": [
    "#Строим график распределения вероятности метки классов, к нашим метрика (presicion, recall, F-мера)\n",
    "show_proba_calibration_plots(y_pred_proba[:, 1], y_test)"
   ],
   "metadata": {
    "collapsed": false,
    "pycharm": {
     "name": "#%%\n"
    }
   }
  },
  {
   "cell_type": "code",
   "execution_count": 50,
   "outputs": [
    {
     "name": "stdout",
     "output_type": "stream",
     "text": [
      "              precision    recall  f1-score   support\n",
      "\n",
      "           0       0.98      0.93      0.95    231382\n",
      "           1       0.45      0.71      0.55     18114\n",
      "\n",
      "    accuracy                           0.92    249496\n",
      "   macro avg       0.71      0.82      0.75    249496\n",
      "weighted avg       0.94      0.92      0.92    249496\n",
      "\n"
     ]
    }
   ],
   "source": [
    "#0.25 оптимальный порог. Приоритетнее наверное recall, т.к нам нужно видеть как можно больше потенциальных покупателей, но и precision совсем терять не нужно, чтобы зря не тратили средства из-за \"ошибочных\" покупателей\n",
    "#Конечные метрики получаем ниже на базовой модели\n",
    "print(classification_report(y_test, (y_pred_proba[:, 1] > 0.25)))"
   ],
   "metadata": {
    "collapsed": false,
    "pycharm": {
     "name": "#%%\n"
    }
   }
  },
  {
   "cell_type": "code",
   "execution_count": 51,
   "outputs": [
    {
     "data": {
      "text/plain": "array([2.10164771e-05, 2.88984600e-01, 3.61794907e-05, ...,\n       4.82532440e-05, 2.59702214e-05, 5.15920289e-05])"
     },
     "execution_count": 51,
     "metadata": {},
     "output_type": "execute_result"
    }
   ],
   "source": [
    "test_predict_proba = main_pipeline.predict_proba(df_test)\n",
    "test_predict_proba[:, 1]"
   ],
   "metadata": {
    "collapsed": false,
    "pycharm": {
     "name": "#%%\n"
    }
   }
  },
  {
   "cell_type": "code",
   "execution_count": 52,
   "outputs": [
    {
     "data": {
      "text/plain": "            id  vas_id            buy_time    target\n0      3130519       2 2019-01-20 21:00:00  0.000021\n1      2000860       4 2019-01-20 21:00:00  0.288985\n2      1099444       2 2019-01-06 21:00:00  0.000036\n3      1343255       5 2019-01-13 21:00:00  0.324649\n4      1277040       2 2019-01-06 21:00:00  0.000040\n...        ...     ...                 ...       ...\n71226  2502453       5 2019-01-20 21:00:00  0.000015\n71227  1693213       2 2019-01-20 21:00:00  0.000029\n71228  1891350       2 2019-01-20 21:00:00  0.000048\n71229  2437172       2 2019-01-20 21:00:00  0.000026\n71230   988236       2 2019-01-20 21:00:00  0.000052\n\n[71231 rows x 4 columns]",
      "text/html": "<div>\n<style scoped>\n    .dataframe tbody tr th:only-of-type {\n        vertical-align: middle;\n    }\n\n    .dataframe tbody tr th {\n        vertical-align: top;\n    }\n\n    .dataframe thead th {\n        text-align: right;\n    }\n</style>\n<table border=\"1\" class=\"dataframe\">\n  <thead>\n    <tr style=\"text-align: right;\">\n      <th></th>\n      <th>id</th>\n      <th>vas_id</th>\n      <th>buy_time</th>\n      <th>target</th>\n    </tr>\n  </thead>\n  <tbody>\n    <tr>\n      <th>0</th>\n      <td>3130519</td>\n      <td>2</td>\n      <td>2019-01-20 21:00:00</td>\n      <td>0.000021</td>\n    </tr>\n    <tr>\n      <th>1</th>\n      <td>2000860</td>\n      <td>4</td>\n      <td>2019-01-20 21:00:00</td>\n      <td>0.288985</td>\n    </tr>\n    <tr>\n      <th>2</th>\n      <td>1099444</td>\n      <td>2</td>\n      <td>2019-01-06 21:00:00</td>\n      <td>0.000036</td>\n    </tr>\n    <tr>\n      <th>3</th>\n      <td>1343255</td>\n      <td>5</td>\n      <td>2019-01-13 21:00:00</td>\n      <td>0.324649</td>\n    </tr>\n    <tr>\n      <th>4</th>\n      <td>1277040</td>\n      <td>2</td>\n      <td>2019-01-06 21:00:00</td>\n      <td>0.000040</td>\n    </tr>\n    <tr>\n      <th>...</th>\n      <td>...</td>\n      <td>...</td>\n      <td>...</td>\n      <td>...</td>\n    </tr>\n    <tr>\n      <th>71226</th>\n      <td>2502453</td>\n      <td>5</td>\n      <td>2019-01-20 21:00:00</td>\n      <td>0.000015</td>\n    </tr>\n    <tr>\n      <th>71227</th>\n      <td>1693213</td>\n      <td>2</td>\n      <td>2019-01-20 21:00:00</td>\n      <td>0.000029</td>\n    </tr>\n    <tr>\n      <th>71228</th>\n      <td>1891350</td>\n      <td>2</td>\n      <td>2019-01-20 21:00:00</td>\n      <td>0.000048</td>\n    </tr>\n    <tr>\n      <th>71229</th>\n      <td>2437172</td>\n      <td>2</td>\n      <td>2019-01-20 21:00:00</td>\n      <td>0.000026</td>\n    </tr>\n    <tr>\n      <th>71230</th>\n      <td>988236</td>\n      <td>2</td>\n      <td>2019-01-20 21:00:00</td>\n      <td>0.000052</td>\n    </tr>\n  </tbody>\n</table>\n<p>71231 rows × 4 columns</p>\n</div>"
     },
     "execution_count": 52,
     "metadata": {},
     "output_type": "execute_result"
    }
   ],
   "source": [
    "#Результат формируем и выводим\n",
    "result_baseline = df_test.copy()\n",
    "result_baseline['target'] = test_predict_proba[:, 1]\n",
    "result_baseline"
   ],
   "metadata": {
    "collapsed": false,
    "pycharm": {
     "name": "#%%\n"
    }
   }
  },
  {
   "cell_type": "code",
   "execution_count": 53,
   "outputs": [],
   "source": [
    "#Сохранение результата предсказаний\n",
    "result_baseline.to_csv('answers_test.csv')"
   ],
   "metadata": {
    "collapsed": false,
    "pycharm": {
     "name": "#%%\n"
    }
   }
  },
  {
   "cell_type": "code",
   "execution_count": 54,
   "outputs": [
    {
     "data": {
      "text/plain": "['baseline_pipe.pkl']"
     },
     "execution_count": 54,
     "metadata": {},
     "output_type": "execute_result"
    }
   ],
   "source": [
    "#Сохранение модели\n",
    "import joblib\n",
    "joblib.dump(main_pipeline, 'baseline_pipe.pkl')"
   ],
   "metadata": {
    "collapsed": false,
    "pycharm": {
     "name": "#%%\n"
    }
   }
  },
  {
   "cell_type": "markdown",
   "source": [
    "## Итоги\n",
    "\n",
    "1) Произвел небольшой EDA по признакам, отбирал признаки по значениям. Но в итоге в категории годится только id услуги\n",
    "2) Большое количество времени было потрачено на обработку данных, и преобразование/проверки типов данных моделей и троблшутов связанных с данными. (Долгие сборки ноутбуков и вопросы с категориальными переменными и данными)\n",
    "3) Собрал класс FeatureCreator, для пайплайна, чтобы он сразу к любым тестовым данным автоматом присоединял признаки (по частям) делал и присоединял их в соответствии с текущими данными без потери данных (всех), при мердже возникают дубли, дубли устраняются функцией. В пайплайне в результате дублей иногда X и y (данные и метка класса), может не совпадать по числу объектов из-за того что при обработке пайплайна метода transform стирает дубли, в этом случае нужно создать объект класса FeatureCreator отдельно без пайплайна и в метод label_len_equalizer передать X и y (базовые ОДНОЙ РАЗМЕРНОСТИ) метод выдаст новый y (метки с уменьшенной размерностью), которую уже можно класть смело в пайплайн\n",
    "4) Данные огромны, очень долго проходят мерджи в feats, пробовал библиотеку dask, она делает быстро мерджи, но при вызове метода compute, когда нужно посчитать df_main_train (набор данных полный для обучения), dask не падает в memory error, но очень долго обрабатывает операции, а преобразоывать в pandas dataframe все равно необходимо в итоге. Поэтому решил сделать все в пандасе, разбить данные вручную на 2 части и склеить через merdge, concat, из за чего и пришлось делать метод label_len_equalizer\n",
    "5) Изначально первые мерджи и функцию data_prepare, хотел засунуть в конструктор класса, но потом понял, что это не лучшая идея. Т.к каждый объект класса будет делаться по 10 минут, лучше оставить мердж признаков в начале, выделить в отдельный X_train в отдельный датафрейм, а потом этим датафреймом готовым учить модель, загружая его предварительно.\n",
    "6) В классе просто берутся уже заранее заданные данные (2 части feats) и мерджутся к тесту при тестировании, обучение проходит \"как есть\" (без обработки классом пайплайна признаков, они обработаны в ноутбуке заранее), а тест предсказывается уже в классе. Так сделал, чтобы класс не был слишком громозсдким. В класс обернул, чтобы пайплайн (модель) как и требовалось в результате, принимала на вход df_test и выдавала соответственно predict или predict_proba. Файл с результатами, можно сформировать после вручную уже\n",
    "7) Обучал катбуст, т.к один из сильнейших классификаторов, оптимальный порог вероятности threshold - 0.25, получается высокий recall, но и не сильно жертвуем precision. Ему нужно по-хорошему сделать Gridsearch по параметрам. Но пока нет времени и сил, задавать параметры, решил сформировать бейзлайн сразу, пока есть конкретные результаты. Для бейзлайна как мне кажется не плохие. Из параметров, естественно игнорируем id и даем категорию vas_id, можно еще из обучения убрать время, в параемтрах целевая метрика F1. Остальные параметры надо гридсерчить\n",
    "8) Модель (развернутый файл baseline_pipe.pkl) принимает на себя метода predict или predict_proba и тестовые данные, выдает метку класса или вероятность соответственно.\n",
    "9) На отложенном тесте, на данный момент macro f1 = 0.75, marco recall = 0.85, marco precision = 0.75, после гридсерча думаю, результаты будут выше\n",
    "10) системные требования в requirements.txt сохранены, интерпретатор python=3.9. Ссылка на репозиторий <a href=\"https://github.com/NickHlzv/CourseProj\">Github</a>, там можно посмотреть историю изменений"
   ],
   "metadata": {
    "collapsed": false,
    "pycharm": {
     "name": "#%% md\n"
    }
   }
  },
  {
   "cell_type": "code",
   "execution_count": 54,
   "outputs": [],
   "source": [],
   "metadata": {
    "collapsed": false,
    "pycharm": {
     "name": "#%%\n"
    }
   }
  }
 ],
 "metadata": {
  "kernelspec": {
   "display_name": "Python 3 (ipykernel)",
   "language": "python",
   "name": "python3"
  },
  "language_info": {
   "codemirror_mode": {
    "name": "ipython",
    "version": 3
   },
   "file_extension": ".py",
   "mimetype": "text/x-python",
   "name": "python",
   "nbconvert_exporter": "python",
   "pygments_lexer": "ipython3",
   "version": "3.10.4"
  }
 },
 "nbformat": 4,
 "nbformat_minor": 1
}